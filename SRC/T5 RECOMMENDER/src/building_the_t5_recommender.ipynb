{
 "cells": [
  {
   "cell_type": "markdown",
   "id": "1004a01a-d62b-443d-b505-001fe1e09420",
   "metadata": {
    "id": "1004a01a-d62b-443d-b505-001fe1e09420"
   },
   "source": [
    "# Process\n",
    "\n",
    "1. Dataset:\n",
    "\n",
    "    * Import `ted_talk_clean_merged_bert`\n",
    "\n",
    "    * Extract only required columns\n",
    "    \n",
    "    * Create a huggingface dataset\n",
    "    \n",
    "    * Save the dataset to `t5_dataset`\n",
    "    \n",
    "2. Semantic search with FAISS\n",
    "\n",
    "    * create new text column that concatenates title, description and transcript.\n",
    "    \n",
    "    * create `get_embeddings` function that:\n",
    "    \n",
    "        * tokenizes the `text` column\n",
    "        * forward pass token tensors through model to get `output`\n",
    "        * feed model `output` to CLS pooling\n",
    "        \n",
    "    * create embeddings with `get_embeddings` function\n",
    "    \n",
    "    * add FAISS index\n",
    "\n",
    "    * save the dataset as `t5_with_sentence_embedding_dataset`.\n",
    "    \n",
    "3. Testing\n",
    "\n",
    "    * embed sample query with `get_embeddings`\n",
    "    \n",
    "    * use `.get_nearest_examples()` method to get similar embeddings\n",
    "    \n",
    "    * create `get_recommendations` to give results in pandas dataframe\n",
    "    "
   ]
  },
  {
   "cell_type": "markdown",
   "id": "f41a2d18-2ee9-419f-a548-3dd9f0725206",
   "metadata": {
    "id": "f41a2d18-2ee9-419f-a548-3dd9f0725206"
   },
   "source": [
    "# 1 Dataset\n",
    "1.1 Import ted_talk_clean_merged_bert\n",
    "\n",
    "1.2 Extract only required columns\n",
    "\n",
    "1.3 Create a huggingface dataset\n",
    "\n",
    "1.4 Save the dataset to t5_hf_dataset"
   ]
  },
  {
   "cell_type": "code",
   "execution_count": 1,
   "id": "ue21ximwPJIA",
   "metadata": {
    "colab": {
     "base_uri": "https://localhost:8080/"
    },
    "id": "ue21ximwPJIA",
    "outputId": "222c0099-750e-474f-97a1-ed5e90aeaa3d"
   },
   "outputs": [
    {
     "name": "stdout",
     "output_type": "stream",
     "text": [
      "Drive already mounted at /content/drive; to attempt to forcibly remount, call drive.mount(\"/content/drive\", force_remount=True).\n"
     ]
    }
   ],
   "source": [
    "try:\n",
    "    from google.colab import drive\n",
    "    drive.mount('/content/drive')\n",
    "    SOURCE_DIR = \"/content/drive/MyDrive/MLOPs_Projects/TED_Project/Data_output/T5/\"\n",
    "except:\n",
    "    print(\"Not in Colab environment. Some of the functionality will not work.\")\n",
    "    SOURCE_DIR = \"\"\n"
   ]
  },
  {
   "cell_type": "code",
   "execution_count": 1,
   "id": "Gwry9VaBn5Ee",
   "metadata": {
    "id": "Gwry9VaBn5Ee"
   },
   "outputs": [],
   "source": []
  },
  {
   "cell_type": "code",
   "execution_count": 2,
   "id": "47352713-f91d-4a01-bbbc-f2ca7bf84887",
   "metadata": {
    "colab": {
     "base_uri": "https://localhost:8080/"
    },
    "id": "47352713-f91d-4a01-bbbc-f2ca7bf84887",
    "outputId": "095f85ac-cdcf-43f4-b0d1-52b20926710d"
   },
   "outputs": [
    {
     "name": "stdout",
     "output_type": "stream",
     "text": [
      "5140\n",
      "<class 'pandas.core.frame.DataFrame'>\n",
      "RangeIndex: 5140 entries, 0 to 5139\n",
      "Data columns (total 8 columns):\n",
      " #   Column       Non-Null Count  Dtype         \n",
      "---  ------       --------------  -----         \n",
      " 0   author       5140 non-null   object        \n",
      " 1   title        5140 non-null   object        \n",
      " 2   description  5140 non-null   object        \n",
      " 3   likes        5140 non-null   int64         \n",
      " 4   views        5140 non-null   int64         \n",
      " 5   transcript   5140 non-null   object        \n",
      " 6   date         5140 non-null   datetime64[ns]\n",
      " 7   tags         5140 non-null   object        \n",
      "dtypes: datetime64[ns](1), int64(2), object(5)\n",
      "memory usage: 321.4+ KB\n"
     ]
    }
   ],
   "source": [
    "# import the df\n",
    "import pandas as pd\n",
    "df = pd.read_csv('/content/drive/MyDrive/MLOPs_Projects/TED_Project/Data_output/ted_talk_clean_merged_bert.csv',\n",
    "                 parse_dates=['date']).drop(columns=['Unnamed: 0'])\n",
    "print(len(df))\n",
    "df.info()"
   ]
  },
  {
   "cell_type": "code",
   "execution_count": 3,
   "id": "291bc717-2980-4e1a-a6b4-952e394f75ad",
   "metadata": {
    "colab": {
     "base_uri": "https://localhost:8080/",
     "height": 271
    },
    "id": "291bc717-2980-4e1a-a6b4-952e394f75ad",
    "outputId": "8ae9ff6a-8fbc-433a-a359-1c3833eb5536"
   },
   "outputs": [
    {
     "data": {
      "text/html": [
       "\n",
       "  <div id=\"df-93aadd0d-92b2-4c1f-b939-2cfa164f562e\" class=\"colab-df-container\">\n",
       "    <div>\n",
       "<style scoped>\n",
       "    .dataframe tbody tr th:only-of-type {\n",
       "        vertical-align: middle;\n",
       "    }\n",
       "\n",
       "    .dataframe tbody tr th {\n",
       "        vertical-align: top;\n",
       "    }\n",
       "\n",
       "    .dataframe thead th {\n",
       "        text-align: right;\n",
       "    }\n",
       "</style>\n",
       "<table border=\"1\" class=\"dataframe\">\n",
       "  <thead>\n",
       "    <tr style=\"text-align: right;\">\n",
       "      <th></th>\n",
       "      <th>author</th>\n",
       "      <th>title</th>\n",
       "      <th>description</th>\n",
       "      <th>likes</th>\n",
       "      <th>views</th>\n",
       "      <th>transcript</th>\n",
       "      <th>date</th>\n",
       "      <th>tags</th>\n",
       "    </tr>\n",
       "  </thead>\n",
       "  <tbody>\n",
       "    <tr>\n",
       "      <th>0</th>\n",
       "      <td>Machine Dazzle</td>\n",
       "      <td>how to unleash your inner maximalist through c...</td>\n",
       "      <td>tapping into the transformational power of cos...</td>\n",
       "      <td>8100</td>\n",
       "      <td>270192</td>\n",
       "      <td>Hello, I am Machine Dazzle, and I am an emotio...</td>\n",
       "      <td>2023-06-01</td>\n",
       "      <td>art, creativity, design, fashion, performance</td>\n",
       "    </tr>\n",
       "    <tr>\n",
       "      <th>1</th>\n",
       "      <td>Jioji Ravulo</td>\n",
       "      <td>a liberating vision of identity that transcend...</td>\n",
       "      <td>how can we move past societys inclination to b...</td>\n",
       "      <td>9200</td>\n",
       "      <td>309952</td>\n",
       "      <td>Can you paint with all the colors of the wind?...</td>\n",
       "      <td>2023-06-01</td>\n",
       "      <td>diversity, identity, inclusion, indigenous_peo...</td>\n",
       "    </tr>\n",
       "  </tbody>\n",
       "</table>\n",
       "</div>\n",
       "    <div class=\"colab-df-buttons\">\n",
       "\n",
       "  <div class=\"colab-df-container\">\n",
       "    <button class=\"colab-df-convert\" onclick=\"convertToInteractive('df-93aadd0d-92b2-4c1f-b939-2cfa164f562e')\"\n",
       "            title=\"Convert this dataframe to an interactive table.\"\n",
       "            style=\"display:none;\">\n",
       "\n",
       "  <svg xmlns=\"http://www.w3.org/2000/svg\" height=\"24px\" viewBox=\"0 -960 960 960\">\n",
       "    <path d=\"M120-120v-720h720v720H120Zm60-500h600v-160H180v160Zm220 220h160v-160H400v160Zm0 220h160v-160H400v160ZM180-400h160v-160H180v160Zm440 0h160v-160H620v160ZM180-180h160v-160H180v160Zm440 0h160v-160H620v160Z\"/>\n",
       "  </svg>\n",
       "    </button>\n",
       "\n",
       "  <style>\n",
       "    .colab-df-container {\n",
       "      display:flex;\n",
       "      gap: 12px;\n",
       "    }\n",
       "\n",
       "    .colab-df-convert {\n",
       "      background-color: #E8F0FE;\n",
       "      border: none;\n",
       "      border-radius: 50%;\n",
       "      cursor: pointer;\n",
       "      display: none;\n",
       "      fill: #1967D2;\n",
       "      height: 32px;\n",
       "      padding: 0 0 0 0;\n",
       "      width: 32px;\n",
       "    }\n",
       "\n",
       "    .colab-df-convert:hover {\n",
       "      background-color: #E2EBFA;\n",
       "      box-shadow: 0px 1px 2px rgba(60, 64, 67, 0.3), 0px 1px 3px 1px rgba(60, 64, 67, 0.15);\n",
       "      fill: #174EA6;\n",
       "    }\n",
       "\n",
       "    .colab-df-buttons div {\n",
       "      margin-bottom: 4px;\n",
       "    }\n",
       "\n",
       "    [theme=dark] .colab-df-convert {\n",
       "      background-color: #3B4455;\n",
       "      fill: #D2E3FC;\n",
       "    }\n",
       "\n",
       "    [theme=dark] .colab-df-convert:hover {\n",
       "      background-color: #434B5C;\n",
       "      box-shadow: 0px 1px 3px 1px rgba(0, 0, 0, 0.15);\n",
       "      filter: drop-shadow(0px 1px 2px rgba(0, 0, 0, 0.3));\n",
       "      fill: #FFFFFF;\n",
       "    }\n",
       "  </style>\n",
       "\n",
       "    <script>\n",
       "      const buttonEl =\n",
       "        document.querySelector('#df-93aadd0d-92b2-4c1f-b939-2cfa164f562e button.colab-df-convert');\n",
       "      buttonEl.style.display =\n",
       "        google.colab.kernel.accessAllowed ? 'block' : 'none';\n",
       "\n",
       "      async function convertToInteractive(key) {\n",
       "        const element = document.querySelector('#df-93aadd0d-92b2-4c1f-b939-2cfa164f562e');\n",
       "        const dataTable =\n",
       "          await google.colab.kernel.invokeFunction('convertToInteractive',\n",
       "                                                    [key], {});\n",
       "        if (!dataTable) return;\n",
       "\n",
       "        const docLinkHtml = 'Like what you see? Visit the ' +\n",
       "          '<a target=\"_blank\" href=https://colab.research.google.com/notebooks/data_table.ipynb>data table notebook</a>'\n",
       "          + ' to learn more about interactive tables.';\n",
       "        element.innerHTML = '';\n",
       "        dataTable['output_type'] = 'display_data';\n",
       "        await google.colab.output.renderOutput(dataTable, element);\n",
       "        const docLink = document.createElement('div');\n",
       "        docLink.innerHTML = docLinkHtml;\n",
       "        element.appendChild(docLink);\n",
       "      }\n",
       "    </script>\n",
       "  </div>\n",
       "\n",
       "    </div>\n",
       "  </div>\n"
      ],
      "text/plain": [
       "           author                                              title  \\\n",
       "0  Machine Dazzle  how to unleash your inner maximalist through c...   \n",
       "1    Jioji Ravulo  a liberating vision of identity that transcend...   \n",
       "\n",
       "                                         description  likes   views  \\\n",
       "0  tapping into the transformational power of cos...   8100  270192   \n",
       "1  how can we move past societys inclination to b...   9200  309952   \n",
       "\n",
       "                                          transcript       date  \\\n",
       "0  Hello, I am Machine Dazzle, and I am an emotio... 2023-06-01   \n",
       "1  Can you paint with all the colors of the wind?... 2023-06-01   \n",
       "\n",
       "                                                tags  \n",
       "0      art, creativity, design, fashion, performance  \n",
       "1  diversity, identity, inclusion, indigenous_peo...  "
      ]
     },
     "execution_count": 3,
     "metadata": {},
     "output_type": "execute_result"
    }
   ],
   "source": [
    "df.head(2)"
   ]
  },
  {
   "cell_type": "code",
   "execution_count": 4,
   "id": "2BoDLGgNPgmQ",
   "metadata": {
    "colab": {
     "base_uri": "https://localhost:8080/"
    },
    "id": "2BoDLGgNPgmQ",
    "outputId": "113ff4af-269f-40ad-d65d-fb934f68038c"
   },
   "outputs": [
    {
     "data": {
      "text/plain": [
       "Dataset({\n",
       "    features: ['author', 'title', 'description', 'likes', 'views', 'transcript', 'date', 'tags'],\n",
       "    num_rows: 5140\n",
       "})"
      ]
     },
     "execution_count": 4,
     "metadata": {},
     "output_type": "execute_result"
    }
   ],
   "source": [
    "# extract only the required columns - keeping all fo rnow\n",
    "# create a huggingface dataset\n",
    "try:\n",
    "    from datasets import Dataset\n",
    "except:\n",
    "    !pip -q install datasets\n",
    "    from datasets import Dataset\n",
    "\n",
    "t5_dataset = Dataset.from_pandas(df, split=\"train\")\n",
    "t5_dataset"
   ]
  },
  {
   "cell_type": "markdown",
   "id": "7A_vpCC-PBPv",
   "metadata": {
    "id": "7A_vpCC-PBPv"
   },
   "source": [
    "## 1.2 create `text` \"soup\" column"
   ]
  },
  {
   "cell_type": "code",
   "execution_count": 5,
   "id": "dONa_FXiQpxM",
   "metadata": {
    "colab": {
     "base_uri": "https://localhost:8080/",
     "height": 77,
     "referenced_widgets": [
      "62f1324ccd8349bdbd6609a4ab60828e",
      "97f91ec330f142648ef2442c29d89e40",
      "95d4d6efc3a64f7986f81d97673ba3ee",
      "b99af63a19b644589189a9291e29dddc",
      "b122c3400b6940019f77595c21404a89",
      "64c6cd1163c145c881e4a4ec9b464ed7",
      "171a21bf6bf441d8b47fad18bd56aea0",
      "7612d85966a4405489ed0c0dbb3eb804",
      "1a68cea4fa8749038d372246b985b54d",
      "0f45b6e65c344c7a8744f9b1f2d7ee1c",
      "bc4f4fabd4394dda90bc07789ee4fc4e"
     ]
    },
    "id": "dONa_FXiQpxM",
    "outputId": "a02370a7-dea4-4ed9-e2e5-c253ab7ea1cd"
   },
   "outputs": [
    {
     "data": {
      "application/vnd.jupyter.widget-view+json": {
       "model_id": "62f1324ccd8349bdbd6609a4ab60828e",
       "version_major": 2,
       "version_minor": 0
      },
      "text/plain": [
       "Map:   0%|          | 0/5140 [00:00<?, ? examples/s]"
      ]
     },
     "metadata": {},
     "output_type": "display_data"
    }
   ],
   "source": [
    "# create new text column that concatenates title, description and transcript\n",
    "def concat_text(examples):\n",
    "    return {\n",
    "        \"text\": examples[\"title\"]\n",
    "        + \" \\n \"\n",
    "        + examples[\"description\"]\n",
    "        + \" \\n \"\n",
    "        + examples[\"transcript\"]\n",
    "        # + \" \\n Talk by \"\n",
    "        # + examples[\"author\"]\n",
    "    }\n",
    "\n",
    "t5_dataset = t5_dataset.map(concat_text)"
   ]
  },
  {
   "cell_type": "code",
   "execution_count": 6,
   "id": "4FyNpEsVIpRG",
   "metadata": {
    "colab": {
     "base_uri": "https://localhost:8080/"
    },
    "id": "4FyNpEsVIpRG",
    "outputId": "f36b9568-ed1f-47d5-e840-7c5d87fa695d"
   },
   "outputs": [
    {
     "data": {
      "text/plain": [
       "Dataset({\n",
       "    features: ['author', 'title', 'description', 'likes', 'views', 'transcript', 'date', 'tags', 'text'],\n",
       "    num_rows: 5140\n",
       "})"
      ]
     },
     "execution_count": 6,
     "metadata": {},
     "output_type": "execute_result"
    }
   ],
   "source": [
    "t5_dataset"
   ]
  },
  {
   "cell_type": "markdown",
   "id": "rQoUe5iVdp3p",
   "metadata": {
    "id": "rQoUe5iVdp3p"
   },
   "source": [
    "## Save the dataset to t5_dataset"
   ]
  },
  {
   "cell_type": "code",
   "execution_count": 7,
   "id": "hL0LvUZlQNlf",
   "metadata": {
    "colab": {
     "base_uri": "https://localhost:8080/",
     "height": 166,
     "referenced_widgets": [
      "2f0cfc87f3314ee5940ea70b65a3caf9",
      "78904179b0394c47a0ddbc22579b3c19",
      "a2ad497a49fc48d1851c0b89fc719cb8",
      "00fb52d4ece74effb52b9352a385f5a6",
      "74c863cf86ff4c3fb14d6442f470e66c",
      "866c6c176aee4f478fc1d2fe6f040b3b",
      "1dd78ec7c819442babd9002232f4bb68",
      "dc213094625c491080ed4b8481a8bc5e",
      "54e79cafe5db419d87de9de24e2c609f",
      "c6ecd400f4024d2abad074c954ae5ebc",
      "8856ead017484bb499958eb8bc6059e4"
     ]
    },
    "id": "hL0LvUZlQNlf",
    "outputId": "dcbeffbe-32ce-428e-cb4e-f7f48fbfe88e"
   },
   "outputs": [
    {
     "data": {
      "application/vnd.jupyter.widget-view+json": {
       "model_id": "2f0cfc87f3314ee5940ea70b65a3caf9",
       "version_major": 2,
       "version_minor": 0
      },
      "text/plain": [
       "Saving the dataset (0/1 shards):   0%|          | 0/5140 [00:00<?, ? examples/s]"
      ]
     },
     "metadata": {},
     "output_type": "display_data"
    },
    {
     "data": {
      "text/plain": [
       "Dataset({\n",
       "    features: ['author', 'title', 'description', 'likes', 'views', 'transcript', 'date', 'tags', 'text'],\n",
       "    num_rows: 5140\n",
       "})"
      ]
     },
     "execution_count": 7,
     "metadata": {},
     "output_type": "execute_result"
    }
   ],
   "source": [
    "# Save the dataset to t5_dataset\n",
    "\n",
    "t5_dataset.save_to_disk(SOURCE_DIR+'t5_dataset')\n",
    "\n",
    "# confirm by loading\n",
    "from datasets import load_from_disk, load_dataset\n",
    "\n",
    "dataset_reloaded = load_from_disk(SOURCE_DIR+'t5_dataset')\n",
    "dataset_reloaded"
   ]
  },
  {
   "cell_type": "markdown",
   "id": "8G0EWGnKQx2X",
   "metadata": {
    "id": "8G0EWGnKQx2X"
   },
   "source": [
    "# 2 Semantic search with FAISS\n",
    "2.1 create new text column that concatenates title, description and transcript.\n",
    "\n",
    "2.2 create get_embeddings function that:\n",
    "\n",
    " * create tokenizer and model from t5-base checkpoint\n",
    " * tokenize the `text` column and get tensors\n",
    " * put tensors on cuda (gpu) for faster processing\n",
    " * forward pass tensors through model to get `output`\n",
    " * feed model `output` to CLS pooling\n",
    "\n",
    "2.3 create embeddings with get_embeddings function\n",
    "\n",
    "2.4 add FAISS index"
   ]
  },
  {
   "cell_type": "markdown",
   "id": "KCK-WHSFdQkK",
   "metadata": {
    "id": "KCK-WHSFdQkK"
   },
   "source": [
    "## 2.1 Use t5 sentence transformer to generate text `embeddings`"
   ]
  },
  {
   "cell_type": "code",
   "execution_count": 8,
   "id": "cCO4GFHqes-k",
   "metadata": {
    "colab": {
     "base_uri": "https://localhost:8080/"
    },
    "id": "cCO4GFHqes-k",
    "outputId": "55f3e286-81ad-4dfb-fc89-79b53f52365c"
   },
   "outputs": [
    {
     "data": {
      "text/plain": [
       "Dataset({\n",
       "    features: ['author', 'title', 'description', 'likes', 'views', 'transcript', 'date', 'tags', 'text'],\n",
       "    num_rows: 5140\n",
       "})"
      ]
     },
     "execution_count": 8,
     "metadata": {},
     "output_type": "execute_result"
    }
   ],
   "source": [
    "from datasets import load_from_disk\n",
    "t5_dataset = load_from_disk(SOURCE_DIR+'t5_dataset')\n",
    "t5_dataset"
   ]
  },
  {
   "cell_type": "code",
   "execution_count": 9,
   "id": "AL6PAdBiRcsX",
   "metadata": {
    "colab": {
     "base_uri": "https://localhost:8080/"
    },
    "id": "AL6PAdBiRcsX",
    "outputId": "91826cb8-f04c-4b00-841e-cc802ec05e3a"
   },
   "outputs": [
    {
     "name": "stderr",
     "output_type": "stream",
     "text": [
      "Some weights of T5Model were not initialized from the model checkpoint at sentence-transformers/sentence-t5-base and are newly initialized: ['decoder.block.6.layer.1.EncDecAttention.q.weight', 'decoder.block.10.layer.1.EncDecAttention.k.weight', 'decoder.block.6.layer.0.layer_norm.weight', 'decoder.block.8.layer.0.SelfAttention.k.weight', 'decoder.block.4.layer.1.EncDecAttention.q.weight', 'decoder.block.3.layer.1.EncDecAttention.q.weight', 'decoder.block.11.layer.0.SelfAttention.q.weight', 'decoder.block.0.layer.0.SelfAttention.o.weight', 'decoder.block.0.layer.1.EncDecAttention.o.weight', 'decoder.block.9.layer.2.DenseReluDense.wo.weight', 'decoder.block.6.layer.2.layer_norm.weight', 'decoder.block.0.layer.1.EncDecAttention.v.weight', 'decoder.block.10.layer.0.layer_norm.weight', 'decoder.block.11.layer.2.DenseReluDense.wi.weight', 'decoder.block.0.layer.1.layer_norm.weight', 'decoder.block.11.layer.1.layer_norm.weight', 'decoder.block.9.layer.0.SelfAttention.k.weight', 'decoder.block.1.layer.2.layer_norm.weight', 'decoder.block.8.layer.0.SelfAttention.v.weight', 'decoder.block.10.layer.0.SelfAttention.v.weight', 'decoder.block.3.layer.0.layer_norm.weight', 'decoder.block.6.layer.0.SelfAttention.q.weight', 'decoder.block.7.layer.2.layer_norm.weight', 'decoder.block.9.layer.0.SelfAttention.o.weight', 'decoder.block.3.layer.1.EncDecAttention.o.weight', 'decoder.block.11.layer.2.DenseReluDense.wo.weight', 'decoder.block.7.layer.1.layer_norm.weight', 'decoder.block.8.layer.1.EncDecAttention.v.weight', 'decoder.block.0.layer.2.layer_norm.weight', 'decoder.block.5.layer.2.layer_norm.weight', 'decoder.block.0.layer.0.SelfAttention.v.weight', 'decoder.block.1.layer.1.EncDecAttention.k.weight', 'decoder.block.10.layer.2.DenseReluDense.wi.weight', 'decoder.block.8.layer.0.layer_norm.weight', 'decoder.block.11.layer.1.EncDecAttention.v.weight', 'decoder.block.2.layer.0.SelfAttention.v.weight', 'decoder.block.3.layer.0.SelfAttention.q.weight', 'decoder.block.0.layer.0.layer_norm.weight', 'decoder.block.1.layer.0.SelfAttention.q.weight', 'decoder.block.1.layer.1.EncDecAttention.o.weight', 'decoder.block.6.layer.0.SelfAttention.o.weight', 'decoder.block.5.layer.1.EncDecAttention.o.weight', 'decoder.block.10.layer.1.EncDecAttention.o.weight', 'decoder.block.10.layer.1.layer_norm.weight', 'decoder.block.4.layer.2.DenseReluDense.wo.weight', 'decoder.block.9.layer.1.EncDecAttention.v.weight', 'decoder.block.8.layer.1.EncDecAttention.o.weight', 'decoder.block.10.layer.2.DenseReluDense.wo.weight', 'decoder.block.11.layer.1.EncDecAttention.q.weight', 'decoder.block.11.layer.1.EncDecAttention.o.weight', 'decoder.block.5.layer.0.SelfAttention.v.weight', 'decoder.block.7.layer.1.EncDecAttention.o.weight', 'decoder.block.11.layer.0.SelfAttention.o.weight', 'decoder.block.3.layer.1.EncDecAttention.k.weight', 'decoder.block.1.layer.2.DenseReluDense.wo.weight', 'decoder.block.8.layer.1.layer_norm.weight', 'decoder.block.4.layer.1.EncDecAttention.v.weight', 'decoder.block.9.layer.1.EncDecAttention.q.weight', 'decoder.block.7.layer.1.EncDecAttention.v.weight', 'decoder.block.3.layer.2.DenseReluDense.wo.weight', 'decoder.block.2.layer.0.SelfAttention.q.weight', 'decoder.block.11.layer.0.SelfAttention.v.weight', 'decoder.block.1.layer.1.EncDecAttention.v.weight', 'decoder.block.9.layer.1.layer_norm.weight', 'decoder.block.5.layer.0.layer_norm.weight', 'decoder.block.8.layer.2.DenseReluDense.wi.weight', 'decoder.block.2.layer.1.EncDecAttention.k.weight', 'decoder.block.0.layer.0.SelfAttention.q.weight', 'decoder.block.9.layer.0.SelfAttention.v.weight', 'decoder.block.5.layer.1.EncDecAttention.k.weight', 'decoder.block.2.layer.2.layer_norm.weight', 'decoder.block.4.layer.0.SelfAttention.v.weight', 'decoder.block.7.layer.0.layer_norm.weight', 'decoder.block.1.layer.1.layer_norm.weight', 'decoder.block.7.layer.0.SelfAttention.k.weight', 'decoder.block.2.layer.1.EncDecAttention.o.weight', 'decoder.block.8.layer.0.SelfAttention.q.weight', 'decoder.block.0.layer.0.SelfAttention.relative_attention_bias.weight', 'decoder.block.2.layer.1.EncDecAttention.v.weight', 'decoder.block.0.layer.0.SelfAttention.k.weight', 'decoder.block.3.layer.0.SelfAttention.o.weight', 'decoder.block.11.layer.0.SelfAttention.k.weight', 'decoder.block.1.layer.0.SelfAttention.k.weight', 'decoder.block.2.layer.0.SelfAttention.o.weight', 'decoder.block.5.layer.0.SelfAttention.k.weight', 'decoder.block.3.layer.2.layer_norm.weight', 'decoder.block.10.layer.0.SelfAttention.o.weight', 'decoder.block.10.layer.0.SelfAttention.q.weight', 'decoder.block.5.layer.0.SelfAttention.o.weight', 'decoder.block.1.layer.0.layer_norm.weight', 'decoder.block.9.layer.0.layer_norm.weight', 'decoder.block.11.layer.2.layer_norm.weight', 'decoder.block.3.layer.2.DenseReluDense.wi.weight', 'decoder.block.3.layer.0.SelfAttention.k.weight', 'decoder.block.5.layer.1.EncDecAttention.q.weight', 'decoder.block.0.layer.1.EncDecAttention.q.weight', 'decoder.block.4.layer.0.SelfAttention.k.weight', 'decoder.block.8.layer.1.EncDecAttention.q.weight', 'decoder.block.9.layer.2.DenseReluDense.wi.weight', 'decoder.block.0.layer.2.DenseReluDense.wo.weight', 'decoder.block.6.layer.1.EncDecAttention.o.weight', 'decoder.block.9.layer.1.EncDecAttention.o.weight', 'decoder.block.1.layer.0.SelfAttention.v.weight', 'decoder.block.8.layer.0.SelfAttention.o.weight', 'decoder.block.6.layer.2.DenseReluDense.wo.weight', 'decoder.block.10.layer.2.layer_norm.weight', 'decoder.block.8.layer.1.EncDecAttention.k.weight', 'decoder.block.7.layer.0.SelfAttention.v.weight', 'decoder.block.4.layer.1.EncDecAttention.o.weight', 'decoder.block.4.layer.0.layer_norm.weight', 'decoder.block.7.layer.1.EncDecAttention.q.weight', 'decoder.block.4.layer.2.layer_norm.weight', 'decoder.block.11.layer.1.EncDecAttention.k.weight', 'decoder.block.7.layer.0.SelfAttention.q.weight', 'decoder.block.5.layer.0.SelfAttention.q.weight', 'decoder.block.5.layer.2.DenseReluDense.wi.weight', 'decoder.block.4.layer.1.layer_norm.weight', 'decoder.block.8.layer.2.layer_norm.weight', 'decoder.block.2.layer.2.DenseReluDense.wo.weight', 'decoder.block.7.layer.2.DenseReluDense.wi.weight', 'decoder.block.10.layer.1.EncDecAttention.q.weight', 'decoder.block.2.layer.1.layer_norm.weight', 'decoder.block.6.layer.1.layer_norm.weight', 'decoder.block.6.layer.0.SelfAttention.v.weight', 'decoder.block.2.layer.0.SelfAttention.k.weight', 'decoder.block.1.layer.1.EncDecAttention.q.weight', 'decoder.block.4.layer.0.SelfAttention.q.weight', 'decoder.block.6.layer.0.SelfAttention.k.weight', 'decoder.block.11.layer.0.layer_norm.weight', 'decoder.block.1.layer.2.DenseReluDense.wi.weight', 'decoder.block.2.layer.2.DenseReluDense.wi.weight', 'decoder.block.8.layer.2.DenseReluDense.wo.weight', 'decoder.block.4.layer.1.EncDecAttention.k.weight', 'decoder.block.9.layer.0.SelfAttention.q.weight', 'decoder.block.10.layer.0.SelfAttention.k.weight', 'decoder.block.9.layer.1.EncDecAttention.k.weight', 'decoder.final_layer_norm.weight', 'decoder.block.2.layer.0.layer_norm.weight', 'decoder.block.5.layer.2.DenseReluDense.wo.weight', 'decoder.block.7.layer.2.DenseReluDense.wo.weight', 'decoder.block.7.layer.0.SelfAttention.o.weight', 'decoder.block.9.layer.2.layer_norm.weight', 'decoder.block.4.layer.2.DenseReluDense.wi.weight', 'decoder.block.6.layer.2.DenseReluDense.wi.weight', 'decoder.block.0.layer.2.DenseReluDense.wi.weight', 'decoder.block.10.layer.1.EncDecAttention.v.weight', 'decoder.block.3.layer.0.SelfAttention.v.weight', 'decoder.block.5.layer.1.layer_norm.weight', 'decoder.block.1.layer.0.SelfAttention.o.weight', 'decoder.block.5.layer.1.EncDecAttention.v.weight', 'decoder.block.6.layer.1.EncDecAttention.v.weight', 'decoder.block.3.layer.1.EncDecAttention.v.weight', 'decoder.block.7.layer.1.EncDecAttention.k.weight', 'decoder.block.0.layer.1.EncDecAttention.k.weight', 'decoder.block.2.layer.1.EncDecAttention.q.weight', 'decoder.block.3.layer.1.layer_norm.weight', 'decoder.block.6.layer.1.EncDecAttention.k.weight', 'decoder.block.4.layer.0.SelfAttention.o.weight']\n",
      "You should probably TRAIN this model on a down-stream task to be able to use it for predictions and inference.\n"
     ]
    },
    {
     "data": {
      "text/plain": [
       "T5Model(\n",
       "  (shared): Embedding(32128, 768)\n",
       "  (encoder): T5Stack(\n",
       "    (embed_tokens): Embedding(32128, 768)\n",
       "    (block): ModuleList(\n",
       "      (0): T5Block(\n",
       "        (layer): ModuleList(\n",
       "          (0): T5LayerSelfAttention(\n",
       "            (SelfAttention): T5Attention(\n",
       "              (q): Linear(in_features=768, out_features=768, bias=False)\n",
       "              (k): Linear(in_features=768, out_features=768, bias=False)\n",
       "              (v): Linear(in_features=768, out_features=768, bias=False)\n",
       "              (o): Linear(in_features=768, out_features=768, bias=False)\n",
       "              (relative_attention_bias): Embedding(32, 12)\n",
       "            )\n",
       "            (layer_norm): T5LayerNorm()\n",
       "            (dropout): Dropout(p=0.1, inplace=False)\n",
       "          )\n",
       "          (1): T5LayerFF(\n",
       "            (DenseReluDense): T5DenseActDense(\n",
       "              (wi): Linear(in_features=768, out_features=3072, bias=False)\n",
       "              (wo): Linear(in_features=3072, out_features=768, bias=False)\n",
       "              (dropout): Dropout(p=0.1, inplace=False)\n",
       "              (act): ReLU()\n",
       "            )\n",
       "            (layer_norm): T5LayerNorm()\n",
       "            (dropout): Dropout(p=0.1, inplace=False)\n",
       "          )\n",
       "        )\n",
       "      )\n",
       "      (1-11): 11 x T5Block(\n",
       "        (layer): ModuleList(\n",
       "          (0): T5LayerSelfAttention(\n",
       "            (SelfAttention): T5Attention(\n",
       "              (q): Linear(in_features=768, out_features=768, bias=False)\n",
       "              (k): Linear(in_features=768, out_features=768, bias=False)\n",
       "              (v): Linear(in_features=768, out_features=768, bias=False)\n",
       "              (o): Linear(in_features=768, out_features=768, bias=False)\n",
       "            )\n",
       "            (layer_norm): T5LayerNorm()\n",
       "            (dropout): Dropout(p=0.1, inplace=False)\n",
       "          )\n",
       "          (1): T5LayerFF(\n",
       "            (DenseReluDense): T5DenseActDense(\n",
       "              (wi): Linear(in_features=768, out_features=3072, bias=False)\n",
       "              (wo): Linear(in_features=3072, out_features=768, bias=False)\n",
       "              (dropout): Dropout(p=0.1, inplace=False)\n",
       "              (act): ReLU()\n",
       "            )\n",
       "            (layer_norm): T5LayerNorm()\n",
       "            (dropout): Dropout(p=0.1, inplace=False)\n",
       "          )\n",
       "        )\n",
       "      )\n",
       "    )\n",
       "    (final_layer_norm): T5LayerNorm()\n",
       "    (dropout): Dropout(p=0.1, inplace=False)\n",
       "  )\n",
       "  (decoder): T5Stack(\n",
       "    (embed_tokens): Embedding(32128, 768)\n",
       "    (block): ModuleList(\n",
       "      (0): T5Block(\n",
       "        (layer): ModuleList(\n",
       "          (0): T5LayerSelfAttention(\n",
       "            (SelfAttention): T5Attention(\n",
       "              (q): Linear(in_features=768, out_features=768, bias=False)\n",
       "              (k): Linear(in_features=768, out_features=768, bias=False)\n",
       "              (v): Linear(in_features=768, out_features=768, bias=False)\n",
       "              (o): Linear(in_features=768, out_features=768, bias=False)\n",
       "              (relative_attention_bias): Embedding(32, 12)\n",
       "            )\n",
       "            (layer_norm): T5LayerNorm()\n",
       "            (dropout): Dropout(p=0.1, inplace=False)\n",
       "          )\n",
       "          (1): T5LayerCrossAttention(\n",
       "            (EncDecAttention): T5Attention(\n",
       "              (q): Linear(in_features=768, out_features=768, bias=False)\n",
       "              (k): Linear(in_features=768, out_features=768, bias=False)\n",
       "              (v): Linear(in_features=768, out_features=768, bias=False)\n",
       "              (o): Linear(in_features=768, out_features=768, bias=False)\n",
       "            )\n",
       "            (layer_norm): T5LayerNorm()\n",
       "            (dropout): Dropout(p=0.1, inplace=False)\n",
       "          )\n",
       "          (2): T5LayerFF(\n",
       "            (DenseReluDense): T5DenseActDense(\n",
       "              (wi): Linear(in_features=768, out_features=3072, bias=False)\n",
       "              (wo): Linear(in_features=3072, out_features=768, bias=False)\n",
       "              (dropout): Dropout(p=0.1, inplace=False)\n",
       "              (act): ReLU()\n",
       "            )\n",
       "            (layer_norm): T5LayerNorm()\n",
       "            (dropout): Dropout(p=0.1, inplace=False)\n",
       "          )\n",
       "        )\n",
       "      )\n",
       "      (1-11): 11 x T5Block(\n",
       "        (layer): ModuleList(\n",
       "          (0): T5LayerSelfAttention(\n",
       "            (SelfAttention): T5Attention(\n",
       "              (q): Linear(in_features=768, out_features=768, bias=False)\n",
       "              (k): Linear(in_features=768, out_features=768, bias=False)\n",
       "              (v): Linear(in_features=768, out_features=768, bias=False)\n",
       "              (o): Linear(in_features=768, out_features=768, bias=False)\n",
       "            )\n",
       "            (layer_norm): T5LayerNorm()\n",
       "            (dropout): Dropout(p=0.1, inplace=False)\n",
       "          )\n",
       "          (1): T5LayerCrossAttention(\n",
       "            (EncDecAttention): T5Attention(\n",
       "              (q): Linear(in_features=768, out_features=768, bias=False)\n",
       "              (k): Linear(in_features=768, out_features=768, bias=False)\n",
       "              (v): Linear(in_features=768, out_features=768, bias=False)\n",
       "              (o): Linear(in_features=768, out_features=768, bias=False)\n",
       "            )\n",
       "            (layer_norm): T5LayerNorm()\n",
       "            (dropout): Dropout(p=0.1, inplace=False)\n",
       "          )\n",
       "          (2): T5LayerFF(\n",
       "            (DenseReluDense): T5DenseActDense(\n",
       "              (wi): Linear(in_features=768, out_features=3072, bias=False)\n",
       "              (wo): Linear(in_features=3072, out_features=768, bias=False)\n",
       "              (dropout): Dropout(p=0.1, inplace=False)\n",
       "              (act): ReLU()\n",
       "            )\n",
       "            (layer_norm): T5LayerNorm()\n",
       "            (dropout): Dropout(p=0.1, inplace=False)\n",
       "          )\n",
       "        )\n",
       "      )\n",
       "    )\n",
       "    (final_layer_norm): T5LayerNorm()\n",
       "    (dropout): Dropout(p=0.1, inplace=False)\n",
       "  )\n",
       ")"
      ]
     },
     "execution_count": 9,
     "metadata": {},
     "output_type": "execute_result"
    }
   ],
   "source": [
    "# import the t5-base model and tokenizer\n",
    "\n",
    "try:\n",
    "    # from sentence_transformers import SentenceTransformer, models\n",
    "    from transformers import AutoTokenizer, AutoModel\n",
    "except:\n",
    "    %pip install -q transformers\n",
    "    %pip install -q sentence_transformers\n",
    "    from transformers import AutoTokenizer, AutoModel\n",
    "    # from sentence_transformers import SentenceTransformer, models\n",
    "model_ckpt = 'sentence-transformers/sentence-t5-base'\n",
    "tokenizer = AutoTokenizer.from_pretrained(model_ckpt)\n",
    "model = AutoModel.from_pretrained(model_ckpt)\n",
    "\n",
    "# word_embedding_model = models.Transformer(model_ckpt)\n",
    "# model = SentenceTransformer(modules=[word_embedding_model])\n",
    "\n",
    "import torch\n",
    "# set device diagnostics\n",
    "device = 'cuda' if torch.cuda.is_available() else 'cpu'\n",
    "model.to(device)"
   ]
  },
  {
   "cell_type": "code",
   "execution_count": 10,
   "id": "bVXiDeiWSTcy",
   "metadata": {
    "id": "bVXiDeiWSTcy"
   },
   "outputs": [],
   "source": [
    "# create a get_embeddings function\n",
    "\n",
    "def cls_pooling(model_output):\n",
    "    return model_output.last_hidden_state[:, 0]\n",
    "\n",
    "def get_embeddings(text):\n",
    "    # tokenizes the text column\n",
    "    encoded_input = tokenizer(\n",
    "        text,\n",
    "        padding=True,\n",
    "        truncation=True,\n",
    "        return_tensors='pt'\n",
    "    )\n",
    "\n",
    "    # change to the gpu device\n",
    "    encoded_input = {k:v.to(device) for k, v in encoded_input.items()}\n",
    "\n",
    "    # Forward pass through the model to obtain embeddings\n",
    "    with torch.no_grad():\n",
    "        model_output = model(**encoded_input,\n",
    "                             # required for t5 transformer\n",
    "                             decoder_input_ids=torch.tensor([[0]]).to(device),\n",
    "                             return_dict=True)\n",
    "    # feed model output to cls pooling\n",
    "    return cls_pooling(model_output)"
   ]
  },
  {
   "cell_type": "code",
   "execution_count": 11,
   "id": "k9osd1DNT1g8",
   "metadata": {
    "colab": {
     "base_uri": "https://localhost:8080/"
    },
    "id": "k9osd1DNT1g8",
    "outputId": "d699880a-6546-4821-d024-d12468a7110c"
   },
   "outputs": [
    {
     "data": {
      "text/plain": [
       "torch.Size([1, 768])"
      ]
     },
     "execution_count": 11,
     "metadata": {},
     "output_type": "execute_result"
    }
   ],
   "source": [
    "# testing with the first entry\n",
    "embedding = get_embeddings(t5_dataset[\"text\"][0])\n",
    "embedding.shape"
   ]
  },
  {
   "cell_type": "code",
   "execution_count": 12,
   "id": "QAlsyeYITojo",
   "metadata": {
    "colab": {
     "base_uri": "https://localhost:8080/",
     "height": 77,
     "referenced_widgets": [
      "09480822fa5443c3a2cb473ff5ebbdda",
      "34a354c3c4b64a6983c285e60852ca0c",
      "1b12591109e740689ee79df9f62dcc66",
      "0c2b4fb71ea24043ade4f8eb28bc1d78",
      "c07bee8b49bf4f2896d3c95b9b3b6876",
      "a2c3267e762646578e4c69a78bcfda91",
      "763779816bed45aa879654279239009e",
      "5975ca54d3cb4b3b83e7c789daabf4d2",
      "59c08f1e998f468bb7785e5ec2b7154c",
      "19bf9ff7b75a45d2a86b8a2c174bed08",
      "70c67ee90f9140f1bae0af5d94395875"
     ]
    },
    "id": "QAlsyeYITojo",
    "outputId": "26598bfb-a5d2-4dec-d752-125a17cc9d5a"
   },
   "outputs": [
    {
     "data": {
      "application/vnd.jupyter.widget-view+json": {
       "model_id": "09480822fa5443c3a2cb473ff5ebbdda",
       "version_major": 2,
       "version_minor": 0
      },
      "text/plain": [
       "Map:   0%|          | 0/5140 [00:00<?, ? examples/s]"
      ]
     },
     "metadata": {},
     "output_type": "display_data"
    }
   ],
   "source": [
    "# create embeddings with get_embeddings function\n",
    "t5_dataset = t5_dataset.map(\n",
    "    lambda x: {\"embeddings\" : get_embeddings(x['text']).to('cpu').numpy()[0]}\n",
    ")"
   ]
  },
  {
   "cell_type": "code",
   "execution_count": 13,
   "id": "G0Ldi2qjIAy_",
   "metadata": {
    "colab": {
     "base_uri": "https://localhost:8080/"
    },
    "id": "G0Ldi2qjIAy_",
    "outputId": "07f9afb7-369d-4a87-ef44-73f3a667e58a"
   },
   "outputs": [
    {
     "data": {
      "text/plain": [
       "Dataset({\n",
       "    features: ['author', 'title', 'description', 'likes', 'views', 'transcript', 'date', 'tags', 'text', 'embeddings'],\n",
       "    num_rows: 5140\n",
       "})"
      ]
     },
     "execution_count": 13,
     "metadata": {},
     "output_type": "execute_result"
    }
   ],
   "source": [
    "t5_dataset"
   ]
  },
  {
   "cell_type": "markdown",
   "id": "LFZz960Cdavb",
   "metadata": {
    "id": "LFZz960Cdavb"
   },
   "source": [
    "## 2.2. Create FAISS index"
   ]
  },
  {
   "cell_type": "code",
   "execution_count": 11,
   "id": "A_y4JKLVcC4_",
   "metadata": {
    "id": "A_y4JKLVcC4_"
   },
   "outputs": [],
   "source": [
    "try:\n",
    "    import faiss\n",
    "except:\n",
    "    %pip install --upgrade faiss-cpu faiss-gpu -q\n",
    "    import faiss\n",
    "# create faiss index\n",
    "t5_dataset.add_faiss_index(column=\"embeddings\")\n"
   ]
  },
  {
   "cell_type": "markdown",
   "id": "_QtoEVSRJW0c",
   "metadata": {
    "id": "_QtoEVSRJW0c"
   },
   "source": [
    "## 2.3 Save the FAISS index"
   ]
  },
  {
   "cell_type": "code",
   "execution_count": 15,
   "id": "vn4gHjSiSfyQ",
   "metadata": {
    "colab": {
     "base_uri": "https://localhost:8080/"
    },
    "id": "vn4gHjSiSfyQ",
    "outputId": "bcfc0c11-df55-4438-9bb4-0aadd68cf089"
   },
   "outputs": [
    {
     "data": {
      "text/plain": [
       "Dataset({\n",
       "    features: ['author', 'title', 'description', 'likes', 'views', 'transcript', 'date', 'tags', 'text', 'embeddings'],\n",
       "    num_rows: 5140\n",
       "})"
      ]
     },
     "execution_count": 15,
     "metadata": {},
     "output_type": "execute_result"
    }
   ],
   "source": [
    "t5_dataset"
   ]
  },
  {
   "cell_type": "code",
   "execution_count": 16,
   "id": "-pG12F7WJjy6",
   "metadata": {
    "colab": {
     "base_uri": "https://localhost:8080/",
     "height": 77,
     "referenced_widgets": [
      "aaaa77820c4a415095e31f0f7fa0c909",
      "edfceb70738a4c2cb0d38a00e6bd0d55",
      "fbb63b6eebf04aefb0ffacf7de96362e",
      "12133795942f48858b01cffbc009aad6",
      "a0ba10973bf24dd7850935bb59052e27",
      "edda437e12744b51a920b983b518265e",
      "9192689d94d443cf925af3b3c8e2c8d2",
      "0345376ff1ed481ab3f175753827d557",
      "906ebf324af34974909c38f52b7370ab",
      "2a001968703c4666b1711078e99de615",
      "205f18c7584a4d879e6d23543a384259"
     ]
    },
    "id": "-pG12F7WJjy6",
    "outputId": "a11817c5-bdc3-4336-94b1-7df25c5826cc"
   },
   "outputs": [
    {
     "data": {
      "application/vnd.jupyter.widget-view+json": {
       "model_id": "aaaa77820c4a415095e31f0f7fa0c909",
       "version_major": 2,
       "version_minor": 0
      },
      "text/plain": [
       "Saving the dataset (0/1 shards):   0%|          | 0/5140 [00:00<?, ? examples/s]"
      ]
     },
     "metadata": {},
     "output_type": "display_data"
    }
   ],
   "source": [
    "t5_dataset.save_faiss_index('embeddings', SOURCE_DIR+'t5_faiss_index.faiss')\n",
    "t5_dataset.drop_index('embeddings')\n",
    "t5_dataset.save_to_disk(SOURCE_DIR+'/t5_embedded_dataset')"
   ]
  },
  {
   "cell_type": "code",
   "execution_count": 17,
   "id": "Ha8Quw55dvT9",
   "metadata": {
    "id": "Ha8Quw55dvT9"
   },
   "outputs": [],
   "source": [
    "# load dataset and index\n",
    "try:\n",
    "    from datasets import load_from_disk\n",
    "except:\n",
    "    %pip install datasets\n",
    "    from datasets import load_from_disk\n",
    "# load the dataset\n",
    "# t5_dataset = load_from_disk(SOURCE_DIR+'/t5_dataset')\n",
    "# load the index\n",
    "# t5_dataset.load_faiss_index('embeddings', SOURCE_DIR+'/t5_faiss_index.faiss')"
   ]
  },
  {
   "cell_type": "code",
   "execution_count": 18,
   "id": "BJOQUM8aMVPZ",
   "metadata": {
    "colab": {
     "base_uri": "https://localhost:8080/"
    },
    "id": "BJOQUM8aMVPZ",
    "outputId": "5f05849e-1e88-4abf-c9cc-04ed87b9b146"
   },
   "outputs": [
    {
     "data": {
      "text/plain": [
       "Dataset({\n",
       "    features: ['author', 'title', 'description', 'likes', 'views', 'transcript', 'date', 'tags', 'text', 'embeddings'],\n",
       "    num_rows: 5140\n",
       "})"
      ]
     },
     "execution_count": 18,
     "metadata": {},
     "output_type": "execute_result"
    }
   ],
   "source": [
    "t5_dataset"
   ]
  },
  {
   "cell_type": "markdown",
   "id": "yqapj3VliUfu",
   "metadata": {
    "id": "yqapj3VliUfu"
   },
   "source": [
    "# 3. Build recommender\n",
    "\n",
    "3.1 embed sample query with get_embeddings\n",
    "\n",
    "3.2 use .get_nearest_examples() method to get similar embeddings\n",
    "\n",
    "3.3 use pandas to sort out top results"
   ]
  },
  {
   "cell_type": "code",
   "execution_count": 19,
   "id": "7jfh4lOyMc5k",
   "metadata": {
    "colab": {
     "base_uri": "https://localhost:8080/",
     "height": 138,
     "referenced_widgets": [
      "97f07e8727814777bc0e805b9fdcb481",
      "314e26cfb8c64cb7b0737004732d06ed",
      "9dfc10dae61848a998b0543ad80cd43c",
      "a92e29f1afca4af4ac593f0bf3893bfa",
      "d336308ac2e24958947aa582a3ae22e6",
      "3706e812a27d4b969de6bb96d50524a2",
      "8b9822ab51be42c9871ffaa936ae7b2d",
      "97419f06706b4de480015e2d99ec72c7",
      "bf68946a6a40426a859e684a0ba851c1",
      "fe3ccd4ab8e64e40aca993bd6951947b",
      "524c672942a6418dbc9d7f529d7021f4"
     ]
    },
    "id": "7jfh4lOyMc5k",
    "outputId": "f1e78cf5-6827-4de1-f86b-d49f50dd92be"
   },
   "outputs": [
    {
     "data": {
      "application/vnd.jupyter.widget-view+json": {
       "model_id": "97f07e8727814777bc0e805b9fdcb481",
       "version_major": 2,
       "version_minor": 0
      },
      "text/plain": [
       "  0%|          | 0/6 [00:00<?, ?it/s]"
      ]
     },
     "metadata": {},
     "output_type": "display_data"
    },
    {
     "data": {
      "text/plain": [
       "Dataset({\n",
       "    features: ['author', 'title', 'description', 'likes', 'views', 'transcript', 'date', 'tags', 'text', 'embeddings'],\n",
       "    num_rows: 5140\n",
       "})"
      ]
     },
     "execution_count": 19,
     "metadata": {},
     "output_type": "execute_result"
    }
   ],
   "source": [
    "t5_dataset = load_from_disk(SOURCE_DIR+'/t5_embedded_dataset')\n",
    "t5_dataset.add_faiss_index(column=\"embeddings\")"
   ]
  },
  {
   "cell_type": "code",
   "execution_count": 20,
   "id": "3F78G6b6eQk-",
   "metadata": {
    "colab": {
     "base_uri": "https://localhost:8080/"
    },
    "id": "3F78G6b6eQk-",
    "outputId": "c40eb39a-e2ef-4329-9ae2-2b4f82b670f9"
   },
   "outputs": [
    {
     "data": {
      "text/plain": [
       "(1, 768)"
      ]
     },
     "execution_count": 20,
     "metadata": {},
     "output_type": "execute_result"
    }
   ],
   "source": [
    "# testing a query with get_embeddings\n",
    "query = \"canadian directors\"\n",
    "# query_embedding = get_embeddings([query]).cpu().detach().numpy()\n",
    "query_embedding = get_embeddings([query]).cpu().detach().numpy()\n",
    "query_embedding.shape"
   ]
  },
  {
   "cell_type": "code",
   "execution_count": 21,
   "id": "UUhubZACiOVK",
   "metadata": {
    "id": "UUhubZACiOVK"
   },
   "outputs": [],
   "source": [
    "# load the t5_dataset_with_sentence_embeddings\n",
    "import pandas as pd\n",
    "import numpy as np\n",
    "df = pd.DataFrame(t5_dataset[:])\n",
    "\n",
    "def get_embeddings_with_topic(topic):\n",
    "    \"\"\"\n",
    "    input: topic string\n",
    "    output: either the topic embeddings or an error\n",
    "    \"\"\"\n",
    "\n",
    "    # filter by topic\n",
    "    title = df[df['title'].str.contains(topic)].index\n",
    "    num_results = len(title)\n",
    "\n",
    "    # count the number of topics and return if it's not 1\n",
    "    if num_results != 1:\n",
    "        print(f\"Multiple search results were found for topic '{topic}'.\") if num_results else print(f\"No search results for topic '{topic}'.\")\n",
    "        print(\"Performing query search instead.\")\n",
    "        return None, topic\n",
    "\n",
    "    result = df.loc[title[0]].to_dict()\n",
    "    topic = f\"{result['title']} by {result['author']}\"\n",
    "\n",
    "    embedding = result['embeddings']\n",
    "    return np.array(embedding).reshape((1,768)), topic\n",
    "\n",
    "\n",
    "def get_recommendations(topic = None, query=None, num=3):\n",
    "    \"\"\"\n",
    "    input: a query asking for a topic recommendation\n",
    "    OR\n",
    "    input: one of the recommender topics\n",
    "    output: a list of the top 3 most relevant topics\n",
    "    \"\"\"\n",
    "    query_embedding = None\n",
    "    if topic:\n",
    "        # call a function to get the embeddings\n",
    "        query_embedding, topic = get_embeddings_with_topic(topic)\n",
    "        if query_embedding is None:\n",
    "            query = topic[:]\n",
    "            topic = None\n",
    "    if query:\n",
    "        print(f\"Searching the Ted Talk Database for recommendations based on the query '{query}'.\")\n",
    "        # embed the query with get_embeddings & conver to numpy\n",
    "        query_embedding = get_embeddings([query]).to('cpu').numpy()\n",
    "\n",
    "    # use get_nearest_example to get similar embeddings\n",
    "    scores, samples = t5_dataset.get_nearest_examples(\n",
    "        'embeddings',\n",
    "        query_embedding,\n",
    "        k=10)\n",
    "\n",
    "    # create a df with the results\n",
    "    samples_df = pd.DataFrame.from_dict(samples)\n",
    "    samples_df['scores'] = scores\n",
    "    print(len(samples_df))\n",
    "    samples_df = samples_df.sort_values('scores', ascending=False)[:num]\n",
    "\n",
    "    # print results\n",
    "    print(\"\\n\\nRecommendations based on\",\n",
    "          f\"the query '{query}'\\n\" if query else f\"the topic: '{topic}'\\n\"\n",
    "          )\n",
    "    for _, row in samples_df.iterrows():\n",
    "        print(f\"TITLE: {row.title}\")\n",
    "        print(f\"AUTHOR: {row.author}\")\n",
    "        print(f\"SCORE: {row.scores}\")\n",
    "        print(f\"DESCRIPTION: {row.description}\")\n",
    "        print(f\"TAGS: {row.tags}\")\n",
    "        print(f'TRANSCRIPT: {\" \".join(row.transcript.split(\" \")[:20])}')\n",
    "        print(\"============\")\n",
    "        print(\"\")"
   ]
  },
  {
   "cell_type": "code",
   "execution_count": null,
   "id": "EqDGyqqJqTP5",
   "metadata": {
    "id": "EqDGyqqJqTP5"
   },
   "outputs": [],
   "source": [
    "display(get_recommendations(topic=\"a liberating vision of identity\", num=5))\n",
    "get_recommendations(topic=\"stage fright\", num=3)"
   ]
  },
  {
   "cell_type": "code",
   "execution_count": null,
   "id": "7l6pJVGwCvhI",
   "metadata": {
    "id": "7l6pJVGwCvhI"
   },
   "outputs": [],
   "source": [
    "get_recommendations(topic=\"stage fright\", num=10)"
   ]
  },
  {
   "cell_type": "code",
   "execution_count": null,
   "id": "exVhtraMWfNe",
   "metadata": {
    "id": "exVhtraMWfNe"
   },
   "outputs": [],
   "source": [
    "get_recommendations(topic=\"climate change\", num=5)"
   ]
  },
  {
   "cell_type": "code",
   "execution_count": null,
   "id": "j27iPukEWihS",
   "metadata": {
    "id": "j27iPukEWihS"
   },
   "outputs": [],
   "source": [
    "get_recommendations(\"Nollywood movies\", num=10)"
   ]
  },
  {
   "cell_type": "markdown",
   "id": "i6poFY4mwc5O",
   "metadata": {
    "id": "i6poFY4mwc5O"
   },
   "source": [
    "# Run from here to test recommender engine"
   ]
  },
  {
   "cell_type": "code",
   "execution_count": 1,
   "id": "x11kHfp8t05U",
   "metadata": {
    "colab": {
     "base_uri": "https://localhost:8080/"
    },
    "id": "x11kHfp8t05U",
    "outputId": "6e8c3c24-2d88-42e0-f185-5d6a6c3d7ce3"
   },
   "outputs": [
    {
     "name": "stdout",
     "output_type": "stream",
     "text": [
      "Not in Colab environment. Some of the functionality will not work.\n",
      "Note: you may need to restart the kernel to use updated packages.\n"
     ]
    },
    {
     "data": {
      "application/vnd.jupyter.widget-view+json": {
       "model_id": "39468e96c0db425b990bb3b21b4df905",
       "version_major": 2,
       "version_minor": 0
      },
      "text/plain": [
       "  0%|          | 0/6 [00:00<?, ?it/s]"
      ]
     },
     "metadata": {},
     "output_type": "display_data"
    }
   ],
   "source": [
    "# load dataset and index\n",
    "try:\n",
    "    from datasets import load_from_disk\n",
    "except:\n",
    "    %pip install -q datasets\n",
    "    from datasets import load_from_disk\n",
    "\n",
    "try:\n",
    "    from google.colab import drive\n",
    "    drive.mount('/content/drive')\n",
    "    # get source file\n",
    "    !cp /content/drive/MyDrive/MLOPs_Projects/TED_Project/Data_output/T5/t5.py .\n",
    "    %pip install --upgrade faiss-gpu faiss-gpu -q\n",
    "except:\n",
    "    print(\"Not in Colab environment. Some of the functionality may not work.\")\n",
    "    %pip install --upgrade faiss-cpu -q\n",
    "\n",
    "# try:\n",
    "#     import faiss\n",
    "# except:\n",
    "#     %pip install --upgrade faiss-cpu faiss-gpu -q\n",
    "#     import faiss\n",
    "\n",
    "\n",
    "from t5 import *"
   ]
  },
  {
   "cell_type": "code",
   "execution_count": 2,
   "id": "2vdQY7Jivmbz",
   "metadata": {
    "colab": {
     "base_uri": "https://localhost:8080/"
    },
    "id": "2vdQY7Jivmbz",
    "outputId": "16fcca16-4b96-45a6-faa8-74746a8978f7"
   },
   "outputs": [
    {
     "name": "stdout",
     "output_type": "stream",
     "text": [
      "\n",
      "\n",
      "Recommendations based on the topic: 'how to fund real change in your community by Rebecca Darwent'\n",
      "\n",
      "TITLE: how to quickly scale up contact tracing across the us\n",
      "AUTHOR: Joia Mukherjee\n",
      "SCORE: 0.0006183923687785864\n",
      "DESCRIPTION: contact tracing  the process of identifying people who may have been exposed to the coronavirus in order to slow its spread  is a fundamental tool in the fight against covid19 how can we scale this critical work across the entire united states joia mukherjee chief medical officer of partners in health discusses how her team is working with public health agencies to ramp up contact tracing for the countrys most vulnerable communities  and shows why it will take a compassionate approach to be truly effective this ambitious plan is part of the audacious project teds initiative to inspire and fund global change the conversation hosted by head of ted chris anderson and current affairs curator whitney pennington rodgers was recorded may 27 2020\n",
      "TAGS: community, coronavirus, disease, equality, health, health_care, pandemic, public_health\n",
      "TRANSCRIPT: Chris Anderson: Joia, both you and Partners In Health have spent decades in various battlegrounds, battling epidemics. Perhaps, for context,\n",
      "============\n",
      "\n",
      "TITLE: how repaying loans with social service transforms communities\n",
      "AUTHOR: Angie Murimirwa\n",
      "SCORE: 0.0006075995624996722\n",
      "DESCRIPTION: what if you could repay loans through volunteering and mentorship instead of money activist angie murimirwa shares how a gamechanging economic tool known as social interest is reinvigorating subsaharan communities once trapped in cycles of poverty join her as she explains how this approach to lending is creating opportunities for thousands of african women and girls  and shows why this model can be replicated anywhere with lasting effects\n",
      "TAGS: business, economics, finance, investing, social_change, society, women, women_in_business\n",
      "TRANSCRIPT: Most of you will know about the challenges faced by my beloved continent, Africa. Too many people are poor. Millions\n",
      "============\n",
      "\n",
      "TITLE: you are the future of philanthropy\n",
      "AUTHOR: Katherine Fulton\n",
      "SCORE: 0.0006047791102901101\n",
      "DESCRIPTION: in this uplifting talk katherine fulton sketches the new future of philanthropy  one where collaboration and innovation allow regular people to do big things even when money is scarce giving five practical examples of crowddriven philanthropy she calls for a new generation of citizen leaders\n",
      "TAGS: activism, community, global_issues, philanthropy, potential\n",
      "TRANSCRIPT: I want to help you re-perceive what philanthropy is, what it could be, and what your relationship to it is.\n",
      "============\n",
      "\n",
      "TITLE: why we need to end the era of orphanages\n",
      "AUTHOR: Tara Winkler\n",
      "SCORE: 0.0005998684791848063\n",
      "DESCRIPTION: could it be wrong to help children in need by starting an orphanage in this eyeopening talk about the bad consequences of good intentions tara winkler speaks out against the spread of orphanages in developing countries caused in part by foreign donors and details the harm done to children when they are separated from their families and left to grow up in institutions\n",
      "TAGS: activism, family, kids, poverty, social_change, tedx\n",
      "TRANSCRIPT: These are some photos of me volunteering in a Cambodian orphanage in 2006. When these photos were taken, I thought\n",
      "============\n",
      "\n",
      "TITLE: to solve the worlds biggest problems invest in women and girls\n",
      "AUTHOR: Musimbi Kanyoro\n",
      "SCORE: 0.000596899539232254\n",
      "DESCRIPTION: as ceo of the global fund for women musimbi kanyoro works to support women and their ideas so they can expand and grow she introduces us to the maragoli concept of isirika  a pragmatic way of life that embraces the mutual responsibility to care for one another  something she sees women practicing all over the world and she calls for those who have more to give more to people working to improve their communities imagine what it would look like if you embraced isirika and made it your default kanyoro says what could we achieve for each other for humanity lets find out  together\n",
      "TAGS: activism, business, community, gender, investing, women, women_in_business\n",
      "TRANSCRIPT: My mother was a philanthropist. And now I know you're asking -- let me give you the answer: yes, a\n",
      "============\n",
      "\n",
      "TITLE: the way we think about charity is dead wrong\n",
      "AUTHOR: Dan Pallotta\n",
      "SCORE: 0.0005161048611626029\n",
      "DESCRIPTION: activist and fundraiser dan pallotta calls out the double standard that drives our broken relationship to charities too many nonprofits he says are rewarded for how little they spend  not for what they get done instead of equating frugality with morality he asks us to start rewarding charities for their big goals and big accomplishments even if that comes with big expenses in this bold talk he says lets change the way we think about changing the world\n",
      "TAGS: business, culture, global_issues, philanthropy\n",
      "TRANSCRIPT: I want to talk about social innovation and social entrepreneurship. I happen to have triplets. They're little. They're five years\n",
      "============\n",
      "\n",
      "TITLE: should you donate differently\n",
      "AUTHOR: Joy Sun\n",
      "SCORE: 0.0005147745832800865\n",
      "DESCRIPTION: technology allows us to give cash directly to the poorest people on the planet should we do it in this thoughtprovoking talk veteran aid worker joy sun explores two ways to help the poor\n",
      "TAGS: global_issues, money, ted_fellows\n",
      "TRANSCRIPT: I suspect that every aid worker in Africa comes to a time in her career when she wants to take\n",
      "============\n",
      "\n",
      "TITLE: 3 ways to be a more effective fundraiser\n",
      "AUTHOR: Kara Logan Berlin\n",
      "SCORE: 0.0004399587633088231\n",
      "DESCRIPTION: how do you raise money to get an idea off the ground support a community or help change the world take a crash course on the secret art of successful fundraising with development strategist kara logan berlin as she shows how you can learn to ask for the resources you need  and get them too\n",
      "TAGS: activism, economics, finance, investing, money, social_change, tedx\n",
      "TRANSCRIPT: I'm here today to talk about fundraising, or as you probably think of it, 'the other F-word.' (Laughter) Because if\n",
      "============\n",
      "\n",
      "TITLE: your invitation to disrupt philanthropy\n",
      "AUTHOR: Sara Lomelin\n",
      "SCORE: 0.00042704923544079065\n",
      "DESCRIPTION: philanthropy disruptor sara lomelin thinks communities can build power through collective giving and the model of giving circles groups of people with shared values who come together to make change strengthen their social fabric and help diverse solutions get funded learn the four steps to start a thriving giving circle in your community  and see how thousands of people worldwide are already part of this movement to usher in a new era of philanthropy that is democratic and joyful\n",
      "TAGS: activism, community, inclusion, leadership, philanthropy, social_change, society\n",
      "TRANSCRIPT: I want to invite you over for dinner at my house. When you walk in, there are chairs cramped everywhere,\n",
      "============\n",
      "\n",
      "TITLE: how to fund real change in your community\n",
      "AUTHOR: Rebecca Darwent\n",
      "SCORE: 0.0\n",
      "DESCRIPTION: is there a way to give back that benefits everyone citing the success of collective giving practices from around the world philanthropic advisor rebecca darwent asks donors to let communities lead decisionmaking ushering in a new era of philanthropy thats rooted in interconnected humanity\n",
      "TAGS: business, community, equality, humanity, money, philanthropy, race\n",
      "TRANSCRIPT: I spent my whole career in the nonprofit sector. Street outreach, program management, fundraising, grant making, public policy, you name\n",
      "============\n",
      "\n"
     ]
    }
   ],
   "source": [
    "get_recommendations(\"how to fund real change in your community\", num=10)"
   ]
  },
  {
   "cell_type": "code",
   "execution_count": 10,
   "id": "uPVKGhf8voEz",
   "metadata": {
    "id": "uPVKGhf8voEz"
   },
   "outputs": [],
   "source": []
  },
  {
   "cell_type": "code",
   "execution_count": null,
   "id": "eT09O4WCw1zV",
   "metadata": {
    "id": "eT09O4WCw1zV"
   },
   "outputs": [],
   "source": []
  }
 ],
 "metadata": {
  "accelerator": "GPU",
  "colab": {
   "gpuType": "T4",
   "provenance": []
  },
  "kernelspec": {
   "display_name": "Python 3 (ipykernel)",
   "language": "python",
   "name": "python3"
  },
  "language_info": {
   "codemirror_mode": {
    "name": "ipython",
    "version": 3
   },
   "file_extension": ".py",
   "mimetype": "text/x-python",
   "name": "python",
   "nbconvert_exporter": "python",
   "pygments_lexer": "ipython3",
   "version": "3.11.4"
  },
  "widgets": {
   "application/vnd.jupyter.widget-state+json": {
    "00fb52d4ece74effb52b9352a385f5a6": {
     "model_module": "@jupyter-widgets/controls",
     "model_module_version": "1.5.0",
     "model_name": "HTMLModel",
     "state": {
      "_dom_classes": [],
      "_model_module": "@jupyter-widgets/controls",
      "_model_module_version": "1.5.0",
      "_model_name": "HTMLModel",
      "_view_count": null,
      "_view_module": "@jupyter-widgets/controls",
      "_view_module_version": "1.5.0",
      "_view_name": "HTMLView",
      "description": "",
      "description_tooltip": null,
      "layout": "IPY_MODEL_c6ecd400f4024d2abad074c954ae5ebc",
      "placeholder": "​",
      "style": "IPY_MODEL_8856ead017484bb499958eb8bc6059e4",
      "value": " 5140/5140 [00:00&lt;00:00, 25283.38 examples/s]"
     }
    },
    "0345376ff1ed481ab3f175753827d557": {
     "model_module": "@jupyter-widgets/base",
     "model_module_version": "1.2.0",
     "model_name": "LayoutModel",
     "state": {
      "_model_module": "@jupyter-widgets/base",
      "_model_module_version": "1.2.0",
      "_model_name": "LayoutModel",
      "_view_count": null,
      "_view_module": "@jupyter-widgets/base",
      "_view_module_version": "1.2.0",
      "_view_name": "LayoutView",
      "align_content": null,
      "align_items": null,
      "align_self": null,
      "border": null,
      "bottom": null,
      "display": null,
      "flex": null,
      "flex_flow": null,
      "grid_area": null,
      "grid_auto_columns": null,
      "grid_auto_flow": null,
      "grid_auto_rows": null,
      "grid_column": null,
      "grid_gap": null,
      "grid_row": null,
      "grid_template_areas": null,
      "grid_template_columns": null,
      "grid_template_rows": null,
      "height": null,
      "justify_content": null,
      "justify_items": null,
      "left": null,
      "margin": null,
      "max_height": null,
      "max_width": null,
      "min_height": null,
      "min_width": null,
      "object_fit": null,
      "object_position": null,
      "order": null,
      "overflow": null,
      "overflow_x": null,
      "overflow_y": null,
      "padding": null,
      "right": null,
      "top": null,
      "visibility": null,
      "width": null
     }
    },
    "09480822fa5443c3a2cb473ff5ebbdda": {
     "model_module": "@jupyter-widgets/controls",
     "model_module_version": "1.5.0",
     "model_name": "HBoxModel",
     "state": {
      "_dom_classes": [],
      "_model_module": "@jupyter-widgets/controls",
      "_model_module_version": "1.5.0",
      "_model_name": "HBoxModel",
      "_view_count": null,
      "_view_module": "@jupyter-widgets/controls",
      "_view_module_version": "1.5.0",
      "_view_name": "HBoxView",
      "box_style": "",
      "children": [
       "IPY_MODEL_34a354c3c4b64a6983c285e60852ca0c",
       "IPY_MODEL_1b12591109e740689ee79df9f62dcc66",
       "IPY_MODEL_0c2b4fb71ea24043ade4f8eb28bc1d78"
      ],
      "layout": "IPY_MODEL_c07bee8b49bf4f2896d3c95b9b3b6876"
     }
    },
    "0c2b4fb71ea24043ade4f8eb28bc1d78": {
     "model_module": "@jupyter-widgets/controls",
     "model_module_version": "1.5.0",
     "model_name": "HTMLModel",
     "state": {
      "_dom_classes": [],
      "_model_module": "@jupyter-widgets/controls",
      "_model_module_version": "1.5.0",
      "_model_name": "HTMLModel",
      "_view_count": null,
      "_view_module": "@jupyter-widgets/controls",
      "_view_module_version": "1.5.0",
      "_view_name": "HTMLView",
      "description": "",
      "description_tooltip": null,
      "layout": "IPY_MODEL_19bf9ff7b75a45d2a86b8a2c174bed08",
      "placeholder": "​",
      "style": "IPY_MODEL_70c67ee90f9140f1bae0af5d94395875",
      "value": " 5140/5140 [05:11&lt;00:00, 16.86 examples/s]"
     }
    },
    "0f45b6e65c344c7a8744f9b1f2d7ee1c": {
     "model_module": "@jupyter-widgets/base",
     "model_module_version": "1.2.0",
     "model_name": "LayoutModel",
     "state": {
      "_model_module": "@jupyter-widgets/base",
      "_model_module_version": "1.2.0",
      "_model_name": "LayoutModel",
      "_view_count": null,
      "_view_module": "@jupyter-widgets/base",
      "_view_module_version": "1.2.0",
      "_view_name": "LayoutView",
      "align_content": null,
      "align_items": null,
      "align_self": null,
      "border": null,
      "bottom": null,
      "display": null,
      "flex": null,
      "flex_flow": null,
      "grid_area": null,
      "grid_auto_columns": null,
      "grid_auto_flow": null,
      "grid_auto_rows": null,
      "grid_column": null,
      "grid_gap": null,
      "grid_row": null,
      "grid_template_areas": null,
      "grid_template_columns": null,
      "grid_template_rows": null,
      "height": null,
      "justify_content": null,
      "justify_items": null,
      "left": null,
      "margin": null,
      "max_height": null,
      "max_width": null,
      "min_height": null,
      "min_width": null,
      "object_fit": null,
      "object_position": null,
      "order": null,
      "overflow": null,
      "overflow_x": null,
      "overflow_y": null,
      "padding": null,
      "right": null,
      "top": null,
      "visibility": null,
      "width": null
     }
    },
    "12133795942f48858b01cffbc009aad6": {
     "model_module": "@jupyter-widgets/controls",
     "model_module_version": "1.5.0",
     "model_name": "HTMLModel",
     "state": {
      "_dom_classes": [],
      "_model_module": "@jupyter-widgets/controls",
      "_model_module_version": "1.5.0",
      "_model_name": "HTMLModel",
      "_view_count": null,
      "_view_module": "@jupyter-widgets/controls",
      "_view_module_version": "1.5.0",
      "_view_name": "HTMLView",
      "description": "",
      "description_tooltip": null,
      "layout": "IPY_MODEL_2a001968703c4666b1711078e99de615",
      "placeholder": "​",
      "style": "IPY_MODEL_205f18c7584a4d879e6d23543a384259",
      "value": " 5140/5140 [00:00&lt;00:00, 13404.03 examples/s]"
     }
    },
    "171a21bf6bf441d8b47fad18bd56aea0": {
     "model_module": "@jupyter-widgets/controls",
     "model_module_version": "1.5.0",
     "model_name": "DescriptionStyleModel",
     "state": {
      "_model_module": "@jupyter-widgets/controls",
      "_model_module_version": "1.5.0",
      "_model_name": "DescriptionStyleModel",
      "_view_count": null,
      "_view_module": "@jupyter-widgets/base",
      "_view_module_version": "1.2.0",
      "_view_name": "StyleView",
      "description_width": ""
     }
    },
    "19bf9ff7b75a45d2a86b8a2c174bed08": {
     "model_module": "@jupyter-widgets/base",
     "model_module_version": "1.2.0",
     "model_name": "LayoutModel",
     "state": {
      "_model_module": "@jupyter-widgets/base",
      "_model_module_version": "1.2.0",
      "_model_name": "LayoutModel",
      "_view_count": null,
      "_view_module": "@jupyter-widgets/base",
      "_view_module_version": "1.2.0",
      "_view_name": "LayoutView",
      "align_content": null,
      "align_items": null,
      "align_self": null,
      "border": null,
      "bottom": null,
      "display": null,
      "flex": null,
      "flex_flow": null,
      "grid_area": null,
      "grid_auto_columns": null,
      "grid_auto_flow": null,
      "grid_auto_rows": null,
      "grid_column": null,
      "grid_gap": null,
      "grid_row": null,
      "grid_template_areas": null,
      "grid_template_columns": null,
      "grid_template_rows": null,
      "height": null,
      "justify_content": null,
      "justify_items": null,
      "left": null,
      "margin": null,
      "max_height": null,
      "max_width": null,
      "min_height": null,
      "min_width": null,
      "object_fit": null,
      "object_position": null,
      "order": null,
      "overflow": null,
      "overflow_x": null,
      "overflow_y": null,
      "padding": null,
      "right": null,
      "top": null,
      "visibility": null,
      "width": null
     }
    },
    "1a68cea4fa8749038d372246b985b54d": {
     "model_module": "@jupyter-widgets/controls",
     "model_module_version": "1.5.0",
     "model_name": "ProgressStyleModel",
     "state": {
      "_model_module": "@jupyter-widgets/controls",
      "_model_module_version": "1.5.0",
      "_model_name": "ProgressStyleModel",
      "_view_count": null,
      "_view_module": "@jupyter-widgets/base",
      "_view_module_version": "1.2.0",
      "_view_name": "StyleView",
      "bar_color": null,
      "description_width": ""
     }
    },
    "1b12591109e740689ee79df9f62dcc66": {
     "model_module": "@jupyter-widgets/controls",
     "model_module_version": "1.5.0",
     "model_name": "FloatProgressModel",
     "state": {
      "_dom_classes": [],
      "_model_module": "@jupyter-widgets/controls",
      "_model_module_version": "1.5.0",
      "_model_name": "FloatProgressModel",
      "_view_count": null,
      "_view_module": "@jupyter-widgets/controls",
      "_view_module_version": "1.5.0",
      "_view_name": "ProgressView",
      "bar_style": "success",
      "description": "",
      "description_tooltip": null,
      "layout": "IPY_MODEL_5975ca54d3cb4b3b83e7c789daabf4d2",
      "max": 5140,
      "min": 0,
      "orientation": "horizontal",
      "style": "IPY_MODEL_59c08f1e998f468bb7785e5ec2b7154c",
      "value": 5140
     }
    },
    "1dd78ec7c819442babd9002232f4bb68": {
     "model_module": "@jupyter-widgets/controls",
     "model_module_version": "1.5.0",
     "model_name": "DescriptionStyleModel",
     "state": {
      "_model_module": "@jupyter-widgets/controls",
      "_model_module_version": "1.5.0",
      "_model_name": "DescriptionStyleModel",
      "_view_count": null,
      "_view_module": "@jupyter-widgets/base",
      "_view_module_version": "1.2.0",
      "_view_name": "StyleView",
      "description_width": ""
     }
    },
    "205f18c7584a4d879e6d23543a384259": {
     "model_module": "@jupyter-widgets/controls",
     "model_module_version": "1.5.0",
     "model_name": "DescriptionStyleModel",
     "state": {
      "_model_module": "@jupyter-widgets/controls",
      "_model_module_version": "1.5.0",
      "_model_name": "DescriptionStyleModel",
      "_view_count": null,
      "_view_module": "@jupyter-widgets/base",
      "_view_module_version": "1.2.0",
      "_view_name": "StyleView",
      "description_width": ""
     }
    },
    "2a001968703c4666b1711078e99de615": {
     "model_module": "@jupyter-widgets/base",
     "model_module_version": "1.2.0",
     "model_name": "LayoutModel",
     "state": {
      "_model_module": "@jupyter-widgets/base",
      "_model_module_version": "1.2.0",
      "_model_name": "LayoutModel",
      "_view_count": null,
      "_view_module": "@jupyter-widgets/base",
      "_view_module_version": "1.2.0",
      "_view_name": "LayoutView",
      "align_content": null,
      "align_items": null,
      "align_self": null,
      "border": null,
      "bottom": null,
      "display": null,
      "flex": null,
      "flex_flow": null,
      "grid_area": null,
      "grid_auto_columns": null,
      "grid_auto_flow": null,
      "grid_auto_rows": null,
      "grid_column": null,
      "grid_gap": null,
      "grid_row": null,
      "grid_template_areas": null,
      "grid_template_columns": null,
      "grid_template_rows": null,
      "height": null,
      "justify_content": null,
      "justify_items": null,
      "left": null,
      "margin": null,
      "max_height": null,
      "max_width": null,
      "min_height": null,
      "min_width": null,
      "object_fit": null,
      "object_position": null,
      "order": null,
      "overflow": null,
      "overflow_x": null,
      "overflow_y": null,
      "padding": null,
      "right": null,
      "top": null,
      "visibility": null,
      "width": null
     }
    },
    "2f0cfc87f3314ee5940ea70b65a3caf9": {
     "model_module": "@jupyter-widgets/controls",
     "model_module_version": "1.5.0",
     "model_name": "HBoxModel",
     "state": {
      "_dom_classes": [],
      "_model_module": "@jupyter-widgets/controls",
      "_model_module_version": "1.5.0",
      "_model_name": "HBoxModel",
      "_view_count": null,
      "_view_module": "@jupyter-widgets/controls",
      "_view_module_version": "1.5.0",
      "_view_name": "HBoxView",
      "box_style": "",
      "children": [
       "IPY_MODEL_78904179b0394c47a0ddbc22579b3c19",
       "IPY_MODEL_a2ad497a49fc48d1851c0b89fc719cb8",
       "IPY_MODEL_00fb52d4ece74effb52b9352a385f5a6"
      ],
      "layout": "IPY_MODEL_74c863cf86ff4c3fb14d6442f470e66c"
     }
    },
    "314e26cfb8c64cb7b0737004732d06ed": {
     "model_module": "@jupyter-widgets/controls",
     "model_module_version": "1.5.0",
     "model_name": "HTMLModel",
     "state": {
      "_dom_classes": [],
      "_model_module": "@jupyter-widgets/controls",
      "_model_module_version": "1.5.0",
      "_model_name": "HTMLModel",
      "_view_count": null,
      "_view_module": "@jupyter-widgets/controls",
      "_view_module_version": "1.5.0",
      "_view_name": "HTMLView",
      "description": "",
      "description_tooltip": null,
      "layout": "IPY_MODEL_3706e812a27d4b969de6bb96d50524a2",
      "placeholder": "​",
      "style": "IPY_MODEL_8b9822ab51be42c9871ffaa936ae7b2d",
      "value": "100%"
     }
    },
    "34a354c3c4b64a6983c285e60852ca0c": {
     "model_module": "@jupyter-widgets/controls",
     "model_module_version": "1.5.0",
     "model_name": "HTMLModel",
     "state": {
      "_dom_classes": [],
      "_model_module": "@jupyter-widgets/controls",
      "_model_module_version": "1.5.0",
      "_model_name": "HTMLModel",
      "_view_count": null,
      "_view_module": "@jupyter-widgets/controls",
      "_view_module_version": "1.5.0",
      "_view_name": "HTMLView",
      "description": "",
      "description_tooltip": null,
      "layout": "IPY_MODEL_a2c3267e762646578e4c69a78bcfda91",
      "placeholder": "​",
      "style": "IPY_MODEL_763779816bed45aa879654279239009e",
      "value": "Map: 100%"
     }
    },
    "3706e812a27d4b969de6bb96d50524a2": {
     "model_module": "@jupyter-widgets/base",
     "model_module_version": "1.2.0",
     "model_name": "LayoutModel",
     "state": {
      "_model_module": "@jupyter-widgets/base",
      "_model_module_version": "1.2.0",
      "_model_name": "LayoutModel",
      "_view_count": null,
      "_view_module": "@jupyter-widgets/base",
      "_view_module_version": "1.2.0",
      "_view_name": "LayoutView",
      "align_content": null,
      "align_items": null,
      "align_self": null,
      "border": null,
      "bottom": null,
      "display": null,
      "flex": null,
      "flex_flow": null,
      "grid_area": null,
      "grid_auto_columns": null,
      "grid_auto_flow": null,
      "grid_auto_rows": null,
      "grid_column": null,
      "grid_gap": null,
      "grid_row": null,
      "grid_template_areas": null,
      "grid_template_columns": null,
      "grid_template_rows": null,
      "height": null,
      "justify_content": null,
      "justify_items": null,
      "left": null,
      "margin": null,
      "max_height": null,
      "max_width": null,
      "min_height": null,
      "min_width": null,
      "object_fit": null,
      "object_position": null,
      "order": null,
      "overflow": null,
      "overflow_x": null,
      "overflow_y": null,
      "padding": null,
      "right": null,
      "top": null,
      "visibility": null,
      "width": null
     }
    },
    "524c672942a6418dbc9d7f529d7021f4": {
     "model_module": "@jupyter-widgets/controls",
     "model_module_version": "1.5.0",
     "model_name": "DescriptionStyleModel",
     "state": {
      "_model_module": "@jupyter-widgets/controls",
      "_model_module_version": "1.5.0",
      "_model_name": "DescriptionStyleModel",
      "_view_count": null,
      "_view_module": "@jupyter-widgets/base",
      "_view_module_version": "1.2.0",
      "_view_name": "StyleView",
      "description_width": ""
     }
    },
    "54e79cafe5db419d87de9de24e2c609f": {
     "model_module": "@jupyter-widgets/controls",
     "model_module_version": "1.5.0",
     "model_name": "ProgressStyleModel",
     "state": {
      "_model_module": "@jupyter-widgets/controls",
      "_model_module_version": "1.5.0",
      "_model_name": "ProgressStyleModel",
      "_view_count": null,
      "_view_module": "@jupyter-widgets/base",
      "_view_module_version": "1.2.0",
      "_view_name": "StyleView",
      "bar_color": null,
      "description_width": ""
     }
    },
    "5975ca54d3cb4b3b83e7c789daabf4d2": {
     "model_module": "@jupyter-widgets/base",
     "model_module_version": "1.2.0",
     "model_name": "LayoutModel",
     "state": {
      "_model_module": "@jupyter-widgets/base",
      "_model_module_version": "1.2.0",
      "_model_name": "LayoutModel",
      "_view_count": null,
      "_view_module": "@jupyter-widgets/base",
      "_view_module_version": "1.2.0",
      "_view_name": "LayoutView",
      "align_content": null,
      "align_items": null,
      "align_self": null,
      "border": null,
      "bottom": null,
      "display": null,
      "flex": null,
      "flex_flow": null,
      "grid_area": null,
      "grid_auto_columns": null,
      "grid_auto_flow": null,
      "grid_auto_rows": null,
      "grid_column": null,
      "grid_gap": null,
      "grid_row": null,
      "grid_template_areas": null,
      "grid_template_columns": null,
      "grid_template_rows": null,
      "height": null,
      "justify_content": null,
      "justify_items": null,
      "left": null,
      "margin": null,
      "max_height": null,
      "max_width": null,
      "min_height": null,
      "min_width": null,
      "object_fit": null,
      "object_position": null,
      "order": null,
      "overflow": null,
      "overflow_x": null,
      "overflow_y": null,
      "padding": null,
      "right": null,
      "top": null,
      "visibility": null,
      "width": null
     }
    },
    "59c08f1e998f468bb7785e5ec2b7154c": {
     "model_module": "@jupyter-widgets/controls",
     "model_module_version": "1.5.0",
     "model_name": "ProgressStyleModel",
     "state": {
      "_model_module": "@jupyter-widgets/controls",
      "_model_module_version": "1.5.0",
      "_model_name": "ProgressStyleModel",
      "_view_count": null,
      "_view_module": "@jupyter-widgets/base",
      "_view_module_version": "1.2.0",
      "_view_name": "StyleView",
      "bar_color": null,
      "description_width": ""
     }
    },
    "62f1324ccd8349bdbd6609a4ab60828e": {
     "model_module": "@jupyter-widgets/controls",
     "model_module_version": "1.5.0",
     "model_name": "HBoxModel",
     "state": {
      "_dom_classes": [],
      "_model_module": "@jupyter-widgets/controls",
      "_model_module_version": "1.5.0",
      "_model_name": "HBoxModel",
      "_view_count": null,
      "_view_module": "@jupyter-widgets/controls",
      "_view_module_version": "1.5.0",
      "_view_name": "HBoxView",
      "box_style": "",
      "children": [
       "IPY_MODEL_97f91ec330f142648ef2442c29d89e40",
       "IPY_MODEL_95d4d6efc3a64f7986f81d97673ba3ee",
       "IPY_MODEL_b99af63a19b644589189a9291e29dddc"
      ],
      "layout": "IPY_MODEL_b122c3400b6940019f77595c21404a89"
     }
    },
    "64c6cd1163c145c881e4a4ec9b464ed7": {
     "model_module": "@jupyter-widgets/base",
     "model_module_version": "1.2.0",
     "model_name": "LayoutModel",
     "state": {
      "_model_module": "@jupyter-widgets/base",
      "_model_module_version": "1.2.0",
      "_model_name": "LayoutModel",
      "_view_count": null,
      "_view_module": "@jupyter-widgets/base",
      "_view_module_version": "1.2.0",
      "_view_name": "LayoutView",
      "align_content": null,
      "align_items": null,
      "align_self": null,
      "border": null,
      "bottom": null,
      "display": null,
      "flex": null,
      "flex_flow": null,
      "grid_area": null,
      "grid_auto_columns": null,
      "grid_auto_flow": null,
      "grid_auto_rows": null,
      "grid_column": null,
      "grid_gap": null,
      "grid_row": null,
      "grid_template_areas": null,
      "grid_template_columns": null,
      "grid_template_rows": null,
      "height": null,
      "justify_content": null,
      "justify_items": null,
      "left": null,
      "margin": null,
      "max_height": null,
      "max_width": null,
      "min_height": null,
      "min_width": null,
      "object_fit": null,
      "object_position": null,
      "order": null,
      "overflow": null,
      "overflow_x": null,
      "overflow_y": null,
      "padding": null,
      "right": null,
      "top": null,
      "visibility": null,
      "width": null
     }
    },
    "70c67ee90f9140f1bae0af5d94395875": {
     "model_module": "@jupyter-widgets/controls",
     "model_module_version": "1.5.0",
     "model_name": "DescriptionStyleModel",
     "state": {
      "_model_module": "@jupyter-widgets/controls",
      "_model_module_version": "1.5.0",
      "_model_name": "DescriptionStyleModel",
      "_view_count": null,
      "_view_module": "@jupyter-widgets/base",
      "_view_module_version": "1.2.0",
      "_view_name": "StyleView",
      "description_width": ""
     }
    },
    "74c863cf86ff4c3fb14d6442f470e66c": {
     "model_module": "@jupyter-widgets/base",
     "model_module_version": "1.2.0",
     "model_name": "LayoutModel",
     "state": {
      "_model_module": "@jupyter-widgets/base",
      "_model_module_version": "1.2.0",
      "_model_name": "LayoutModel",
      "_view_count": null,
      "_view_module": "@jupyter-widgets/base",
      "_view_module_version": "1.2.0",
      "_view_name": "LayoutView",
      "align_content": null,
      "align_items": null,
      "align_self": null,
      "border": null,
      "bottom": null,
      "display": null,
      "flex": null,
      "flex_flow": null,
      "grid_area": null,
      "grid_auto_columns": null,
      "grid_auto_flow": null,
      "grid_auto_rows": null,
      "grid_column": null,
      "grid_gap": null,
      "grid_row": null,
      "grid_template_areas": null,
      "grid_template_columns": null,
      "grid_template_rows": null,
      "height": null,
      "justify_content": null,
      "justify_items": null,
      "left": null,
      "margin": null,
      "max_height": null,
      "max_width": null,
      "min_height": null,
      "min_width": null,
      "object_fit": null,
      "object_position": null,
      "order": null,
      "overflow": null,
      "overflow_x": null,
      "overflow_y": null,
      "padding": null,
      "right": null,
      "top": null,
      "visibility": null,
      "width": null
     }
    },
    "7612d85966a4405489ed0c0dbb3eb804": {
     "model_module": "@jupyter-widgets/base",
     "model_module_version": "1.2.0",
     "model_name": "LayoutModel",
     "state": {
      "_model_module": "@jupyter-widgets/base",
      "_model_module_version": "1.2.0",
      "_model_name": "LayoutModel",
      "_view_count": null,
      "_view_module": "@jupyter-widgets/base",
      "_view_module_version": "1.2.0",
      "_view_name": "LayoutView",
      "align_content": null,
      "align_items": null,
      "align_self": null,
      "border": null,
      "bottom": null,
      "display": null,
      "flex": null,
      "flex_flow": null,
      "grid_area": null,
      "grid_auto_columns": null,
      "grid_auto_flow": null,
      "grid_auto_rows": null,
      "grid_column": null,
      "grid_gap": null,
      "grid_row": null,
      "grid_template_areas": null,
      "grid_template_columns": null,
      "grid_template_rows": null,
      "height": null,
      "justify_content": null,
      "justify_items": null,
      "left": null,
      "margin": null,
      "max_height": null,
      "max_width": null,
      "min_height": null,
      "min_width": null,
      "object_fit": null,
      "object_position": null,
      "order": null,
      "overflow": null,
      "overflow_x": null,
      "overflow_y": null,
      "padding": null,
      "right": null,
      "top": null,
      "visibility": null,
      "width": null
     }
    },
    "763779816bed45aa879654279239009e": {
     "model_module": "@jupyter-widgets/controls",
     "model_module_version": "1.5.0",
     "model_name": "DescriptionStyleModel",
     "state": {
      "_model_module": "@jupyter-widgets/controls",
      "_model_module_version": "1.5.0",
      "_model_name": "DescriptionStyleModel",
      "_view_count": null,
      "_view_module": "@jupyter-widgets/base",
      "_view_module_version": "1.2.0",
      "_view_name": "StyleView",
      "description_width": ""
     }
    },
    "78904179b0394c47a0ddbc22579b3c19": {
     "model_module": "@jupyter-widgets/controls",
     "model_module_version": "1.5.0",
     "model_name": "HTMLModel",
     "state": {
      "_dom_classes": [],
      "_model_module": "@jupyter-widgets/controls",
      "_model_module_version": "1.5.0",
      "_model_name": "HTMLModel",
      "_view_count": null,
      "_view_module": "@jupyter-widgets/controls",
      "_view_module_version": "1.5.0",
      "_view_name": "HTMLView",
      "description": "",
      "description_tooltip": null,
      "layout": "IPY_MODEL_866c6c176aee4f478fc1d2fe6f040b3b",
      "placeholder": "​",
      "style": "IPY_MODEL_1dd78ec7c819442babd9002232f4bb68",
      "value": "Saving the dataset (1/1 shards): 100%"
     }
    },
    "866c6c176aee4f478fc1d2fe6f040b3b": {
     "model_module": "@jupyter-widgets/base",
     "model_module_version": "1.2.0",
     "model_name": "LayoutModel",
     "state": {
      "_model_module": "@jupyter-widgets/base",
      "_model_module_version": "1.2.0",
      "_model_name": "LayoutModel",
      "_view_count": null,
      "_view_module": "@jupyter-widgets/base",
      "_view_module_version": "1.2.0",
      "_view_name": "LayoutView",
      "align_content": null,
      "align_items": null,
      "align_self": null,
      "border": null,
      "bottom": null,
      "display": null,
      "flex": null,
      "flex_flow": null,
      "grid_area": null,
      "grid_auto_columns": null,
      "grid_auto_flow": null,
      "grid_auto_rows": null,
      "grid_column": null,
      "grid_gap": null,
      "grid_row": null,
      "grid_template_areas": null,
      "grid_template_columns": null,
      "grid_template_rows": null,
      "height": null,
      "justify_content": null,
      "justify_items": null,
      "left": null,
      "margin": null,
      "max_height": null,
      "max_width": null,
      "min_height": null,
      "min_width": null,
      "object_fit": null,
      "object_position": null,
      "order": null,
      "overflow": null,
      "overflow_x": null,
      "overflow_y": null,
      "padding": null,
      "right": null,
      "top": null,
      "visibility": null,
      "width": null
     }
    },
    "8856ead017484bb499958eb8bc6059e4": {
     "model_module": "@jupyter-widgets/controls",
     "model_module_version": "1.5.0",
     "model_name": "DescriptionStyleModel",
     "state": {
      "_model_module": "@jupyter-widgets/controls",
      "_model_module_version": "1.5.0",
      "_model_name": "DescriptionStyleModel",
      "_view_count": null,
      "_view_module": "@jupyter-widgets/base",
      "_view_module_version": "1.2.0",
      "_view_name": "StyleView",
      "description_width": ""
     }
    },
    "8b9822ab51be42c9871ffaa936ae7b2d": {
     "model_module": "@jupyter-widgets/controls",
     "model_module_version": "1.5.0",
     "model_name": "DescriptionStyleModel",
     "state": {
      "_model_module": "@jupyter-widgets/controls",
      "_model_module_version": "1.5.0",
      "_model_name": "DescriptionStyleModel",
      "_view_count": null,
      "_view_module": "@jupyter-widgets/base",
      "_view_module_version": "1.2.0",
      "_view_name": "StyleView",
      "description_width": ""
     }
    },
    "906ebf324af34974909c38f52b7370ab": {
     "model_module": "@jupyter-widgets/controls",
     "model_module_version": "1.5.0",
     "model_name": "ProgressStyleModel",
     "state": {
      "_model_module": "@jupyter-widgets/controls",
      "_model_module_version": "1.5.0",
      "_model_name": "ProgressStyleModel",
      "_view_count": null,
      "_view_module": "@jupyter-widgets/base",
      "_view_module_version": "1.2.0",
      "_view_name": "StyleView",
      "bar_color": null,
      "description_width": ""
     }
    },
    "9192689d94d443cf925af3b3c8e2c8d2": {
     "model_module": "@jupyter-widgets/controls",
     "model_module_version": "1.5.0",
     "model_name": "DescriptionStyleModel",
     "state": {
      "_model_module": "@jupyter-widgets/controls",
      "_model_module_version": "1.5.0",
      "_model_name": "DescriptionStyleModel",
      "_view_count": null,
      "_view_module": "@jupyter-widgets/base",
      "_view_module_version": "1.2.0",
      "_view_name": "StyleView",
      "description_width": ""
     }
    },
    "95d4d6efc3a64f7986f81d97673ba3ee": {
     "model_module": "@jupyter-widgets/controls",
     "model_module_version": "1.5.0",
     "model_name": "FloatProgressModel",
     "state": {
      "_dom_classes": [],
      "_model_module": "@jupyter-widgets/controls",
      "_model_module_version": "1.5.0",
      "_model_name": "FloatProgressModel",
      "_view_count": null,
      "_view_module": "@jupyter-widgets/controls",
      "_view_module_version": "1.5.0",
      "_view_name": "ProgressView",
      "bar_style": "success",
      "description": "",
      "description_tooltip": null,
      "layout": "IPY_MODEL_7612d85966a4405489ed0c0dbb3eb804",
      "max": 5140,
      "min": 0,
      "orientation": "horizontal",
      "style": "IPY_MODEL_1a68cea4fa8749038d372246b985b54d",
      "value": 5140
     }
    },
    "97419f06706b4de480015e2d99ec72c7": {
     "model_module": "@jupyter-widgets/base",
     "model_module_version": "1.2.0",
     "model_name": "LayoutModel",
     "state": {
      "_model_module": "@jupyter-widgets/base",
      "_model_module_version": "1.2.0",
      "_model_name": "LayoutModel",
      "_view_count": null,
      "_view_module": "@jupyter-widgets/base",
      "_view_module_version": "1.2.0",
      "_view_name": "LayoutView",
      "align_content": null,
      "align_items": null,
      "align_self": null,
      "border": null,
      "bottom": null,
      "display": null,
      "flex": null,
      "flex_flow": null,
      "grid_area": null,
      "grid_auto_columns": null,
      "grid_auto_flow": null,
      "grid_auto_rows": null,
      "grid_column": null,
      "grid_gap": null,
      "grid_row": null,
      "grid_template_areas": null,
      "grid_template_columns": null,
      "grid_template_rows": null,
      "height": null,
      "justify_content": null,
      "justify_items": null,
      "left": null,
      "margin": null,
      "max_height": null,
      "max_width": null,
      "min_height": null,
      "min_width": null,
      "object_fit": null,
      "object_position": null,
      "order": null,
      "overflow": null,
      "overflow_x": null,
      "overflow_y": null,
      "padding": null,
      "right": null,
      "top": null,
      "visibility": null,
      "width": null
     }
    },
    "97f07e8727814777bc0e805b9fdcb481": {
     "model_module": "@jupyter-widgets/controls",
     "model_module_version": "1.5.0",
     "model_name": "HBoxModel",
     "state": {
      "_dom_classes": [],
      "_model_module": "@jupyter-widgets/controls",
      "_model_module_version": "1.5.0",
      "_model_name": "HBoxModel",
      "_view_count": null,
      "_view_module": "@jupyter-widgets/controls",
      "_view_module_version": "1.5.0",
      "_view_name": "HBoxView",
      "box_style": "",
      "children": [
       "IPY_MODEL_314e26cfb8c64cb7b0737004732d06ed",
       "IPY_MODEL_9dfc10dae61848a998b0543ad80cd43c",
       "IPY_MODEL_a92e29f1afca4af4ac593f0bf3893bfa"
      ],
      "layout": "IPY_MODEL_d336308ac2e24958947aa582a3ae22e6"
     }
    },
    "97f91ec330f142648ef2442c29d89e40": {
     "model_module": "@jupyter-widgets/controls",
     "model_module_version": "1.5.0",
     "model_name": "HTMLModel",
     "state": {
      "_dom_classes": [],
      "_model_module": "@jupyter-widgets/controls",
      "_model_module_version": "1.5.0",
      "_model_name": "HTMLModel",
      "_view_count": null,
      "_view_module": "@jupyter-widgets/controls",
      "_view_module_version": "1.5.0",
      "_view_name": "HTMLView",
      "description": "",
      "description_tooltip": null,
      "layout": "IPY_MODEL_64c6cd1163c145c881e4a4ec9b464ed7",
      "placeholder": "​",
      "style": "IPY_MODEL_171a21bf6bf441d8b47fad18bd56aea0",
      "value": "Map: 100%"
     }
    },
    "9dfc10dae61848a998b0543ad80cd43c": {
     "model_module": "@jupyter-widgets/controls",
     "model_module_version": "1.5.0",
     "model_name": "FloatProgressModel",
     "state": {
      "_dom_classes": [],
      "_model_module": "@jupyter-widgets/controls",
      "_model_module_version": "1.5.0",
      "_model_name": "FloatProgressModel",
      "_view_count": null,
      "_view_module": "@jupyter-widgets/controls",
      "_view_module_version": "1.5.0",
      "_view_name": "ProgressView",
      "bar_style": "success",
      "description": "",
      "description_tooltip": null,
      "layout": "IPY_MODEL_97419f06706b4de480015e2d99ec72c7",
      "max": 6,
      "min": 0,
      "orientation": "horizontal",
      "style": "IPY_MODEL_bf68946a6a40426a859e684a0ba851c1",
      "value": 6
     }
    },
    "a0ba10973bf24dd7850935bb59052e27": {
     "model_module": "@jupyter-widgets/base",
     "model_module_version": "1.2.0",
     "model_name": "LayoutModel",
     "state": {
      "_model_module": "@jupyter-widgets/base",
      "_model_module_version": "1.2.0",
      "_model_name": "LayoutModel",
      "_view_count": null,
      "_view_module": "@jupyter-widgets/base",
      "_view_module_version": "1.2.0",
      "_view_name": "LayoutView",
      "align_content": null,
      "align_items": null,
      "align_self": null,
      "border": null,
      "bottom": null,
      "display": null,
      "flex": null,
      "flex_flow": null,
      "grid_area": null,
      "grid_auto_columns": null,
      "grid_auto_flow": null,
      "grid_auto_rows": null,
      "grid_column": null,
      "grid_gap": null,
      "grid_row": null,
      "grid_template_areas": null,
      "grid_template_columns": null,
      "grid_template_rows": null,
      "height": null,
      "justify_content": null,
      "justify_items": null,
      "left": null,
      "margin": null,
      "max_height": null,
      "max_width": null,
      "min_height": null,
      "min_width": null,
      "object_fit": null,
      "object_position": null,
      "order": null,
      "overflow": null,
      "overflow_x": null,
      "overflow_y": null,
      "padding": null,
      "right": null,
      "top": null,
      "visibility": null,
      "width": null
     }
    },
    "a2ad497a49fc48d1851c0b89fc719cb8": {
     "model_module": "@jupyter-widgets/controls",
     "model_module_version": "1.5.0",
     "model_name": "FloatProgressModel",
     "state": {
      "_dom_classes": [],
      "_model_module": "@jupyter-widgets/controls",
      "_model_module_version": "1.5.0",
      "_model_name": "FloatProgressModel",
      "_view_count": null,
      "_view_module": "@jupyter-widgets/controls",
      "_view_module_version": "1.5.0",
      "_view_name": "ProgressView",
      "bar_style": "success",
      "description": "",
      "description_tooltip": null,
      "layout": "IPY_MODEL_dc213094625c491080ed4b8481a8bc5e",
      "max": 5140,
      "min": 0,
      "orientation": "horizontal",
      "style": "IPY_MODEL_54e79cafe5db419d87de9de24e2c609f",
      "value": 5140
     }
    },
    "a2c3267e762646578e4c69a78bcfda91": {
     "model_module": "@jupyter-widgets/base",
     "model_module_version": "1.2.0",
     "model_name": "LayoutModel",
     "state": {
      "_model_module": "@jupyter-widgets/base",
      "_model_module_version": "1.2.0",
      "_model_name": "LayoutModel",
      "_view_count": null,
      "_view_module": "@jupyter-widgets/base",
      "_view_module_version": "1.2.0",
      "_view_name": "LayoutView",
      "align_content": null,
      "align_items": null,
      "align_self": null,
      "border": null,
      "bottom": null,
      "display": null,
      "flex": null,
      "flex_flow": null,
      "grid_area": null,
      "grid_auto_columns": null,
      "grid_auto_flow": null,
      "grid_auto_rows": null,
      "grid_column": null,
      "grid_gap": null,
      "grid_row": null,
      "grid_template_areas": null,
      "grid_template_columns": null,
      "grid_template_rows": null,
      "height": null,
      "justify_content": null,
      "justify_items": null,
      "left": null,
      "margin": null,
      "max_height": null,
      "max_width": null,
      "min_height": null,
      "min_width": null,
      "object_fit": null,
      "object_position": null,
      "order": null,
      "overflow": null,
      "overflow_x": null,
      "overflow_y": null,
      "padding": null,
      "right": null,
      "top": null,
      "visibility": null,
      "width": null
     }
    },
    "a92e29f1afca4af4ac593f0bf3893bfa": {
     "model_module": "@jupyter-widgets/controls",
     "model_module_version": "1.5.0",
     "model_name": "HTMLModel",
     "state": {
      "_dom_classes": [],
      "_model_module": "@jupyter-widgets/controls",
      "_model_module_version": "1.5.0",
      "_model_name": "HTMLModel",
      "_view_count": null,
      "_view_module": "@jupyter-widgets/controls",
      "_view_module_version": "1.5.0",
      "_view_name": "HTMLView",
      "description": "",
      "description_tooltip": null,
      "layout": "IPY_MODEL_fe3ccd4ab8e64e40aca993bd6951947b",
      "placeholder": "​",
      "style": "IPY_MODEL_524c672942a6418dbc9d7f529d7021f4",
      "value": " 6/6 [00:00&lt;00:00, 80.61it/s]"
     }
    },
    "aaaa77820c4a415095e31f0f7fa0c909": {
     "model_module": "@jupyter-widgets/controls",
     "model_module_version": "1.5.0",
     "model_name": "HBoxModel",
     "state": {
      "_dom_classes": [],
      "_model_module": "@jupyter-widgets/controls",
      "_model_module_version": "1.5.0",
      "_model_name": "HBoxModel",
      "_view_count": null,
      "_view_module": "@jupyter-widgets/controls",
      "_view_module_version": "1.5.0",
      "_view_name": "HBoxView",
      "box_style": "",
      "children": [
       "IPY_MODEL_edfceb70738a4c2cb0d38a00e6bd0d55",
       "IPY_MODEL_fbb63b6eebf04aefb0ffacf7de96362e",
       "IPY_MODEL_12133795942f48858b01cffbc009aad6"
      ],
      "layout": "IPY_MODEL_a0ba10973bf24dd7850935bb59052e27"
     }
    },
    "b122c3400b6940019f77595c21404a89": {
     "model_module": "@jupyter-widgets/base",
     "model_module_version": "1.2.0",
     "model_name": "LayoutModel",
     "state": {
      "_model_module": "@jupyter-widgets/base",
      "_model_module_version": "1.2.0",
      "_model_name": "LayoutModel",
      "_view_count": null,
      "_view_module": "@jupyter-widgets/base",
      "_view_module_version": "1.2.0",
      "_view_name": "LayoutView",
      "align_content": null,
      "align_items": null,
      "align_self": null,
      "border": null,
      "bottom": null,
      "display": null,
      "flex": null,
      "flex_flow": null,
      "grid_area": null,
      "grid_auto_columns": null,
      "grid_auto_flow": null,
      "grid_auto_rows": null,
      "grid_column": null,
      "grid_gap": null,
      "grid_row": null,
      "grid_template_areas": null,
      "grid_template_columns": null,
      "grid_template_rows": null,
      "height": null,
      "justify_content": null,
      "justify_items": null,
      "left": null,
      "margin": null,
      "max_height": null,
      "max_width": null,
      "min_height": null,
      "min_width": null,
      "object_fit": null,
      "object_position": null,
      "order": null,
      "overflow": null,
      "overflow_x": null,
      "overflow_y": null,
      "padding": null,
      "right": null,
      "top": null,
      "visibility": null,
      "width": null
     }
    },
    "b99af63a19b644589189a9291e29dddc": {
     "model_module": "@jupyter-widgets/controls",
     "model_module_version": "1.5.0",
     "model_name": "HTMLModel",
     "state": {
      "_dom_classes": [],
      "_model_module": "@jupyter-widgets/controls",
      "_model_module_version": "1.5.0",
      "_model_name": "HTMLModel",
      "_view_count": null,
      "_view_module": "@jupyter-widgets/controls",
      "_view_module_version": "1.5.0",
      "_view_name": "HTMLView",
      "description": "",
      "description_tooltip": null,
      "layout": "IPY_MODEL_0f45b6e65c344c7a8744f9b1f2d7ee1c",
      "placeholder": "​",
      "style": "IPY_MODEL_bc4f4fabd4394dda90bc07789ee4fc4e",
      "value": " 5140/5140 [00:01&lt;00:00, 5059.08 examples/s]"
     }
    },
    "bc4f4fabd4394dda90bc07789ee4fc4e": {
     "model_module": "@jupyter-widgets/controls",
     "model_module_version": "1.5.0",
     "model_name": "DescriptionStyleModel",
     "state": {
      "_model_module": "@jupyter-widgets/controls",
      "_model_module_version": "1.5.0",
      "_model_name": "DescriptionStyleModel",
      "_view_count": null,
      "_view_module": "@jupyter-widgets/base",
      "_view_module_version": "1.2.0",
      "_view_name": "StyleView",
      "description_width": ""
     }
    },
    "bf68946a6a40426a859e684a0ba851c1": {
     "model_module": "@jupyter-widgets/controls",
     "model_module_version": "1.5.0",
     "model_name": "ProgressStyleModel",
     "state": {
      "_model_module": "@jupyter-widgets/controls",
      "_model_module_version": "1.5.0",
      "_model_name": "ProgressStyleModel",
      "_view_count": null,
      "_view_module": "@jupyter-widgets/base",
      "_view_module_version": "1.2.0",
      "_view_name": "StyleView",
      "bar_color": null,
      "description_width": ""
     }
    },
    "c07bee8b49bf4f2896d3c95b9b3b6876": {
     "model_module": "@jupyter-widgets/base",
     "model_module_version": "1.2.0",
     "model_name": "LayoutModel",
     "state": {
      "_model_module": "@jupyter-widgets/base",
      "_model_module_version": "1.2.0",
      "_model_name": "LayoutModel",
      "_view_count": null,
      "_view_module": "@jupyter-widgets/base",
      "_view_module_version": "1.2.0",
      "_view_name": "LayoutView",
      "align_content": null,
      "align_items": null,
      "align_self": null,
      "border": null,
      "bottom": null,
      "display": null,
      "flex": null,
      "flex_flow": null,
      "grid_area": null,
      "grid_auto_columns": null,
      "grid_auto_flow": null,
      "grid_auto_rows": null,
      "grid_column": null,
      "grid_gap": null,
      "grid_row": null,
      "grid_template_areas": null,
      "grid_template_columns": null,
      "grid_template_rows": null,
      "height": null,
      "justify_content": null,
      "justify_items": null,
      "left": null,
      "margin": null,
      "max_height": null,
      "max_width": null,
      "min_height": null,
      "min_width": null,
      "object_fit": null,
      "object_position": null,
      "order": null,
      "overflow": null,
      "overflow_x": null,
      "overflow_y": null,
      "padding": null,
      "right": null,
      "top": null,
      "visibility": null,
      "width": null
     }
    },
    "c6ecd400f4024d2abad074c954ae5ebc": {
     "model_module": "@jupyter-widgets/base",
     "model_module_version": "1.2.0",
     "model_name": "LayoutModel",
     "state": {
      "_model_module": "@jupyter-widgets/base",
      "_model_module_version": "1.2.0",
      "_model_name": "LayoutModel",
      "_view_count": null,
      "_view_module": "@jupyter-widgets/base",
      "_view_module_version": "1.2.0",
      "_view_name": "LayoutView",
      "align_content": null,
      "align_items": null,
      "align_self": null,
      "border": null,
      "bottom": null,
      "display": null,
      "flex": null,
      "flex_flow": null,
      "grid_area": null,
      "grid_auto_columns": null,
      "grid_auto_flow": null,
      "grid_auto_rows": null,
      "grid_column": null,
      "grid_gap": null,
      "grid_row": null,
      "grid_template_areas": null,
      "grid_template_columns": null,
      "grid_template_rows": null,
      "height": null,
      "justify_content": null,
      "justify_items": null,
      "left": null,
      "margin": null,
      "max_height": null,
      "max_width": null,
      "min_height": null,
      "min_width": null,
      "object_fit": null,
      "object_position": null,
      "order": null,
      "overflow": null,
      "overflow_x": null,
      "overflow_y": null,
      "padding": null,
      "right": null,
      "top": null,
      "visibility": null,
      "width": null
     }
    },
    "d336308ac2e24958947aa582a3ae22e6": {
     "model_module": "@jupyter-widgets/base",
     "model_module_version": "1.2.0",
     "model_name": "LayoutModel",
     "state": {
      "_model_module": "@jupyter-widgets/base",
      "_model_module_version": "1.2.0",
      "_model_name": "LayoutModel",
      "_view_count": null,
      "_view_module": "@jupyter-widgets/base",
      "_view_module_version": "1.2.0",
      "_view_name": "LayoutView",
      "align_content": null,
      "align_items": null,
      "align_self": null,
      "border": null,
      "bottom": null,
      "display": null,
      "flex": null,
      "flex_flow": null,
      "grid_area": null,
      "grid_auto_columns": null,
      "grid_auto_flow": null,
      "grid_auto_rows": null,
      "grid_column": null,
      "grid_gap": null,
      "grid_row": null,
      "grid_template_areas": null,
      "grid_template_columns": null,
      "grid_template_rows": null,
      "height": null,
      "justify_content": null,
      "justify_items": null,
      "left": null,
      "margin": null,
      "max_height": null,
      "max_width": null,
      "min_height": null,
      "min_width": null,
      "object_fit": null,
      "object_position": null,
      "order": null,
      "overflow": null,
      "overflow_x": null,
      "overflow_y": null,
      "padding": null,
      "right": null,
      "top": null,
      "visibility": null,
      "width": null
     }
    },
    "dc213094625c491080ed4b8481a8bc5e": {
     "model_module": "@jupyter-widgets/base",
     "model_module_version": "1.2.0",
     "model_name": "LayoutModel",
     "state": {
      "_model_module": "@jupyter-widgets/base",
      "_model_module_version": "1.2.0",
      "_model_name": "LayoutModel",
      "_view_count": null,
      "_view_module": "@jupyter-widgets/base",
      "_view_module_version": "1.2.0",
      "_view_name": "LayoutView",
      "align_content": null,
      "align_items": null,
      "align_self": null,
      "border": null,
      "bottom": null,
      "display": null,
      "flex": null,
      "flex_flow": null,
      "grid_area": null,
      "grid_auto_columns": null,
      "grid_auto_flow": null,
      "grid_auto_rows": null,
      "grid_column": null,
      "grid_gap": null,
      "grid_row": null,
      "grid_template_areas": null,
      "grid_template_columns": null,
      "grid_template_rows": null,
      "height": null,
      "justify_content": null,
      "justify_items": null,
      "left": null,
      "margin": null,
      "max_height": null,
      "max_width": null,
      "min_height": null,
      "min_width": null,
      "object_fit": null,
      "object_position": null,
      "order": null,
      "overflow": null,
      "overflow_x": null,
      "overflow_y": null,
      "padding": null,
      "right": null,
      "top": null,
      "visibility": null,
      "width": null
     }
    },
    "edda437e12744b51a920b983b518265e": {
     "model_module": "@jupyter-widgets/base",
     "model_module_version": "1.2.0",
     "model_name": "LayoutModel",
     "state": {
      "_model_module": "@jupyter-widgets/base",
      "_model_module_version": "1.2.0",
      "_model_name": "LayoutModel",
      "_view_count": null,
      "_view_module": "@jupyter-widgets/base",
      "_view_module_version": "1.2.0",
      "_view_name": "LayoutView",
      "align_content": null,
      "align_items": null,
      "align_self": null,
      "border": null,
      "bottom": null,
      "display": null,
      "flex": null,
      "flex_flow": null,
      "grid_area": null,
      "grid_auto_columns": null,
      "grid_auto_flow": null,
      "grid_auto_rows": null,
      "grid_column": null,
      "grid_gap": null,
      "grid_row": null,
      "grid_template_areas": null,
      "grid_template_columns": null,
      "grid_template_rows": null,
      "height": null,
      "justify_content": null,
      "justify_items": null,
      "left": null,
      "margin": null,
      "max_height": null,
      "max_width": null,
      "min_height": null,
      "min_width": null,
      "object_fit": null,
      "object_position": null,
      "order": null,
      "overflow": null,
      "overflow_x": null,
      "overflow_y": null,
      "padding": null,
      "right": null,
      "top": null,
      "visibility": null,
      "width": null
     }
    },
    "edfceb70738a4c2cb0d38a00e6bd0d55": {
     "model_module": "@jupyter-widgets/controls",
     "model_module_version": "1.5.0",
     "model_name": "HTMLModel",
     "state": {
      "_dom_classes": [],
      "_model_module": "@jupyter-widgets/controls",
      "_model_module_version": "1.5.0",
      "_model_name": "HTMLModel",
      "_view_count": null,
      "_view_module": "@jupyter-widgets/controls",
      "_view_module_version": "1.5.0",
      "_view_name": "HTMLView",
      "description": "",
      "description_tooltip": null,
      "layout": "IPY_MODEL_edda437e12744b51a920b983b518265e",
      "placeholder": "​",
      "style": "IPY_MODEL_9192689d94d443cf925af3b3c8e2c8d2",
      "value": "Saving the dataset (1/1 shards): 100%"
     }
    },
    "fbb63b6eebf04aefb0ffacf7de96362e": {
     "model_module": "@jupyter-widgets/controls",
     "model_module_version": "1.5.0",
     "model_name": "FloatProgressModel",
     "state": {
      "_dom_classes": [],
      "_model_module": "@jupyter-widgets/controls",
      "_model_module_version": "1.5.0",
      "_model_name": "FloatProgressModel",
      "_view_count": null,
      "_view_module": "@jupyter-widgets/controls",
      "_view_module_version": "1.5.0",
      "_view_name": "ProgressView",
      "bar_style": "success",
      "description": "",
      "description_tooltip": null,
      "layout": "IPY_MODEL_0345376ff1ed481ab3f175753827d557",
      "max": 5140,
      "min": 0,
      "orientation": "horizontal",
      "style": "IPY_MODEL_906ebf324af34974909c38f52b7370ab",
      "value": 5140
     }
    },
    "fe3ccd4ab8e64e40aca993bd6951947b": {
     "model_module": "@jupyter-widgets/base",
     "model_module_version": "1.2.0",
     "model_name": "LayoutModel",
     "state": {
      "_model_module": "@jupyter-widgets/base",
      "_model_module_version": "1.2.0",
      "_model_name": "LayoutModel",
      "_view_count": null,
      "_view_module": "@jupyter-widgets/base",
      "_view_module_version": "1.2.0",
      "_view_name": "LayoutView",
      "align_content": null,
      "align_items": null,
      "align_self": null,
      "border": null,
      "bottom": null,
      "display": null,
      "flex": null,
      "flex_flow": null,
      "grid_area": null,
      "grid_auto_columns": null,
      "grid_auto_flow": null,
      "grid_auto_rows": null,
      "grid_column": null,
      "grid_gap": null,
      "grid_row": null,
      "grid_template_areas": null,
      "grid_template_columns": null,
      "grid_template_rows": null,
      "height": null,
      "justify_content": null,
      "justify_items": null,
      "left": null,
      "margin": null,
      "max_height": null,
      "max_width": null,
      "min_height": null,
      "min_width": null,
      "object_fit": null,
      "object_position": null,
      "order": null,
      "overflow": null,
      "overflow_x": null,
      "overflow_y": null,
      "padding": null,
      "right": null,
      "top": null,
      "visibility": null,
      "width": null
     }
    }
   }
  }
 },
 "nbformat": 4,
 "nbformat_minor": 5
}
