{
 "cells": [
  {
   "cell_type": "code",
   "execution_count": 8,
   "metadata": {},
   "outputs": [],
   "source": [
    "import numpy as np\n",
    "import pandas as pd\n",
    "import string\n",
    "from sklearn.metrics.pairwise import cosine_similarity\n",
    "from sklearn.metrics import mean_squared_error\n",
    "from sklearn.model_selection import train_test_split\n",
    "from sklearn.feature_extraction.text import TfidfVectorizer\n",
    "from sklearn.metrics.pairwise import linear_kernel\n",
    "from ast import literal_eval\n",
    "from sklearn.feature_extraction.text import CountVectorizer"
   ]
  },
  {
   "cell_type": "code",
   "execution_count": 2,
   "metadata": {},
   "outputs": [],
   "source": [
    "data = '/Users/patrickokwir/Desktop/Git_Projects/Ted-Talks-Recommender-System/Data_output/talks.csv'"
   ]
  },
  {
   "cell_type": "code",
   "execution_count": 21,
   "metadata": {},
   "outputs": [],
   "source": [
    "df = pd.read_csv(data, index_col=0)"
   ]
  },
  {
   "cell_type": "code",
   "execution_count": 22,
   "metadata": {},
   "outputs": [
    {
     "data": {
      "text/html": [
       "<div>\n",
       "<style scoped>\n",
       "    .dataframe tbody tr th:only-of-type {\n",
       "        vertical-align: middle;\n",
       "    }\n",
       "\n",
       "    .dataframe tbody tr th {\n",
       "        vertical-align: top;\n",
       "    }\n",
       "\n",
       "    .dataframe thead th {\n",
       "        text-align: right;\n",
       "    }\n",
       "</style>\n",
       "<table border=\"1\" class=\"dataframe\">\n",
       "  <thead>\n",
       "    <tr style=\"text-align: right;\">\n",
       "      <th></th>\n",
       "      <th>author</th>\n",
       "      <th>talk</th>\n",
       "      <th>description</th>\n",
       "      <th>likes</th>\n",
       "      <th>views</th>\n",
       "    </tr>\n",
       "  </thead>\n",
       "  <tbody>\n",
       "    <tr>\n",
       "      <th>0</th>\n",
       "      <td>Conor Russomanno</td>\n",
       "      <td>a powerful new neurotech tool for augmenting y...</td>\n",
       "      <td>in an astonishing talk and tech demo neurotech...</td>\n",
       "      <td>4700</td>\n",
       "      <td>157930</td>\n",
       "    </tr>\n",
       "    <tr>\n",
       "      <th>1</th>\n",
       "      <td>Peter Singer</td>\n",
       "      <td>a modern argument for the rights of animals</td>\n",
       "      <td>why do we prioritize human rights over those o...</td>\n",
       "      <td>7600</td>\n",
       "      <td>254482</td>\n",
       "    </tr>\n",
       "    <tr>\n",
       "      <th>2</th>\n",
       "      <td>Sahar Zand</td>\n",
       "      <td>why iranians are cutting their hair for woman ...</td>\n",
       "      <td>filmmaker sahar zand vividly explores the ongo...</td>\n",
       "      <td>1100</td>\n",
       "      <td>393882</td>\n",
       "    </tr>\n",
       "    <tr>\n",
       "      <th>3</th>\n",
       "      <td>Shannon Odell</td>\n",
       "      <td>are solar panels worth it</td>\n",
       "      <td>today in many countries solar is the cheapest ...</td>\n",
       "      <td>3700</td>\n",
       "      <td>126251</td>\n",
       "    </tr>\n",
       "    <tr>\n",
       "      <th>4</th>\n",
       "      <td>Angus Hervey</td>\n",
       "      <td>why are we so bad at reporting good news</td>\n",
       "      <td>why is good news so rare in a special broadcas...</td>\n",
       "      <td>1200</td>\n",
       "      <td>415329</td>\n",
       "    </tr>\n",
       "  </tbody>\n",
       "</table>\n",
       "</div>"
      ],
      "text/plain": [
       "             author                                               talk  \\\n",
       "0  Conor Russomanno  a powerful new neurotech tool for augmenting y...   \n",
       "1      Peter Singer        a modern argument for the rights of animals   \n",
       "2        Sahar Zand  why iranians are cutting their hair for woman ...   \n",
       "3     Shannon Odell                          are solar panels worth it   \n",
       "4      Angus Hervey           why are we so bad at reporting good news   \n",
       "\n",
       "                                         description  likes   views  \n",
       "0  in an astonishing talk and tech demo neurotech...   4700  157930  \n",
       "1  why do we prioritize human rights over those o...   7600  254482  \n",
       "2  filmmaker sahar zand vividly explores the ongo...   1100  393882  \n",
       "3  today in many countries solar is the cheapest ...   3700  126251  \n",
       "4  why is good news so rare in a special broadcas...   1200  415329  "
      ]
     },
     "execution_count": 22,
     "metadata": {},
     "output_type": "execute_result"
    }
   ],
   "source": [
    "df.head()"
   ]
  },
  {
   "cell_type": "code",
   "execution_count": 23,
   "metadata": {},
   "outputs": [],
   "source": [
    "# remove whitespaces from talk and description columns \n",
    "df['talk'] = df['talk'].str.strip()\n",
    "df['description'] = df['description'].str.strip()\n",
    "\n",
    "# remove stop words from talk and description columns \n",
    "from nltk.corpus import stopwords\n",
    "stop_words = set(stopwords.words('english'))\n",
    "df['talk'] = df['talk'].apply(lambda x: ' '.join([word for word in x.split() if word not in (stop_words)]))\n",
    "df['description'] = df['description'].apply(lambda x: ' '.join([word for word in x.split() if word not in (stop_words)]))\n",
    "\n",
    "# remove punctuations from talk and description columns\n",
    "df['talk'] = df['talk'].apply(lambda x: ' '.join([word for word in x.split() if word not in string.punctuation]))\n",
    "df['description'] = df['description'].apply(lambda x: ' '.join([word for word in x.split() if word not in string.punctuation]))\n",
    "\n",
    "# remove numbers from talk and description columns\n",
    "df['talk'] = df['talk'].apply(lambda x: ' '.join([word for word in x.split() if word not in string.digits]))\n",
    "df['description'] = df['description'].apply(lambda x: ' '.join([word for word in x.split() if word not in string.digits]))"
   ]
  },
  {
   "cell_type": "code",
   "execution_count": 24,
   "metadata": {},
   "outputs": [
    {
     "data": {
      "text/html": [
       "<div>\n",
       "<style scoped>\n",
       "    .dataframe tbody tr th:only-of-type {\n",
       "        vertical-align: middle;\n",
       "    }\n",
       "\n",
       "    .dataframe tbody tr th {\n",
       "        vertical-align: top;\n",
       "    }\n",
       "\n",
       "    .dataframe thead th {\n",
       "        text-align: right;\n",
       "    }\n",
       "</style>\n",
       "<table border=\"1\" class=\"dataframe\">\n",
       "  <thead>\n",
       "    <tr style=\"text-align: right;\">\n",
       "      <th></th>\n",
       "      <th>author</th>\n",
       "      <th>talk</th>\n",
       "      <th>description</th>\n",
       "      <th>likes</th>\n",
       "      <th>views</th>\n",
       "    </tr>\n",
       "  </thead>\n",
       "  <tbody>\n",
       "    <tr>\n",
       "      <th>0</th>\n",
       "      <td>Conor Russomanno</td>\n",
       "      <td>powerful new neurotech tool augmenting mind</td>\n",
       "      <td>astonishing talk tech demo neurotechnologist c...</td>\n",
       "      <td>4700</td>\n",
       "      <td>157930</td>\n",
       "    </tr>\n",
       "    <tr>\n",
       "      <th>1</th>\n",
       "      <td>Peter Singer</td>\n",
       "      <td>modern argument rights animals</td>\n",
       "      <td>prioritize human rights species philosopher pe...</td>\n",
       "      <td>7600</td>\n",
       "      <td>254482</td>\n",
       "    </tr>\n",
       "    <tr>\n",
       "      <th>2</th>\n",
       "      <td>Sahar Zand</td>\n",
       "      <td>iranians cutting hair woman life freedom</td>\n",
       "      <td>filmmaker sahar zand vividly explores ongoing ...</td>\n",
       "      <td>1100</td>\n",
       "      <td>393882</td>\n",
       "    </tr>\n",
       "    <tr>\n",
       "      <th>3</th>\n",
       "      <td>Shannon Odell</td>\n",
       "      <td>solar panels worth</td>\n",
       "      <td>today many countries solar cheapest form energ...</td>\n",
       "      <td>3700</td>\n",
       "      <td>126251</td>\n",
       "    </tr>\n",
       "    <tr>\n",
       "      <th>4</th>\n",
       "      <td>Angus Hervey</td>\n",
       "      <td>bad reporting good news</td>\n",
       "      <td>good news rare special broadcast ted stage jou...</td>\n",
       "      <td>1200</td>\n",
       "      <td>415329</td>\n",
       "    </tr>\n",
       "  </tbody>\n",
       "</table>\n",
       "</div>"
      ],
      "text/plain": [
       "             author                                         talk  \\\n",
       "0  Conor Russomanno  powerful new neurotech tool augmenting mind   \n",
       "1      Peter Singer               modern argument rights animals   \n",
       "2        Sahar Zand     iranians cutting hair woman life freedom   \n",
       "3     Shannon Odell                           solar panels worth   \n",
       "4      Angus Hervey                      bad reporting good news   \n",
       "\n",
       "                                         description  likes   views  \n",
       "0  astonishing talk tech demo neurotechnologist c...   4700  157930  \n",
       "1  prioritize human rights species philosopher pe...   7600  254482  \n",
       "2  filmmaker sahar zand vividly explores ongoing ...   1100  393882  \n",
       "3  today many countries solar cheapest form energ...   3700  126251  \n",
       "4  good news rare special broadcast ted stage jou...   1200  415329  "
      ]
     },
     "execution_count": 24,
     "metadata": {},
     "output_type": "execute_result"
    }
   ],
   "source": [
    "df.head()"
   ]
  },
  {
   "cell_type": "code",
   "execution_count": 25,
   "metadata": {},
   "outputs": [],
   "source": [
    "# create new column for metadata \n",
    "df['metadata'] = df['author'] + ' ' + df['talk']"
   ]
  },
  {
   "cell_type": "code",
   "execution_count": 26,
   "metadata": {},
   "outputs": [
    {
     "data": {
      "text/html": [
       "<div>\n",
       "<style scoped>\n",
       "    .dataframe tbody tr th:only-of-type {\n",
       "        vertical-align: middle;\n",
       "    }\n",
       "\n",
       "    .dataframe tbody tr th {\n",
       "        vertical-align: top;\n",
       "    }\n",
       "\n",
       "    .dataframe thead th {\n",
       "        text-align: right;\n",
       "    }\n",
       "</style>\n",
       "<table border=\"1\" class=\"dataframe\">\n",
       "  <thead>\n",
       "    <tr style=\"text-align: right;\">\n",
       "      <th></th>\n",
       "      <th>author</th>\n",
       "      <th>talk</th>\n",
       "      <th>description</th>\n",
       "      <th>likes</th>\n",
       "      <th>views</th>\n",
       "      <th>metadata</th>\n",
       "    </tr>\n",
       "  </thead>\n",
       "  <tbody>\n",
       "    <tr>\n",
       "      <th>0</th>\n",
       "      <td>Conor Russomanno</td>\n",
       "      <td>powerful new neurotech tool augmenting mind</td>\n",
       "      <td>astonishing talk tech demo neurotechnologist c...</td>\n",
       "      <td>4700</td>\n",
       "      <td>157930</td>\n",
       "      <td>Conor Russomanno powerful new neurotech tool a...</td>\n",
       "    </tr>\n",
       "    <tr>\n",
       "      <th>1</th>\n",
       "      <td>Peter Singer</td>\n",
       "      <td>modern argument rights animals</td>\n",
       "      <td>prioritize human rights species philosopher pe...</td>\n",
       "      <td>7600</td>\n",
       "      <td>254482</td>\n",
       "      <td>Peter Singer modern argument rights animals</td>\n",
       "    </tr>\n",
       "    <tr>\n",
       "      <th>2</th>\n",
       "      <td>Sahar Zand</td>\n",
       "      <td>iranians cutting hair woman life freedom</td>\n",
       "      <td>filmmaker sahar zand vividly explores ongoing ...</td>\n",
       "      <td>1100</td>\n",
       "      <td>393882</td>\n",
       "      <td>Sahar Zand iranians cutting hair woman life fr...</td>\n",
       "    </tr>\n",
       "    <tr>\n",
       "      <th>3</th>\n",
       "      <td>Shannon Odell</td>\n",
       "      <td>solar panels worth</td>\n",
       "      <td>today many countries solar cheapest form energ...</td>\n",
       "      <td>3700</td>\n",
       "      <td>126251</td>\n",
       "      <td>Shannon Odell solar panels worth</td>\n",
       "    </tr>\n",
       "    <tr>\n",
       "      <th>4</th>\n",
       "      <td>Angus Hervey</td>\n",
       "      <td>bad reporting good news</td>\n",
       "      <td>good news rare special broadcast ted stage jou...</td>\n",
       "      <td>1200</td>\n",
       "      <td>415329</td>\n",
       "      <td>Angus Hervey bad reporting good news</td>\n",
       "    </tr>\n",
       "  </tbody>\n",
       "</table>\n",
       "</div>"
      ],
      "text/plain": [
       "             author                                         talk  \\\n",
       "0  Conor Russomanno  powerful new neurotech tool augmenting mind   \n",
       "1      Peter Singer               modern argument rights animals   \n",
       "2        Sahar Zand     iranians cutting hair woman life freedom   \n",
       "3     Shannon Odell                           solar panels worth   \n",
       "4      Angus Hervey                      bad reporting good news   \n",
       "\n",
       "                                         description  likes   views  \\\n",
       "0  astonishing talk tech demo neurotechnologist c...   4700  157930   \n",
       "1  prioritize human rights species philosopher pe...   7600  254482   \n",
       "2  filmmaker sahar zand vividly explores ongoing ...   1100  393882   \n",
       "3  today many countries solar cheapest form energ...   3700  126251   \n",
       "4  good news rare special broadcast ted stage jou...   1200  415329   \n",
       "\n",
       "                                            metadata  \n",
       "0  Conor Russomanno powerful new neurotech tool a...  \n",
       "1        Peter Singer modern argument rights animals  \n",
       "2  Sahar Zand iranians cutting hair woman life fr...  \n",
       "3                   Shannon Odell solar panels worth  \n",
       "4               Angus Hervey bad reporting good news  "
      ]
     },
     "execution_count": 26,
     "metadata": {},
     "output_type": "execute_result"
    }
   ],
   "source": [
    "df.head()"
   ]
  },
  {
   "cell_type": "code",
   "execution_count": 27,
   "metadata": {},
   "outputs": [],
   "source": [
    "count_vec = CountVectorizer(stop_words='english')\n",
    "count_vec_matrix = count_vec.fit_transform(df['metadata'])\n",
    "cosine_sim_matrix = cosine_similarity(count_vec_matrix, count_vec_matrix)\n",
    "\n",
    "# mapping indexes \n",
    "#movies index mapping\n",
    "mapping = pd.Series(df.index,index = df['talk'])\n"
   ]
  },
  {
   "cell_type": "code",
   "execution_count": 28,
   "metadata": {},
   "outputs": [
    {
     "data": {
      "text/plain": [
       "talk\n",
       "powerful new neurotech tool augmenting mind       0\n",
       "modern argument rights animals                    1\n",
       "iranians cutting hair woman life freedom          2\n",
       "solar panels worth                                3\n",
       "bad reporting good news                           4\n",
       "                                               ... \n",
       "best stats youve ever seen                     5793\n",
       "schools kill creativity                        5794\n",
       "greening ghetto                                5795\n",
       "simplicity sells                               5796\n",
       "averting climate crisis                        5797\n",
       "Length: 5798, dtype: int64"
      ]
     },
     "execution_count": 28,
     "metadata": {},
     "output_type": "execute_result"
    }
   ],
   "source": [
    "mapping"
   ]
  },
  {
   "cell_type": "code",
   "execution_count": 32,
   "metadata": {},
   "outputs": [],
   "source": [
    "#recommender function to recommend movies based on metadata\n",
    "def reccomend_talks_based_on_metadata(talk_input):\n",
    "    talk_index = mapping[talk_input]\n",
    "    #get similarity values with other movies\n",
    "    similarity_score = list(enumerate(cosine_sim_matrix[talk_index]))\n",
    "    similarity_score = sorted(similarity_score, key=lambda x: x[1], reverse=True)\n",
    "    # Get the scores of the 15 most similar movies. Ignore the first movie.\n",
    "    similarity_score = similarity_score[1:5]\n",
    "    talk_indices = [i[0] for i in similarity_score]\n",
    "    return (df['talk'].iloc[talk_indices])"
   ]
  },
  {
   "cell_type": "code",
   "execution_count": 36,
   "metadata": {},
   "outputs": [
    {
     "data": {
      "text/plain": [
       "155           actually adult\n",
       "177    puberty changes brain\n",
       "189     science falling love\n",
       "252       whats smartest age\n",
       "Name: talk, dtype: object"
      ]
     },
     "execution_count": 36,
     "metadata": {},
     "output_type": "execute_result"
    }
   ],
   "source": [
    "reccomend_talks_based_on_metadata('solar panels worth')"
   ]
  },
  {
   "cell_type": "code",
   "execution_count": null,
   "metadata": {},
   "outputs": [],
   "source": []
  }
 ],
 "metadata": {
  "kernelspec": {
   "display_name": "Python 3",
   "language": "python",
   "name": "python3"
  },
  "language_info": {
   "codemirror_mode": {
    "name": "ipython",
    "version": 3
   },
   "file_extension": ".py",
   "mimetype": "text/x-python",
   "name": "python",
   "nbconvert_exporter": "python",
   "pygments_lexer": "ipython3",
   "version": "3.9.7"
  },
  "orig_nbformat": 4
 },
 "nbformat": 4,
 "nbformat_minor": 2
}
