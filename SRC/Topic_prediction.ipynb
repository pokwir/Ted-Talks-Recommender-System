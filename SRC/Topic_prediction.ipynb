{
 "cells": [
  {
   "cell_type": "code",
   "execution_count": 1,
   "metadata": {},
   "outputs": [],
   "source": [
    "import numpy as np\n",
    "# import pandas\n",
    "import pandas as pd\n",
    "\n",
    "# import TfidfVectorizer\n",
    "from sklearn.feature_extraction.text import TfidfVectorizer\n",
    "\n",
    "# import cosine_similarity\n",
    "from sklearn.metrics.pairwise import cosine_similarity\n",
    "\n",
    "from nltk.corpus import stopwords\n",
    "import string"
   ]
  },
  {
   "cell_type": "code",
   "execution_count": 2,
   "metadata": {},
   "outputs": [
    {
     "data": {
      "text/html": [
       "<div>\n",
       "<style scoped>\n",
       "    .dataframe tbody tr th:only-of-type {\n",
       "        vertical-align: middle;\n",
       "    }\n",
       "\n",
       "    .dataframe tbody tr th {\n",
       "        vertical-align: top;\n",
       "    }\n",
       "\n",
       "    .dataframe thead th {\n",
       "        text-align: right;\n",
       "    }\n",
       "</style>\n",
       "<table border=\"1\" class=\"dataframe\">\n",
       "  <thead>\n",
       "    <tr style=\"text-align: right;\">\n",
       "      <th></th>\n",
       "      <th>author</th>\n",
       "      <th>talk</th>\n",
       "      <th>description</th>\n",
       "      <th>likes</th>\n",
       "      <th>views</th>\n",
       "      <th>transcript</th>\n",
       "    </tr>\n",
       "  </thead>\n",
       "  <tbody>\n",
       "    <tr>\n",
       "      <th>0</th>\n",
       "      <td>Machine Dazzle</td>\n",
       "      <td>how to unleash your inner maximalist through c...</td>\n",
       "      <td>tapping into the transformational power of cos...</td>\n",
       "      <td>8100</td>\n",
       "      <td>270192</td>\n",
       "      <td>Hello, I am Machine Dazzle, and I am an emotio...</td>\n",
       "    </tr>\n",
       "    <tr>\n",
       "      <th>1</th>\n",
       "      <td>Fabio Pacucci</td>\n",
       "      <td>the battle that formed the universe</td>\n",
       "      <td>its time for the biggest battle in the univers...</td>\n",
       "      <td>51</td>\n",
       "      <td>Fabio</td>\n",
       "      <td>Welcome one and all! It’s time to grab your se...</td>\n",
       "    </tr>\n",
       "    <tr>\n",
       "      <th>2</th>\n",
       "      <td>Jioji Ravulo</td>\n",
       "      <td>a liberating vision of identity that transcend...</td>\n",
       "      <td>how can we move past societys inclination to b...</td>\n",
       "      <td>9200</td>\n",
       "      <td>309952</td>\n",
       "      <td>Can you paint with all the colors of the wind?...</td>\n",
       "    </tr>\n",
       "    <tr>\n",
       "      <th>3</th>\n",
       "      <td>Rebecca Darwent</td>\n",
       "      <td>how to fund real change in your community</td>\n",
       "      <td>is there a way to give back that benefits ever...</td>\n",
       "      <td>1000</td>\n",
       "      <td>341218</td>\n",
       "      <td>I spent my whole career in the nonprofit secto...</td>\n",
       "    </tr>\n",
       "    <tr>\n",
       "      <th>4</th>\n",
       "      <td>Susanne Buckley-Zistel</td>\n",
       "      <td>what caused the rwandan genocide</td>\n",
       "      <td>for one hundred days in 1994 the african count...</td>\n",
       "      <td>3700</td>\n",
       "      <td>126376</td>\n",
       "      <td>For 100 days in 1994, the African country of R...</td>\n",
       "    </tr>\n",
       "  </tbody>\n",
       "</table>\n",
       "</div>"
      ],
      "text/plain": [
       "                   author                                               talk  \\\n",
       "0          Machine Dazzle  how to unleash your inner maximalist through c...   \n",
       "1           Fabio Pacucci                the battle that formed the universe   \n",
       "2            Jioji Ravulo  a liberating vision of identity that transcend...   \n",
       "3         Rebecca Darwent          how to fund real change in your community   \n",
       "4  Susanne Buckley-Zistel                   what caused the rwandan genocide   \n",
       "\n",
       "                                         description likes   views  \\\n",
       "0  tapping into the transformational power of cos...  8100  270192   \n",
       "1  its time for the biggest battle in the univers...    51   Fabio   \n",
       "2  how can we move past societys inclination to b...  9200  309952   \n",
       "3  is there a way to give back that benefits ever...  1000  341218   \n",
       "4  for one hundred days in 1994 the african count...  3700  126376   \n",
       "\n",
       "                                          transcript  \n",
       "0  Hello, I am Machine Dazzle, and I am an emotio...  \n",
       "1  Welcome one and all! It’s time to grab your se...  \n",
       "2  Can you paint with all the colors of the wind?...  \n",
       "3  I spent my whole career in the nonprofit secto...  \n",
       "4  For 100 days in 1994, the African country of R...  "
      ]
     },
     "execution_count": 2,
     "metadata": {},
     "output_type": "execute_result"
    }
   ],
   "source": [
    "data = '/Users/patrickokwir/Desktop/Git_Projects/Ted-Talks-Recommender-System/Data_output/talks_2.csv'\n",
    "df = pd.read_csv(data, index_col=0)\n",
    "df.head()"
   ]
  },
  {
   "cell_type": "code",
   "execution_count": 3,
   "metadata": {},
   "outputs": [],
   "source": [
    "# drop rows where df['transcript'] is null\n",
    "df = df[df['transcript'].notnull()]"
   ]
  },
  {
   "cell_type": "code",
   "execution_count": 4,
   "metadata": {},
   "outputs": [
    {
     "data": {
      "text/plain": [
       "0"
      ]
     },
     "execution_count": 4,
     "metadata": {},
     "output_type": "execute_result"
    }
   ],
   "source": [
    "df['transcript'].isnull().sum()"
   ]
  },
  {
   "cell_type": "code",
   "execution_count": 5,
   "metadata": {},
   "outputs": [
    {
     "name": "stderr",
     "output_type": "stream",
     "text": [
      "[nltk_data] Downloading package stopwords to\n",
      "[nltk_data]     /Users/patrickokwir/nltk_data...\n",
      "[nltk_data]   Package stopwords is already up-to-date!\n"
     ]
    }
   ],
   "source": [
    "# --------------------------------------------------Imports--------------------------------------------------#\n",
    "import re\n",
    "import nltk\n",
    "import spacy\n",
    "import gensim\n",
    "import pyLDAvis\n",
    "import nlp\n",
    "nltk.download('stopwords')\n",
    "\n",
    "\n",
    "# Gensim\n",
    "import gensim\n",
    "import gensim.corpora as corpora\n",
    "from gensim.utils import simple_preprocess\n",
    "from gensim.models import CoherenceModel\n",
    "\n",
    "# Plotting tools\n",
    "import pyLDAvis\n",
    "import pyLDAvis.gensim  # don't skip this\n",
    "import matplotlib.pyplot as plt\n",
    "%matplotlib inline\n",
    "\n",
    "#--------------------------------------------------Things to Note--------------------------------------------------#\n",
    "#The following are key factors to obtaining good segregation topics:**\n",
    "\n",
    "#The quality of text processing.\n",
    "#The variety of topics the text talks about.\n",
    "#The choice of topic modeling algorithm.\n",
    "#The number of topics fed to the algorithm.\n",
    "#The algorithms tuning parameters."
   ]
  },
  {
   "cell_type": "code",
   "execution_count": 6,
   "metadata": {},
   "outputs": [
    {
     "name": "stderr",
     "output_type": "stream",
     "text": [
      "<>:8: DeprecationWarning: invalid escape sequence \\S\n",
      "<>:11: DeprecationWarning: invalid escape sequence \\s\n",
      "<>:8: DeprecationWarning: invalid escape sequence \\S\n",
      "<>:11: DeprecationWarning: invalid escape sequence \\s\n",
      "/var/folders/7f/4z7lvktj44g121hm_1s6v18h0000gn/T/ipykernel_73556/1779527103.py:8: DeprecationWarning: invalid escape sequence \\S\n",
      "  data = [re.sub('\\S*@\\S*\\s?', '', i) for i in data]\n",
      "/var/folders/7f/4z7lvktj44g121hm_1s6v18h0000gn/T/ipykernel_73556/1779527103.py:11: DeprecationWarning: invalid escape sequence \\s\n",
      "  data = [re.sub('\\s+', ' ', i) for i in data]\n"
     ]
    }
   ],
   "source": [
    "#___________________________________________________Data Processing__________________________________________________#\n",
    "\n",
    "# Convert to list\n",
    "df['transcript'].astype(str)\n",
    "data = df['transcript'].values.tolist()\n",
    "\n",
    "# Remove Emails\n",
    "data = [re.sub('\\S*@\\S*\\s?', '', i) for i in data]\n",
    "\n",
    "# Remove new line characters in data\n",
    "data = [re.sub('\\s+', ' ', i) for i in data]\n",
    "\n",
    "# Remove distracting single quotes\n",
    "data = [re.sub(\"\\'\", \"\", i) for i in data]\n",
    "\n",
    "# import pprint\n",
    "from pprint import pprint"
   ]
  },
  {
   "cell_type": "code",
   "execution_count": null,
   "metadata": {},
   "outputs": [],
   "source": []
  },
  {
   "cell_type": "code",
   "execution_count": 7,
   "metadata": {},
   "outputs": [
    {
     "name": "stdout",
     "output_type": "stream",
     "text": [
      "[['hello', 'machine', 'dazzle', 'emotionally', 'driven', 'instinct', 'based', 'conceptual', 'artist', 'designer', 'musician', 'today', 'apos', 'going', 'talk', 'about', 'power', 'transformation', 'through', 'sacred', 'ritual', 'costume', 'with', 'help', 'friend', 'matty', 'crosland', 'matty', 'girl', 'laughs', 'matty', 'going', 'hand', 'seeds', 'possibility', 'while', 'continue', 'growing', 'middle', 'america', 'wasn', 'apos', 'allowed', 'discouraged', 'from', 'career', 'arts', 'when', 'went', 'store', 'brothers', 'would', 'black', 'blue', 'aisle', 'would', 'pink', 'aisle', 'there', 'shame', 'surrounding', 'preference', 'quot', 'girls', 'apos', 'quot', 'toys', 'shoplifted', 'first', 'barbie', 'desperate', 'people', 'desperate', 'things', 'what', 'really', 'happening', 'during', 'that', 'time', 'building', 'massive', 'reserve', 'ideas', 'unrealized', 'desires', 'dreams', 'when', 'bought', 'that', 'ticket', 'york', 'which', 'first', 'decision', 'ever', 'truly', 'made', 'myself', 'brought', 'with', 'that', 'reserve', 'unrealized', 'dreams', 'desires', 'ideas', 'that', 'apos', 'when', 'really', 'started', 'take', 'risks', 'learned', 'about', 'power', 'transformation', 'starting', 'with', 'becoming', 'true', 'self', 'commissioned', 'guggenheim', 'works', 'process', 'show', 'knew', 'immediately', 'that', 'wanted', 'make', 'show', 'about', 'mother', 'deborah', 'here', 'printed', 'dress', 'apos', 'bouffant', 'frames', 'maybe', 'some', 'remember', 'sadly', 'lost', 'mother', 'cancer', 'honor', 'created', 'rock', 'roll', 'cabaret', 'features', 'songs', 'that', 'wrote', 'sang', 'about', 'relationship', 'with', 'self', 'actualization', 'called', 'quot', 'treasure', 'quot', 'listen', 'your', 'favorite', 'streaming', 'service', 'fact', 'just', 'released', 'first', 'dance', 'track', 'from', 'apos', 'called', 'quot', 'understand', 'quot', 'like', 'wiggle', 'your', 'peach', 'then', 'should', 'look', 'laughter', 'opening', 'outfit', 'created', 'this', 'apos', 'bouffant', 'made', 'about', 'metallic', 'pipe', 'cleaners', 'pipe', 'cleaners', 'because', 'wigs', 'common', 'like', 'challenge', 'existing', 'systems', 'take', 'risks', 'actually', 'quite', 'heavy', 'transformation', 'takes', 'commitment', 'mention', 'that', 'work', 'maximal', 'complex', 'beings', 'exist', 'many', 'layers', 'speaking', 'layers', 'then', 'added', 'this', 'swing', 'coat', 'apos', 'made', 'american', 'flag', 'camouflaged', 'paint', 'adorned', 'with', 'flowers', 'flowers', 'that', 'found', 'dumpster', 'cemetery', 'where', 'mother', 'apos', 'ashes', 'buried', 'people', 'take', 'fake', 'flowers', 'graves', 'throw', 'them', 'into', 'dumpster', 'fake', 'flowers', 'graves', 'thought', 'appropriate', 'there', 'source', 'protection', 'stage', 'became', 'mother', 'that', 'wasn', 'apos', 'point', 'became', 'higher', 'version', 'myself', 'woman', 'something', 'other', 'this', 'show', 'apos', 'hoping', 'realize', 'dreams', 'just', 'mine', 'mother', 'apos', 'because', 'them', 'more', 'more', 'wish', 'could', 'have', 'them', 'know', 'laughter', 'head', 'look', 'that', 'most', 'maximal', 'projects', 'date', 'with', 'favorite', 'collaborator', 'taylor', 'together', 'with', 'hundreds', 'others', 'created', 'hour', 'show', 'called', 'quot', 'decades', 'history', 'popular', 'music', 'quot', 'premiered', 'brooklyn', 'warehouse', 'apos', 'hour', 'show', 'starts', 'goes', 'present', 'every', 'hour', 'show', 'dedicated', 'different', 'decade', 'american', 'history', 'every', 'decade', 'created', 'costume', 'that', 'conceptually', 'adjacent', 'historically', 'accurate', 'because', 'traditional', 'historical', 'costume', 'already', 'exists', 'conceptually', 'otherwise', 'like', 'break', 'traditions', 'invent', 'ones', 'when', 'break', 'there', 'countless', 'ways', 'turn', 'into', 'something', 'delicious', 'high', 'noon', 'brooklyn', 'warehouse', 'apos', 'show', 'right', 'after', 'freed', 'ourselves', 'from', 'british', 'united', 'states', 'inspiration', 'came', 'when', 'walking', 'brooklyn', 'where', 'live', 'passing', 'this', 'laundromat', 'what', 'were', 'they', 'doing', 'they', 'were', 'taking', 'down', 'these', 'plastic', 'grand', 'opening', 'flags', 'what', 'were', 'they', 'doing', 'they', 'were', 'putting', 'plastic', 'grand', 'opening', 'flags', 'well', 'snatched', 'them', 'garbage', 'because', 'know', 'noticed', 'weather', 'worn', 'brittle', 'fragile', 'they', 'were', 'thinking', 'about', 'american', 'revolution', 'tattered', 'torn', 'broken', 'everything', 'must', 'have', 'been', 'then', 'this', 'costume', 'wants', 'tell', 'story', 'illegitimate', 'child', 'colonialism', 'away', 'from', 'home', 'orleans', 'opened', 'laundromat', 'called', 'washery', 'they', 'celebrating', 'grand', 'overture', 'official', 'unofficial', 'cheerleader', 'original', 'colonies', 'this', 'maximalism', 'only', 'layer', 'upon', 'layer', 'aesthetically', 'apos', 'idea', 'idea', 'conceptually', 'becomes', 'story', 'almost', 'that', 'almost', 'read', 'like', 'book', 'well', 'history', 'taught', 'anything', 'apos', 'that', 'things', 'change', 'here', 'hour', 'later', 'show', 'apos', 'time', 'costume', 'change', 'apple', 'headdress', 'care', 'craft', 'smell', 'home', 'pipes', 'taylor', 'apos', 'back', 'upholstered', 'colonial', 'fabric', 'steam', 'coming', 'them', 'that', 'decade', 'know', 'they', 'represent', 'invention', 'steam', 'engine', 'which', 'gave', 'westward', 'expansion', 'better', 'worse', 'then', 'thought', 'well', 'what', 'else', 'happening', 'well', 'george', 'washington', 'president', 'time', 'always', 'kind', 'into', 'little', 'cherry', 'tree', 'story', 'virtue', 'know', 'quot', 'cannot', 'tell', 'chopped', 'down', 'that', 'cherry', 'tree', 'quot', 'french', 'revolution', 'across', 'pond', 'guillotine', 'like', 'full', 'like', 'quot', 'well', 'apos', 'combine', 'them', 'together', 'quot', 'know', 'severed', 'heads', 'cherry', 'tree', 'drag', 'garment', 'what', 'apos', 'getting', 'costume', 'much', 'more', 'than', 'costume', 'props', 'tell', 'stories', 'even', 'character', 'same', 'time', 'this', 'kind', 'maximalism', 'leaves', 'audience', 'completely', 'satisfied', 'wanting', 'more', 'same', 'time', 'more', 'more', 'well', 'wouldn', 'know', 'night', 'apos', 'time', 'civil', 'took', 'distinct', 'inventions', 'from', 'this', 'time', 'help', 'tell', 'this', 'story', 'read', 'somewhere', 'once', 'that', 'american', 'evolved', 'german', 'immigrants', 'selling', 'their', 'bratwurst', 'rolls', 'streets', 'during', 'well', 'like', 'that', 'then', 'this', 'distinctive', 'barbed', 'wire', 'know', 'barbed', 'wire', 'symbol', 'separation', 'security', 'insecurity', 'well', 'wanted', 'combine', 'together', 'this', 'making', 'things', 'bring', 'order', 'disorder', 'turning', 'barbed', 'wire', 'into', 'dogs', 'what', 'apos', 'trying', 'hopefully', 'through', 'what', 'separating', 'this', 'case', 'slavery', 'when', 'believe', 'something', 'that', 'marginalized', 'goes', 'against', 'mainstream', 'society', 'important', 'that', 'bold', 'brave', 'truly', 'well', 'here', 'after', 'again', 'time', 'reconstruction', 'know', 'about', 'invention', 'typewriter', 'love', 'this', 'piece', 'wiggles', 'taylor', 'clicks', 'across', 'stage', 'then', 'introduction', 'dynamite', 'toilet', 'paper', 'rolls', 'domestic', 'well', 'took', 'those', 'empty', 'toilet', 'paper', 'rolls', 'painted', 'them', 'look', 'like', 'sticks', 'dynamite', 'boom', 'headdress', 'hello', 'know', 'well', 'here', 'apos', 'been', 'performing', 'night', 'apos', 'tired', 'apos', 'just', 'time', 'aids', 'pandemic', 'taylor', 'wears', 'white', 'high', 'heeled', 'shoes', 'sprinkled', 'with', 'little', 'green', 'poms', 'they', 'look', 'like', 'clown', 'shoes', 'they', 'represent', 'white', 'blood', 'cells', 'being', 'attacked', 'this', 'collaboration', 'this', 'quot', 'decade', 'history', 'popular', 'music', 'quot', 'took', 'maximalism', 'quot', 'more', 'more', 'quot', 'whole', 'level', 'have', 'through', 'music', 'storytelling', 'transformative', 'nature', 'costumes', 'changed', 'course', 'queer', 'history', 'nothing', 'else', 'sure', 'pull', 'nighter', 'with', 'costume', 'changes', 'well', 'here', 'this', 'image', 'streets', 'york', 'city', 'easter', 'bonnet', 'parade', 'several', 'years', 'taking', 'streets', 'have', 'tell', 'takes', 'little', 'courage', 'dress', 'like', 'this', 'public', 'particularly', 'these', 'days', 'just', 'about', 'every', 'part', 'creative', 'ethos', 'under', 'attack', 'united', 'states', 'right', 'first', 'glance', 'might', 'over', 'outfit', 'sunday', 'black', 'white', 'pink', 'upon', 'closer', 'inspection', 'apos', 'details', 'skull', 'peeking', 'skeletal', 'hand', 'creeping', 'innocent', 'plush', 'animals', 'head', 'once', 'easter', 'bonnet', 'ripped', 'right', 'head', 'front', 'patrick', 'apos', 'cathedral', 'this', 'apos', 'think', 'they', 'would', 'dare', 'sometimes', 'think', 'that', 'life', 'about', 'overcoming', 'your', 'greatest', 'fears', 'life', 'itself', 'about', 'that', 'work', 'there', 'happiness', 'that', 'know', 'unless', 'risking', 'something', 'only', 'true', 'happiness', 'that', 'know', 'comes', 'from', 'this', 'sense', 'accomplishment', 'taking', 'risk', 'well', 'here', 'again', 'streets', 'york', 'this', 'time', 'reclaim', 'pride', 'march', 'back', 'again', 'good', 'friend', 'gave', 'really', 'good', 'advice', 'once', 'quot', 'machine', 'apos', 'never', 'early', 'revolutionary', 'apos', 'never', 'late', 'post', 'apocalyptic', 'chic', 'quot', 'laughter', 'sometimes', 'this', 'course', 'action', 'this', 'transformation', 'most', 'honest', 'action', 'that', 'take', 'yourself', 'honesty', 'consider', 'prayer', 'today', 'after', 'placeholder', 'what', 'apos', 'coming', 'tomorrow', 'becoming', 'other', 'avoid', 'labels', 'change', 'someone', 'apos', 'life', 'just', 'walking', 'across', 'room', 'because', 'changing', 'what', 'possible', 'their', 'minds', 'more', 'will', 'more', 'life', 'just', 'everyone', 'around', 'apos', 'telling', 'that', 'gospel', 'truth', 'another', 'thing', 'wanted', 'this', 'collective', 'land', 'make', 'believe', 'that', 'right', 'this', 'very', 'fertile', 'very', 'creative', 'space', 'where', 'anything', 'possible', 'matty', 'apos', 'bring', 'home', 'music', 'quot', 'miss', 'object', 'desire', 'quot', 'machine', 'dazzle', 'mother', 'want', 'miss', 'object', 'desire', 'walking', 'dream', 'phoenix', 'lips', 'fire', 'strange', 'reflection', 'perfumed', 'changing', 'faces', 'till', 'settles', 'where', 'memory', 'vibrates', 'liberation', 'applause', 'music', 'continues', 'broken', 'glass', 'dress', 'torn', 'screaming', 'silence', 'thank', 'laughs', 'music', 'continues', 'applause', 'mother', 'want', 'miss', 'object', 'desire', 'walking', 'dream', 'phoenix', 'lips', 'fire']]\n"
     ]
    }
   ],
   "source": [
    "#break down each sentence into a list of words through tokenization\n",
    "def sent_to_words(sentences):\n",
    "    for sentence in sentences:\n",
    "        yield(gensim.utils.simple_preprocess(str(sentence), deacc=True, min_len=4))  # deacc=True removes punctuations\n",
    "\n",
    "data_words = list(sent_to_words(data))\n",
    "\n",
    "print(data_words[:1])"
   ]
  },
  {
   "cell_type": "code",
   "execution_count": 8,
   "metadata": {},
   "outputs": [],
   "source": [
    "def strip_newline(series):\n",
    "    return [review.replace('\\n','') for review in series]"
   ]
  },
  {
   "cell_type": "code",
   "execution_count": 9,
   "metadata": {},
   "outputs": [],
   "source": [
    "from nltk.corpus import stopwords\n",
    "\n",
    "\n",
    "stop_words = stopwords.words('english')\n",
    "stop_words.extend(['music', 'stephen', 'detail', 'way', 'shares', 'need', 'us', 'come','order','try','go','get','make','drink','plate','dish','restaurant','place', 'many', 'day', 'explains', 'even', 'part',\n",
    "                  'would','really','like','great','service','came','got', 'talk', 'directed', 'ted', 'narrated', 'new', 'one', 'using', 'addison', 'anderson', 'says', \"addison_anderson\", \"years\", \"first\", \n",
    "                  'maybe', 'someone', 'pserson', 'applause', 'laughter', 'cheers', 'know', 'actually', 'worlds', 'could', 'details', 'studio', 'help', 'music', 'life', 'shows', 'world', 'good', 'think', \n",
    "                  'story', 'stories', 'wanted', 'moment', 'yeah', 'sound', 'night', 'guys', 'stuff', 'video', 'okay', 'everybody'])\n",
    "\n",
    "def remove_stopwords(texts):\n",
    "    return [[word for word in simple_preprocess(str(doc)) if word not in stop_words] for doc in texts]\n",
    "\n",
    "def bigrams(words, bi_min=12, tri_min=7):\n",
    "    bigram = gensim.models.Phrases(words, min_count = bi_min)\n",
    "    bigram_mod = gensim.models.phrases.Phraser(bigram)\n",
    "    return bigram_mod\n",
    "\n",
    "# def get_corpus(df):\n",
    "#     df['text'] = df['review']\n",
    "#     df['text'] = strip_newline(df.text)\n",
    "#     words = list(sent_to_words(df.text))\n",
    "#     words = remove_stopwords(words)\n",
    "#     bigram_mod = bigrams(words)\n",
    "#     bigram = [bigram_mod[review] for review in words]\n",
    "#     id2word = gensim.corpora.Dictionary(bigram)\n",
    "#     id2word.filter_extremes(no_below=10, no_above=0.35)\n",
    "#     id2word.compactify()\n",
    "#     corpus = [id2word.doc2bow(text) for text in bigram]\n",
    "#     return corpus, id2word, bigram"
   ]
  },
  {
   "cell_type": "code",
   "execution_count": 10,
   "metadata": {},
   "outputs": [],
   "source": [
    "words = remove_stopwords(data_words)\n",
    "bigram = bigrams(words)\n",
    "bigram = [bigram[review] for review in words]\n",
    "id2word = gensim.corpora.Dictionary(bigram)\n",
    "id2word.filter_extremes(no_below=15, no_above=0.2)\n",
    "id2word.compactify()\n",
    "corpus = [id2word.doc2bow(text) for text in bigram]\n"
   ]
  },
  {
   "cell_type": "code",
   "execution_count": 11,
   "metadata": {},
   "outputs": [],
   "source": [
    "train_corpus4 = corpus\n",
    "train_id2word4 = id2word\n",
    "bigram_train4 = bigram"
   ]
  },
  {
   "cell_type": "code",
   "execution_count": 12,
   "metadata": {},
   "outputs": [],
   "source": [
    "import warnings"
   ]
  },
  {
   "cell_type": "code",
   "execution_count": 13,
   "metadata": {},
   "outputs": [],
   "source": [
    "# import logging\n",
    "# logging.basicConfig(filename='lda_model.log', format='%(asctime)s : %(levelname)s : %(message)s', level=logging.INFO)\n",
    "\n",
    "with warnings.catch_warnings():\n",
    "    warnings.simplefilter('ignore')\n",
    "    lda_train4 = gensim.models.ldamulticore.LdaMulticore(\n",
    "                           corpus=train_corpus4,\n",
    "                           num_topics=10,\n",
    "                           id2word=train_id2word4,\n",
    "                           chunksize=100,\n",
    "                           workers=7, # Num. Processing Cores - 1\n",
    "                           passes=50,\n",
    "                           eval_every = 10,\n",
    "                           per_word_topics=True)\n",
    "    # lda_train4.save('lda_train4.model')"
   ]
  },
  {
   "cell_type": "code",
   "execution_count": 14,
   "metadata": {},
   "outputs": [
    {
     "data": {
      "text/plain": [
       "0.5338261696875537"
      ]
     },
     "execution_count": 14,
     "metadata": {},
     "output_type": "execute_result"
    }
   ],
   "source": [
    "coherence_model_lda = CoherenceModel(model=lda_train4, texts=bigram_train4, dictionary=train_id2word4, coherence='c_v')\n",
    "coherence_lda = coherence_model_lda.get_coherence()\n",
    "coherence_lda"
   ]
  },
  {
   "cell_type": "code",
   "execution_count": 15,
   "metadata": {},
   "outputs": [
    {
     "data": {
      "text/plain": [
       "[(0,\n",
       "  '0.007*\"government\" + 0.006*\"political\" + 0.005*\"united_states\" + 0.005*\"violence\" + 0.004*\"police\"'),\n",
       " (1,\n",
       "  '0.006*\"brain\" + 0.006*\"light\" + 0.005*\"design\" + 0.005*\"computer\" + 0.005*\"universe\"'),\n",
       " (2,\n",
       "  '0.014*\"species\" + 0.013*\"animals\" + 0.009*\"fish\" + 0.009*\"ocean\" + 0.006*\"animal\"'),\n",
       " (3,\n",
       "  '0.009*\"brain\" + 0.006*\"child\" + 0.005*\"sleep\" + 0.005*\"pain\" + 0.005*\"care\"'),\n",
       " (4,\n",
       "  '0.009*\"language\" + 0.006*\"century\" + 0.005*\"chinese\" + 0.005*\"africa\" + 0.004*\"city\"'),\n",
       " (5,\n",
       "  '0.012*\"cells\" + 0.009*\"disease\" + 0.006*\"cancer\" + 0.006*\"cell\" + 0.006*\"virus\"'),\n",
       " (6,\n",
       "  '0.005*\"kids\" + 0.003*\"woman\" + 0.003*\"book\" + 0.003*\"house\" + 0.003*\"mother\"'),\n",
       " (7,\n",
       "  '0.007*\"countries\" + 0.006*\"companies\" + 0.005*\"company\" + 0.005*\"business\" + 0.004*\"global\"'),\n",
       " (8,\n",
       "  '0.006*\"students\" + 0.004*\"kids\" + 0.003*\"education\" + 0.003*\"social\" + 0.003*\"ideas\"'),\n",
       " (9,\n",
       "  '0.011*\"energy\" + 0.009*\"food\" + 0.008*\"city\" + 0.007*\"cities\" + 0.006*\"planet\"')]"
      ]
     },
     "execution_count": 15,
     "metadata": {},
     "output_type": "execute_result"
    }
   ],
   "source": [
    "lda_train4.print_topics(13,num_words=5)[:13]"
   ]
  },
  {
   "cell_type": "code",
   "execution_count": 16,
   "metadata": {},
   "outputs": [
    {
     "name": "stdout",
     "output_type": "stream",
     "text": [
      "Topic 0\n",
      "Words: ['government', 'political', 'united_states', 'violence', 'police', 'democracy', 'america', 'black', 'state', 'vote']\n",
      "Weights: [0.006578415, 0.0059280964, 0.004946293, 0.004938919, 0.004397281, 0.0043818234, 0.0042502466, 0.0039019368, 0.0035865835, 0.0033268244]\n",
      "\n",
      "\n",
      "Topic 1\n",
      "Words: ['brain', 'light', 'design', 'computer', 'universe', 'machine', 'image', 'robot', 'science', 'robots']\n",
      "Weights: [0.006399746, 0.0063120914, 0.0053746616, 0.0049595973, 0.004904079, 0.0036539102, 0.0030246382, 0.0030177394, 0.0026315732, 0.0026222595]\n",
      "\n",
      "\n",
      "Topic 2\n",
      "Words: ['species', 'animals', 'fish', 'ocean', 'animal', 'humans', 'nature', 'planet', 'birds', 'deep']\n",
      "Weights: [0.014238683, 0.013056246, 0.009259692, 0.009168176, 0.0064678444, 0.0047873394, 0.00469341, 0.0045390734, 0.004152414, 0.003574822]\n",
      "\n",
      "\n",
      "Topic 3\n",
      "Words: ['brain', 'child', 'sleep', 'pain', 'care', 'patients', 'health', 'hospital', 'parents', 'mother']\n",
      "Weights: [0.008504208, 0.005941857, 0.0052454723, 0.0050987634, 0.0050604166, 0.004905226, 0.0048383377, 0.004082342, 0.004007402, 0.003801216]\n",
      "\n",
      "\n",
      "Topic 4\n",
      "Words: ['language', 'century', 'chinese', 'africa', 'city', 'culture', 'ancient', 'english', 'modern', 'african']\n",
      "Weights: [0.00948933, 0.006220654, 0.00457229, 0.004548274, 0.004349056, 0.0040929415, 0.0038584871, 0.0038544824, 0.0033780732, 0.0033779198]\n",
      "\n",
      "\n",
      "Topic 5\n",
      "Words: ['cells', 'disease', 'cancer', 'cell', 'virus', 'drugs', 'molecules', 'bacteria', 'genes', 'vaccine']\n",
      "Weights: [0.012148207, 0.008707942, 0.0064480267, 0.006145298, 0.0060577807, 0.004589351, 0.0043031625, 0.0041762693, 0.004037818, 0.0040179743]\n",
      "\n",
      "\n",
      "Topic 6\n",
      "Words: ['kids', 'woman', 'book', 'house', 'mother', 'read', 'father', 'word', 'somebody', 'voice']\n",
      "Weights: [0.004855094, 0.0033240672, 0.00307304, 0.0028717942, 0.0025600328, 0.002506002, 0.0024455176, 0.0023809688, 0.0023637183, 0.0022643856]\n",
      "\n",
      "\n",
      "Topic 7\n",
      "Words: ['countries', 'companies', 'company', 'business', 'global', 'economy', 'china', 'government', 'market', 'dollars']\n",
      "Weights: [0.0067059495, 0.0061554504, 0.005470407, 0.005365715, 0.0043749716, 0.004313048, 0.004017671, 0.003982983, 0.0038439156, 0.003442743]\n",
      "\n",
      "\n",
      "Topic 8\n",
      "Words: ['students', 'kids', 'education', 'social', 'ideas', 'learning', 'questions', 'conversation', 'culture', 'game']\n",
      "Weights: [0.005792695, 0.0035151339, 0.0032771328, 0.0031781185, 0.00310145, 0.0030044415, 0.002908807, 0.002825052, 0.0028154524, 0.0027032194]\n",
      "\n",
      "\n",
      "Topic 9\n",
      "Words: ['energy', 'food', 'city', 'cities', 'planet', 'climate', 'climate_change', 'carbon', 'green', 'land']\n",
      "Weights: [0.010864252, 0.008512128, 0.007870106, 0.007200455, 0.006414628, 0.006232837, 0.005352982, 0.0043767826, 0.003851861, 0.003845759]\n",
      "\n",
      "\n"
     ]
    }
   ],
   "source": [
    "# exract topics from the model\n",
    "topics = lda_train4.show_topics(formatted=False)\n",
    "for topic in topics:\n",
    "    print(\"Topic\", topic[0])\n",
    "    print(\"Words:\", [word[0] for word in topic[1]])\n",
    "    print(\"Weights:\", [word[1] for word in topic[1]])\n",
    "    print(\"\\n\")"
   ]
  },
  {
   "cell_type": "code",
   "execution_count": 17,
   "metadata": {},
   "outputs": [],
   "source": [
    "# function to text number of topics to make \n",
    "topics = (8, 9, 10, 11, 12, 13)\n",
    "results = {}\n",
    "def test_num_topics(num_topics):\n",
    "    for topic in topics: \n",
    "        with warnings.catch_warnings():\n",
    "            warnings.simplefilter('ignore')\n",
    "            lda_train4 = gensim.models.ldamulticore.LdaMulticore(\n",
    "                                corpus=train_corpus4,\n",
    "                                num_topics=topic,\n",
    "                                id2word=train_id2word4,\n",
    "                                chunksize=100,\n",
    "                                workers=7, # Num. Processing Cores - 1\n",
    "                                passes=50,\n",
    "                                eval_every = 10,\n",
    "                                per_word_topics=True)\n",
    "            coherence_model_lda = CoherenceModel(model=lda_train4, texts=bigram_train4, dictionary=train_id2word4, coherence='c_v')\n",
    "            coherence_lda = coherence_model_lda.get_coherence()\n",
    "            results.update({topic: coherence_lda})"
   ]
  },
  {
   "cell_type": "code",
   "execution_count": 18,
   "metadata": {},
   "outputs": [],
   "source": [
    "test_num_topics(topics)"
   ]
  },
  {
   "cell_type": "code",
   "execution_count": null,
   "metadata": {},
   "outputs": [
    {
     "name": "stderr",
     "output_type": "stream",
     "text": [
      "[nltk_data] Downloading package punkt to\n",
      "[nltk_data]     /Users/patrickokwir/nltk_data...\n",
      "[nltk_data]   Package punkt is already up-to-date!\n"
     ]
    }
   ],
   "source": [
    "import nltk\n",
    "\n",
    "# Download necessary resources for tokenization\n",
    "nltk.download('punkt')\n",
    "\n",
    "# Assuming you have already trained your LDA model and have it stored in the 'lda_model' variable\n",
    "\n",
    "# Create a list to store the extracted topics\n",
    "extracted_topics = []\n",
    "\n",
    "# Iterate over each row in the dataframe\n",
    "for index, row in df.iterrows():\n",
    "    # Extract the text from the appropriate column in your dataframe\n",
    "    text1 = row['transcript']\n",
    "    text = clean_text(text1)\n",
    "    \n",
    "    # Tokenize the text into individual tokens\n",
    "    tokens = nltk.word_tokenize(text)\n",
    "    \n",
    "    # Preprocess the tokens if necessary (e.g., removing stopwords, stemming, etc.)\n",
    "    \n",
    "    # Convert the tokens to a bag-of-words representation\n",
    "    bow_vector = lda_train4.id2word.doc2bow(tokens)\n",
    "    \n",
    "    # Get the topic distribution for the document\n",
    "    topic_distribution = lda_train4.get_document_topics(bow_vector)\n",
    "    \n",
    "    # Sort the topics by their probability in descending order\n",
    "    sorted_topics = sorted(topic_distribution, key=lambda x: x[1], reverse=True)\n",
    "    \n",
    "    # Extract the most probable topic (assuming the topics are represented as tuples (topic_id, probability))\n",
    "    most_probable_topic = sorted_topics[0][0]\n",
    "    if most_probable_topic == 0:\n",
    "        most_probable_topic = topics[0][1][0][0], topics[0][1][1][0], topics[0][1][2][0], topics[0][1][3][0]\n",
    "    elif most_probable_topic == 1:\n",
    "        most_probable_topic = topics[1][1][0][0], topics[1][1][1][0], topics[1][1][2][0], topics[1][1][3][0]\n",
    "    elif most_probable_topic == 2:\n",
    "        most_probable_topic = topics[2][1][0][0], topics[2][1][1][0], topics[2][1][2][0], topics[2][1][3][0]\n",
    "    elif most_probable_topic == 3:\n",
    "        most_probable_topic = topics[3][1][0][0], topics[3][1][1][0], topics[3][1][2][0], topics[3][1][3][0]\n",
    "    elif most_probable_topic == 4:\n",
    "        most_probable_topic = topics[4][1][0][0], topics[4][1][1][0], topics[4][1][2][0], topics[4][1][3][0]\n",
    "    elif most_probable_topic == 5:\n",
    "        most_probable_topic = topics[5][1][0][0], topics[5][1][1][0], topics[5][1][2][0], topics[5][1][3][0]\n",
    "    elif most_probable_topic == 6:\n",
    "        most_probable_topic = topics[6][1][0][0], topics[6][1][1][0], topics[6][1][2][0], topics[6][1][3][0]\n",
    "    elif most_probable_topic == 7:\n",
    "        most_probable_topic = topics[7][1][0][0], topics[7][1][1][0], topics[7][1][2][0], topics[7][1][3][0]\n",
    "    # elif most_probable_topic == 8:\n",
    "    #     most_probable_topic = topics[8][1][0][0], topics[8][1][1][0], topics[8][1][2][0], topics[8][1][3][0]\n",
    "    # elif most_probable_topic == 9:\n",
    "    #     most_probable_topic = topics[9][1][0][0], topics[9][1][1][0], topics[9][1][2][0], topics[9][1][3][0]\n",
    "    # Append the most probable topic to the extracted_topics list\n",
    "    extracted_topics.append(most_probable_topic)\n",
    "df['Tags'] = extracted_topics"
   ]
  },
  {
   "cell_type": "code",
   "execution_count": null,
   "metadata": {},
   "outputs": [
    {
     "data": {
      "text/html": [
       "<div>\n",
       "<style scoped>\n",
       "    .dataframe tbody tr th:only-of-type {\n",
       "        vertical-align: middle;\n",
       "    }\n",
       "\n",
       "    .dataframe tbody tr th {\n",
       "        vertical-align: top;\n",
       "    }\n",
       "\n",
       "    .dataframe thead th {\n",
       "        text-align: right;\n",
       "    }\n",
       "</style>\n",
       "<table border=\"1\" class=\"dataframe\">\n",
       "  <thead>\n",
       "    <tr style=\"text-align: right;\">\n",
       "      <th></th>\n",
       "      <th>author</th>\n",
       "      <th>talk</th>\n",
       "      <th>description</th>\n",
       "      <th>likes</th>\n",
       "      <th>views</th>\n",
       "      <th>transcript</th>\n",
       "      <th>Tags</th>\n",
       "    </tr>\n",
       "  </thead>\n",
       "  <tbody>\n",
       "    <tr>\n",
       "      <th>0</th>\n",
       "      <td>Machine Dazzle</td>\n",
       "      <td>how to unleash your inner maximalist through c...</td>\n",
       "      <td>tapping into the transformational power of cos...</td>\n",
       "      <td>8100</td>\n",
       "      <td>270192</td>\n",
       "      <td>Hello, I am Machine Dazzle, and I am an emotio...</td>\n",
       "      <td>(city, design, project, death)</td>\n",
       "    </tr>\n",
       "    <tr>\n",
       "      <th>1</th>\n",
       "      <td>Fabio Pacucci</td>\n",
       "      <td>the battle that formed the universe</td>\n",
       "      <td>its time for the biggest battle in the univers...</td>\n",
       "      <td>51</td>\n",
       "      <td>Fabio</td>\n",
       "      <td>Welcome one and all! It’s time to grab your se...</td>\n",
       "      <td>(light, universe, energy, planet)</td>\n",
       "    </tr>\n",
       "    <tr>\n",
       "      <th>2</th>\n",
       "      <td>Jioji Ravulo</td>\n",
       "      <td>a liberating vision of identity that transcend...</td>\n",
       "      <td>how can we move past societys inclination to b...</td>\n",
       "      <td>9200</td>\n",
       "      <td>309952</td>\n",
       "      <td>Can you paint with all the colors of the wind?...</td>\n",
       "      <td>9</td>\n",
       "    </tr>\n",
       "    <tr>\n",
       "      <th>3</th>\n",
       "      <td>Rebecca Darwent</td>\n",
       "      <td>how to fund real change in your community</td>\n",
       "      <td>is there a way to give back that benefits ever...</td>\n",
       "      <td>1000</td>\n",
       "      <td>341218</td>\n",
       "      <td>I spent my whole career in the nonprofit secto...</td>\n",
       "      <td>(countries, companies, company, business)</td>\n",
       "    </tr>\n",
       "    <tr>\n",
       "      <th>4</th>\n",
       "      <td>Susanne Buckley-Zistel</td>\n",
       "      <td>what caused the rwandan genocide</td>\n",
       "      <td>for one hundred days in 1994 the african count...</td>\n",
       "      <td>3700</td>\n",
       "      <td>126376</td>\n",
       "      <td>For 100 days in 1994, the African country of R...</td>\n",
       "      <td>(government, political, black, united_states)</td>\n",
       "    </tr>\n",
       "  </tbody>\n",
       "</table>\n",
       "</div>"
      ],
      "text/plain": [
       "                   author                                               talk  \\\n",
       "0          Machine Dazzle  how to unleash your inner maximalist through c...   \n",
       "1           Fabio Pacucci                the battle that formed the universe   \n",
       "2            Jioji Ravulo  a liberating vision of identity that transcend...   \n",
       "3         Rebecca Darwent          how to fund real change in your community   \n",
       "4  Susanne Buckley-Zistel                   what caused the rwandan genocide   \n",
       "\n",
       "                                         description likes   views  \\\n",
       "0  tapping into the transformational power of cos...  8100  270192   \n",
       "1  its time for the biggest battle in the univers...    51   Fabio   \n",
       "2  how can we move past societys inclination to b...  9200  309952   \n",
       "3  is there a way to give back that benefits ever...  1000  341218   \n",
       "4  for one hundred days in 1994 the african count...  3700  126376   \n",
       "\n",
       "                                          transcript  \\\n",
       "0  Hello, I am Machine Dazzle, and I am an emotio...   \n",
       "1  Welcome one and all! It’s time to grab your se...   \n",
       "2  Can you paint with all the colors of the wind?...   \n",
       "3  I spent my whole career in the nonprofit secto...   \n",
       "4  For 100 days in 1994, the African country of R...   \n",
       "\n",
       "                                            Tags  \n",
       "0                 (city, design, project, death)  \n",
       "1              (light, universe, energy, planet)  \n",
       "2                                              9  \n",
       "3      (countries, companies, company, business)  \n",
       "4  (government, political, black, united_states)  "
      ]
     },
     "execution_count": 19,
     "metadata": {},
     "output_type": "execute_result"
    }
   ],
   "source": [
    "df.head()"
   ]
  },
  {
   "cell_type": "code",
   "execution_count": null,
   "metadata": {},
   "outputs": [
    {
     "data": {
      "text/plain": [
       "array([['Simon Sinek', 'how to discover your why in difficult times',\n",
       "        'what has the coronavirus pandemic taught us about ourselves and our relationships in a deeply personal and wideranging conversation leadership expert simon sinek shares his own experience caring for his mental health as the world shut down he discusses why we need to nurture friendships in both good times and bad explains why anyone can be a leader  and reveals the secret to discovering your why in life this virtual conversation hosted by head of ted chris anderson was part of an exclusive ted membership event visit tedcommembership to become a ted member',\n",
       "        '6500', '2179503',\n",
       "        'Chris Anderson: Simon, I&apos;ll start us off by saying, I mean, here we are, look, after a year of the pandemic, probably one of the most extraordinary experiences any of us have had. What do you think the unexpected psychological carryovers might be? I mean, do you think we&apos;ve kind of -- Part of me thinks that people have got more fragile, that it&apos;s almost like there&apos;s a sort of learned timidity. Have you seen any evidence of that or how would you characterize it? Simon Sinek: I think we&apos;ve definitely all become much more aware of mental health. And that it&apos;s a real thing and that mental health affects strong and healthy people. We all suffered trauma during COVID. Some of us dealt with it earlier, some of us dealt with it later, some of us are still dealing with it, but nobody escapes it. When COVID first started, you know, many of us had to pivot our organizations, had to pivot our businesses very quickly. And so I, like many others, we went into mission mode. And I called a friend of mine who is active-duty military. And I asked him a very simple question, how do I compartmentalize my emotions so that I can stay focused on the mission? And he gave me a very stern warning. He said, you can&apos;t. He said, we can compartmentalize our emotions for only a short period of time, but no one, no one escapes the trauma of combat. And he said, you may not even experience the trauma while you&apos;re in it, you may not experience it when you first come home, you may experience it months later. He says, I experience it four or five months after I get home. So immediately I hung up the phone and called all my A-type personality friends and said, OK, we think we&apos;re good, but we&apos;re going to get hit by this at some point. And we made a deal that when we started to feel off our game, we would call each other. Safe space. And we made another deal that there would be no crying alone. That if you had to cry, you picked up the phone and you called somebody. Well, about four or five months into COVID, I started to feel off my game and I didn&apos;t know what was going on. And so I called that same friend in the military and I asked no leading questions. I simply asked him, tell me what your symptoms are when you suffer the trauma when you come home from combat. And he said, well, number one, he falls out of his sleep pattern. He said he starts going to bed late for no reason and doesn&apos;t want to get up in the morning. And I thought to myself, yep. He says he has some unproductive days and he comes up with an excuse like, &quot;It&apos;s OK, you know, you deserve a rest. It&apos;s fine.&quot; But then he has another and another and another. And I thought to myself, yep. And he said he becomes very antisocial where he doesn&apos;t want to ask for help and he definitely doesn&apos;t want to talk to anybody. And I thought to myself, yep. And I realized what I was going through was trauma. And I was afraid to use the D-word, depression, for fear that that was some sort of diagnosis. I think a lot of people are afraid of that word, but that&apos;s exactly what I was going through. I was going through  lowercase “D” depression. And I followed the rule that we set with our friends and I called people. Because one of the things I asked my friend is like, how do you overcome it? He said, you have to force yourself back into a sleep pattern and force yourself to call friends and ask for help. And so I think one of the things, I think that comes out of COVID, is we recognized just the importance of human connection. You know, in this fast-paced digital world, we kidded ourselves to think that we had connections just because we were connected. But it was amazing to see when COVID started, regardless of someone&apos;s age or a technological competency, we all picked up the phone. Like, young people were talking to each other. And I think that intense craving for a human voice and human touch, I think we were reminded just how fragile we are as human beings. CA: That phrase you&apos;ve mentioned, &quot;no crying alone,&quot; that&apos;s powerful. I mean, forgive me asking, did you cry with someone? SS: Yes. I followed my own counsel to my friends. And when I had to cry, when I was overwhelmed, I picked up the phone and I just cried. And I had friends call me and do the same. CA: And there was healing in that. SS: The most important thing that came from it was that we didn&apos;t -- none of us felt alone. And there&apos;s intense safety. That amazing sense of safety that we all desire as human beings. You know, you can&apos;t feel safe when you&apos;re vulnerable, like, that&apos;s when we need it the most. But you have to build those relationships. You build those relationships in the happy times, the good times, where you think you&apos;re strong, you think you&apos;re great. It’s very hard to start building those relationships in the moment of crisis. And I think it&apos;s a lesson for leadership, quite frankly. Which is, you can&apos;t judge the quality of a crew by how a ship performs in calm waters. You judge the quality of a crew by how a ship performs in rough waters. But the time in calm waters is when you&apos;re building relationship and trust and you don&apos;t really actually know if you have trusting relationships and trusting teams and loving relationships until the crisis strikes. And I heard this from a lot of people: When COVID happened, they commented on how they realized who their real friends were. Some people kind of fell by the wayside, it was nothing personal. It&apos;s just like, we didn&apos;t call each other and we&apos;re still, you know, weren’t angry or anything. And there are some people who came out of the woodwork to check in on us and those friendships flourished. And that&apos;s what I mean. It takes hardship for those friendships and that trust to really bear fruit. But that&apos;s why we have to invest in people when we&apos;re doing well and we don&apos;t think we need anybody. And I think we forget that. CA: What would you say to someone who has realized that they&apos;re in this moment, what&apos;s been a really difficult year, and they actually don&apos;t feel that there&apos;s someone they could, for example, pick up the phone and cry with? Is it hopeless for them until this passes? Or what would you say to them? SS: There is an irony. There&apos;s an irony in when we need help. And when I was writing the book &quot;Leaders Eat Last,&quot; I had the opportunity to spend some time with and visit Alcoholics Anonymous. And it is a remarkable organization. And many of us are familiar with the 12-step program. And many of us are familiar with the first step, which is admitting you have a problem. But then it&apos;s the other 11 steps that also matter. And Alcoholics Anonymous knows that if you master the first 11 steps, but not the 12th, you are likely to succumb to the disease. But if you master the 12 steps, you&apos;re more likely to overcome the disease. That 12th step is to help another alcoholic. It&apos;s service. And so there&apos;s a great irony when we need help to actually help someone who&apos;s struggling with the same thing as us. And it is the most healing thing we can do. So, you know, if we need someone to cry with, it&apos;s to offer the shoulder for somebody else to cry with. If we&apos;re feeling lonely, it&apos;s to be there for someone else who&apos;s struggling with loneliness. And this goes way beyond these subjects, which is if we&apos;re looking for love to help somebody else find love, if we&apos;re looking for the job we love, to help somebody else find the job that they love. And there&apos;s tremendous value in service. And you hear about these things all the time, you talk to people why they chose to go in the profession they went into, especially if they&apos;re in the service profession, let&apos;s say somebody is a counselor for trauma. And you say, why did you go into this profession? &quot;When I was younger, I suffered a trauma, and somebody was there to counsel me and I decided I wanted to commit my life to doing that for others.&quot; This is what happens with service. And we forget, just because we live in a modern world, we&apos;re actually a very old-fashioned machine. The human animal is a legacy machine living in a modern world. And we still work the same way we used to. And we desperately need each other to survive and thrive as much as we did when we were living in huts in small tribes of 150 people. And so service service is the thing. CA: That sounds like, even for someone who&apos;s not feeling, like, depressed or at the edge right now, but a good checklist-question to ask is, is there someone I could reach out to actually, there maybe other people who are in a much worse situation and maybe there is a call I could make that would be incredibly valuable to that person and help build a relationship with future? SS: &quot;Are you OK?&quot; &quot;How are you? You know, a friend of mine, George Flynn, he says his test for a leader is if they ask you how you&apos;re doing, they actually care about the answer. And I really like that. CA: OK, I could talk with you for hours about this, but we&apos;re going to go to some questions now. So here&apos;s a question from Kayum. &quot;If there is no way to get back to normal,&quot; as you said, &quot;then are we on the right path of building new normal already? Or can you help us with a blueprint that new normal should be based on?&quot; SS: So blueprint? No. Guidances? Yes. I think that humanity has to be -- We have to remember that humanity matters. And when I say humanity, I don&apos;t mean big-H Humanity, I mean little-H humanity, our humanity. When COVID first happened, so many leaders leaned on their humanity, whether they were effective or ineffective leaders prior to COVID, many of them picked up the phone and said, &quot;Are you OK?&quot; They called their teams just to check in on them. Or they called their friends to say, &quot;Are you OK? How are you?&quot; Well, we don&apos;t need a global pandemic to do that. That&apos;s called good leadership and we should be doing that all the time. And we should be encouraging those in our charge to do the same for those in their charge. You know, the hierarchy can still be effective that way. I hope that remains. I hope that remains. I hope the use of the telephone remains. That we don&apos;t just go back to texting all the time. I hope that putting our phones away and having family dinner remains. I think there&apos;s a lot of kids that will actually come through this with stronger relationships with their siblings if they have them, and stronger relationship with their parents because they had so much time together. And kids who may have struggled prior because they weren&apos;t getting the kind of attention they needed because their parents were so busy with work, you know, even if mom or dad are busy on a Zoom call all day, that hour that they would ordinarily just go get a cup of coffee or something, that they could focus on their kid. I think a lot of kids actually will come out of this. And kids are remarkably adaptable. They&apos;re remarkably adaptable. CA: Here’s a question from Mariusz. &quot;Could you give us some tips on how to discover our Why?&quot; SS: Absolutely. I&apos;ll give you a little exercise that you can do with your friends. It&apos;s called the Friends Exercise. Find a friend you love and who loves you. The person who, if they called you at three o&apos;clock in the morning, you take the call and you know they would do the same for you. Do not do this with a sibling or a spouse. Do not do this with a parent. Those relationships are too close. Do it with a best friend. And go up to them and ask the simple question, &quot;Why are we friends?&quot; And they&apos;re going to look at you like you&apos;re crazy because you&apos;re asking them to put into words a feeling. You&apos;re asking them to use a part of the brain, the neocortex, that doesn&apos;t control feelings, and to put the thing that exists in the limbic brain into language, which it doesn&apos;t do. And so it&apos;s actually a very difficult question. They&apos;re going to say, &quot;I don&apos;t know.&quot; It&apos;s not that they don&apos;t know, it&apos;s that they can&apos;t put it into words. Ironically, you stop asking the question why and you start asking the question, &quot;what&quot; because &quot;what&quot; is a rational question. &quot;What is it about me that I know that you would be there for me no matter what?&quot; And they won&apos;t know how to answer it. They&apos;ll start describing you. &quot;I don&apos;t know, you&apos;re funny, I trust you. You&apos;ve always been there for me.&quot; You play devil&apos;s advocate. &quot;Good. That&apos;s the definition of a friend. What specifically is it about me that I know you&apos;d be there for me no matter what?&quot; And they&apos;ll continue to do the same. They&apos;ll keep trying to describe you. You keep playing devil&apos;s advocate. You get the idea. Eventually they&apos;ll give up and they&apos;ll start describing themselves. And they&apos;ll say, and this is what my friend said to me when I did it with them, &quot;I don&apos;t know, Simon. I don&apos;t even have to talk to you. I could just sit in the same room as you and I feel inspired.&quot; And I got goosebumps, I&apos;m getting them right now. They will articulate the value you have in their life and you will have some sort of emotional response, goosebumps or you&apos;ll well up, because what they&apos;re telling you is your Why, your Why is the thing you give to the world. You can do this with multiple friends and they will say almost exactly, if not the exact same thing, because that is your Why. That is the thing you give to the world. So it may not give you exact language, but it will put you squarely in the ballpark for what your Why is. CA: Here&apos;s an anonymous question. &quot;I have a friend who is currently struggling with depression, and he&apos;s just not like he used to be. I don&apos;t know what to say to him. He&apos;s actually annoyed by the question, &apos;How are you doing?&apos; How can I offer my help?&quot; SS: So one of the things I learned by accident a couple of years ago is sometimes statements work better than questions. Because questions people can avoid, right? This is what we all did during COVID. &quot;How are you?&quot; &quot;Fine. Fine.&quot; Everyone&apos;s fine, right? And then what do you do with that? And so try making a statement, right? Something&apos;s wrong. Something&apos;s different. You&apos;re not the same. I&apos;m worried about you. Make statements. And it leaves very little room for somebody to divert the conversation. You&apos;re not the person I know. And do it with love and empathy and the most important thing, don&apos;t show up to solve the problem. Especially when you&apos;re starting to have a difficult conversation, you don&apos;t show up to solve the problem. You show up to create an environment in which they&apos;d be willing to open up to you. That&apos;s the only goal. So try a statement instead of a question. CA: So here&apos;s the last question, I&apos;m going to ask this for me. What do you mean, Simon, when you say that everyone is a leader? SS: Leadership has nothing to do with rank or title. I know many people who sit at the highest levels of organizations who are not leaders. We do as they tell us because they have authority over us, but we don&apos;t trust them and we wouldn&apos;t follow them. And yet I also know many people who sit at very low levels of organizations that have no formal rank and no formal authority, and yet they&apos;ve made the choice to look after the person to the left of them and the person to the right of them, and we would trust them and follow them anywhere. Leadership is the responsibility to see those around us rise. It&apos;s the responsibility to take care of those around us. That&apos;s what leadership is. It&apos;s not about being in charge. It&apos;s about taking care of those in our charge. And the only thing title and authority allow you to do is lead with greater scale. Every single one of us has the opportunity to be the leader we wish we had. Every single one of us. CA: Simon, thank you so much for spending this time with us. SS: Thanks, Chris. I really appreciate it. Take care of yourself. Take care of each other. [Get access to thought-provoking events you won&apos;t want to miss. Become a TED member at ted.com/membership.]',\n",
       "        9],\n",
       "       ['Simon Sinek', 'why good leaders make you feel safe',\n",
       "        'what makes a great leader management theorist simon sinek suggests its someone who makes their employees feel secure who draws staffers into a circle of trust but creating trust and safety  especially in an uneven economy  means taking on big responsibility',\n",
       "        '56400', '18821524',\n",
       "        'There&apos;s a man by the name of Captain William Swenson who recently was awarded the congressional Medal of Honor for his actions on September 8, 2009. On that day, a column of American and Afghan troops were making their way through a part of Afghanistan to help protect a group of government officials, a group of Afghan government officials, who would be meeting with some local village elders. The column came under ambush, and was surrounded on three sides, and amongst many other things, Captain Swenson was recognized for running into live fire to rescue the wounded and pull out the dead. One of the people he rescued was a sergeant, and he and a comrade were making their way to a medevac helicopter. And what was remarkable about this day is, by sheer coincidence, one of the medevac medics happened to have a GoPro camera on his helmet and captured the whole scene on camera. It shows Captain Swenson and his comrade bringing this wounded soldier who had received a gunshot to the neck. They put him in the helicopter, and then you see Captain Swenson bend over and give him a kiss before he turns around to rescue more. I saw this, and I thought to myself, where do people like that come from? What is that? That is some deep, deep emotion, when you would want to do that. There&apos;s a love there, and I wanted to know why is it that I don&apos;t have people that I work with like that? You know, in the military, they give medals to people who are willing to sacrifice themselves so that others may gain. In business, we give bonuses to people who are willing to sacrifice others so that we may gain. We have it backwards. Right? So I asked myself, where do people like this come from? And my initial conclusion was that they&apos;re just better people. That&apos;s why they&apos;re attracted to the military. These better people are attracted to this concept of service. But that&apos;s completely wrong. What I learned was that it&apos;s the environment, and if you get the environment right, every single one of us has the capacity to do these remarkable things, and more importantly, others have that capacity too. I&apos;ve had the great honor of getting to meet some of these, who we would call heroes, who have put themselves and put their lives at risk to save others, and I asked them, &quot;Why would you do it? Why did you do it?&quot; And they all say the same thing: &quot;Because they would have done it for me.&quot; It&apos;s this deep sense of trust and cooperation. So trust and cooperation are really important here. The problem with concepts of trust and cooperation is that they are feelings, they are not instructions. I can&apos;t simply say to you, &quot;Trust me,&quot; and you will. I can&apos;t simply instruct two people  to cooperate, and they will. It&apos;s not how it works. It&apos;s a feeling. So where does that feeling come from? If you go back 50,000 years to the Paleolithic era, to the early days of Homo sapiens, what we find is that the world was filled with danger, all of these forces working very, very hard to kill us. Nothing personal. Whether it was the weather, lack of resources, maybe a saber-toothed tiger, all of these things working to reduce our lifespan. And so we evolved into social animals, where we lived together and worked together in what I call a circle of safety, inside the tribe, where we felt like we belonged. And when we felt safe amongst our own, the natural reaction was trust and cooperation. There are inherent benefits to this. It means I can fall asleep at night and trust that someone from within my tribe will watch for danger. If we don&apos;t trust each other, if I don&apos;t trust you, that means you won&apos;t watch for danger. Bad system of survival. The modern day is exactly the same thing. The world is filled with danger, things that are trying to frustrate our lives or reduce our success, reduce our opportunity for success. It could be the ups and downs in the economy, the uncertainty of the stock market. It could be a new technology that renders your business model obsolete overnight. Or it could be your competition that is sometimes trying to kill you. It&apos;s sometimes trying to put you out of business, but at the very minimum is working hard to frustrate your growth and steal your business from you. We have no control over these forces. These are a constant, and they&apos;re not going away. The only variable are the conditions inside the organization, and that&apos;s where leadership matters, because it&apos;s the leader that sets the tone. When a leader makes the choice to put the safety and lives of the people inside the organization first, to sacrifice their comforts and sacrifice the tangible results, so that the people remain and feel safe and feel like they belong, remarkable things happen. I was flying on a trip, and I was witness to an incident where a passenger attempted to board before their number was called, and I watched the gate agent treat this man like he had broken the law, like a criminal. He was yelled at for attempting to board one group too soon. So I said something. I said, &quot;Why do you have treat us like cattle? Why can&apos;t you treat us like human beings?&quot; And this is exactly what she said to me. She said, &quot;Sir, if I don&apos;t follow the rules, I could get in trouble or lose my job.&quot; All she was telling me is that she doesn&apos;t feel safe. All she was telling me is that she doesn&apos;t trust her leaders. The reason we like flying Southwest Airlines is not because they necessarily hire better people. It&apos;s because they don&apos;t fear their leaders. You see, if the conditions are wrong, we are forced to expend our own time and energy to protect ourselves from each other, and that inherently weakens the organization. When we feel safe inside the organization, we will naturally combine our talents and our strengths and work tirelessly to face the dangers outside and seize the opportunities. The closest analogy I can give to what a great leader is, is like being a parent. If you think about what being a great parent is, what do you want? What makes a great parent? We want to give our child opportunities, education, discipline them when necessary, all so that they can grow up and achieve more than we could for ourselves. Great leaders want exactly the same thing. They want to provide their people opportunity, education, discipline when necessary, build their self-confidence, give them the opportunity to try and fail, all so that they could achieve more than we could ever imagine for ourselves. Charlie Kim, who&apos;s the CEO of a company called Next Jump in New York City, a tech company, he makes the point that if you had hard times in your family, would you ever consider laying off one of your children? We would never do it. Then why do we consider laying off people inside our organization? Charlie implemented a policy of lifetime employment. If you get a job at Next Jump, you cannot get fired for performance issues. In fact, if you have issues, they will coach you and they will give you support, just like we would with one of our children who happens to come home with a C from school. It&apos;s the complete opposite. This is the reason so many people have such a visceral hatred, anger, at some of these banking CEOs with their disproportionate salaries and bonus structures. It&apos;s not the numbers. It&apos;s that they have violated the very definition of leadership. They have violated this deep-seated social contract. We know that they allowed their people to be sacrificed so they could protect their own interests, or worse, they sacrificed their people to protect their own interests. This is what so offends us, not the numbers. Would anybody be offended if we gave a $150 million bonus to Gandhi? How about a $250 million bonus to Mother Teresa? Do we have an issue with that? None at all. None at all. Great leaders would never sacrifice the people to save the numbers. They would sooner sacrifice the numbers to save the people. Bob Chapman, who runs a large manufacturing company in the Midwest called Barry-Wehmiller, in 2008 was hit very hard by the recession, and they lost 30 percent of their orders overnight. Now in a large manufacturing company, this is a big deal, and they could no longer afford their labor pool. They needed to save 10 million dollars, so, like so many companies today, the board got together and discussed layoffs. And Bob refused. You see, Bob doesn&apos;t believe in head counts. Bob believes in heart counts, and it&apos;s much more difficult to simply reduce the heart count. And so they came up with a furlough program. Every employee, from secretary to CEO, was required to take four weeks of unpaid vacation. They could take it any time they wanted, and they did not have to take it consecutively. But it was how Bob announced the program that mattered so much. He said, it&apos;s better that we should all suffer a little than any of us should have to suffer a lot, and morale went up. They saved 20 million dollars, and most importantly, as would be expected, when the people feel safe and protected by the leadership in the organization, the natural reaction is to trust and cooperate. And quite spontaneously, nobody expected, people started trading with each other. Those who could afford it more would trade with those who could afford it less. People would take five weeks so that somebody else only had to take three. Leadership is a choice. It is not a rank. I know many people at the seniormost levels of organizations who are absolutely not leaders. They are authorities, and we do what they say because they have authority over us, but we would not follow them. And I know many people who are at the bottoms of organizations who have no authority and they are absolutely leaders, and this is because they have chosen to look after the person to the left of them, and they have chosen to look after the person to the right of them. This is what a leader is. I heard a story of some Marines who were out in theater, and as is the Marine custom, the officer ate last, and he let his men eat first, and when they were done, there was no food left for him. And when they went back out in the field, his men brought him some of their food so that he may eat, because that&apos;s what happens. We call them leaders because they go first. We call them leaders because they take the risk before anybody else does. We call them leaders because they will choose to sacrifice so that their people may be safe and protected and so their people may gain, and when we do, the natural response is that our people will sacrifice for us. They will give us their blood and sweat and tears to see that their leader&apos;s vision comes to life, and when we ask them, &quot;Why would you do that? Why would you give your blood and sweat and tears for that person?&quot; they all say the same thing: &quot;Because they would have done it for me.&quot; And isn&apos;t that the organization we would all like to work in? Thank you very much. Thank you. (Applause) Thank you. (Applause)',\n",
       "        ('countries', 'companies', 'company', 'business')],\n",
       "       ['Simon Sinek', 'how great leaders inspire action',\n",
       "        'simon sinek has a simple but powerful model for inspirational leadership  starting with a golden circle and the question why  his examples include apple martin luther king jr and the wright brothers',\n",
       "        '1800000', '62350132',\n",
       "        'How do you explain when things don&apos;t go as we assume? Or better, how do you explain when others are able to achieve things that seem to defy all of the assumptions? For example: Why is Apple so innovative? Year after year, after year, they&apos;re more innovative than all their competition. And yet, they&apos;re just a computer company. They&apos;re just like everyone else. They have the same access to the same talent, the same agencies, the same consultants, the same media. Then why is it that they seem to have something different? Why is it that Martin Luther King led the Civil Rights Movement? He wasn&apos;t the only man who suffered in pre-civil rights America, and he certainly wasn&apos;t the only great orator of the day. Why him? And why is it that the Wright brothers were able to figure out controlled, powered man flight when there were certainly other teams who were better qualified, better funded -- and they didn&apos;t achieve powered man flight, and the Wright brothers beat them to it. There&apos;s something else at play here. About three and a half years ago, I made a discovery. And this discovery profoundly changed my view on how I thought the world worked, and it even profoundly changed the way in which I operate in it. As it turns out, there&apos;s a pattern. As it turns out, all the great inspiring leaders and organizations in the world, whether it&apos;s Apple or Martin Luther King or the Wright brothers, they all think, act and communicate the exact same way. And it&apos;s the complete opposite to everyone else. All I did was codify it, and it&apos;s probably the world&apos;s simplest idea. I call it the golden circle. Why? How? What? This little idea explains why some organizations and some leaders are able to inspire where others aren&apos;t. Let me define the terms really quickly. Every single person, every single organization on the planet knows what they do, 100 percent. Some know how they do it, whether you call it your differentiated value proposition or your proprietary process or your USP. But very, very few people or organizations know why they do what they do. And by &quot;why&quot; I don&apos;t mean &quot;to make a profit.&quot; That&apos;s a result. It&apos;s always a result. By &quot;why,&quot; I mean: What&apos;s your purpose? What&apos;s your cause? What&apos;s your belief? Why does your organization exist? Why do you get out of bed in the morning? And why should anyone care? As a result, the way we think, we act, the way we communicate is from the outside in, it&apos;s obvious. We go from the clearest thing to the fuzziest thing. But the inspired leaders and the inspired organizations -- regardless of their size, regardless of their industry -- all think, act and communicate from the inside out. Let me give you an example. I use Apple because they&apos;re easy to understand and everybody gets it. If Apple were like everyone else, a marketing message from them might sound like this: &quot;We make great computers. They&apos;re beautifully designed, simple to use and user friendly. Want to buy one?&quot; &quot;Meh.&quot; That&apos;s how most of us communicate. That&apos;s how most marketing and sales are done, that&apos;s how we communicate interpersonally. We say what we do, we say how we&apos;re different or better and we expect some sort of a behavior, a purchase, a vote, something like that. Here&apos;s our new law firm: We have the best lawyers with the biggest clients, we always perform for our clients. Here&apos;s our new car: It gets great gas mileage, it has leather seats. Buy our car. But it&apos;s uninspiring. Here&apos;s how Apple actually communicates. &quot;Everything we do, we believe in challenging the status quo. We believe in thinking differently. The way we challenge the status quo is by making our products beautifully designed, simple to use and user friendly. We just happen to make great computers. Want to buy one?&quot; Totally different, right? You&apos;re ready to buy a computer from me. I just reversed the order of the information. What it proves to us is that people don&apos;t buy what you do; people buy why you do it. This explains why every single person in this room is perfectly comfortable buying a computer from Apple. But we&apos;re also perfectly comfortable buying an MP3 player from Apple, or a phone from Apple, or a DVR from Apple. As I said before, Apple&apos;s just a computer company. Nothing distinguishes them structurally from any of their competitors. Their competitors are equally qualified to make all of these products. In fact, they tried. A few years ago, Gateway came out with flat-screen TVs. They&apos;re eminently qualified to make flat-screen TVs. They&apos;ve been making flat-screen monitors for years. Nobody bought one. Dell came out with MP3 players and PDAs, and they make great quality products, and they can make perfectly well-designed products -- and nobody bought one. In fact, talking about it now, we can&apos;t even imagine buying an MP3 player from Dell. Why would you buy one from a computer company? But we do it every day. People don&apos;t buy what you do; they buy why you do it. The goal is not to do business with everybody who needs what you have. The goal is to do business with people who believe what you believe. Here&apos;s the best part: None of what I&apos;m telling you is my opinion. It&apos;s all grounded in the tenets of biology. Not psychology, biology. If you look at a cross-section of the human brain, from the top down, the human brain is actually broken into three major components that correlate perfectly with the golden circle. Our newest brain, our Homo sapien brain, our neocortex, corresponds with the &quot;what&quot; level. The neocortex is responsible for all of our rational and analytical thought and language. The middle two sections make up our limbic brains, and our limbic brains are responsible for all of our feelings, like trust and loyalty. It&apos;s also responsible for all human behavior, all decision-making, and it has no capacity for language. In other words, when we communicate from the outside in, yes, people can understand vast amounts of complicated information like features and benefits and facts and figures. It just doesn&apos;t drive behavior. When we can communicate from the inside out, we&apos;re talking directly to the part of the brain that controls behavior, and then we allow people to rationalize it with the tangible things we say and do. This is where gut decisions come from. Sometimes you can give somebody all the facts and figures, and they say, &quot;I know what all the facts and details say, but it just doesn&apos;t feel right.&quot; Why would we use that verb, it doesn&apos;t &quot;feel&quot; right? Because the part of the brain that controls decision-making doesn&apos;t control language. The best we can muster up is, &quot;I don&apos;t know.  It just doesn&apos;t feel right.&quot; Or sometimes you say you&apos;re leading with your heart or soul. I hate to break it to you, those aren&apos;t other body parts controlling your behavior. It&apos;s all happening here in your limbic brain, the part of the brain that controls decision-making and not language. But if you don&apos;t know why you do what you do, and people respond to why you do what you do, then how will you ever get people to vote for you, or buy something from you, or, more importantly, be loyal and want to be a part of what it is that you do. The goal is not just to sell to people who need what you have; the goal is to sell to people who believe what you believe. The goal is not just to hire people who need a job; it&apos;s to hire people who believe what you believe. I always say that, you know, if you hire people just because they can do a job, they&apos;ll work for your money, but if they believe what you believe, they&apos;ll work for you with blood and sweat and tears. Nowhere else is there a better example than with the Wright brothers. Most people don&apos;t know about Samuel Pierpont Langley. And back in the early 20th century, the pursuit of powered man flight was like the dot com of the day. Everybody was trying it. And Samuel Pierpont Langley had, what we assume, to be the recipe for success. Even now, you ask people, &quot;Why did your product or why did your company fail?&quot; and people always give you the same permutation of the same three things: under-capitalized, the wrong people, bad market conditions. It&apos;s always the same three things, so let&apos;s explore that. Samuel Pierpont Langley was given 50,000 dollars by the War Department to figure out this flying machine. Money was no problem. He held a seat at Harvard and worked at the Smithsonian and was extremely well-connected; he knew all the big minds of the day. He hired the best minds money could find and the market conditions were fantastic. The New York Times followed him around everywhere, and everyone was rooting for Langley. Then how come we&apos;ve never heard of Samuel Pierpont Langley? A few hundred miles away in Dayton, Ohio, Orville and Wilbur Wright, they had none of what we consider to be the recipe for success. They had no money; they paid for their dream with the proceeds from their bicycle shop. Not a single person on the Wright brothers&apos; team had a college education, not even Orville or Wilbur. And The New York Times followed them around nowhere. The difference was, Orville and Wilbur were driven by a cause, by a purpose, by a belief. They believed that if they could figure out this flying machine, it&apos;ll change the course of the world. Samuel Pierpont Langley was different. He wanted to be rich, and he wanted to be famous. He was in pursuit of the result. He was in pursuit of the riches. And lo and behold, look what happened. The people who believed in the Wright brothers&apos; dream worked with them with blood and sweat and tears. The others just worked for the paycheck. They tell stories of how every time the Wright brothers went out, they would have to take five sets of parts, because that&apos;s how many times they would crash before supper. And, eventually, on December 17th, 1903, the Wright brothers took flight, and no one was there to even experience it. We found out about it a few days later. And further proof that Langley was motivated by the wrong thing: the day the Wright brothers took flight, he quit. He could have said, &quot;That&apos;s an amazing discovery, guys, and I will improve upon your technology,&quot; but he didn&apos;t. He wasn&apos;t first, he didn&apos;t get rich, he didn&apos;t get famous, so he quit. People don&apos;t buy what you do; they buy why you do it. If you talk about what you believe, you will attract those who believe what you believe. But why is it important to attract those who believe what you believe? Something called the law of diffusion of innovation, if you don&apos;t know the law, you know the terminology. The first 2.5% of our population are our innovators. The next 13.5% of our population are our early adopters. The next 34% are your early majority, your late majority and your laggards. The only reason these people buy touch-tone phones is because you can&apos;t buy rotary phones anymore. (Laughter) We all sit at various places at various times on this scale, but what the law of diffusion of innovation tells us is that if you want mass-market success or mass-market acceptance of an idea, you cannot have it until you achieve this tipping point between 15 and 18 percent market penetration, and then the system tips. I love asking businesses, &quot;What&apos;s your conversion on new business?&quot; They love to tell you, &quot;It&apos;s about 10 percent,&quot; proudly. Well, you can trip over 10% of the customers. We all have about 10% who just &quot;get it.&quot; That&apos;s how we describe them, right? That&apos;s like that gut feeling, &quot;Oh, they just get it.&quot; The problem is: How do you find the ones that get it before doing business versus the ones who don&apos;t get it? So it&apos;s this here, this little gap that you have to close, as Jeffrey Moore calls it, &quot;Crossing the Chasm&quot; -- because, you see, the early majority will not try something until someone else has tried it first. And these guys, the innovators and the early adopters, they&apos;re comfortable making those gut decisions. They&apos;re more comfortable making those intuitive decisions that are driven by what they believe about the world and not just what product is available. These are the people who stood in line for six hours to buy an iPhone when they first came out, when you could have bought one off the shelf the next week. These are the people who spent 40,000 dollars on flat-screen TVs when they first came out, even though the technology was substandard. And, by the way, they didn&apos;t do it because the technology was so great; they did it for themselves. It&apos;s because they wanted to be first. People don&apos;t buy what you do; they buy why you do it and what you do simply proves what you believe. In fact, people will do the things that prove what they believe. The reason that person bought the iPhone in the first six hours, stood in line for six hours, was because of what they believed about the world, and how they wanted everybody to see them: they were first. People don&apos;t buy what you do; they buy why you do it. So let me give you a famous example, a famous failure and a famous success of the law of diffusion of innovation. First, the famous failure. It&apos;s a commercial example. As we said before, the recipe for success is money and the right people and the right market conditions. You should have success then. Look at TiVo. From the time TiVo came out about eight or nine years ago to this current day, they are the single highest-quality product on the market, hands down, there is no dispute. They were extremely well-funded. Market conditions were fantastic. I mean, we use TiVo as verb. I TiVo stuff on my piece-of-junk Time Warner DVR all the time. (Laughter) But TiVo&apos;s a commercial failure. They&apos;ve never made money. And when they went IPO, their stock was at about 30 or 40 dollars and then plummeted, and it&apos;s never traded above 10. In fact, I don&apos;t think it&apos;s even traded above six, except for a couple of little spikes. Because you see, when TiVo launched their product, they told us all what they had. They said, &quot;We have a product that pauses live TV, skips commercials, rewinds live TV and memorizes your viewing habits without you even asking.&quot; And the cynical majority said, &quot;We don&apos;t believe you. We don&apos;t need it. We don&apos;t like it. You&apos;re scaring us.&quot; What if they had said, &quot;If you&apos;re the kind of person who likes to have total control over every aspect of your life, boy, do we have a product for you. It pauses live TV, skips commercials, memorizes your viewing habits, etc., etc.&quot; People don&apos;t buy what you do; they buy why you do it, and what you do simply serves as the proof of what you believe. Now let me give you a successful example of the law of diffusion of innovation. In the summer of 1963, 250,000 people showed up on the mall in Washington to hear Dr. King speak. They sent out no invitations, and there was no website to check the date. How do you do that? Well, Dr. King wasn&apos;t the only man in America who was a great orator. He wasn&apos;t the only man in America who suffered in a pre-civil rights America. In fact, some of his ideas were bad. But he had a gift. He didn&apos;t go around telling people what needed to change in America. He went around and told people what he believed. &quot;I believe, I believe, I believe,&quot; he told people. And people who believed what he believed took his cause, and they made it their own, and they told people. And some of those people created structures to get the word out to even more people. And lo and behold, 250,000 people showed up on the right day at the right time to hear him speak. How many of them showed up for him? Zero. They showed up for themselves. It&apos;s what they believed about America that got them to travel in a bus for eight hours to stand in the sun in Washington in the middle of August. It&apos;s what they believed, and it wasn&apos;t about black versus white: 25% of the audience was white. Dr. King believed that there are two types of laws in this world: those that are made by a higher authority and those that are made by men. And not until all the laws that are made by men are consistent with the laws made by the higher authority will we live in a just world. It just so happened that the Civil Rights Movement was the perfect thing to help him bring his cause to life. We followed, not for him, but for ourselves. By the way, he gave the &quot;I have a dream&quot; speech, not the &quot;I have a plan&quot; speech. (Laughter) Listen to politicians now, with their comprehensive 12-point plans. They&apos;re not inspiring anybody. Because there are leaders and there are those who lead. Leaders hold a position of power or authority, but those who lead inspire us. Whether they&apos;re individuals or organizations, we follow those who lead, not because we have to, but because we want to. We follow those who lead, not for them, but for ourselves. And it&apos;s those who start with &quot;why&quot; that have the ability to inspire those around them or find others who inspire them. Thank you very much. (Applause)',\n",
       "        8]], dtype=object)"
      ]
     },
     "execution_count": 21,
     "metadata": {},
     "output_type": "execute_result"
    }
   ],
   "source": [
    "df[df['author'] == 'Simon Sinek'].values"
   ]
  },
  {
   "attachments": {},
   "cell_type": "markdown",
   "metadata": {},
   "source": []
  }
 ],
 "metadata": {
  "kernelspec": {
   "display_name": "Python 3",
   "language": "python",
   "name": "python3"
  },
  "language_info": {
   "codemirror_mode": {
    "name": "ipython",
    "version": 3
   },
   "file_extension": ".py",
   "mimetype": "text/x-python",
   "name": "python",
   "nbconvert_exporter": "python",
   "pygments_lexer": "ipython3",
   "version": "3.9.7"
  },
  "orig_nbformat": 4
 },
 "nbformat": 4,
 "nbformat_minor": 2
}
