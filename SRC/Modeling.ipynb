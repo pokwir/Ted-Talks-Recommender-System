{
 "cells": [
  {
   "cell_type": "code",
   "execution_count": 7,
   "metadata": {},
   "outputs": [],
   "source": [
    "import pandas as pd\n",
    "import numpy as np\n",
    "# import pandas\n",
    "import pandas as pd\n",
    "\n",
    "# import TfidfVectorizer\n",
    "from sklearn.feature_extraction.text import TfidfVectorizer\n",
    "\n",
    "# import cosine_similarity\n",
    "from sklearn.metrics.pairwise import cosine_similarity"
   ]
  },
  {
   "cell_type": "code",
   "execution_count": 2,
   "metadata": {},
   "outputs": [],
   "source": [
    "data = '/Users/patrickokwir/Desktop/Git_Projects/Ted-Talks-Recommender-System/Data_output/talks.csv'"
   ]
  },
  {
   "cell_type": "code",
   "execution_count": 5,
   "metadata": {},
   "outputs": [],
   "source": [
    "df = pd.read_csv(data, index_col=0)"
   ]
  },
  {
   "cell_type": "code",
   "execution_count": 6,
   "metadata": {},
   "outputs": [
    {
     "data": {
      "text/html": [
       "<div>\n",
       "<style scoped>\n",
       "    .dataframe tbody tr th:only-of-type {\n",
       "        vertical-align: middle;\n",
       "    }\n",
       "\n",
       "    .dataframe tbody tr th {\n",
       "        vertical-align: top;\n",
       "    }\n",
       "\n",
       "    .dataframe thead th {\n",
       "        text-align: right;\n",
       "    }\n",
       "</style>\n",
       "<table border=\"1\" class=\"dataframe\">\n",
       "  <thead>\n",
       "    <tr style=\"text-align: right;\">\n",
       "      <th></th>\n",
       "      <th>author</th>\n",
       "      <th>talk</th>\n",
       "      <th>description</th>\n",
       "      <th>likes</th>\n",
       "      <th>views</th>\n",
       "    </tr>\n",
       "  </thead>\n",
       "  <tbody>\n",
       "    <tr>\n",
       "      <th>0</th>\n",
       "      <td>Conor Russomanno</td>\n",
       "      <td>a powerful new neurotech tool for augmenting y...</td>\n",
       "      <td>in an astonishing talk and tech demo neurotech...</td>\n",
       "      <td>4700</td>\n",
       "      <td>157930</td>\n",
       "    </tr>\n",
       "    <tr>\n",
       "      <th>1</th>\n",
       "      <td>Peter Singer</td>\n",
       "      <td>a modern argument for the rights of animals</td>\n",
       "      <td>why do we prioritize human rights over those o...</td>\n",
       "      <td>7600</td>\n",
       "      <td>254482</td>\n",
       "    </tr>\n",
       "    <tr>\n",
       "      <th>2</th>\n",
       "      <td>Sahar Zand</td>\n",
       "      <td>why iranians are cutting their hair for woman ...</td>\n",
       "      <td>filmmaker sahar zand vividly explores the ongo...</td>\n",
       "      <td>1100</td>\n",
       "      <td>393882</td>\n",
       "    </tr>\n",
       "    <tr>\n",
       "      <th>3</th>\n",
       "      <td>Shannon Odell</td>\n",
       "      <td>are solar panels worth it</td>\n",
       "      <td>today in many countries solar is the cheapest ...</td>\n",
       "      <td>3700</td>\n",
       "      <td>126251</td>\n",
       "    </tr>\n",
       "    <tr>\n",
       "      <th>4</th>\n",
       "      <td>Angus Hervey</td>\n",
       "      <td>why are we so bad at reporting good news</td>\n",
       "      <td>why is good news so rare in a special broadcas...</td>\n",
       "      <td>1200</td>\n",
       "      <td>415329</td>\n",
       "    </tr>\n",
       "  </tbody>\n",
       "</table>\n",
       "</div>"
      ],
      "text/plain": [
       "             author                                               talk  \\\n",
       "0  Conor Russomanno  a powerful new neurotech tool for augmenting y...   \n",
       "1      Peter Singer        a modern argument for the rights of animals   \n",
       "2        Sahar Zand  why iranians are cutting their hair for woman ...   \n",
       "3     Shannon Odell                          are solar panels worth it   \n",
       "4      Angus Hervey           why are we so bad at reporting good news   \n",
       "\n",
       "                                         description  likes   views  \n",
       "0  in an astonishing talk and tech demo neurotech...   4700  157930  \n",
       "1  why do we prioritize human rights over those o...   7600  254482  \n",
       "2  filmmaker sahar zand vividly explores the ongo...   1100  393882  \n",
       "3  today in many countries solar is the cheapest ...   3700  126251  \n",
       "4  why is good news so rare in a special broadcas...   1200  415329  "
      ]
     },
     "execution_count": 6,
     "metadata": {},
     "output_type": "execute_result"
    }
   ],
   "source": [
    "df.head(5)"
   ]
  },
  {
   "cell_type": "code",
   "execution_count": null,
   "metadata": {},
   "outputs": [],
   "source": []
  }
 ],
 "metadata": {
  "kernelspec": {
   "display_name": "Python 3",
   "language": "python",
   "name": "python3"
  },
  "language_info": {
   "codemirror_mode": {
    "name": "ipython",
    "version": 3
   },
   "file_extension": ".py",
   "mimetype": "text/x-python",
   "name": "python",
   "nbconvert_exporter": "python",
   "pygments_lexer": "ipython3",
   "version": "3.9.7"
  },
  "orig_nbformat": 4
 },
 "nbformat": 4,
 "nbformat_minor": 2
}
