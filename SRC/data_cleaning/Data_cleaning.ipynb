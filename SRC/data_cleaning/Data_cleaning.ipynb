{
 "cells": [
  {
   "attachments": {},
   "cell_type": "markdown",
   "metadata": {},
   "source": [
    "**Data Cleaning**\n",
    "---"
   ]
  },
  {
   "cell_type": "code",
   "execution_count": 1,
   "metadata": {},
   "outputs": [],
   "source": [
    "import pandas as pd\n",
    "import numpy as np\n",
    "import sqlite3"
   ]
  },
  {
   "cell_type": "code",
   "execution_count": 24,
   "metadata": {},
   "outputs": [],
   "source": [
    "# connect to the database\n",
    "con = sqlite3.connect('talks.db')\n",
    "cur = con.cursor()\n",
    "cur.execute('select author, talk, description, likes, views from talks')\n",
    "talks = cur.fetchall()"
   ]
  },
  {
   "cell_type": "code",
   "execution_count": null,
   "metadata": {},
   "outputs": [],
   "source": []
  },
  {
   "cell_type": "code",
   "execution_count": 25,
   "metadata": {},
   "outputs": [
    {
     "data": {
      "text/html": [
       "<div>\n",
       "<style scoped>\n",
       "    .dataframe tbody tr th:only-of-type {\n",
       "        vertical-align: middle;\n",
       "    }\n",
       "\n",
       "    .dataframe tbody tr th {\n",
       "        vertical-align: top;\n",
       "    }\n",
       "\n",
       "    .dataframe thead th {\n",
       "        text-align: right;\n",
       "    }\n",
       "</style>\n",
       "<table border=\"1\" class=\"dataframe\">\n",
       "  <thead>\n",
       "    <tr style=\"text-align: right;\">\n",
       "      <th></th>\n",
       "      <th>author</th>\n",
       "      <th>talk</th>\n",
       "      <th>description</th>\n",
       "      <th>likes</th>\n",
       "      <th>views</th>\n",
       "    </tr>\n",
       "  </thead>\n",
       "  <tbody>\n",
       "    <tr>\n",
       "      <th>0</th>\n",
       "      <td>Conor Russomanno</td>\n",
       "      <td>A powerful new neurotech tool for augmenting y...</td>\n",
       "      <td>In an astonishing talk and tech demo, neurotec...</td>\n",
       "      <td>4.7K</td>\n",
       "      <td>157,930</td>\n",
       "    </tr>\n",
       "    <tr>\n",
       "      <th>1</th>\n",
       "      <td>Peter Singer</td>\n",
       "      <td>A modern argument for the rights of animals</td>\n",
       "      <td>Why do we prioritize human rights over those o...</td>\n",
       "      <td>7.6K</td>\n",
       "      <td>254,482</td>\n",
       "    </tr>\n",
       "    <tr>\n",
       "      <th>2</th>\n",
       "      <td>Sahar Zand</td>\n",
       "      <td>Why Iranians are cutting their hair for \"Woman...</td>\n",
       "      <td>Filmmaker Sahar Zand vividly explores the ongo...</td>\n",
       "      <td>11K</td>\n",
       "      <td>393,882</td>\n",
       "    </tr>\n",
       "    <tr>\n",
       "      <th>3</th>\n",
       "      <td>Shannon Odell</td>\n",
       "      <td>Are solar panels worth it?</td>\n",
       "      <td>Today in many countries solar is the cheapest ...</td>\n",
       "      <td>3.7K</td>\n",
       "      <td>126,251</td>\n",
       "    </tr>\n",
       "    <tr>\n",
       "      <th>4</th>\n",
       "      <td>Angus Hervey</td>\n",
       "      <td>Why are we so bad at reporting good news?</td>\n",
       "      <td>Why is good news so rare? In a special broadca...</td>\n",
       "      <td>12K</td>\n",
       "      <td>415,329</td>\n",
       "    </tr>\n",
       "  </tbody>\n",
       "</table>\n",
       "</div>"
      ],
      "text/plain": [
       "             author                                               talk  \\\n",
       "0  Conor Russomanno  A powerful new neurotech tool for augmenting y...   \n",
       "1      Peter Singer       A modern argument for the rights of animals    \n",
       "2        Sahar Zand  Why Iranians are cutting their hair for \"Woman...   \n",
       "3     Shannon Odell                        Are solar panels worth it?    \n",
       "4      Angus Hervey         Why are we so bad at reporting good news?    \n",
       "\n",
       "                                         description likes    views  \n",
       "0  In an astonishing talk and tech demo, neurotec...  4.7K  157,930  \n",
       "1  Why do we prioritize human rights over those o...  7.6K  254,482  \n",
       "2  Filmmaker Sahar Zand vividly explores the ongo...   11K  393,882  \n",
       "3  Today in many countries solar is the cheapest ...  3.7K  126,251  \n",
       "4  Why is good news so rare? In a special broadca...   12K  415,329  "
      ]
     },
     "execution_count": 25,
     "metadata": {},
     "output_type": "execute_result"
    }
   ],
   "source": [
    "# create dataframe from talks(list of talks)\n",
    "columns = ['author', 'talk', 'description', 'likes', 'views']\n",
    "df = pd.DataFrame(talks, columns=columns)\n",
    "df.head()"
   ]
  },
  {
   "cell_type": "code",
   "execution_count": 36,
   "metadata": {},
   "outputs": [],
   "source": [
    "# convert columns to data types\n",
    "def convert_data_types(df):\n",
    "    '''function to convert column data types for data processing'''\n",
    "    df = df.astype({\n",
    "        'author': 'string',\n",
    "        'talk': 'string',\n",
    "        'description': 'string',\n",
    "        'likes': 'int',\n",
    "        'views': 'int'\n",
    "    })\n",
    "    return df"
   ]
  },
  {
   "cell_type": "code",
   "execution_count": 21,
   "metadata": {},
   "outputs": [],
   "source": [
    "df = convert_data_types(df)"
   ]
  },
  {
   "cell_type": "code",
   "execution_count": 16,
   "metadata": {},
   "outputs": [
    {
     "data": {
      "text/plain": [
       "author         string\n",
       "talk           string\n",
       "description    string\n",
       "likes          string\n",
       "views          string\n",
       "dtype: object"
      ]
     },
     "execution_count": 16,
     "metadata": {},
     "output_type": "execute_result"
    }
   ],
   "source": [
    "df.dtypes"
   ]
  },
  {
   "cell_type": "code",
   "execution_count": 22,
   "metadata": {},
   "outputs": [
    {
     "data": {
      "text/plain": [
       "(5811, 5)"
      ]
     },
     "execution_count": 22,
     "metadata": {},
     "output_type": "execute_result"
    }
   ],
   "source": [
    "df.shape"
   ]
  },
  {
   "cell_type": "code",
   "execution_count": 27,
   "metadata": {},
   "outputs": [
    {
     "name": "stderr",
     "output_type": "stream",
     "text": [
      "/var/folders/7f/4z7lvktj44g121hm_1s6v18h0000gn/T/ipykernel_54076/3213296766.py:5: FutureWarning: The default value of regex will change from True to False in a future version. In addition, single character regular expressions will *not* be treated as literal strings when regex=True.\n",
      "  df['likes'] = df['likes'].str.replace('.', '')\n"
     ]
    }
   ],
   "source": [
    "#remove 'K' from string in likes column and replace it with '000'\n",
    "df['likes'] = df['likes'].str.replace('K', '00')\n",
    "df['likes'] = df['likes'].str.replace('M', '00000')\n",
    "# remove '.' from string in likes column\n",
    "df['likes'] = df['likes'].str.replace('.', '')\n",
    "\n"
   ]
  },
  {
   "cell_type": "code",
   "execution_count": 29,
   "metadata": {},
   "outputs": [],
   "source": [
    "df['likes'] = df['likes'].astype(int)"
   ]
  },
  {
   "cell_type": "code",
   "execution_count": 31,
   "metadata": {},
   "outputs": [],
   "source": [
    "# remove \",\" from views column\n",
    "\n",
    "df['views'] = df['views'].apply(lambda x: x.replace(',', ''))"
   ]
  },
  {
   "cell_type": "code",
   "execution_count": 32,
   "metadata": {},
   "outputs": [],
   "source": [
    "df['views'] = df['views'].astype(int)"
   ]
  },
  {
   "cell_type": "code",
   "execution_count": 33,
   "metadata": {},
   "outputs": [
    {
     "data": {
      "text/html": [
       "<div>\n",
       "<style scoped>\n",
       "    .dataframe tbody tr th:only-of-type {\n",
       "        vertical-align: middle;\n",
       "    }\n",
       "\n",
       "    .dataframe tbody tr th {\n",
       "        vertical-align: top;\n",
       "    }\n",
       "\n",
       "    .dataframe thead th {\n",
       "        text-align: right;\n",
       "    }\n",
       "</style>\n",
       "<table border=\"1\" class=\"dataframe\">\n",
       "  <thead>\n",
       "    <tr style=\"text-align: right;\">\n",
       "      <th></th>\n",
       "      <th>author</th>\n",
       "      <th>talk</th>\n",
       "      <th>description</th>\n",
       "      <th>likes</th>\n",
       "      <th>views</th>\n",
       "    </tr>\n",
       "  </thead>\n",
       "  <tbody>\n",
       "    <tr>\n",
       "      <th>0</th>\n",
       "      <td>Conor Russomanno</td>\n",
       "      <td>A powerful new neurotech tool for augmenting y...</td>\n",
       "      <td>In an astonishing talk and tech demo, neurotec...</td>\n",
       "      <td>4700</td>\n",
       "      <td>157930</td>\n",
       "    </tr>\n",
       "    <tr>\n",
       "      <th>1</th>\n",
       "      <td>Peter Singer</td>\n",
       "      <td>A modern argument for the rights of animals</td>\n",
       "      <td>Why do we prioritize human rights over those o...</td>\n",
       "      <td>7600</td>\n",
       "      <td>254482</td>\n",
       "    </tr>\n",
       "    <tr>\n",
       "      <th>2</th>\n",
       "      <td>Sahar Zand</td>\n",
       "      <td>Why Iranians are cutting their hair for \"Woman...</td>\n",
       "      <td>Filmmaker Sahar Zand vividly explores the ongo...</td>\n",
       "      <td>1100</td>\n",
       "      <td>393882</td>\n",
       "    </tr>\n",
       "    <tr>\n",
       "      <th>3</th>\n",
       "      <td>Shannon Odell</td>\n",
       "      <td>Are solar panels worth it?</td>\n",
       "      <td>Today in many countries solar is the cheapest ...</td>\n",
       "      <td>3700</td>\n",
       "      <td>126251</td>\n",
       "    </tr>\n",
       "    <tr>\n",
       "      <th>4</th>\n",
       "      <td>Angus Hervey</td>\n",
       "      <td>Why are we so bad at reporting good news?</td>\n",
       "      <td>Why is good news so rare? In a special broadca...</td>\n",
       "      <td>1200</td>\n",
       "      <td>415329</td>\n",
       "    </tr>\n",
       "  </tbody>\n",
       "</table>\n",
       "</div>"
      ],
      "text/plain": [
       "             author                                               talk  \\\n",
       "0  Conor Russomanno  A powerful new neurotech tool for augmenting y...   \n",
       "1      Peter Singer       A modern argument for the rights of animals    \n",
       "2        Sahar Zand  Why Iranians are cutting their hair for \"Woman...   \n",
       "3     Shannon Odell                        Are solar panels worth it?    \n",
       "4      Angus Hervey         Why are we so bad at reporting good news?    \n",
       "\n",
       "                                         description  likes   views  \n",
       "0  In an astonishing talk and tech demo, neurotec...   4700  157930  \n",
       "1  Why do we prioritize human rights over those o...   7600  254482  \n",
       "2  Filmmaker Sahar Zand vividly explores the ongo...   1100  393882  \n",
       "3  Today in many countries solar is the cheapest ...   3700  126251  \n",
       "4  Why is good news so rare? In a special broadca...   1200  415329  "
      ]
     },
     "execution_count": 33,
     "metadata": {},
     "output_type": "execute_result"
    }
   ],
   "source": [
    "df.head()# "
   ]
  },
  {
   "cell_type": "code",
   "execution_count": 37,
   "metadata": {},
   "outputs": [],
   "source": [
    "df = convert_data_types(df)"
   ]
  },
  {
   "cell_type": "code",
   "execution_count": 38,
   "metadata": {},
   "outputs": [
    {
     "data": {
      "text/plain": [
       "author         string\n",
       "talk           string\n",
       "description    string\n",
       "likes           int64\n",
       "views           int64\n",
       "dtype: object"
      ]
     },
     "execution_count": 38,
     "metadata": {},
     "output_type": "execute_result"
    }
   ],
   "source": [
    "df.dtypes"
   ]
  },
  {
   "cell_type": "code",
   "execution_count": 46,
   "metadata": {},
   "outputs": [
    {
     "name": "stderr",
     "output_type": "stream",
     "text": [
      "/var/folders/7f/4z7lvktj44g121hm_1s6v18h0000gn/T/ipykernel_54076/3267924737.py:2: FutureWarning: The default value of regex will change from True to False in a future version.\n",
      "  df['talk'] = df['talk'].str.replace('[^\\w\\s]', '')\n",
      "/var/folders/7f/4z7lvktj44g121hm_1s6v18h0000gn/T/ipykernel_54076/3267924737.py:7: FutureWarning: The default value of regex will change from True to False in a future version.\n",
      "  df['description'] = df['description'].str.replace('[^\\w\\s]', '')\n"
     ]
    }
   ],
   "source": [
    "# remove punctuation from column talk and remove non-alphanumeric characters\n",
    "df['talk'] = df['talk'].str.replace('[^\\w\\s]', '')\n",
    "df['talk'] = df['talk'].str.lower()\n",
    "df['talk'] = df['talk'].str.strip()\n",
    "\n",
    "# remove punctuation from column description and remove non-alphanumeric characters\n",
    "df['description'] = df['description'].str.replace('[^\\w\\s]', '')\n",
    "df['description'] = df['description'].str.lower()\n",
    "df['description'] = df['description'].str.strip()"
   ]
  },
  {
   "cell_type": "code",
   "execution_count": 48,
   "metadata": {},
   "outputs": [
    {
     "data": {
      "text/html": [
       "<div>\n",
       "<style scoped>\n",
       "    .dataframe tbody tr th:only-of-type {\n",
       "        vertical-align: middle;\n",
       "    }\n",
       "\n",
       "    .dataframe tbody tr th {\n",
       "        vertical-align: top;\n",
       "    }\n",
       "\n",
       "    .dataframe thead th {\n",
       "        text-align: right;\n",
       "    }\n",
       "</style>\n",
       "<table border=\"1\" class=\"dataframe\">\n",
       "  <thead>\n",
       "    <tr style=\"text-align: right;\">\n",
       "      <th></th>\n",
       "      <th>author</th>\n",
       "      <th>talk</th>\n",
       "      <th>description</th>\n",
       "      <th>likes</th>\n",
       "      <th>views</th>\n",
       "    </tr>\n",
       "  </thead>\n",
       "  <tbody>\n",
       "    <tr>\n",
       "      <th>5793</th>\n",
       "      <td>Hans Rosling</td>\n",
       "      <td>the best stats youve ever seen</td>\n",
       "      <td>youve never seen data presented like this with...</td>\n",
       "      <td>46700</td>\n",
       "      <td>15591221</td>\n",
       "    </tr>\n",
       "    <tr>\n",
       "      <th>5794</th>\n",
       "      <td>Sir Ken Robinson</td>\n",
       "      <td>do schools kill creativity</td>\n",
       "      <td>sir ken robinson makes an entertaining and pro...</td>\n",
       "      <td>2200000</td>\n",
       "      <td>75218930</td>\n",
       "    </tr>\n",
       "    <tr>\n",
       "      <th>5795</th>\n",
       "      <td>Majora Carter</td>\n",
       "      <td>greening the ghetto</td>\n",
       "      <td>in an emotionally charged talk macarthurwinnin...</td>\n",
       "      <td>9200</td>\n",
       "      <td>3072072</td>\n",
       "    </tr>\n",
       "    <tr>\n",
       "      <th>5796</th>\n",
       "      <td>David Pogue</td>\n",
       "      <td>simplicity sells</td>\n",
       "      <td>new york times columnist david pogue takes aim...</td>\n",
       "      <td>6000</td>\n",
       "      <td>2020543</td>\n",
       "    </tr>\n",
       "    <tr>\n",
       "      <th>5797</th>\n",
       "      <td>Al Gore</td>\n",
       "      <td>averting the climate crisis</td>\n",
       "      <td>with the same humor and humanity he exuded in ...</td>\n",
       "      <td>11100</td>\n",
       "      <td>3704946</td>\n",
       "    </tr>\n",
       "  </tbody>\n",
       "</table>\n",
       "</div>"
      ],
      "text/plain": [
       "                author                            talk  \\\n",
       "5793      Hans Rosling  the best stats youve ever seen   \n",
       "5794  Sir Ken Robinson      do schools kill creativity   \n",
       "5795     Majora Carter             greening the ghetto   \n",
       "5796       David Pogue                simplicity sells   \n",
       "5797           Al Gore     averting the climate crisis   \n",
       "\n",
       "                                            description    likes     views  \n",
       "5793  youve never seen data presented like this with...    46700  15591221  \n",
       "5794  sir ken robinson makes an entertaining and pro...  2200000  75218930  \n",
       "5795  in an emotionally charged talk macarthurwinnin...     9200   3072072  \n",
       "5796  new york times columnist david pogue takes aim...     6000   2020543  \n",
       "5797  with the same humor and humanity he exuded in ...    11100   3704946  "
      ]
     },
     "execution_count": 48,
     "metadata": {},
     "output_type": "execute_result"
    }
   ],
   "source": [
    "df.tail()"
   ]
  },
  {
   "cell_type": "code",
   "execution_count": 49,
   "metadata": {},
   "outputs": [],
   "source": [
    "df.to_csv('/Users/patrickokwir/Desktop/Git_Projects/Ted-Talks-Recommender-System/Data_output/talks.csv')"
   ]
  },
  {
   "cell_type": "code",
   "execution_count": null,
   "metadata": {},
   "outputs": [],
   "source": []
  }
 ],
 "metadata": {
  "kernelspec": {
   "display_name": "Python 3",
   "language": "python",
   "name": "python3"
  },
  "language_info": {
   "codemirror_mode": {
    "name": "ipython",
    "version": 3
   },
   "file_extension": ".py",
   "mimetype": "text/x-python",
   "name": "python",
   "nbconvert_exporter": "python",
   "pygments_lexer": "ipython3",
   "version": "3.9.7"
  },
  "orig_nbformat": 4
 },
 "nbformat": 4,
 "nbformat_minor": 2
}
