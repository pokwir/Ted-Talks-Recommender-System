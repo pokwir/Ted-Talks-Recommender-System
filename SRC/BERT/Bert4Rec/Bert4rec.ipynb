{
 "cells": [
  {
   "cell_type": "code",
   "execution_count": 1,
   "metadata": {},
   "outputs": [
    {
     "name": "stderr",
     "output_type": "stream",
     "text": [
      "2023-07-11 23:33:49.869539: I tensorflow/core/platform/cpu_feature_guard.cc:182] This TensorFlow binary is optimized to use available CPU instructions in performance-critical operations.\n",
      "To enable the following instructions: AVX2 FMA, in other operations, rebuild TensorFlow with the appropriate compiler flags.\n"
     ]
    }
   ],
   "source": [
    "#imports\n",
    "import pandas as pd\n",
    "import numpy as np\n",
    "import tensorflow_hub as hub\n",
    "import tensorflow_text as text\n"
   ]
  },
  {
   "cell_type": "code",
   "execution_count": 2,
   "metadata": {},
   "outputs": [
    {
     "data": {
      "text/html": [
       "<div>\n",
       "<style scoped>\n",
       "    .dataframe tbody tr th:only-of-type {\n",
       "        vertical-align: middle;\n",
       "    }\n",
       "\n",
       "    .dataframe tbody tr th {\n",
       "        vertical-align: top;\n",
       "    }\n",
       "\n",
       "    .dataframe thead th {\n",
       "        text-align: right;\n",
       "    }\n",
       "</style>\n",
       "<table border=\"1\" class=\"dataframe\">\n",
       "  <thead>\n",
       "    <tr style=\"text-align: right;\">\n",
       "      <th></th>\n",
       "      <th>author</th>\n",
       "      <th>title</th>\n",
       "      <th>description</th>\n",
       "      <th>likes</th>\n",
       "      <th>views</th>\n",
       "      <th>transcript</th>\n",
       "      <th>date</th>\n",
       "      <th>tags</th>\n",
       "    </tr>\n",
       "  </thead>\n",
       "  <tbody>\n",
       "    <tr>\n",
       "      <th>0</th>\n",
       "      <td>Machine Dazzle</td>\n",
       "      <td>how to unleash your inner maximalist through c...</td>\n",
       "      <td>tapping into the transformational power of cos...</td>\n",
       "      <td>8100</td>\n",
       "      <td>270192</td>\n",
       "      <td>Hello, I am Machine Dazzle, and I am an emotio...</td>\n",
       "      <td>Jun 2023</td>\n",
       "      <td>art, creativity, design, fashion, performance</td>\n",
       "    </tr>\n",
       "    <tr>\n",
       "      <th>1</th>\n",
       "      <td>Jioji Ravulo</td>\n",
       "      <td>a liberating vision of identity that transcend...</td>\n",
       "      <td>how can we move past societys inclination to b...</td>\n",
       "      <td>9200</td>\n",
       "      <td>309952</td>\n",
       "      <td>Can you paint with all the colors of the wind?...</td>\n",
       "      <td>Jun 2023</td>\n",
       "      <td>diversity, identity, inclusion, indigenous_peo...</td>\n",
       "    </tr>\n",
       "    <tr>\n",
       "      <th>2</th>\n",
       "      <td>Rebecca Darwent</td>\n",
       "      <td>how to fund real change in your community</td>\n",
       "      <td>is there a way to give back that benefits ever...</td>\n",
       "      <td>1000</td>\n",
       "      <td>341218</td>\n",
       "      <td>I spent my whole career in the nonprofit secto...</td>\n",
       "      <td>Jun 2023</td>\n",
       "      <td>business, community, equality, humanity, money...</td>\n",
       "    </tr>\n",
       "    <tr>\n",
       "      <th>3</th>\n",
       "      <td>Susanne Buckley-Zistel</td>\n",
       "      <td>what caused the rwandan genocide</td>\n",
       "      <td>for one hundred days in 1994 the african count...</td>\n",
       "      <td>3700</td>\n",
       "      <td>126376</td>\n",
       "      <td>For 100 days in 1994, the African country of R...</td>\n",
       "      <td>Jun 2023</td>\n",
       "      <td>africa, animation, education, history, identit...</td>\n",
       "    </tr>\n",
       "    <tr>\n",
       "      <th>4</th>\n",
       "      <td>Conor Russomanno</td>\n",
       "      <td>a powerful new neurotech tool for augmenting y...</td>\n",
       "      <td>in an astonishing talk and tech demo neurotech...</td>\n",
       "      <td>1100</td>\n",
       "      <td>374259</td>\n",
       "      <td>I became obsessed with the relationship betwee...</td>\n",
       "      <td>Jun 2023</td>\n",
       "      <td>biotech, brain, disability, health, invention,...</td>\n",
       "    </tr>\n",
       "  </tbody>\n",
       "</table>\n",
       "</div>"
      ],
      "text/plain": [
       "                   author                                              title  \\\n",
       "0          Machine Dazzle  how to unleash your inner maximalist through c...   \n",
       "1            Jioji Ravulo  a liberating vision of identity that transcend...   \n",
       "2         Rebecca Darwent          how to fund real change in your community   \n",
       "3  Susanne Buckley-Zistel                   what caused the rwandan genocide   \n",
       "4        Conor Russomanno  a powerful new neurotech tool for augmenting y...   \n",
       "\n",
       "                                         description  likes   views  \\\n",
       "0  tapping into the transformational power of cos...   8100  270192   \n",
       "1  how can we move past societys inclination to b...   9200  309952   \n",
       "2  is there a way to give back that benefits ever...   1000  341218   \n",
       "3  for one hundred days in 1994 the african count...   3700  126376   \n",
       "4  in an astonishing talk and tech demo neurotech...   1100  374259   \n",
       "\n",
       "                                          transcript      date  \\\n",
       "0  Hello, I am Machine Dazzle, and I am an emotio...  Jun 2023   \n",
       "1  Can you paint with all the colors of the wind?...  Jun 2023   \n",
       "2  I spent my whole career in the nonprofit secto...  Jun 2023   \n",
       "3  For 100 days in 1994, the African country of R...  Jun 2023   \n",
       "4  I became obsessed with the relationship betwee...  Jun 2023   \n",
       "\n",
       "                                                tags  \n",
       "0      art, creativity, design, fashion, performance  \n",
       "1  diversity, identity, inclusion, indigenous_peo...  \n",
       "2  business, community, equality, humanity, money...  \n",
       "3  africa, animation, education, history, identit...  \n",
       "4  biotech, brain, disability, health, invention,...  "
      ]
     },
     "execution_count": 2,
     "metadata": {},
     "output_type": "execute_result"
    }
   ],
   "source": [
    "data = '/Users/patrick/Desktop/Lighthouse_labs/Data Projects/Ted-Talks-Recommender-System/Data_output/ted_talk_clean_merged_bert.csv'\n",
    "df = pd.read_csv(data, index_col=0)\n",
    "df.head()"
   ]
  },
  {
   "attachments": {},
   "cell_type": "markdown",
   "metadata": {},
   "source": []
  },
  {
   "cell_type": "code",
   "execution_count": 7,
   "metadata": {},
   "outputs": [],
   "source": [
    "import regex as re"
   ]
  },
  {
   "cell_type": "code",
   "execution_count": 8,
   "metadata": {},
   "outputs": [],
   "source": [
    "df['transcript'] = df['transcript'].apply(lambda x: re.sub('[^A-Za-z0-9]+', ' ', x))"
   ]
  },
  {
   "cell_type": "code",
   "execution_count": 4,
   "metadata": {},
   "outputs": [],
   "source": [
    "preprocessor = hub.KerasLayer(\"https://tfhub.dev/tensorflow/bert_en_uncased_preprocess/3\")\n",
    "encoder = hub.KerasLayer(\"https://tfhub.dev/tensorflow/small_bert/bert_en_uncased_L-2_H-128_A-2/1\", trainable=True)"
   ]
  },
  {
   "cell_type": "code",
   "execution_count": 5,
   "metadata": {},
   "outputs": [],
   "source": [
    "import tensorflow as tf"
   ]
  },
  {
   "cell_type": "code",
   "execution_count": 6,
   "metadata": {},
   "outputs": [],
   "source": [
    "def get_bert_embeddings(text, preprocessor, encoder):\n",
    "\n",
    "    text_input = tf.keras.layers.Input(shape=(), dtype=tf.string)\n",
    "    encoder_inputs = preprocessor(text_input)\n",
    "    outputs = encoder(encoder_inputs)\n",
    "    embedding_model = tf.keras.Model(text_input, outputs['pooled_output'])\n",
    "    sentences = tf.constant([text])\n",
    "    return embedding_model(sentences)"
   ]
  },
  {
   "cell_type": "code",
   "execution_count": 9,
   "metadata": {},
   "outputs": [],
   "source": [
    "df['encodings'] = df['transcript'].apply(lambda x: get_bert_embeddings(x, preprocessor, encoder))"
   ]
  },
  {
   "cell_type": "code",
   "execution_count": null,
   "metadata": {},
   "outputs": [],
   "source": [
    "def preprocess_text():\n",
    "  text = input()\n",
    "  text = text.lower()\n",
    "  text = re.sub('[^A-Za-z0-9]+', ' ', text)\n",
    "  return text"
   ]
  },
  {
   "cell_type": "code",
   "execution_count": null,
   "metadata": {},
   "outputs": [],
   "source": [
    "query_text = preprocess_text()\n",
    "query_encoding = get_bert_embeddings(query_text, preprocessor, encoder)"
   ]
  }
 ],
 "metadata": {
  "kernelspec": {
   "display_name": "Python_3_9",
   "language": "python",
   "name": "python3"
  },
  "language_info": {
   "codemirror_mode": {
    "name": "ipython",
    "version": 3
   },
   "file_extension": ".py",
   "mimetype": "text/x-python",
   "name": "python",
   "nbconvert_exporter": "python",
   "pygments_lexer": "ipython3",
   "version": "3.9.16"
  },
  "orig_nbformat": 4
 },
 "nbformat": 4,
 "nbformat_minor": 2
}
