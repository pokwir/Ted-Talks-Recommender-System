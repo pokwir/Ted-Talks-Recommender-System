{
 "cells": [
  {
   "cell_type": "code",
   "execution_count": 1,
   "metadata": {},
   "outputs": [
    {
     "name": "stderr",
     "output_type": "stream",
     "text": [
      "2023-07-20 13:51:12.164476: I tensorflow/core/platform/cpu_feature_guard.cc:182] This TensorFlow binary is optimized to use available CPU instructions in performance-critical operations.\n",
      "To enable the following instructions: AVX2 FMA, in other operations, rebuild TensorFlow with the appropriate compiler flags.\n"
     ]
    }
   ],
   "source": [
    "#imports\n",
    "import pandas as pd\n",
    "import numpy as np\n",
    "import tensorflow_hub as hub\n",
    "import tensorflow_text as text\n"
   ]
  },
  {
   "cell_type": "code",
   "execution_count": 2,
   "metadata": {},
   "outputs": [
    {
     "data": {
      "text/html": [
       "<div>\n",
       "<style scoped>\n",
       "    .dataframe tbody tr th:only-of-type {\n",
       "        vertical-align: middle;\n",
       "    }\n",
       "\n",
       "    .dataframe tbody tr th {\n",
       "        vertical-align: top;\n",
       "    }\n",
       "\n",
       "    .dataframe thead th {\n",
       "        text-align: right;\n",
       "    }\n",
       "</style>\n",
       "<table border=\"1\" class=\"dataframe\">\n",
       "  <thead>\n",
       "    <tr style=\"text-align: right;\">\n",
       "      <th></th>\n",
       "      <th>author</th>\n",
       "      <th>title</th>\n",
       "      <th>description</th>\n",
       "      <th>likes</th>\n",
       "      <th>views</th>\n",
       "      <th>transcript</th>\n",
       "      <th>date</th>\n",
       "      <th>tags</th>\n",
       "    </tr>\n",
       "  </thead>\n",
       "  <tbody>\n",
       "    <tr>\n",
       "      <th>0</th>\n",
       "      <td>Machine Dazzle</td>\n",
       "      <td>how to unleash your inner maximalist through c...</td>\n",
       "      <td>tapping into the transformational power of cos...</td>\n",
       "      <td>8100</td>\n",
       "      <td>270192</td>\n",
       "      <td>Hello, I am Machine Dazzle, and I am an emotio...</td>\n",
       "      <td>Jun 2023</td>\n",
       "      <td>art, creativity, design, fashion, performance</td>\n",
       "    </tr>\n",
       "    <tr>\n",
       "      <th>1</th>\n",
       "      <td>Jioji Ravulo</td>\n",
       "      <td>a liberating vision of identity that transcend...</td>\n",
       "      <td>how can we move past societys inclination to b...</td>\n",
       "      <td>9200</td>\n",
       "      <td>309952</td>\n",
       "      <td>Can you paint with all the colors of the wind?...</td>\n",
       "      <td>Jun 2023</td>\n",
       "      <td>diversity, identity, inclusion, indigenous_peo...</td>\n",
       "    </tr>\n",
       "    <tr>\n",
       "      <th>2</th>\n",
       "      <td>Rebecca Darwent</td>\n",
       "      <td>how to fund real change in your community</td>\n",
       "      <td>is there a way to give back that benefits ever...</td>\n",
       "      <td>1000</td>\n",
       "      <td>341218</td>\n",
       "      <td>I spent my whole career in the nonprofit secto...</td>\n",
       "      <td>Jun 2023</td>\n",
       "      <td>business, community, equality, humanity, money...</td>\n",
       "    </tr>\n",
       "    <tr>\n",
       "      <th>3</th>\n",
       "      <td>Susanne Buckley-Zistel</td>\n",
       "      <td>what caused the rwandan genocide</td>\n",
       "      <td>for one hundred days in 1994 the african count...</td>\n",
       "      <td>3700</td>\n",
       "      <td>126376</td>\n",
       "      <td>For 100 days in 1994, the African country of R...</td>\n",
       "      <td>Jun 2023</td>\n",
       "      <td>africa, animation, education, history, identit...</td>\n",
       "    </tr>\n",
       "    <tr>\n",
       "      <th>4</th>\n",
       "      <td>Conor Russomanno</td>\n",
       "      <td>a powerful new neurotech tool for augmenting y...</td>\n",
       "      <td>in an astonishing talk and tech demo neurotech...</td>\n",
       "      <td>1100</td>\n",
       "      <td>374259</td>\n",
       "      <td>I became obsessed with the relationship betwee...</td>\n",
       "      <td>Jun 2023</td>\n",
       "      <td>biotech, brain, disability, health, invention,...</td>\n",
       "    </tr>\n",
       "  </tbody>\n",
       "</table>\n",
       "</div>"
      ],
      "text/plain": [
       "                   author                                              title  \\\n",
       "0          Machine Dazzle  how to unleash your inner maximalist through c...   \n",
       "1            Jioji Ravulo  a liberating vision of identity that transcend...   \n",
       "2         Rebecca Darwent          how to fund real change in your community   \n",
       "3  Susanne Buckley-Zistel                   what caused the rwandan genocide   \n",
       "4        Conor Russomanno  a powerful new neurotech tool for augmenting y...   \n",
       "\n",
       "                                         description  likes   views  \\\n",
       "0  tapping into the transformational power of cos...   8100  270192   \n",
       "1  how can we move past societys inclination to b...   9200  309952   \n",
       "2  is there a way to give back that benefits ever...   1000  341218   \n",
       "3  for one hundred days in 1994 the african count...   3700  126376   \n",
       "4  in an astonishing talk and tech demo neurotech...   1100  374259   \n",
       "\n",
       "                                          transcript      date  \\\n",
       "0  Hello, I am Machine Dazzle, and I am an emotio...  Jun 2023   \n",
       "1  Can you paint with all the colors of the wind?...  Jun 2023   \n",
       "2  I spent my whole career in the nonprofit secto...  Jun 2023   \n",
       "3  For 100 days in 1994, the African country of R...  Jun 2023   \n",
       "4  I became obsessed with the relationship betwee...  Jun 2023   \n",
       "\n",
       "                                                tags  \n",
       "0      art, creativity, design, fashion, performance  \n",
       "1  diversity, identity, inclusion, indigenous_peo...  \n",
       "2  business, community, equality, humanity, money...  \n",
       "3  africa, animation, education, history, identit...  \n",
       "4  biotech, brain, disability, health, invention,...  "
      ]
     },
     "execution_count": 2,
     "metadata": {},
     "output_type": "execute_result"
    }
   ],
   "source": [
    "data = '/Users/patrick/Desktop/Lighthouse_labs/Data Projects/Ted-Talks-Recommender-System/Data_output/ted_talk_clean_merged_bert.csv'\n",
    "df = pd.read_csv(data, index_col=0)\n",
    "df.head()"
   ]
  },
  {
   "attachments": {},
   "cell_type": "markdown",
   "metadata": {},
   "source": []
  },
  {
   "cell_type": "code",
   "execution_count": 3,
   "metadata": {},
   "outputs": [],
   "source": [
    "import regex as re"
   ]
  },
  {
   "cell_type": "code",
   "execution_count": 4,
   "metadata": {},
   "outputs": [],
   "source": [
    "df['transcript'] = df['transcript'].apply(lambda x: re.sub('[^A-Za-z0-9]+', ' ', x))"
   ]
  },
  {
   "cell_type": "code",
   "execution_count": 5,
   "metadata": {},
   "outputs": [],
   "source": [
    "preprocessor = hub.KerasLayer(\"https://tfhub.dev/tensorflow/bert_en_uncased_preprocess/3\")\n",
    "encoder = hub.KerasLayer(\"https://tfhub.dev/tensorflow/small_bert/bert_en_uncased_L-2_H-128_A-2/1\", trainable=True)"
   ]
  },
  {
   "cell_type": "code",
   "execution_count": 6,
   "metadata": {},
   "outputs": [],
   "source": [
    "import tensorflow as tf"
   ]
  },
  {
   "cell_type": "code",
   "execution_count": 7,
   "metadata": {},
   "outputs": [],
   "source": [
    "def get_bert_embeddings(text, preprocessor, encoder):\n",
    "\n",
    "    text_input = tf.keras.layers.Input(shape=(), dtype=tf.string)\n",
    "    encoder_inputs = preprocessor(text_input)\n",
    "    outputs = encoder(encoder_inputs)\n",
    "    embedding_model = tf.keras.Model(text_input, outputs['pooled_output'])\n",
    "    sentences = tf.constant([text])\n",
    "    return embedding_model(sentences)"
   ]
  },
  {
   "cell_type": "code",
   "execution_count": 8,
   "metadata": {},
   "outputs": [],
   "source": [
    "df['encodings'] = df['transcript'].apply(lambda x: get_bert_embeddings(x, preprocessor, encoder))"
   ]
  },
  {
   "cell_type": "code",
   "execution_count": null,
   "metadata": {},
   "outputs": [],
   "source": []
  },
  {
   "cell_type": "code",
   "execution_count": 24,
   "metadata": {},
   "outputs": [],
   "source": [
    "def preprocess_text(text):\n",
    "  # text = input()\n",
    "  text = text.lower()\n",
    "  text = re.sub('[^A-Za-z0-9]+', ' ', text)\n",
    "  return text"
   ]
  },
  {
   "cell_type": "code",
   "execution_count": 15,
   "metadata": {},
   "outputs": [],
   "source": [
    "# get transcript from df where author is the input\n",
    "def get_transcript(df, author):\n",
    "    transcript = df.loc[df['author'] == author, 'transcript'].values[0]\n",
    "    return transcript\n",
    "\n",
    "def get_transcript_list(df, author):\n",
    "    transcript_list = df.loc[df['author'] == author, 'transcript'].values\n",
    "    return transcript_list"
   ]
  },
  {
   "cell_type": "code",
   "execution_count": 29,
   "metadata": {},
   "outputs": [
    {
     "data": {
      "text/plain": [
       "'Hello everybody I m honored to be here to talk to you and what I m going to talk about today is luck and justice and the relation between them Some years ago a former student of mine called me to talk about his daughter It turns out his daughter was a high school senior was seriously interested in applying to Swarthmore where I taught and he wanted to get my sense of whether she would get in Swarthmore is an extremely hard school to get into So I said Well tell me about her And he told me about her what her grades were like her board scores her extracurricular activities And she just sounded like a superstar wonderful wonderful kid So I said She sounds fabulous She sounds like just the kind of student that Swarthmore would love to have And so he said Well does that mean that she ll get in And I said No There just aren t enough spots in the Swarthmore class for everybody who s good There aren t enough spots at Harvard or Yale or Princeton or Stanford There aren t enough spots at Google or Amazon or Apple There aren t enough spots at the TED Conference There are an awful lot of good people and some of them are not going to make it So he said Well what are we supposed to do And I said That s a very good question What are we supposed to do And I know what colleges and universities have done In the interest of fairness what they ve done is they ve kept ratcheting up the standards because it doesn t seem fair to admit less qualified people and reject better qualified people so you just keep raising the standards higher and higher until they re high enough that you can admit only the number of students that you can fit And this violates a lot of people s sense of what justice and fairness is People in American society have different opinions about what it means to say that some sort of process is just but I think there s one thing that pretty much everyone agrees on that in a just system a fair system people get what they deserve And what I was telling my former student is that when it comes to college admissions it just isn t true that people get what they deserve Some people get what they deserve and some people don t and that s just the way it is When you ratchet up requirements as colleges have done what you do is you create a crazy competition among high school kids because it s not adequate to be good it s not adequate to be good enough you have to be better than everybody else who is also applying And what this has done or what this has contributed to is a kind of epidemic of anxiety and depression that is just crushing our teenagers We are wrecking a generation with this kind of competition As I was thinking about this it occurred to me there s a way to fix this problem And here s what we could do when people apply to college we distinguish between the applicants who are good enough to be successful and the ones who aren t and we reject the ones who aren t good enough to be successful and then we take all of the others and we put their names in a hat and we just pick them out at random and admit them In other words we do college admissions by lottery and maybe we do job offers at tech companies by lottery and perish the thought maybe we even make decisions about who gets invited to talk at TED by lottery Now don t misunderstand me a lottery like this is not going to eliminate the injustice There will still be plenty of people who don t get what they deserve But at least it s honest It reveals the injustice for what it is instead of pretending otherwise and it punctures the incredible pressure balloon that our high school kids are now living under So why is it that this perfectly reasonable proposal if I do say so myself doesn t get any serious discussion I think I know why I think it s that we hate the idea that really important things in life might happen by luck or by chance that really important things in our lives are not under our control I hate that idea It s not surprising that people hate that idea but it simply is the way things are First of all college admissions already is a lottery It s just that the admissions officers pretend that it isn t So let s be honest about it And second I think if we appreciated that it was a lottery it would also get us to acknowledge the importance of good fortune in almost every one of our lives Take me Almost all the most significant events in my life have occurred to a large degree as a result of good luck When I was in seventh grade my family left New York and went to Westchester County Right at the beginning of school I met a lovely young girl who became my friend then she became my best friend then she became my girlfriend and then she became my wife Happily she s been my wife now for 52 years I had very little to do with this This was a lucky accident I went off to college and in my first semester I signed up for a class in introduction to psychology I didn t even know what psychology was but it fit into my schedule and it met requirements so I took it And by luck the class was taught by a superstar introductory psychology teacher a legend Because of that I became a psychology major Went off to graduate school I was finishing up A friend of mine who taught at Swarthmore decided he didn t want to be a professor anymore and so he quit to go to medical school The job that he occupied opened up I applied for it I got it the only job I ve ever applied for I spent 45 years teaching at Swarthmore an institution that had an enormous impact on the shape that my career took And to just give one last example I was giving a talk about some of my work in New York and there was somebody in the audience who came up to me after my talk He introduced himself He said My name is Chris Would you like to give a talk at TED And my response was What s TED Well I mean he told me and TED then wasn t what it is now But in the intervening years the talks I ve given at TED have been watched by more than 20 million people So the conclusion is I m a lucky man I m lucky about my marriage I m lucky about my education I m lucky about my career And I m lucky to have had a platform and a voice at something like TED Did I deserve the success I ve had Sure I deserve that success just as you probably deserve your success But lots of people also deserve successes like ours who haven t had it So do people get what they deserve Is society just Of course not Working hard and playing by the rules is just no guarantee of anything If we appreciate the inevitability of this kind of injustice and the centrality of good fortune we might ask ourselves what responsibilities do we have to the people we are now celebrating as heroes in this time of the pandemic when a serious illness befalls their family to make sure that they remain whole and their lives aren t ruined by the cost of dealing with the illness What do we owe people who struggle work hard and are less lucky than we are About a half century ago the philosopher John Rawls wrote a book called A Theory of Justice and in that book he introduced a concept that he called the veil of ignorance The question he posed was If you didn t know what your position in society was going to be what kind of a society would you want to create And what he suggested is that when we don t know whether we re going to enter society at the top or at the bottom what we want is a society that is pretty damn equal so that even the unlucky will be able to live decent meaningful and satisfying lives So bring this back all of you lucky successful people to your communities and do what you can to make sure that we honor and take care of people who are just as deserving of success as we are but just not as lucky Thank you '"
      ]
     },
     "execution_count": 29,
     "metadata": {},
     "output_type": "execute_result"
    }
   ],
   "source": [
    "text = get_transcript(df, 'Barry Schwartz')\n",
    "text"
   ]
  },
  {
   "cell_type": "code",
   "execution_count": 30,
   "metadata": {},
   "outputs": [],
   "source": [
    "query_text = preprocess_text(text)\n",
    "query_encoding = get_bert_embeddings(query_text, preprocessor, encoder)"
   ]
  },
  {
   "cell_type": "code",
   "execution_count": 11,
   "metadata": {},
   "outputs": [],
   "source": [
    "# import cosine similarity from sklearn\n",
    "from sklearn.metrics.pairwise import cosine_similarity"
   ]
  },
  {
   "cell_type": "code",
   "execution_count": 31,
   "metadata": {},
   "outputs": [],
   "source": [
    "df['similarity_score'] = df['encodings'].apply(lambda x: cosine_similarity(x, query_encoding)[0][0])\n",
    "df_results = df.sort_values(by=['similarity_score'], ascending=False)"
   ]
  },
  {
   "cell_type": "code",
   "execution_count": 32,
   "metadata": {},
   "outputs": [
    {
     "data": {
      "text/html": [
       "<div>\n",
       "<style scoped>\n",
       "    .dataframe tbody tr th:only-of-type {\n",
       "        vertical-align: middle;\n",
       "    }\n",
       "\n",
       "    .dataframe tbody tr th {\n",
       "        vertical-align: top;\n",
       "    }\n",
       "\n",
       "    .dataframe thead th {\n",
       "        text-align: right;\n",
       "    }\n",
       "</style>\n",
       "<table border=\"1\" class=\"dataframe\">\n",
       "  <thead>\n",
       "    <tr style=\"text-align: right;\">\n",
       "      <th></th>\n",
       "      <th>author</th>\n",
       "      <th>title</th>\n",
       "      <th>description</th>\n",
       "      <th>likes</th>\n",
       "      <th>views</th>\n",
       "      <th>transcript</th>\n",
       "      <th>date</th>\n",
       "      <th>tags</th>\n",
       "      <th>encodings</th>\n",
       "      <th>similarity_score</th>\n",
       "    </tr>\n",
       "  </thead>\n",
       "  <tbody>\n",
       "    <tr>\n",
       "      <th>1081</th>\n",
       "      <td>Barry Schwartz</td>\n",
       "      <td>what role does luck play in your life</td>\n",
       "      <td>chance plays a far bigger role in life than we...</td>\n",
       "      <td>1800</td>\n",
       "      <td>618885</td>\n",
       "      <td>Hello everybody I m honored to be here to talk...</td>\n",
       "      <td>Sep 2020</td>\n",
       "      <td>equality, personal_growth, psychology, social_...</td>\n",
       "      <td>((tf.Tensor(-0.96350807, shape=(), dtype=float...</td>\n",
       "      <td>1.000000</td>\n",
       "    </tr>\n",
       "    <tr>\n",
       "      <th>2038</th>\n",
       "      <td>Isadora Kosofsky</td>\n",
       "      <td>intimate photos of a senior love triangle</td>\n",
       "      <td>photographer and ted fellow isadora kosofsky i...</td>\n",
       "      <td>1600</td>\n",
       "      <td>558698</td>\n",
       "      <td>Jeanie Will and Adina are three senior citizen...</td>\n",
       "      <td>Sep 2018</td>\n",
       "      <td>aging, art, culture, humanity, identity, love,...</td>\n",
       "      <td>((tf.Tensor(-0.9765004, shape=(), dtype=float3...</td>\n",
       "      <td>0.980486</td>\n",
       "    </tr>\n",
       "    <tr>\n",
       "      <th>4611</th>\n",
       "      <td>Chip Conley</td>\n",
       "      <td>measuring what makes life worthwhile</td>\n",
       "      <td>when the dotcom bubble burst hotelier chip con...</td>\n",
       "      <td>10300</td>\n",
       "      <td>3454658</td>\n",
       "      <td>I m going to talk about the simple truth in le...</td>\n",
       "      <td>Jun 2010</td>\n",
       "      <td>buddhism, business, economics, happiness, mone...</td>\n",
       "      <td>((tf.Tensor(-0.9888299, shape=(), dtype=float3...</td>\n",
       "      <td>0.980300</td>\n",
       "    </tr>\n",
       "    <tr>\n",
       "      <th>5102</th>\n",
       "      <td>Jill Sobule + Julia Sweeney</td>\n",
       "      <td>the jill and julia show</td>\n",
       "      <td>two ted favorites jill sobule and julia sweene...</td>\n",
       "      <td>1600</td>\n",
       "      <td>556579</td>\n",
       "      <td>Jill Sobule At a conference in Monterey by th...</td>\n",
       "      <td>Feb 2008</td>\n",
       "      <td>collaboration, comedy, entertainment, humor, m...</td>\n",
       "      <td>((tf.Tensor(-0.98089206, shape=(), dtype=float...</td>\n",
       "      <td>0.980127</td>\n",
       "    </tr>\n",
       "    <tr>\n",
       "      <th>5145</th>\n",
       "      <td>Richard Branson</td>\n",
       "      <td>life at 30000 feet</td>\n",
       "      <td>richard branson talks to teds chris anderson a...</td>\n",
       "      <td>5900</td>\n",
       "      <td>1986145</td>\n",
       "      <td>Chris Anderson Welcome to TED Richard Branson ...</td>\n",
       "      <td>Oct 2007</td>\n",
       "      <td>business, entertainment, entrepreneur, flight,...</td>\n",
       "      <td>((tf.Tensor(-0.98741657, shape=(), dtype=float...</td>\n",
       "      <td>0.979948</td>\n",
       "    </tr>\n",
       "  </tbody>\n",
       "</table>\n",
       "</div>"
      ],
      "text/plain": [
       "                           author                                      title  \\\n",
       "1081               Barry Schwartz      what role does luck play in your life   \n",
       "2038             Isadora Kosofsky  intimate photos of a senior love triangle   \n",
       "4611                  Chip Conley       measuring what makes life worthwhile   \n",
       "5102  Jill Sobule + Julia Sweeney                    the jill and julia show   \n",
       "5145              Richard Branson                         life at 30000 feet   \n",
       "\n",
       "                                            description  likes    views  \\\n",
       "1081  chance plays a far bigger role in life than we...   1800   618885   \n",
       "2038  photographer and ted fellow isadora kosofsky i...   1600   558698   \n",
       "4611  when the dotcom bubble burst hotelier chip con...  10300  3454658   \n",
       "5102  two ted favorites jill sobule and julia sweene...   1600   556579   \n",
       "5145  richard branson talks to teds chris anderson a...   5900  1986145   \n",
       "\n",
       "                                             transcript      date  \\\n",
       "1081  Hello everybody I m honored to be here to talk...  Sep 2020   \n",
       "2038  Jeanie Will and Adina are three senior citizen...  Sep 2018   \n",
       "4611  I m going to talk about the simple truth in le...  Jun 2010   \n",
       "5102   Jill Sobule At a conference in Monterey by th...  Feb 2008   \n",
       "5145  Chris Anderson Welcome to TED Richard Branson ...  Oct 2007   \n",
       "\n",
       "                                                   tags  \\\n",
       "1081  equality, personal_growth, psychology, social_...   \n",
       "2038  aging, art, culture, humanity, identity, love,...   \n",
       "4611  buddhism, business, economics, happiness, mone...   \n",
       "5102  collaboration, comedy, entertainment, humor, m...   \n",
       "5145  business, entertainment, entrepreneur, flight,...   \n",
       "\n",
       "                                              encodings  similarity_score  \n",
       "1081  ((tf.Tensor(-0.96350807, shape=(), dtype=float...          1.000000  \n",
       "2038  ((tf.Tensor(-0.9765004, shape=(), dtype=float3...          0.980486  \n",
       "4611  ((tf.Tensor(-0.9888299, shape=(), dtype=float3...          0.980300  \n",
       "5102  ((tf.Tensor(-0.98089206, shape=(), dtype=float...          0.980127  \n",
       "5145  ((tf.Tensor(-0.98741657, shape=(), dtype=float...          0.979948  "
      ]
     },
     "execution_count": 32,
     "metadata": {},
     "output_type": "execute_result"
    }
   ],
   "source": [
    "df_results.head(5)"
   ]
  },
  {
   "cell_type": "code",
   "execution_count": null,
   "metadata": {},
   "outputs": [],
   "source": []
  }
 ],
 "metadata": {
  "kernelspec": {
   "display_name": "Python_3_9",
   "language": "python",
   "name": "python3"
  },
  "language_info": {
   "codemirror_mode": {
    "name": "ipython",
    "version": 3
   },
   "file_extension": ".py",
   "mimetype": "text/x-python",
   "name": "python",
   "nbconvert_exporter": "python",
   "pygments_lexer": "ipython3",
   "version": "3.9.16"
  },
  "orig_nbformat": 4
 },
 "nbformat": 4,
 "nbformat_minor": 2
}
