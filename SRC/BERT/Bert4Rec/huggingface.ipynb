{
 "cells": [
  {
   "cell_type": "code",
   "execution_count": null,
   "metadata": {},
   "outputs": [],
   "source": [
    "#!pip install sentence-transformers"
   ]
  },
  {
   "cell_type": "code",
   "execution_count": 1,
   "metadata": {},
   "outputs": [],
   "source": [
    "import pandas as pd\n",
    "import numpy as np"
   ]
  },
  {
   "cell_type": "code",
   "execution_count": 2,
   "metadata": {},
   "outputs": [
    {
     "data": {
      "text/html": [
       "<div>\n",
       "<style scoped>\n",
       "    .dataframe tbody tr th:only-of-type {\n",
       "        vertical-align: middle;\n",
       "    }\n",
       "\n",
       "    .dataframe tbody tr th {\n",
       "        vertical-align: top;\n",
       "    }\n",
       "\n",
       "    .dataframe thead th {\n",
       "        text-align: right;\n",
       "    }\n",
       "</style>\n",
       "<table border=\"1\" class=\"dataframe\">\n",
       "  <thead>\n",
       "    <tr style=\"text-align: right;\">\n",
       "      <th></th>\n",
       "      <th>author</th>\n",
       "      <th>title</th>\n",
       "      <th>description</th>\n",
       "      <th>likes</th>\n",
       "      <th>views</th>\n",
       "      <th>transcript</th>\n",
       "      <th>date</th>\n",
       "      <th>tags</th>\n",
       "    </tr>\n",
       "  </thead>\n",
       "  <tbody>\n",
       "    <tr>\n",
       "      <th>0</th>\n",
       "      <td>Machine Dazzle</td>\n",
       "      <td>how to unleash your inner maximalist through c...</td>\n",
       "      <td>tapping into the transformational power of cos...</td>\n",
       "      <td>8100</td>\n",
       "      <td>270192</td>\n",
       "      <td>Hello, I am Machine Dazzle, and I am an emotio...</td>\n",
       "      <td>Jun 2023</td>\n",
       "      <td>art, creativity, design, fashion, performance</td>\n",
       "    </tr>\n",
       "    <tr>\n",
       "      <th>1</th>\n",
       "      <td>Jioji Ravulo</td>\n",
       "      <td>a liberating vision of identity that transcend...</td>\n",
       "      <td>how can we move past societys inclination to b...</td>\n",
       "      <td>9200</td>\n",
       "      <td>309952</td>\n",
       "      <td>Can you paint with all the colors of the wind?...</td>\n",
       "      <td>Jun 2023</td>\n",
       "      <td>diversity, identity, inclusion, indigenous_peo...</td>\n",
       "    </tr>\n",
       "    <tr>\n",
       "      <th>2</th>\n",
       "      <td>Rebecca Darwent</td>\n",
       "      <td>how to fund real change in your community</td>\n",
       "      <td>is there a way to give back that benefits ever...</td>\n",
       "      <td>1000</td>\n",
       "      <td>341218</td>\n",
       "      <td>I spent my whole career in the nonprofit secto...</td>\n",
       "      <td>Jun 2023</td>\n",
       "      <td>business, community, equality, humanity, money...</td>\n",
       "    </tr>\n",
       "    <tr>\n",
       "      <th>3</th>\n",
       "      <td>Susanne Buckley-Zistel</td>\n",
       "      <td>what caused the rwandan genocide</td>\n",
       "      <td>for one hundred days in 1994 the african count...</td>\n",
       "      <td>3700</td>\n",
       "      <td>126376</td>\n",
       "      <td>For 100 days in 1994, the African country of R...</td>\n",
       "      <td>Jun 2023</td>\n",
       "      <td>africa, animation, education, history, identit...</td>\n",
       "    </tr>\n",
       "    <tr>\n",
       "      <th>4</th>\n",
       "      <td>Conor Russomanno</td>\n",
       "      <td>a powerful new neurotech tool for augmenting y...</td>\n",
       "      <td>in an astonishing talk and tech demo neurotech...</td>\n",
       "      <td>1100</td>\n",
       "      <td>374259</td>\n",
       "      <td>I became obsessed with the relationship betwee...</td>\n",
       "      <td>Jun 2023</td>\n",
       "      <td>biotech, brain, disability, health, invention,...</td>\n",
       "    </tr>\n",
       "  </tbody>\n",
       "</table>\n",
       "</div>"
      ],
      "text/plain": [
       "                   author                                              title  \\\n",
       "0          Machine Dazzle  how to unleash your inner maximalist through c...   \n",
       "1            Jioji Ravulo  a liberating vision of identity that transcend...   \n",
       "2         Rebecca Darwent          how to fund real change in your community   \n",
       "3  Susanne Buckley-Zistel                   what caused the rwandan genocide   \n",
       "4        Conor Russomanno  a powerful new neurotech tool for augmenting y...   \n",
       "\n",
       "                                         description  likes   views  \\\n",
       "0  tapping into the transformational power of cos...   8100  270192   \n",
       "1  how can we move past societys inclination to b...   9200  309952   \n",
       "2  is there a way to give back that benefits ever...   1000  341218   \n",
       "3  for one hundred days in 1994 the african count...   3700  126376   \n",
       "4  in an astonishing talk and tech demo neurotech...   1100  374259   \n",
       "\n",
       "                                          transcript      date  \\\n",
       "0  Hello, I am Machine Dazzle, and I am an emotio...  Jun 2023   \n",
       "1  Can you paint with all the colors of the wind?...  Jun 2023   \n",
       "2  I spent my whole career in the nonprofit secto...  Jun 2023   \n",
       "3  For 100 days in 1994, the African country of R...  Jun 2023   \n",
       "4  I became obsessed with the relationship betwee...  Jun 2023   \n",
       "\n",
       "                                                tags  \n",
       "0      art, creativity, design, fashion, performance  \n",
       "1  diversity, identity, inclusion, indigenous_peo...  \n",
       "2  business, community, equality, humanity, money...  \n",
       "3  africa, animation, education, history, identit...  \n",
       "4  biotech, brain, disability, health, invention,...  "
      ]
     },
     "execution_count": 2,
     "metadata": {},
     "output_type": "execute_result"
    }
   ],
   "source": [
    "data = '/Users/patrickokwir/Desktop/Git_Projects/Ted-Talks-Recommender-System/Data_output/ted_talk_clean_merged_bert.csv'\n",
    "df = pd.read_csv(data, index_col=0)\n",
    "df.head()"
   ]
  },
  {
   "cell_type": "code",
   "execution_count": 3,
   "metadata": {},
   "outputs": [
    {
     "data": {
      "text/html": [
       "<div>\n",
       "<style scoped>\n",
       "    .dataframe tbody tr th:only-of-type {\n",
       "        vertical-align: middle;\n",
       "    }\n",
       "\n",
       "    .dataframe tbody tr th {\n",
       "        vertical-align: top;\n",
       "    }\n",
       "\n",
       "    .dataframe thead th {\n",
       "        text-align: right;\n",
       "    }\n",
       "</style>\n",
       "<table border=\"1\" class=\"dataframe\">\n",
       "  <thead>\n",
       "    <tr style=\"text-align: right;\">\n",
       "      <th></th>\n",
       "      <th>author</th>\n",
       "      <th>title</th>\n",
       "      <th>description</th>\n",
       "      <th>likes</th>\n",
       "      <th>views</th>\n",
       "      <th>transcript</th>\n",
       "      <th>date</th>\n",
       "      <th>tags</th>\n",
       "      <th>test</th>\n",
       "    </tr>\n",
       "  </thead>\n",
       "  <tbody>\n",
       "    <tr>\n",
       "      <th>0</th>\n",
       "      <td>Machine Dazzle</td>\n",
       "      <td>how to unleash your inner maximalist through c...</td>\n",
       "      <td>tapping into the transformational power of cos...</td>\n",
       "      <td>8100</td>\n",
       "      <td>270192</td>\n",
       "      <td>Hello, I am Machine Dazzle, and I am an emotio...</td>\n",
       "      <td>Jun 2023</td>\n",
       "      <td>art, creativity, design, fashion, performance</td>\n",
       "      <td>how to unleash your inner maximalist through c...</td>\n",
       "    </tr>\n",
       "    <tr>\n",
       "      <th>1</th>\n",
       "      <td>Jioji Ravulo</td>\n",
       "      <td>a liberating vision of identity that transcend...</td>\n",
       "      <td>how can we move past societys inclination to b...</td>\n",
       "      <td>9200</td>\n",
       "      <td>309952</td>\n",
       "      <td>Can you paint with all the colors of the wind?...</td>\n",
       "      <td>Jun 2023</td>\n",
       "      <td>diversity, identity, inclusion, indigenous_peo...</td>\n",
       "      <td>a liberating vision of identity that transcend...</td>\n",
       "    </tr>\n",
       "    <tr>\n",
       "      <th>2</th>\n",
       "      <td>Rebecca Darwent</td>\n",
       "      <td>how to fund real change in your community</td>\n",
       "      <td>is there a way to give back that benefits ever...</td>\n",
       "      <td>1000</td>\n",
       "      <td>341218</td>\n",
       "      <td>I spent my whole career in the nonprofit secto...</td>\n",
       "      <td>Jun 2023</td>\n",
       "      <td>business, community, equality, humanity, money...</td>\n",
       "      <td>how to fund real change in your communityTags:...</td>\n",
       "    </tr>\n",
       "    <tr>\n",
       "      <th>3</th>\n",
       "      <td>Susanne Buckley-Zistel</td>\n",
       "      <td>what caused the rwandan genocide</td>\n",
       "      <td>for one hundred days in 1994 the african count...</td>\n",
       "      <td>3700</td>\n",
       "      <td>126376</td>\n",
       "      <td>For 100 days in 1994, the African country of R...</td>\n",
       "      <td>Jun 2023</td>\n",
       "      <td>africa, animation, education, history, identit...</td>\n",
       "      <td>what caused the rwandan genocideTags: africa, ...</td>\n",
       "    </tr>\n",
       "    <tr>\n",
       "      <th>4</th>\n",
       "      <td>Conor Russomanno</td>\n",
       "      <td>a powerful new neurotech tool for augmenting y...</td>\n",
       "      <td>in an astonishing talk and tech demo neurotech...</td>\n",
       "      <td>1100</td>\n",
       "      <td>374259</td>\n",
       "      <td>I became obsessed with the relationship betwee...</td>\n",
       "      <td>Jun 2023</td>\n",
       "      <td>biotech, brain, disability, health, invention,...</td>\n",
       "      <td>a powerful new neurotech tool for augmenting y...</td>\n",
       "    </tr>\n",
       "  </tbody>\n",
       "</table>\n",
       "</div>"
      ],
      "text/plain": [
       "                   author                                              title  \\\n",
       "0          Machine Dazzle  how to unleash your inner maximalist through c...   \n",
       "1            Jioji Ravulo  a liberating vision of identity that transcend...   \n",
       "2         Rebecca Darwent          how to fund real change in your community   \n",
       "3  Susanne Buckley-Zistel                   what caused the rwandan genocide   \n",
       "4        Conor Russomanno  a powerful new neurotech tool for augmenting y...   \n",
       "\n",
       "                                         description  likes   views  \\\n",
       "0  tapping into the transformational power of cos...   8100  270192   \n",
       "1  how can we move past societys inclination to b...   9200  309952   \n",
       "2  is there a way to give back that benefits ever...   1000  341218   \n",
       "3  for one hundred days in 1994 the african count...   3700  126376   \n",
       "4  in an astonishing talk and tech demo neurotech...   1100  374259   \n",
       "\n",
       "                                          transcript      date  \\\n",
       "0  Hello, I am Machine Dazzle, and I am an emotio...  Jun 2023   \n",
       "1  Can you paint with all the colors of the wind?...  Jun 2023   \n",
       "2  I spent my whole career in the nonprofit secto...  Jun 2023   \n",
       "3  For 100 days in 1994, the African country of R...  Jun 2023   \n",
       "4  I became obsessed with the relationship betwee...  Jun 2023   \n",
       "\n",
       "                                                tags  \\\n",
       "0      art, creativity, design, fashion, performance   \n",
       "1  diversity, identity, inclusion, indigenous_peo...   \n",
       "2  business, community, equality, humanity, money...   \n",
       "3  africa, animation, education, history, identit...   \n",
       "4  biotech, brain, disability, health, invention,...   \n",
       "\n",
       "                                                test  \n",
       "0  how to unleash your inner maximalist through c...  \n",
       "1  a liberating vision of identity that transcend...  \n",
       "2  how to fund real change in your communityTags:...  \n",
       "3  what caused the rwandan genocideTags: africa, ...  \n",
       "4  a powerful new neurotech tool for augmenting y...  "
      ]
     },
     "execution_count": 3,
     "metadata": {},
     "output_type": "execute_result"
    }
   ],
   "source": [
    "# new column 'test' to df contact strings in title\n",
    "\n",
    "df['test'] = df['title'] + 'Tags: ' + df['tags']\n",
    "df.head()"
   ]
  },
  {
   "cell_type": "code",
   "execution_count": 4,
   "metadata": {},
   "outputs": [],
   "source": [
    "from transformers import AutoTokenizer, AutoModel\n",
    "import torch"
   ]
  },
  {
   "cell_type": "code",
   "execution_count": null,
   "metadata": {},
   "outputs": [],
   "source": [
    "tokenizer = AutoTokenizer.from_pretrained('sentence-transformers/paraphrase-MiniLM-L6-v2')\n",
    "model = AutoModel.from_pretrained('sentence-transformers/paraphrase-MiniLM-L6-v2')"
   ]
  },
  {
   "cell_type": "code",
   "execution_count": null,
   "metadata": {},
   "outputs": [],
   "source": [
    "tokens = {'input_ids': [], 'attention_mask': []}"
   ]
  },
  {
   "cell_type": "code",
   "execution_count": null,
   "metadata": {},
   "outputs": [],
   "source": [
    "df_rows = df.index.tolist()\n",
    "df_rows = df_rows[0:300]"
   ]
  },
  {
   "cell_type": "code",
   "execution_count": null,
   "metadata": {},
   "outputs": [],
   "source": [
    "for row in df_rows:\n",
    "    new_tokens = tokenizer.encode_plus(df['test'][row],\n",
    "                                  max_length=512,\n",
    "                                  truncation=True,\n",
    "                                  padding='max_length',\n",
    "                                  return_tensors='pt')\n",
    "    tokens['input_ids'].append(new_tokens['input_ids'][0])\n",
    "    tokens['attention_mask'].append(new_tokens['attention_mask'][0])"
   ]
  },
  {
   "cell_type": "code",
   "execution_count": null,
   "metadata": {},
   "outputs": [],
   "source": [
    "tokens['input_ids'] = torch.stack(tokens['input_ids'])\n",
    "tokens['attention_mask'] = torch.stack(tokens['attention_mask'])"
   ]
  },
  {
   "cell_type": "code",
   "execution_count": null,
   "metadata": {},
   "outputs": [],
   "source": [
    "tokens['input_ids'].shape, tokens['attention_mask'].shape"
   ]
  },
  {
   "cell_type": "code",
   "execution_count": null,
   "metadata": {},
   "outputs": [],
   "source": [
    "outputs = model(**tokens)\n",
    "outputs.keys()"
   ]
  },
  {
   "cell_type": "code",
   "execution_count": null,
   "metadata": {},
   "outputs": [],
   "source": [
    "embeddings = outputs.last_hidden_state\n",
    "embeddings.shape"
   ]
  },
  {
   "cell_type": "code",
   "execution_count": null,
   "metadata": {},
   "outputs": [],
   "source": [
    "#mean pooling\n",
    "mask = tokens['attention_mask'].unsqueeze(-1).expand(embeddings.size()).float()\n"
   ]
  },
  {
   "cell_type": "code",
   "execution_count": null,
   "metadata": {},
   "outputs": [],
   "source": [
    "mask_embeddings = embeddings * mask"
   ]
  },
  {
   "cell_type": "code",
   "execution_count": null,
   "metadata": {},
   "outputs": [],
   "source": [
    "embeddings.shape"
   ]
  },
  {
   "cell_type": "code",
   "execution_count": null,
   "metadata": {},
   "outputs": [],
   "source": [
    "mask_embeddings.shape"
   ]
  },
  {
   "cell_type": "code",
   "execution_count": null,
   "metadata": {},
   "outputs": [],
   "source": [
    "summed = torch.sum(mask_embeddings, dim=1)\n",
    "summed.shape"
   ]
  },
  {
   "cell_type": "code",
   "execution_count": null,
   "metadata": {},
   "outputs": [],
   "source": [
    "counts = torch.clamp(mask.sum(dim=1), min=1e-9)\n",
    "counts.shape"
   ]
  },
  {
   "cell_type": "code",
   "execution_count": null,
   "metadata": {},
   "outputs": [],
   "source": [
    "#Document embeddings are now the mean of the word embeddings\n",
    "mean_pooled = summed/counts\n",
    "mean_pooled.shape"
   ]
  },
  {
   "cell_type": "code",
   "execution_count": null,
   "metadata": {},
   "outputs": [],
   "source": [
    "mean_pooled"
   ]
  },
  {
   "cell_type": "code",
   "execution_count": null,
   "metadata": {},
   "outputs": [],
   "source": [
    "# get cosine simmilarity\n",
    "from sklearn.metrics.pairwise import cosine_similarity # this expects a numpy array"
   ]
  },
  {
   "cell_type": "code",
   "execution_count": null,
   "metadata": {},
   "outputs": [],
   "source": [
    "mean_pooled = mean_pooled.detach().numpy() # detach to avoid gradient accumulation, also code will not work if you don't detach\n",
    "\n",
    "#get cosine similarities\n",
    "cosine_similarity(\n",
    "                    [mean_pooled[2]], \n",
    "                    mean_pooled[1:]\n",
    "                )"
   ]
  },
  {
   "cell_type": "code",
   "execution_count": null,
   "metadata": {},
   "outputs": [],
   "source": [
    "similar_talks = cosine_similarity(\n",
    "                    [mean_pooled[22]], \n",
    "                    mean_pooled[1:]\n",
    "                )\n",
    "similar_talks = np.argsort(similar_talks)[::-1][:1\n",
    "                ]\n",
    "print(similar_talks)"
   ]
  },
  {
   "cell_type": "code",
   "execution_count": null,
   "metadata": {},
   "outputs": [],
   "source": [
    "index = df[df['title'] == 'how to fund real change in your community'].index[0]\n",
    "print(index)"
   ]
  },
  {
   "cell_type": "code",
   "execution_count": null,
   "metadata": {},
   "outputs": [],
   "source": [
    "df.iloc[22]['test']"
   ]
  },
  {
   "cell_type": "code",
   "execution_count": null,
   "metadata": {},
   "outputs": [],
   "source": [
    "#return title of talk in index 108 of df\n",
    "df.iloc[270]['test']"
   ]
  },
  {
   "cell_type": "code",
   "execution_count": null,
   "metadata": {},
   "outputs": [],
   "source": [
    "# define a function to get the top n similar talks, takes the title and the number of similar talks\n",
    "# mean_pooled = mean_pooled.detach().numpy() \n",
    "def get_similar_talks(title, n):\n",
    "    # get the index of the talk in df using the title\n",
    "    index = df[df['title'] == title].index[0]\n",
    "    # get the list of similar talks\n",
    "    similar_talks = cosine_similarity([mean_pooled[index]], mean_pooled)\n",
    "    # sort the list of similar talks\n",
    "    sorted_similar_talks = np.argsort(similar_talks[0])[::-1]\n",
    "    # get the top n similar talks\n",
    "    top_n_similar_talks = sorted_similar_talks[0:n]\n",
    "    # get the titles of the top n similar talks\n",
    "    top_n_similar_talks_titles = [df['title'][i] for i in top_n_similar_talks]\n",
    "    return top_n_similar_talks_titles\n",
    "\n"
   ]
  },
  {
   "cell_type": "code",
   "execution_count": null,
   "metadata": {},
   "outputs": [],
   "source": [
    "get_similar_talks(title = 'how to fund real change in your community', n=5)"
   ]
  },
  {
   "cell_type": "code",
   "execution_count": 5,
   "metadata": {},
   "outputs": [],
   "source": [
    "from transformers import pipeline"
   ]
  },
  {
   "cell_type": "code",
   "execution_count": 7,
   "metadata": {},
   "outputs": [
    {
     "name": "stderr",
     "output_type": "stream",
     "text": [
      "'(ReadTimeoutError(\"HTTPSConnectionPool(host='huggingface.co', port=443): Read timed out. (read timeout=10)\"), '(Request ID: ba63a641-bbf8-4fca-b3ae-7a26041fb0ea)')' thrown while requesting HEAD https://huggingface.co/facebook/bart-large-cnn/resolve/main/config.json\n"
     ]
    },
    {
     "data": {
      "application/vnd.jupyter.widget-view+json": {
       "model_id": "18c06356fcdd45468f355ed787f38d4f",
       "version_major": 2,
       "version_minor": 0
      },
      "text/plain": [
       "Downloading pytorch_model.bin:   0%|          | 0.00/1.63G [00:00<?, ?B/s]"
      ]
     },
     "metadata": {},
     "output_type": "display_data"
    },
    {
     "data": {
      "application/vnd.jupyter.widget-view+json": {
       "model_id": "0d62f81409f84c99848add1df017d1a7",
       "version_major": 2,
       "version_minor": 0
      },
      "text/plain": [
       "Downloading (…)neration_config.json:   0%|          | 0.00/363 [00:00<?, ?B/s]"
      ]
     },
     "metadata": {},
     "output_type": "display_data"
    },
    {
     "data": {
      "application/vnd.jupyter.widget-view+json": {
       "model_id": "45eb97c1188244118b3165b39cbc215f",
       "version_major": 2,
       "version_minor": 0
      },
      "text/plain": [
       "Downloading (…)olve/main/vocab.json:   0%|          | 0.00/899k [00:00<?, ?B/s]"
      ]
     },
     "metadata": {},
     "output_type": "display_data"
    },
    {
     "data": {
      "application/vnd.jupyter.widget-view+json": {
       "model_id": "1bfa2cd91602411d8e0710ba4f720516",
       "version_major": 2,
       "version_minor": 0
      },
      "text/plain": [
       "Downloading (…)olve/main/merges.txt:   0%|          | 0.00/456k [00:00<?, ?B/s]"
      ]
     },
     "metadata": {},
     "output_type": "display_data"
    },
    {
     "data": {
      "application/vnd.jupyter.widget-view+json": {
       "model_id": "9302417850674b94a0a5fe048a5beec9",
       "version_major": 2,
       "version_minor": 0
      },
      "text/plain": [
       "Downloading (…)/main/tokenizer.json:   0%|          | 0.00/1.36M [00:00<?, ?B/s]"
      ]
     },
     "metadata": {},
     "output_type": "display_data"
    }
   ],
   "source": [
    "summarizer = pipeline(\"summarization\", model=\"facebook/bart-large-cnn\")"
   ]
  },
  {
   "cell_type": "code",
   "execution_count": null,
   "metadata": {},
   "outputs": [],
   "source": []
  }
 ],
 "metadata": {
  "kernelspec": {
   "display_name": "Python 3",
   "language": "python",
   "name": "python3"
  },
  "language_info": {
   "codemirror_mode": {
    "name": "ipython",
    "version": 3
   },
   "file_extension": ".py",
   "mimetype": "text/x-python",
   "name": "python",
   "nbconvert_exporter": "python",
   "pygments_lexer": "ipython3",
   "version": "3.9.7"
  },
  "orig_nbformat": 4
 },
 "nbformat": 4,
 "nbformat_minor": 2
}
