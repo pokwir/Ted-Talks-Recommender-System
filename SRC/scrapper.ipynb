{
 "cells": [
  {
   "cell_type": "code",
   "execution_count": 139,
   "metadata": {},
   "outputs": [],
   "source": [
    "import requests\n",
    "from bs4 import BeautifulSoup\n",
    "import pandas as pd\n",
    "import numpy as np\n",
    "import re\n",
    "import time\n",
    "import random\n",
    "from tqdm import tqdm"
   ]
  },
  {
   "cell_type": "code",
   "execution_count": 140,
   "metadata": {},
   "outputs": [],
   "source": [
    "import lxml.etree"
   ]
  },
  {
   "cell_type": "code",
   "execution_count": 141,
   "metadata": {},
   "outputs": [],
   "source": [
    "pages = [str(i) for i in range(0, 5, 1)] # page iterations"
   ]
  },
  {
   "cell_type": "code",
   "execution_count": 143,
   "metadata": {},
   "outputs": [],
   "source": [
    "page_urls = []\n",
    "for page in pages:\n",
    "    base_url = 'https://www.ted.com/talks?page='+page\n",
    "    page_urls.append(base_url)"
   ]
  },
  {
   "cell_type": "code",
   "execution_count": 144,
   "metadata": {},
   "outputs": [
    {
     "data": {
      "text/plain": [
       "['https://www.ted.com/talks?page=0',\n",
       " 'https://www.ted.com/talks?page=1',\n",
       " 'https://www.ted.com/talks?page=2',\n",
       " 'https://www.ted.com/talks?page=3',\n",
       " 'https://www.ted.com/talks?page=4']"
      ]
     },
     "execution_count": 144,
     "metadata": {},
     "output_type": "execute_result"
    }
   ],
   "source": [
    "page_urls"
   ]
  },
  {
   "cell_type": "code",
   "execution_count": 146,
   "metadata": {},
   "outputs": [
    {
     "name": "stderr",
     "output_type": "stream",
     "text": [
      "  0%|\u001b[32m          \u001b[0m| 0/5 [02:01<?, ?it/s]\n",
      "Downloading page 5/5: : 759it [07:43,  1.64it/s]\n"
     ]
    }
   ],
   "source": [
    "talks = [] # also called add_links\n",
    "\n",
    "# find href links to talks in page content under <a> tags\n",
    "pbar = tqdm(total=len(page_urls), dynamic_ncols=True, colour= 'green')\n",
    "for i, page in enumerate(page_urls):\n",
    "    page = requests.get(page_urls[i])\n",
    "    soup = BeautifulSoup(page.content, 'html.parser')\n",
    "    for link in soup.find_all('a'):\n",
    "        time.sleep(0.5)\n",
    "        pbar.update(1)\n",
    "        pbar.set_description(f'Downloading page {i+1}/{len(page_urls)}', refresh=True)\n",
    "\n",
    "        if link.has_attr('href') and link['href'].startswith('/talks/'):\n",
    "            ted_url = 'https://www.ted.com'\n",
    "            #check if link already exists in talks list\n",
    "            if ted_url + link['href'] not in talks:\n",
    "                #concat 'https://www.ted.com' + link['href'] to talks list\n",
    "                talks.append(ted_url + link['href'])\n",
    "            else:\n",
    "        # if link already exists in talks list, skip it\n",
    "                continue\n",
    "            time.sleep(0.5)\n",
    "pbar.close()"
   ]
  },
  {
   "cell_type": "code",
   "execution_count": 147,
   "metadata": {},
   "outputs": [
    {
     "data": {
      "text/plain": [
       "'https://www.ted.com/talks/angus_hervey_why_are_we_so_bad_at_reporting_good_news'"
      ]
     },
     "execution_count": 147,
     "metadata": {},
     "output_type": "execute_result"
    }
   ],
   "source": [
    "talks[5]"
   ]
  },
  {
   "cell_type": "code",
   "execution_count": 160,
   "metadata": {},
   "outputs": [
    {
     "name": "stdout",
     "output_type": "stream",
     "text": [
      "Why is good news so rare? In a special broadcast from the TED stage, journalist Angus Hervey sheds light on some of the incredible progress humanity has made across environmental protection, public health and more in the last year, making the case that if we want to change the story of humanity this century, we have to start changing the stories we tell ourselves. \"When we only tell the stories of doom, we fail to see the stories of possibility,\" says Hervey.\n"
     ]
    }
   ],
   "source": [
    "\n",
    "# find views of talk under <div class=\"text-sm w-full truncate text-gray-900\" data-testid=\"talk-meta\">\n",
    "response = requests.get(talks[5])\n",
    "soup = BeautifulSoup(response.text, 'lxml')\n",
    "description_schema = soup.find('head').find('meta', attrs={'name':'description'})['content']\n",
    "print (description_schema)\n"
   ]
  },
  {
   "cell_type": "code",
   "execution_count": 150,
   "metadata": {},
   "outputs": [
    {
     "name": "stderr",
     "output_type": "stream",
     "text": [
      "Downloading What caused the Rwandan Genocide? :   1%|\u001b[32m          \u001b[0m| 1/144 [00:30<1:12:10, 30.28s/it]\n",
      "/var/folders/7f/4z7lvktj44g121hm_1s6v18h0000gn/T/ipykernel_26163/4013203375.py:39: FutureWarning: The frame.append method is deprecated and will be removed from pandas in a future version. Use pandas.concat instead.\n",
      "  df = df.append({'author': author, 'talk': talk, 'description': description, 'likes': likes, 'views': views}, ignore_index=True)\n",
      "/var/folders/7f/4z7lvktj44g121hm_1s6v18h0000gn/T/ipykernel_26163/4013203375.py:39: FutureWarning: The frame.append method is deprecated and will be removed from pandas in a future version. Use pandas.concat instead.\n",
      "  df = df.append({'author': author, 'talk': talk, 'description': description, 'likes': likes, 'views': views}, ignore_index=True)\n",
      "/var/folders/7f/4z7lvktj44g121hm_1s6v18h0000gn/T/ipykernel_26163/4013203375.py:39: FutureWarning: The frame.append method is deprecated and will be removed from pandas in a future version. Use pandas.concat instead.\n",
      "  df = df.append({'author': author, 'talk': talk, 'description': description, 'likes': likes, 'views': views}, ignore_index=True)\n"
     ]
    },
    {
     "ename": "KeyboardInterrupt",
     "evalue": "",
     "output_type": "error",
     "traceback": [
      "\u001b[0;31m---------------------------------------------------------------------------\u001b[0m",
      "\u001b[0;31mKeyboardInterrupt\u001b[0m                         Traceback (most recent call last)",
      "\u001b[1;32m/Users/patrickokwir/Desktop/Git_Projects/Ted-Talks-Recommender-System/SRC/scrapper.ipynb Cell 9\u001b[0m in \u001b[0;36m<cell line: 3>\u001b[0;34m()\u001b[0m\n\u001b[1;32m     <a href='vscode-notebook-cell:/Users/patrickokwir/Desktop/Git_Projects/Ted-Talks-Recommender-System/SRC/scrapper.ipynb#X10sZmlsZQ%3D%3D?line=50'>51</a>\u001b[0m pbar\u001b[39m.\u001b[39mset_description(\u001b[39mf\u001b[39m\u001b[39m'\u001b[39m\u001b[39mAdding \u001b[39m\u001b[39m{\u001b[39;00mtalk\u001b[39m}\u001b[39;00m\u001b[39m to database\u001b[39m\u001b[39m'\u001b[39m, refresh\u001b[39m=\u001b[39m\u001b[39mTrue\u001b[39;00m)\n\u001b[1;32m     <a href='vscode-notebook-cell:/Users/patrickokwir/Desktop/Git_Projects/Ted-Talks-Recommender-System/SRC/scrapper.ipynb#X10sZmlsZQ%3D%3D?line=51'>52</a>\u001b[0m pbar\u001b[39m.\u001b[39mupdate(\u001b[39m1\u001b[39m)\n\u001b[0;32m---> <a href='vscode-notebook-cell:/Users/patrickokwir/Desktop/Git_Projects/Ted-Talks-Recommender-System/SRC/scrapper.ipynb#X10sZmlsZQ%3D%3D?line=53'>54</a>\u001b[0m time\u001b[39m.\u001b[39;49msleep(\u001b[39m1\u001b[39;49m)\n\u001b[1;32m     <a href='vscode-notebook-cell:/Users/patrickokwir/Desktop/Git_Projects/Ted-Talks-Recommender-System/SRC/scrapper.ipynb#X10sZmlsZQ%3D%3D?line=54'>55</a>\u001b[0m cur\u001b[39m.\u001b[39mexecute(\u001b[39m\"\u001b[39m\u001b[39mSELECT * FROM talks\u001b[39m\u001b[39m\"\u001b[39m)\n\u001b[1;32m     <a href='vscode-notebook-cell:/Users/patrickokwir/Desktop/Git_Projects/Ted-Talks-Recommender-System/SRC/scrapper.ipynb#X10sZmlsZQ%3D%3D?line=55'>56</a>\u001b[0m rows \u001b[39m=\u001b[39m cur\u001b[39m.\u001b[39mfetchall()\n",
      "\u001b[0;31mKeyboardInterrupt\u001b[0m: "
     ]
    }
   ],
   "source": [
    "pbar = tqdm(total=len(talks), dynamic_ncols=True, colour= 'green')\n",
    "\n",
    "for i, ad in enumerate(talks):\n",
    "    #-------create dataframe--------#\n",
    "    df = pd.DataFrame(columns=[\"author\", \"talk\", \"description\", \"likes\", \"views\"])\n",
    "\n",
    "    time.sleep(2)\n",
    "    pbar.update(1)\n",
    "    response = requests.get(talks[i])\n",
    "    soup = BeautifulSoup(response.text, 'lxml')\n",
    "\n",
    "\n",
    "    #--------Title Schema------------#\n",
    "    title_schema = soup.find('head').find('title').text.strip()\n",
    "\n",
    "    #--------Description Schema------------#\n",
    "    try:\n",
    "        description_schema = soup.find('head').find('meta', attrs={'name':'description'})['content'].strip()\n",
    "\n",
    "    except:\n",
    "        description_schema = ''\n",
    "\n",
    "    #--------Likes Schema------------#\n",
    "    likes_schema = soup.find_all('span')[0].get_text().strip()\n",
    "\n",
    "    #--------Views Schema------------#\n",
    "    views_schema = soup.find_all('div', class_='text-sm w-full truncate text-gray-900')\n",
    "\n",
    "\n",
    "    # get author name from title \n",
    "    author = title_schema.split(':')[0]\n",
    "    talk = title_schema.split(':')[1].strip().replace('| TED Talk', '')\n",
    "    description = description_schema\n",
    "    likes = likes_schema.replace('(', '').replace(')', '')\n",
    "    try: \n",
    "        views = views_schema[0].get_text().strip().split()[0]\n",
    "    except:\n",
    "        views = 0\n",
    "\n",
    "    pbar.set_description(f'Downloading {talk}', refresh=True)\n",
    "\n",
    "    # add to dataframe\n",
    "    df = df.append({'author': author, 'talk': talk, 'description': description, 'likes': likes, 'views': views}, ignore_index=True)\n",
    "\n",
    " # ----------------------------------------Saving to Database--------------------------------------------#\n",
    "    import sqlite3\n",
    "    conn = sqlite3.connect('talks.db')\n",
    "    cur = conn.cursor()\n",
    "                \n",
    "    for i in range(len(df)):\n",
    "        cur.execute(\"INSERT INTO talks (author, talk, description, likes, views) VALUES (?, ?, ?, ?, ?)\", (df.iloc[i]['author'], df.iloc[i]['talk'], df.iloc[i]['description'], df.iloc[i]['likes'], df.iloc[i]['views']))\n",
    "    conn.commit()\n",
    "\n",
    "    time.sleep(1)\n",
    "    pbar.set_description(f'Adding {talk} to database', refresh=True)\n",
    "    pbar.update(1)\n",
    "\n",
    "    time.sleep(1)\n",
    "    cur.execute(\"SELECT * FROM talks\")\n",
    "    rows = cur.fetchall()\n",
    "\n",
    "    pbar.set_description(f\"There are {len(rows)} records in the database\", refresh=True)\n",
    "    conn.close()\n",
    "    time.sleep(1)\n",
    "pbar.close()\n",
    "\n"
   ]
  },
  {
   "cell_type": "code",
   "execution_count": null,
   "metadata": {},
   "outputs": [],
   "source": []
  }
 ],
 "metadata": {
  "kernelspec": {
   "display_name": "Python 3",
   "language": "python",
   "name": "python3"
  },
  "language_info": {
   "codemirror_mode": {
    "name": "ipython",
    "version": 3
   },
   "file_extension": ".py",
   "mimetype": "text/x-python",
   "name": "python",
   "nbconvert_exporter": "python",
   "pygments_lexer": "ipython3",
   "version": "3.9.7"
  },
  "orig_nbformat": 4
 },
 "nbformat": 4,
 "nbformat_minor": 2
}
