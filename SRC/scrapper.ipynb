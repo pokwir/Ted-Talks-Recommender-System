{
 "cells": [
  {
   "cell_type": "code",
   "execution_count": 1,
   "metadata": {},
   "outputs": [],
   "source": [
    "import requests\n",
    "from bs4 import BeautifulSoup\n",
    "import pandas as pd\n",
    "import numpy as np\n",
    "import re\n",
    "import time\n",
    "import random\n",
    "from tqdm import tqdm"
   ]
  },
  {
   "cell_type": "code",
   "execution_count": 18,
   "metadata": {},
   "outputs": [],
   "source": [
    "import lxml.etree"
   ]
  },
  {
   "cell_type": "code",
   "execution_count": null,
   "metadata": {},
   "outputs": [],
   "source": [
    "page_urls = []\n",
    "for page in pages:\n",
    "    base_url = 'https://www.ted.com/talks?page=1'\n",
    "    page_urls.append(base_url)"
   ]
  },
  {
   "cell_type": "code",
   "execution_count": 5,
   "metadata": {},
   "outputs": [],
   "source": [
    "page_url = 'https://www.ted.com/talks?page=1'"
   ]
  },
  {
   "cell_type": "code",
   "execution_count": 27,
   "metadata": {},
   "outputs": [
    {
     "name": "stdout",
     "output_type": "stream",
     "text": [
      "['/talks/susanne_buckley_zistel_what_caused_the_rwandan_genocide', '/talks/conor_russomanno_a_powerful_new_neurotech_tool_for_augmenting_your_mind', '/talks/peter_singer_a_modern_argument_for_the_rights_of_animals', '/talks/sahar_zand_why_iranians_are_cutting_their_hair_for_woman_life_freedom', '/talks/shannon_odell_are_solar_panels_worth_it', '/talks/angus_hervey_why_are_we_so_bad_at_reporting_good_news', '/talks/sheryl_lee_ralph_a_3_step_guide_to_believing_in_yourself', '/talks/carolyn_harris_why_is_marie_antoinette_so_controversial', '/talks/rainn_wilson_kung_fu_star_trek_and_the_many_paths_to_spirituality', '/talks/richard_reeves_how_to_solve_the_education_crisis_for_boys_and_men', '/talks/mena_fombo_no_you_cannot_touch_my_hair_jun_2023', '/talks/iseult_gillespie_who_is_the_fastest_creature_in_mythology', '/talks/cohen_bradley_how_to_weave_a_cultural_legacy_through_storytelling', '/talks/ian_bremmer_the_next_global_superpower_isn_t_who_you_think', '/talks/jessie_reyez_still_c_u_figures', '/talks/susan_g_wardle_seeing_things_that_aren_t_there_it_s_pareidolia', '/talks/mark_edwards_why_is_it_so_hard_to_get_effective_birth_control_in_the_us', '/talks/michael_green_the_natural_building_blocks_of_sustainable_architecture', '/talks/sally_frampton_what_did_people_do_before_anesthesia', '/talks/tony_long_the_outlaws_of_the_ocean_and_how_we_re_reeling_them_in', '/talks/lonneke_gordijn_nature_art_and_magical_blocks_of_flying_concrete', '/talks/carolyn_beans_food_expiration_dates_don_t_mean_what_you_think', '/talks/ali_hajimiri_how_wireless_energy_from_space_could_power_everything', '/talks/david_m_howard_can_we_recreate_the_voice_of_a_3_000_year_old_mummy', '/talks/punya_mishra_how_to_design_a_school_for_the_future', '/talks/hanako_sawada_test_yourself_can_you_tell_the_difference_between_music_and_noise', '/talks/julian_delgado_lopera_the_poetry_of_everyday_language', '/talks/anne_morriss_5_steps_to_fix_any_problem_at_work', '/talks/sascha_morrell_why_is_william_faulkner_so_difficult_to_read', '/talks/nita_farahany_your_right_to_mental_privacy_in_the_age_of_brain_sensing_tech', '/talks/martin_lockley_the_dinosaur_detectives_of_real_life_jurassic_parks', '/talks/alaa_wardi_featuring_aisha_zainal_butterfly_effect_and_bel_arabi', '/talks/iklil_al_jabal_naeli_ahla_zahra', '/talks/noura_mint_seymali_ghizlane', '/talks/dan_finkel_can_you_outsmart_fate_and_break_her_ancient_curse', '/talks/normand_voyer_are_life_saving_medicines_hiding_in_the_world_s_coldest_places']\n"
     ]
    }
   ],
   "source": [
    "talks = []\n",
    "page = requests.get(page_url)\n",
    "soup = BeautifulSoup(page.content, 'html.parser')\n",
    "\n",
    "# find href links to talks in page content under <a> tags\n",
    "for link in soup.find_all('a'):\n",
    "    if link.has_attr('href') and link['href'].startswith('/talks/'):\n",
    "        #check if link already exists in talks list\n",
    "        if link['href'] not in talks:\n",
    "            talks.append(link['href'])\n",
    "        else:\n",
    "    # if link already exists in talks list, skip it\n",
    "            continue\n",
    "\n",
    "print(talks)"
   ]
  },
  {
   "cell_type": "code",
   "execution_count": 12,
   "metadata": {},
   "outputs": [
    {
     "data": {
      "text/plain": [
       "[]"
      ]
     },
     "execution_count": 12,
     "metadata": {},
     "output_type": "execute_result"
    }
   ],
   "source": [
    "talks"
   ]
  },
  {
   "cell_type": "code",
   "execution_count": null,
   "metadata": {},
   "outputs": [],
   "source": []
  }
 ],
 "metadata": {
  "kernelspec": {
   "display_name": "Python 3",
   "language": "python",
   "name": "python3"
  },
  "language_info": {
   "codemirror_mode": {
    "name": "ipython",
    "version": 3
   },
   "file_extension": ".py",
   "mimetype": "text/x-python",
   "name": "python",
   "nbconvert_exporter": "python",
   "pygments_lexer": "ipython3",
   "version": "3.9.7"
  },
  "orig_nbformat": 4
 },
 "nbformat": 4,
 "nbformat_minor": 2
}
