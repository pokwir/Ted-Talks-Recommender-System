{
 "cells": [
  {
   "cell_type": "code",
   "execution_count": 1,
   "metadata": {},
   "outputs": [],
   "source": [
    "import requests\n",
    "from bs4 import BeautifulSoup\n",
    "import pandas as pd\n",
    "import numpy as np\n",
    "import re\n",
    "import time\n",
    "import random\n",
    "from tqdm import tqdm"
   ]
  },
  {
   "cell_type": "code",
   "execution_count": 18,
   "metadata": {},
   "outputs": [],
   "source": [
    "import lxml.etree"
   ]
  },
  {
   "cell_type": "code",
   "execution_count": null,
   "metadata": {},
   "outputs": [],
   "source": [
    "pages = [str(i) for i in range(0, 272, 1)] # page iterations"
   ]
  },
  {
   "cell_type": "code",
   "execution_count": null,
   "metadata": {},
   "outputs": [],
   "source": [
    "page_urls = []\n",
    "for page in pages:\n",
    "    base_url = 'https://www.ted.com/talks?page='+page\n",
    "    page_urls.append(base_url)"
   ]
  },
  {
   "cell_type": "code",
   "execution_count": 5,
   "metadata": {},
   "outputs": [],
   "source": [
    "page_url = 'https://www.ted.com/talks?page=1'"
   ]
  },
  {
   "cell_type": "code",
   "execution_count": 30,
   "metadata": {},
   "outputs": [
    {
     "name": "stdout",
     "output_type": "stream",
     "text": [
      "['https://www.ted.com/talks/susanne_buckley_zistel_what_caused_the_rwandan_genocide', 'https://www.ted.com/talks/conor_russomanno_a_powerful_new_neurotech_tool_for_augmenting_your_mind', 'https://www.ted.com/talks/peter_singer_a_modern_argument_for_the_rights_of_animals', 'https://www.ted.com/talks/sahar_zand_why_iranians_are_cutting_their_hair_for_woman_life_freedom', 'https://www.ted.com/talks/shannon_odell_are_solar_panels_worth_it', 'https://www.ted.com/talks/angus_hervey_why_are_we_so_bad_at_reporting_good_news', 'https://www.ted.com/talks/sheryl_lee_ralph_a_3_step_guide_to_believing_in_yourself', 'https://www.ted.com/talks/carolyn_harris_why_is_marie_antoinette_so_controversial', 'https://www.ted.com/talks/rainn_wilson_kung_fu_star_trek_and_the_many_paths_to_spirituality', 'https://www.ted.com/talks/richard_reeves_how_to_solve_the_education_crisis_for_boys_and_men', 'https://www.ted.com/talks/mena_fombo_no_you_cannot_touch_my_hair_jun_2023', 'https://www.ted.com/talks/iseult_gillespie_who_is_the_fastest_creature_in_mythology', 'https://www.ted.com/talks/cohen_bradley_how_to_weave_a_cultural_legacy_through_storytelling', 'https://www.ted.com/talks/ian_bremmer_the_next_global_superpower_isn_t_who_you_think', 'https://www.ted.com/talks/jessie_reyez_still_c_u_figures', 'https://www.ted.com/talks/susan_g_wardle_seeing_things_that_aren_t_there_it_s_pareidolia', 'https://www.ted.com/talks/mark_edwards_why_is_it_so_hard_to_get_effective_birth_control_in_the_us', 'https://www.ted.com/talks/michael_green_the_natural_building_blocks_of_sustainable_architecture', 'https://www.ted.com/talks/sally_frampton_what_did_people_do_before_anesthesia', 'https://www.ted.com/talks/tony_long_the_outlaws_of_the_ocean_and_how_we_re_reeling_them_in', 'https://www.ted.com/talks/lonneke_gordijn_nature_art_and_magical_blocks_of_flying_concrete', 'https://www.ted.com/talks/carolyn_beans_food_expiration_dates_don_t_mean_what_you_think', 'https://www.ted.com/talks/ali_hajimiri_how_wireless_energy_from_space_could_power_everything', 'https://www.ted.com/talks/david_m_howard_can_we_recreate_the_voice_of_a_3_000_year_old_mummy', 'https://www.ted.com/talks/punya_mishra_how_to_design_a_school_for_the_future', 'https://www.ted.com/talks/hanako_sawada_test_yourself_can_you_tell_the_difference_between_music_and_noise', 'https://www.ted.com/talks/julian_delgado_lopera_the_poetry_of_everyday_language', 'https://www.ted.com/talks/anne_morriss_5_steps_to_fix_any_problem_at_work', 'https://www.ted.com/talks/sascha_morrell_why_is_william_faulkner_so_difficult_to_read', 'https://www.ted.com/talks/nita_farahany_your_right_to_mental_privacy_in_the_age_of_brain_sensing_tech', 'https://www.ted.com/talks/martin_lockley_the_dinosaur_detectives_of_real_life_jurassic_parks', 'https://www.ted.com/talks/alaa_wardi_featuring_aisha_zainal_butterfly_effect_and_bel_arabi', 'https://www.ted.com/talks/iklil_al_jabal_naeli_ahla_zahra', 'https://www.ted.com/talks/noura_mint_seymali_ghizlane', 'https://www.ted.com/talks/dan_finkel_can_you_outsmart_fate_and_break_her_ancient_curse', 'https://www.ted.com/talks/normand_voyer_are_life_saving_medicines_hiding_in_the_world_s_coldest_places']\n"
     ]
    }
   ],
   "source": [
    "talks = [] # also called add_links\n",
    "page = requests.get(page_url)\n",
    "soup = BeautifulSoup(page.content, 'html.parser')\n",
    "\n",
    "# find href links to talks in page content under <a> tags\n",
    "pbar = tqdm(total=len(page_urls), dynamic_ncols=True, colour= 'green')\n",
    "for i, page in enumerate(page_urls):\n",
    "    for link in soup.find_all('a'):\n",
    "        time.sleep(0.5)\n",
    "        pbar.update(1)\n",
    "        pbar.set_description(f'Downloading page {i+1}/{len(page_urls)}', refresh=True)\n",
    "\n",
    "        if link.has_attr('href') and link['href'].startswith('/talks/'):\n",
    "            ted_url = 'https://www.ted.com'\n",
    "            #check if link already exists in talks list\n",
    "            if ted_url + link['href'] not in talks:\n",
    "                #concat 'https://www.ted.com' + link['href'] to talks list\n",
    "                talks.append(ted_url + link['href'])\n",
    "            else:\n",
    "        # if link already exists in talks list, skip it\n",
    "                continue\n",
    "            time.sleep(0.5)\n",
    "pbar.close()"
   ]
  },
  {
   "cell_type": "code",
   "execution_count": 120,
   "metadata": {},
   "outputs": [
    {
     "data": {
      "text/plain": [
       "'https://www.ted.com/talks/angus_hervey_why_are_we_so_bad_at_reporting_good_news'"
      ]
     },
     "execution_count": 120,
     "metadata": {},
     "output_type": "execute_result"
    }
   ],
   "source": [
    "talks[5]"
   ]
  },
  {
   "cell_type": "code",
   "execution_count": 138,
   "metadata": {},
   "outputs": [
    {
     "name": "stdout",
     "output_type": "stream",
     "text": [
      "407,040\n"
     ]
    }
   ],
   "source": [
    "\n",
    "# find views of talk under <div class=\"text-sm w-full truncate text-gray-900\" data-testid=\"talk-meta\">\n",
    "response = requests.get(talks[5])\n",
    "soup = BeautifulSoup(response.text, 'lxml')\n",
    "views_schema = soup.find_all('div', class_='text-sm w-full truncate text-gray-900')\n",
    "views = views_schema[0].get_text().strip().split()[0]\n",
    "\n",
    "print (views)\n"
   ]
  },
  {
   "cell_type": "code",
   "execution_count": null,
   "metadata": {},
   "outputs": [],
   "source": [
    "pbar = tqdm(total=len(talks), dynamic_ncols=True, colour= 'green')\n",
    "\n",
    "for i, ad in enumerate(talks):\n",
    "    #-------create dataframe--------#\n",
    "    df = pd.DataFrame(columns=[\"author\", \"talk\", \"description\", \"likes\", \"views\"])\n",
    "\n",
    "    time.sleep(2)\n",
    "    pbar.update(1)\n",
    "    response = requests.get(talks[5])\n",
    "    soup = BeautifulSoup(response.text, 'lxml')\n",
    "\n",
    "\n",
    "    #--------Title Schema------------#\n",
    "    title_schema = soup.find('head').find('title').text.strip()\n",
    "\n",
    "    #--------Description Schema------------#\n",
    "    description_schema = soup.find('head').find('meta', attrs={'name':'description'})['content'].strip()\n",
    "\n",
    "    #--------Likes Schema------------#\n",
    "    likes_schema = soup.find_all('span')[0].get_text().strip()\n",
    "\n",
    "    #--------Views Schema------------#\n",
    "    views_schema = soup.find_all('div', class_='text-sm w-full truncate text-gray-900')\n",
    "\n",
    "\n",
    "    # get author name from title \n",
    "    author = title_schema.split(':')[0]\n",
    "    talk = title_schema.split(':')[1].strip().replace('| TED Talk', '')\n",
    "    description = description_schema\n",
    "    likes = likes_schema.replace('(', '').replace(')', '')\n",
    "    try: \n",
    "        views = views_schema[0].get_text().strip().split()[0]\n",
    "    except:\n",
    "        views = 0\n",
    "\n",
    "    pbar.set_description(f'Downloading {talk}', refresh=True)\n",
    "\n",
    "    # add to dataframe\n",
    "    df = df.append({'author': author, 'talk': talk, 'description': description, 'likes': likes, 'views': views}, ignore_index=True)\n",
    "\n",
    " # ----------------------------------------Saving to Database--------------------------------------------#\n",
    " \n",
    "    conn = sqlite3.connect('talks.db')\n",
    "    cur = conn.cursor()\n",
    "                \n",
    "    for i in range(len(df)):\n",
    "        cur.execute(\"INSERT INTO talks (author, talk, description, likes, views) VALUES (?, ?, ?, ?, ?)\", (df.iloc[i]['author'], df.iloc[i]['talk'], df.iloc[i]['description'], df.iloc[i]['likes'], df.iloc[i]['views']))\n",
    "    conn.commit()\n",
    "\n",
    "    time.sleep(1)\n",
    "    pbar.set_description(f'Adding {talk} to database', refresh=True)\n",
    "    pbar.update(1)\n",
    "\n",
    "    time.sleep(1)\n",
    "    cur.execute(\"SELECT * FROM talks\")\n",
    "    rows = cur.fetchall()\n",
    "\n",
    "    pbar.set_description(f\"There are {len(rows)} records in the database\", refresh=True)\n",
    "    conn.close()\n",
    "    time.sleep(1)\n",
    "pbar.close()\n",
    "\n"
   ]
  },
  {
   "cell_type": "code",
   "execution_count": null,
   "metadata": {},
   "outputs": [],
   "source": []
  }
 ],
 "metadata": {
  "kernelspec": {
   "display_name": "Python 3",
   "language": "python",
   "name": "python3"
  },
  "language_info": {
   "codemirror_mode": {
    "name": "ipython",
    "version": 3
   },
   "file_extension": ".py",
   "mimetype": "text/x-python",
   "name": "python",
   "nbconvert_exporter": "python",
   "pygments_lexer": "ipython3",
   "version": "3.9.7"
  },
  "orig_nbformat": 4
 },
 "nbformat": 4,
 "nbformat_minor": 2
}
