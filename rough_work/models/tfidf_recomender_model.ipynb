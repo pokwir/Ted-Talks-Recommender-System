{
 "cells": [
  {
   "cell_type": "code",
   "execution_count": 38,
   "metadata": {},
   "outputs": [],
   "source": [
    "import pandas as pd\n",
    "import numpy as np\n",
    "# import pandas\n",
    "import pandas as pd\n",
    "\n",
    "# import TfidfVectorizer\n",
    "from sklearn.feature_extraction.text import TfidfVectorizer\n",
    "\n",
    "# import cosine_similarity\n",
    "from sklearn.metrics.pairwise import cosine_similarity"
   ]
  },
  {
   "cell_type": "code",
   "execution_count": 39,
   "metadata": {},
   "outputs": [],
   "source": [
    "data = '/Users/patrickokwir/Desktop/Git_Projects/Ted-Talks-Recommender-System/Data_output/talks.csv'"
   ]
  },
  {
   "cell_type": "code",
   "execution_count": 40,
   "metadata": {},
   "outputs": [],
   "source": [
    "df = pd.read_csv(data, index_col=0)"
   ]
  },
  {
   "cell_type": "code",
   "execution_count": 74,
   "metadata": {},
   "outputs": [
    {
     "data": {
      "text/html": [
       "<div>\n",
       "<style scoped>\n",
       "    .dataframe tbody tr th:only-of-type {\n",
       "        vertical-align: middle;\n",
       "    }\n",
       "\n",
       "    .dataframe tbody tr th {\n",
       "        vertical-align: top;\n",
       "    }\n",
       "\n",
       "    .dataframe thead th {\n",
       "        text-align: right;\n",
       "    }\n",
       "</style>\n",
       "<table border=\"1\" class=\"dataframe\">\n",
       "  <thead>\n",
       "    <tr style=\"text-align: right;\">\n",
       "      <th></th>\n",
       "      <th>author</th>\n",
       "      <th>talk</th>\n",
       "      <th>description</th>\n",
       "      <th>likes</th>\n",
       "      <th>views</th>\n",
       "      <th>item</th>\n",
       "    </tr>\n",
       "  </thead>\n",
       "  <tbody>\n",
       "    <tr>\n",
       "      <th>0</th>\n",
       "      <td>Conor Russomanno</td>\n",
       "      <td>a powerful new neurotech tool for augmenting y...</td>\n",
       "      <td>astonishing talk tech demo neurotechnologist c...</td>\n",
       "      <td>4700</td>\n",
       "      <td>157930</td>\n",
       "      <td>astonishing talk tech demo neurotechnologist c...</td>\n",
       "    </tr>\n",
       "    <tr>\n",
       "      <th>1</th>\n",
       "      <td>Peter Singer</td>\n",
       "      <td>a modern argument for the rights of animals</td>\n",
       "      <td>prioritize human rights species philosopher pe...</td>\n",
       "      <td>7600</td>\n",
       "      <td>254482</td>\n",
       "      <td>prioritize human rights species philosopher pe...</td>\n",
       "    </tr>\n",
       "    <tr>\n",
       "      <th>2</th>\n",
       "      <td>Sahar Zand</td>\n",
       "      <td>why iranians are cutting their hair for woman ...</td>\n",
       "      <td>filmmaker sahar zand vividly explores ongoing ...</td>\n",
       "      <td>1100</td>\n",
       "      <td>393882</td>\n",
       "      <td>filmmaker sahar zand vividly explores ongoing ...</td>\n",
       "    </tr>\n",
       "    <tr>\n",
       "      <th>3</th>\n",
       "      <td>Shannon Odell</td>\n",
       "      <td>are solar panels worth it</td>\n",
       "      <td>today many countries solar cheapest form energ...</td>\n",
       "      <td>3700</td>\n",
       "      <td>126251</td>\n",
       "      <td>today many countries solar cheapest form energ...</td>\n",
       "    </tr>\n",
       "    <tr>\n",
       "      <th>4</th>\n",
       "      <td>Angus Hervey</td>\n",
       "      <td>why are we so bad at reporting good news</td>\n",
       "      <td>good news rare special broadcast ted stage jou...</td>\n",
       "      <td>1200</td>\n",
       "      <td>415329</td>\n",
       "      <td>good news rare special broadcast ted stage jou...</td>\n",
       "    </tr>\n",
       "  </tbody>\n",
       "</table>\n",
       "</div>"
      ],
      "text/plain": [
       "             author                                               talk  \\\n",
       "0  Conor Russomanno  a powerful new neurotech tool for augmenting y...   \n",
       "1      Peter Singer        a modern argument for the rights of animals   \n",
       "2        Sahar Zand  why iranians are cutting their hair for woman ...   \n",
       "3     Shannon Odell                          are solar panels worth it   \n",
       "4      Angus Hervey           why are we so bad at reporting good news   \n",
       "\n",
       "                                         description  likes   views  \\\n",
       "0  astonishing talk tech demo neurotechnologist c...   4700  157930   \n",
       "1  prioritize human rights species philosopher pe...   7600  254482   \n",
       "2  filmmaker sahar zand vividly explores ongoing ...   1100  393882   \n",
       "3  today many countries solar cheapest form energ...   3700  126251   \n",
       "4  good news rare special broadcast ted stage jou...   1200  415329   \n",
       "\n",
       "                                                item  \n",
       "0  astonishing talk tech demo neurotechnologist c...  \n",
       "1  prioritize human rights species philosopher pe...  \n",
       "2  filmmaker sahar zand vividly explores ongoing ...  \n",
       "3  today many countries solar cheapest form energ...  \n",
       "4  good news rare special broadcast ted stage jou...  "
      ]
     },
     "execution_count": 74,
     "metadata": {},
     "output_type": "execute_result"
    }
   ],
   "source": [
    "df.head(5)"
   ]
  },
  {
   "cell_type": "code",
   "execution_count": 75,
   "metadata": {},
   "outputs": [
    {
     "data": {
      "text/html": [
       "<div>\n",
       "<style scoped>\n",
       "    .dataframe tbody tr th:only-of-type {\n",
       "        vertical-align: middle;\n",
       "    }\n",
       "\n",
       "    .dataframe tbody tr th {\n",
       "        vertical-align: top;\n",
       "    }\n",
       "\n",
       "    .dataframe thead th {\n",
       "        text-align: right;\n",
       "    }\n",
       "</style>\n",
       "<table border=\"1\" class=\"dataframe\">\n",
       "  <thead>\n",
       "    <tr style=\"text-align: right;\">\n",
       "      <th></th>\n",
       "      <th>author</th>\n",
       "      <th>talk</th>\n",
       "      <th>description</th>\n",
       "      <th>likes</th>\n",
       "      <th>views</th>\n",
       "      <th>item</th>\n",
       "    </tr>\n",
       "  </thead>\n",
       "  <tbody>\n",
       "    <tr>\n",
       "      <th>847</th>\n",
       "      <td>Simon Sinek</td>\n",
       "      <td>how to discover your why in difficult times</td>\n",
       "      <td>coronavirus pandemic taught us relationships d...</td>\n",
       "      <td>6500</td>\n",
       "      <td>2178384</td>\n",
       "      <td>coronavirus pandemic taught us relationships d...</td>\n",
       "    </tr>\n",
       "    <tr>\n",
       "      <th>3911</th>\n",
       "      <td>Simon Sinek</td>\n",
       "      <td>why good leaders make you feel safe</td>\n",
       "      <td>makes great leader management theorist simon s...</td>\n",
       "      <td>56400</td>\n",
       "      <td>18806012</td>\n",
       "      <td>makes great leader management theorist simon s...</td>\n",
       "    </tr>\n",
       "    <tr>\n",
       "      <th>5124</th>\n",
       "      <td>Simon Sinek</td>\n",
       "      <td>how great leaders inspire action</td>\n",
       "      <td>simon sinek simple powerful model inspirationa...</td>\n",
       "      <td>1800000</td>\n",
       "      <td>62324730</td>\n",
       "      <td>simon sinek simple powerful model inspirationa...</td>\n",
       "    </tr>\n",
       "  </tbody>\n",
       "</table>\n",
       "</div>"
      ],
      "text/plain": [
       "           author                                         talk  \\\n",
       "847   Simon Sinek  how to discover your why in difficult times   \n",
       "3911  Simon Sinek          why good leaders make you feel safe   \n",
       "5124  Simon Sinek             how great leaders inspire action   \n",
       "\n",
       "                                            description    likes     views  \\\n",
       "847   coronavirus pandemic taught us relationships d...     6500   2178384   \n",
       "3911  makes great leader management theorist simon s...    56400  18806012   \n",
       "5124  simon sinek simple powerful model inspirationa...  1800000  62324730   \n",
       "\n",
       "                                                   item  \n",
       "847   coronavirus pandemic taught us relationships d...  \n",
       "3911  makes great leader management theorist simon s...  \n",
       "5124  simon sinek simple powerful model inspirationa...  "
      ]
     },
     "execution_count": 75,
     "metadata": {},
     "output_type": "execute_result"
    }
   ],
   "source": [
    "# find author = 'Simon Sinek' from df\n",
    "df[df['author'] == 'Simon Sinek']"
   ]
  },
  {
   "cell_type": "code",
   "execution_count": 42,
   "metadata": {},
   "outputs": [],
   "source": [
    "from nltk.corpus import stopwords\n",
    "import string\n",
    "stop_words = set(stopwords.words('english'))\n",
    "df['description'] = df['description'].str.strip()\n",
    "df['description'] = df['description'].apply(lambda x: ' '.join([word for word in x.split() if word not in (stop_words)]))\n",
    "df['description'] = df['description'].apply(lambda x: ' '.join([word for word in x.split() if word not in string.punctuation]))\n",
    "df['description'] = df['description'].apply(lambda x: ' '.join([word for word in x.split() if word not in string.digits]))"
   ]
  },
  {
   "cell_type": "code",
   "execution_count": 43,
   "metadata": {},
   "outputs": [],
   "source": [
    "tfidf = TfidfVectorizer(stop_words='english')"
   ]
  },
  {
   "cell_type": "code",
   "execution_count": 44,
   "metadata": {},
   "outputs": [],
   "source": [
    "# fit and transform 'description' column\n",
    "tfidf_matrix = tfidf.fit_transform(df['description'])"
   ]
  },
  {
   "cell_type": "code",
   "execution_count": 45,
   "metadata": {},
   "outputs": [
    {
     "data": {
      "text/plain": [
       "(5798, 28410)"
      ]
     },
     "execution_count": 45,
     "metadata": {},
     "output_type": "execute_result"
    }
   ],
   "source": [
    "tfidf_matrix.shape"
   ]
  },
  {
   "cell_type": "code",
   "execution_count": 46,
   "metadata": {},
   "outputs": [
    {
     "data": {
      "text/plain": [
       "array(['93', '94year', '95', ..., 'ching', 'chintis', 'chinyanta'],\n",
       "      dtype=object)"
      ]
     },
     "execution_count": 46,
     "metadata": {},
     "output_type": "execute_result"
    }
   ],
   "source": [
    "tfidf.get_feature_names_out()[500:4600]"
   ]
  },
  {
   "cell_type": "code",
   "execution_count": 47,
   "metadata": {},
   "outputs": [],
   "source": [
    "# compute the cosine similarity matrix\n",
    "cosine_sim = cosine_similarity(tfidf_matrix, tfidf_matrix)"
   ]
  },
  {
   "cell_type": "code",
   "execution_count": 48,
   "metadata": {},
   "outputs": [
    {
     "data": {
      "text/plain": [
       "(5798, 5798)"
      ]
     },
     "execution_count": 48,
     "metadata": {},
     "output_type": "execute_result"
    }
   ],
   "source": [
    "cosine_sim.shape"
   ]
  },
  {
   "cell_type": "code",
   "execution_count": 49,
   "metadata": {},
   "outputs": [],
   "source": [
    "# sort all items using their similarity for each item i, and store the values in dictionary of lists\n",
    "results = {}\n",
    "for i in range(len(cosine_sim)):\n",
    "    results[i] = cosine_sim[i].argsort()[:-11:-1].tolist()"
   ]
  },
  {
   "cell_type": "code",
   "execution_count": 50,
   "metadata": {},
   "outputs": [
    {
     "data": {
      "text/plain": [
       "[1, 847, 805, 765, 130, 347, 409, 396, 120, 641]"
      ]
     },
     "execution_count": 50,
     "metadata": {},
     "output_type": "execute_result"
    }
   ],
   "source": [
    "results[1]"
   ]
  },
  {
   "cell_type": "code",
   "execution_count": 51,
   "metadata": {},
   "outputs": [],
   "source": [
    "# first split the 'description' so it returns only the item\n",
    "df['item'] = df['description'].str.split('-').str[0]"
   ]
  },
  {
   "cell_type": "code",
   "execution_count": 52,
   "metadata": {},
   "outputs": [],
   "source": [
    "# second, create a reverse map of indices and descriptions\n",
    "indices = pd.Series(df.index, index=df['item']).drop_duplicates()"
   ]
  },
  {
   "cell_type": "code",
   "execution_count": 53,
   "metadata": {},
   "outputs": [
    {
     "data": {
      "text/plain": [
       "item\n",
       "astonishing talk tech demo neurotechnologist conor russomanno shares work building braincomputer interfaces could enable us control external world minds discusses quickly advancing possibilities field including promise closedloop system could record stimulate brain activity invites neurohacker christian bayerlein onto ted stage fly mindcontrolled drone using biosensing headset                                                                                           0\n",
       "prioritize human rights species philosopher peter singer dives calls speciesism root widely ignored mistreatment animals around world factory farms producttesting facilities makes case ending commercial exploitation animals food invites everyone reexamine environmental moral weight status quo conversation hosted head ted chris anderson part exclusive ted membership event visit tedcommembership become ted member warning conversation contains images animal cruelty    1\n",
       "dtype: int64"
      ]
     },
     "execution_count": 53,
     "metadata": {},
     "output_type": "execute_result"
    }
   ],
   "source": [
    "indices[:2]"
   ]
  },
  {
   "cell_type": "code",
   "execution_count": 71,
   "metadata": {},
   "outputs": [],
   "source": [
    "# now we create a function recomender that will recommend simmilar products, function must take item_id and count as parameters\n",
    "cosine_sim=cosine_sim\n",
    "\n",
    "talk_to_search = 'are solar panels worth it'\n",
    "top_n_results = 3\n",
    "\n",
    "def recomender(talk_to_search, top_n_results):\n",
    "   \n",
    "    count = top_n_results\n",
    "\n",
    "    id = df.loc[df['talk'] == talk_to_search].index.values[0]\n",
    "       # Get the index of the item that matches the title\n",
    "    idx = indices[id]\n",
    "\n",
    "    # Get the pairwsie similarity scores of all movies with that movie\n",
    "    sim_scores = list(enumerate(cosine_sim[idx]))\n",
    "\n",
    "    # Sort the movies based on the similarity scores\n",
    "    sim_scores = sorted(sim_scores, key=lambda x: x[1], reverse=True)\n",
    "\n",
    "    # Get the scores of the 10 most similar movies\n",
    "    sim_scores = sim_scores[1:11]\n",
    "\n",
    "    # Get the movie indices\n",
    "    item_indicies = [i[0] for i in sim_scores]\n",
    "\n",
    "    # Return the top 10 most similar talks\n",
    "    top_talks_idx = df['item'].iloc[item_indicies].index[:count]\n",
    "    # get author, talk using top_talks_idx\n",
    "    top_talks_author = df['author'].iloc[item_indicies].values[:count]\n",
    "    top_talks_talk = df['talk'].iloc[item_indicies].values[:count]\n",
    "\n",
    "    # create a result df \n",
    "    result_df = pd.DataFrame({'author': top_talks_author, 'talk': top_talks_talk})\n",
    "\n",
    "    # rename columns\n",
    "    result_df.columns = ['author', 'talk']\n",
    "\n",
    "    return result_df\n",
    "\n",
    "\n",
    "\n",
    "   # use indices to get 'author' and 'talk' columns from the dataframe"
   ]
  },
  {
   "cell_type": "code",
   "execution_count": 77,
   "metadata": {},
   "outputs": [
    {
     "data": {
      "text/html": [
       "<div>\n",
       "<style scoped>\n",
       "    .dataframe tbody tr th:only-of-type {\n",
       "        vertical-align: middle;\n",
       "    }\n",
       "\n",
       "    .dataframe tbody tr th {\n",
       "        vertical-align: top;\n",
       "    }\n",
       "\n",
       "    .dataframe thead th {\n",
       "        text-align: right;\n",
       "    }\n",
       "</style>\n",
       "<table border=\"1\" class=\"dataframe\">\n",
       "  <thead>\n",
       "    <tr style=\"text-align: right;\">\n",
       "      <th></th>\n",
       "      <th>author</th>\n",
       "      <th>talk</th>\n",
       "    </tr>\n",
       "  </thead>\n",
       "  <tbody>\n",
       "    <tr>\n",
       "      <th>0</th>\n",
       "      <td>Rachel Botsman</td>\n",
       "      <td>weve stopped trusting institutions and started...</td>\n",
       "    </tr>\n",
       "    <tr>\n",
       "      <th>1</th>\n",
       "      <td>Simon Sinek</td>\n",
       "      <td>how great leaders inspire action</td>\n",
       "    </tr>\n",
       "    <tr>\n",
       "      <th>2</th>\n",
       "      <td>Marcos Aguiar</td>\n",
       "      <td>7 tools for building a business people trust</td>\n",
       "    </tr>\n",
       "    <tr>\n",
       "      <th>3</th>\n",
       "      <td>Jonathan Zittrain</td>\n",
       "      <td>the web as random acts of kindness</td>\n",
       "    </tr>\n",
       "    <tr>\n",
       "      <th>4</th>\n",
       "      <td>Frances Frei</td>\n",
       "      <td>how to build and rebuild trust</td>\n",
       "    </tr>\n",
       "  </tbody>\n",
       "</table>\n",
       "</div>"
      ],
      "text/plain": [
       "              author                                               talk\n",
       "0     Rachel Botsman  weve stopped trusting institutions and started...\n",
       "1        Simon Sinek                   how great leaders inspire action\n",
       "2      Marcos Aguiar       7 tools for building a business people trust\n",
       "3  Jonathan Zittrain                 the web as random acts of kindness\n",
       "4       Frances Frei                     how to build and rebuild trust"
      ]
     },
     "execution_count": 77,
     "metadata": {},
     "output_type": "execute_result"
    }
   ],
   "source": [
    "# get the first five recommendations using the funstion above\n",
    "recomender('why good leaders make you feel safe', 5)"
   ]
  },
  {
   "cell_type": "code",
   "execution_count": null,
   "metadata": {},
   "outputs": [],
   "source": []
  },
  {
   "cell_type": "code",
   "execution_count": null,
   "metadata": {},
   "outputs": [],
   "source": []
  }
 ],
 "metadata": {
  "kernelspec": {
   "display_name": "Python 3",
   "language": "python",
   "name": "python3"
  },
  "language_info": {
   "codemirror_mode": {
    "name": "ipython",
    "version": 3
   },
   "file_extension": ".py",
   "mimetype": "text/x-python",
   "name": "python",
   "nbconvert_exporter": "python",
   "pygments_lexer": "ipython3",
   "version": "3.9.7"
  },
  "orig_nbformat": 4
 },
 "nbformat": 4,
 "nbformat_minor": 2
}
