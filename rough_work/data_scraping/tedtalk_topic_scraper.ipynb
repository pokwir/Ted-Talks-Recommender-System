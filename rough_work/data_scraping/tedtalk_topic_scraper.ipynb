{
 "cells": [
  {
   "cell_type": "markdown",
   "metadata": {},
   "source": [
    "# **Ted Talks Data Scraping - Topics **"
   ]
  },
  {
   "cell_type": "markdown",
   "metadata": {},
   "source": [
    "### Import Packages"
   ]
  },
  {
   "cell_type": "code",
   "execution_count": 16,
   "metadata": {},
   "outputs": [],
   "source": [
    "import requests\n",
    "from bs4 import BeautifulSoup\n",
    "import pandas as pd\n",
    "import numpy as np\n",
    "import re\n",
    "import time\n",
    "import random\n",
    "from tqdm import tqdm\n",
    "import lxml.etree\n",
    "import warnings\n",
    "warnings.filterwarnings(\"ignore\")"
   ]
  },
  {
   "cell_type": "code",
   "execution_count": 17,
   "metadata": {},
   "outputs": [],
   "source": [
    "topics = []\n",
    "topics_url = 'https://www.ted.com/topics'\n",
    "response = requests.get(topics_url)\n",
    "soup = BeautifulSoup(response.text, 'html.parser')\n",
    "\n",
    "# get topics under \"div class=\"text-sm xl:text-base xl:leading-md\"\n",
    "for topic in soup.find_all('div', class_='text-sm xl:text-base xl:leading-md'):\n",
    "    topic = topic.text.strip().lower()\n",
    "    if len(topic.split()) == 2:\n",
    "        topic = topic.split(\" \")[0] + \"+\" + topic.split(\" \")[1]\n",
    "    if len(topic.split()) == 3:\n",
    "        topic = topic.split(\" \")[0] + \"+\" + topic.split(\" \")[1] + \"+\" + topic.split(\" \")[2]\n",
    "    # if topic has only one word, remove spaces\n",
    "    elif len(topic.split()) == 1:\n",
    "        topic = topic.split()[0]\n",
    "    # if topic has only one word, remove spaces\n",
    "    topic = topic.replace(\"'\", \"%27\")\n",
    "    topics.append(topic)"
   ]
  },
  {
   "cell_type": "code",
   "execution_count": 21,
   "metadata": {},
   "outputs": [],
   "source": [
    "landing_pages = []\n",
    "for i, topic in enumerate(topics): \n",
    "    pages = [str(i) for i in range(1, 2, 1)]\n",
    "    for page in pages:\n",
    "        topiclanding = \"https://www.ted.com/talks?page=\"+page+\"&topics%5B%5D=\"+topic\n",
    "        landing_pages.append(topiclanding)"
   ]
  },
  {
   "cell_type": "code",
   "execution_count": 32,
   "metadata": {},
   "outputs": [
    {
     "data": {
      "text/plain": [
       "'activism'"
      ]
     },
     "execution_count": 32,
     "metadata": {},
     "output_type": "execute_result"
    }
   ],
   "source": [
    "landing_pages[0].split('?')[1].split('&')[1].split('=')[1]"
   ]
  },
  {
   "cell_type": "code",
   "execution_count": null,
   "metadata": {},
   "outputs": [],
   "source": [
    "\n",
    "pbar = tqdm(total=len(landing_pages), dynamic_ncols=True, colour= 'yellow')\n",
    "for i, talk in enumerate(landing_pages):\n",
    "    # create dataframe for each talk, columns = title, author, date, url\n",
    "    df = pd.DataFrame(columns=['title', 'author', 'date', 'url'])\n",
    "    topiclanding = talk\n",
    "    response = requests.get(topiclanding)\n",
    "    soup = BeautifulSoup(response.text, 'html.parser')\n",
    "    #find speaker name under h4 class=\"h12 talk-link__speaker\"\n",
    "    speaker = soup.find_all('h4', class_='h12 talk-link__speaker')\n",
    "    posted = soup.find_all('span', class_='meta__val')\n",
    "    # find href of the post under h4 tag a \n",
    "    link = soup.find_all('h4', class_='h9 m5 f-w:700')\n",
    "    title = link\n",
    "    topic = topiclanding.split('/')[-1].split('?')[1].split('&')[1].split('=')[1]\n",
    "\n",
    "    pbar.update(1)\n",
    "    pbar.set_description(f'Scraping {topic}', refresh=True)\n",
    "\n",
    "\n",
    "    # create progress bar\n",
    "    pbar = tqdm(total=len(speaker), dynamic_ncols=True, colour= 'green')\n",
    "    for i in range(len(speaker)):\n",
    "        pbar.update(1)\n",
    "        pbar.set_description(f\"Processing page {i+1}/{len(speaker)}\", refresh=True)\n",
    "        time.sleep(1)\n",
    "        df = df.append({'title': title[i].text, 'author': speaker[i].text, 'date': posted[i].text, 'url': 'ted.com'+link[i].find('a')['href']}, ignore_index=True)\n",
    "        # print(speaker[i].text, posted[i].text, link[i].find('a')['href'], title[i].text, topic)\n",
    "\n",
    "        # Add df to sqlite database\n",
    "        # iport\n",
    "        # conn = sqlite3.connect('talks.db')\n",
    "        # c = conn.cursor()\n",
    "        # c.execute(\"INSERT INTO topics (title, author, date, url) VALUES (?,?,?,?)\", (title[i].text, speaker[i].text, posted[i].text, 'ted.com'+link[i].find('a')['href']))\n",
    "        # conn.commit()\n",
    "        # time.sleep(1)\n",
    "    pbar.close()\n",
    "pbar.close()\n",
    "        # c.execute(\"SELECT * FROM topics\") \n",
    "        # rows = c.fetchall()\n",
    "        # pbar.set_description(f\"There are {len(rows)} records in the database\", refresh=True)\n",
    "        # conn.close()\n",
    "        # time.sleep(1)\n"
   ]
  },
  {
   "cell_type": "code",
   "execution_count": null,
   "metadata": {},
   "outputs": [
    {
     "data": {
      "text/html": [
       "<div>\n",
       "<style scoped>\n",
       "    .dataframe tbody tr th:only-of-type {\n",
       "        vertical-align: middle;\n",
       "    }\n",
       "\n",
       "    .dataframe tbody tr th {\n",
       "        vertical-align: top;\n",
       "    }\n",
       "\n",
       "    .dataframe thead th {\n",
       "        text-align: right;\n",
       "    }\n",
       "</style>\n",
       "<table border=\"1\" class=\"dataframe\">\n",
       "  <thead>\n",
       "    <tr style=\"text-align: right;\">\n",
       "      <th></th>\n",
       "      <th>title</th>\n",
       "      <th>author</th>\n",
       "      <th>date</th>\n",
       "      <th>url</th>\n",
       "    </tr>\n",
       "  </thead>\n",
       "  <tbody>\n",
       "  </tbody>\n",
       "</table>\n",
       "</div>"
      ],
      "text/plain": [
       "Empty DataFrame\n",
       "Columns: [title, author, date, url]\n",
       "Index: []"
      ]
     },
     "execution_count": 117,
     "metadata": {},
     "output_type": "execute_result"
    }
   ],
   "source": [
    "df.head()"
   ]
  },
  {
   "cell_type": "code",
   "execution_count": null,
   "metadata": {},
   "outputs": [],
   "source": []
  }
 ],
 "metadata": {
  "kernelspec": {
   "display_name": "Python 3",
   "language": "python",
   "name": "python3"
  },
  "language_info": {
   "codemirror_mode": {
    "name": "ipython",
    "version": 3
   },
   "file_extension": ".py",
   "mimetype": "text/x-python",
   "name": "python",
   "nbconvert_exporter": "python",
   "pygments_lexer": "ipython3",
   "version": "3.9.7"
  },
  "orig_nbformat": 4
 },
 "nbformat": 4,
 "nbformat_minor": 2
}
