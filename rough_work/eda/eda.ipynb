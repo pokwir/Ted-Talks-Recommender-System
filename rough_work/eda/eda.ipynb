{
 "cells": [
  {
   "cell_type": "markdown",
   "id": "1afea600",
   "metadata": {},
   "source": [
    "# **Exploratory Data Analysis**"
   ]
  },
  {
   "cell_type": "markdown",
   "id": "93615fc0",
   "metadata": {},
   "source": [
    "### Import required packages"
   ]
  },
  {
   "cell_type": "code",
   "execution_count": 2,
   "id": "39c670d6",
   "metadata": {},
   "outputs": [],
   "source": [
    "import pandas as pd\n",
    "import numpy as np\n",
    "import matplotlib.pyplot as plt"
   ]
  },
  {
   "cell_type": "markdown",
   "id": "e679502c",
   "metadata": {},
   "source": [
    "### Load CSV"
   ]
  },
  {
   "cell_type": "code",
   "execution_count": null,
   "id": "aa68e390",
   "metadata": {},
   "outputs": [],
   "source": [
    "tedtalks = pd.read_csv('/Ted-Talks-Recommender-System/Data_output/talks_2.csv').drop(columns='Unnamed: 0')"
   ]
  },
  {
   "cell_type": "markdown",
   "id": "79b70a23",
   "metadata": {},
   "source": [
    "### Set full view for columns/rows"
   ]
  },
  {
   "cell_type": "code",
   "execution_count": 3,
   "id": "1b184325",
   "metadata": {},
   "outputs": [],
   "source": [
    "# Set display options to show all rows\n",
    "pd.set_option('display.max_rows', None)\n",
    "\n",
    "# Set display options to show full column width\n",
    "pd.set_option('display.max_colwidth', None)"
   ]
  },
  {
   "cell_type": "markdown",
   "id": "2b544762",
   "metadata": {},
   "source": [
    "### Overview of TED Talks Data: Top Rows and DataFrame Info"
   ]
  },
  {
   "cell_type": "code",
   "execution_count": 9,
   "id": "9ee23f5c",
   "metadata": {},
   "outputs": [
    {
     "data": {
      "text/html": [
       "<div>\n",
       "<style scoped>\n",
       "    .dataframe tbody tr th:only-of-type {\n",
       "        vertical-align: middle;\n",
       "    }\n",
       "\n",
       "    .dataframe tbody tr th {\n",
       "        vertical-align: top;\n",
       "    }\n",
       "\n",
       "    .dataframe thead th {\n",
       "        text-align: right;\n",
       "    }\n",
       "</style>\n",
       "<table border=\"1\" class=\"dataframe\">\n",
       "  <thead>\n",
       "    <tr style=\"text-align: right;\">\n",
       "      <th></th>\n",
       "      <th>author</th>\n",
       "      <th>talk</th>\n",
       "      <th>description</th>\n",
       "      <th>likes</th>\n",
       "      <th>views</th>\n",
       "      <th>transcript</th>\n",
       "    </tr>\n",
       "  </thead>\n",
       "  <tbody>\n",
       "    <tr>\n",
       "      <th>0</th>\n",
       "      <td>Machine Dazzle</td>\n",
       "      <td>how to unleash your inner maximalist through c...</td>\n",
       "      <td>tapping into the transformational power of cos...</td>\n",
       "      <td>8100</td>\n",
       "      <td>270192</td>\n",
       "      <td>Hello, I am Machine Dazzle, and I am an emotio...</td>\n",
       "    </tr>\n",
       "    <tr>\n",
       "      <th>1</th>\n",
       "      <td>Fabio Pacucci</td>\n",
       "      <td>the battle that formed the universe</td>\n",
       "      <td>its time for the biggest battle in the univers...</td>\n",
       "      <td>51</td>\n",
       "      <td>Fabio</td>\n",
       "      <td>Welcome one and all! It’s time to grab your se...</td>\n",
       "    </tr>\n",
       "    <tr>\n",
       "      <th>2</th>\n",
       "      <td>Jioji Ravulo</td>\n",
       "      <td>a liberating vision of identity that transcend...</td>\n",
       "      <td>how can we move past societys inclination to b...</td>\n",
       "      <td>9200</td>\n",
       "      <td>309952</td>\n",
       "      <td>Can you paint with all the colors of the wind?...</td>\n",
       "    </tr>\n",
       "    <tr>\n",
       "      <th>3</th>\n",
       "      <td>Rebecca Darwent</td>\n",
       "      <td>how to fund real change in your community</td>\n",
       "      <td>is there a way to give back that benefits ever...</td>\n",
       "      <td>1000</td>\n",
       "      <td>341218</td>\n",
       "      <td>I spent my whole career in the nonprofit secto...</td>\n",
       "    </tr>\n",
       "    <tr>\n",
       "      <th>4</th>\n",
       "      <td>Susanne Buckley-Zistel</td>\n",
       "      <td>what caused the rwandan genocide</td>\n",
       "      <td>for one hundred days in 1994 the african count...</td>\n",
       "      <td>3700</td>\n",
       "      <td>126376</td>\n",
       "      <td>For 100 days in 1994, the African country of R...</td>\n",
       "    </tr>\n",
       "  </tbody>\n",
       "</table>\n",
       "</div>"
      ],
      "text/plain": [
       "                   author                                               talk   \n",
       "0          Machine Dazzle  how to unleash your inner maximalist through c...  \\\n",
       "1           Fabio Pacucci                the battle that formed the universe   \n",
       "2            Jioji Ravulo  a liberating vision of identity that transcend...   \n",
       "3         Rebecca Darwent          how to fund real change in your community   \n",
       "4  Susanne Buckley-Zistel                   what caused the rwandan genocide   \n",
       "\n",
       "                                         description likes   views   \n",
       "0  tapping into the transformational power of cos...  8100  270192  \\\n",
       "1  its time for the biggest battle in the univers...    51   Fabio   \n",
       "2  how can we move past societys inclination to b...  9200  309952   \n",
       "3  is there a way to give back that benefits ever...  1000  341218   \n",
       "4  for one hundred days in 1994 the african count...  3700  126376   \n",
       "\n",
       "                                          transcript  \n",
       "0  Hello, I am Machine Dazzle, and I am an emotio...  \n",
       "1  Welcome one and all! It’s time to grab your se...  \n",
       "2  Can you paint with all the colors of the wind?...  \n",
       "3  I spent my whole career in the nonprofit secto...  \n",
       "4  For 100 days in 1994, the African country of R...  "
      ]
     },
     "execution_count": 9,
     "metadata": {},
     "output_type": "execute_result"
    }
   ],
   "source": [
    "tedtalks.head()"
   ]
  },
  {
   "cell_type": "code",
   "execution_count": 10,
   "id": "818040b3",
   "metadata": {},
   "outputs": [
    {
     "name": "stdout",
     "output_type": "stream",
     "text": [
      "<class 'pandas.core.frame.DataFrame'>\n",
      "RangeIndex: 6001 entries, 0 to 6000\n",
      "Data columns (total 6 columns):\n",
      " #   Column       Non-Null Count  Dtype \n",
      "---  ------       --------------  ----- \n",
      " 0   author       6000 non-null   object\n",
      " 1   talk         5997 non-null   object\n",
      " 2   description  5993 non-null   object\n",
      " 3   likes        5996 non-null   object\n",
      " 4   views        6001 non-null   object\n",
      " 5   transcript   5302 non-null   object\n",
      "dtypes: object(6)\n",
      "memory usage: 281.4+ KB\n"
     ]
    },
    {
     "data": {
      "text/plain": [
       "None"
      ]
     },
     "metadata": {},
     "output_type": "display_data"
    },
    {
     "data": {
      "text/html": [
       "<div>\n",
       "<style scoped>\n",
       "    .dataframe tbody tr th:only-of-type {\n",
       "        vertical-align: middle;\n",
       "    }\n",
       "\n",
       "    .dataframe tbody tr th {\n",
       "        vertical-align: top;\n",
       "    }\n",
       "\n",
       "    .dataframe thead th {\n",
       "        text-align: right;\n",
       "    }\n",
       "</style>\n",
       "<table border=\"1\" class=\"dataframe\">\n",
       "  <thead>\n",
       "    <tr style=\"text-align: right;\">\n",
       "      <th></th>\n",
       "      <th>author</th>\n",
       "      <th>talk</th>\n",
       "      <th>description</th>\n",
       "      <th>likes</th>\n",
       "      <th>views</th>\n",
       "      <th>transcript</th>\n",
       "    </tr>\n",
       "  </thead>\n",
       "  <tbody>\n",
       "    <tr>\n",
       "      <th>count</th>\n",
       "      <td>6000</td>\n",
       "      <td>5997</td>\n",
       "      <td>5993</td>\n",
       "      <td>5996</td>\n",
       "      <td>6001</td>\n",
       "      <td>5302</td>\n",
       "    </tr>\n",
       "    <tr>\n",
       "      <th>unique</th>\n",
       "      <td>4857</td>\n",
       "      <td>5965</td>\n",
       "      <td>5992</td>\n",
       "      <td>714</td>\n",
       "      <td>5975</td>\n",
       "      <td>5301</td>\n",
       "    </tr>\n",
       "    <tr>\n",
       "      <th>top</th>\n",
       "      <td>Alex Gendler</td>\n",
       "      <td>my wish</td>\n",
       "      <td>how do we make sense of a world that doesnt by...</td>\n",
       "      <td>3900</td>\n",
       "      <td>0</td>\n",
       "      <td>The world is awash with divisive arguments, co...</td>\n",
       "    </tr>\n",
       "    <tr>\n",
       "      <th>freq</th>\n",
       "      <td>47</td>\n",
       "      <td>14</td>\n",
       "      <td>2</td>\n",
       "      <td>100</td>\n",
       "      <td>8</td>\n",
       "      <td>2</td>\n",
       "    </tr>\n",
       "  </tbody>\n",
       "</table>\n",
       "</div>"
      ],
      "text/plain": [
       "              author     talk   \n",
       "count           6000     5997  \\\n",
       "unique          4857     5965   \n",
       "top     Alex Gendler  my wish   \n",
       "freq              47       14   \n",
       "\n",
       "                                              description likes views   \n",
       "count                                                5993  5996  6001  \\\n",
       "unique                                               5992   714  5975   \n",
       "top     how do we make sense of a world that doesnt by...  3900     0   \n",
       "freq                                                    2   100     8   \n",
       "\n",
       "                                               transcript  \n",
       "count                                                5302  \n",
       "unique                                               5301  \n",
       "top     The world is awash with divisive arguments, co...  \n",
       "freq                                                    2  "
      ]
     },
     "metadata": {},
     "output_type": "display_data"
    }
   ],
   "source": [
    "display(tedtalks.info())\n",
    "display(tedtalks.describe())"
   ]
  },
  {
   "cell_type": "markdown",
   "id": "cc342b69",
   "metadata": {},
   "source": [
    "### Duplicate Removal"
   ]
  },
  {
   "cell_type": "code",
   "execution_count": 11,
   "id": "6ad2c405",
   "metadata": {},
   "outputs": [
    {
     "name": "stdout",
     "output_type": "stream",
     "text": [
      "<class 'pandas.core.frame.DataFrame'>\n",
      "Index: 5997 entries, 0 to 6000\n",
      "Data columns (total 6 columns):\n",
      " #   Column       Non-Null Count  Dtype \n",
      "---  ------       --------------  ----- \n",
      " 0   author       5996 non-null   object\n",
      " 1   talk         5994 non-null   object\n",
      " 2   description  5993 non-null   object\n",
      " 3   likes        5994 non-null   object\n",
      " 4   views        5997 non-null   object\n",
      " 5   transcript   5302 non-null   object\n",
      "dtypes: object(6)\n",
      "memory usage: 328.0+ KB\n"
     ]
    }
   ],
   "source": [
    "tedtalks = tedtalks.drop_duplicates()\n",
    "tedtalks.info()"
   ]
  },
  {
   "cell_type": "code",
   "execution_count": 12,
   "id": "76feeae0",
   "metadata": {},
   "outputs": [
    {
     "name": "stdout",
     "output_type": "stream",
     "text": [
      "<class 'pandas.core.frame.DataFrame'>\n",
      "Index: 5302 entries, 0 to 6000\n",
      "Data columns (total 6 columns):\n",
      " #   Column       Non-Null Count  Dtype \n",
      "---  ------       --------------  ----- \n",
      " 0   author       5302 non-null   object\n",
      " 1   talk         5302 non-null   object\n",
      " 2   description  5302 non-null   object\n",
      " 3   likes        5302 non-null   object\n",
      " 4   views        5302 non-null   object\n",
      " 5   transcript   5302 non-null   object\n",
      "dtypes: object(6)\n",
      "memory usage: 290.0+ KB\n"
     ]
    }
   ],
   "source": [
    "tedtalks = tedtalks.dropna()\n",
    "tedtalks.info()"
   ]
  },
  {
   "cell_type": "code",
   "execution_count": 13,
   "id": "9d9df124",
   "metadata": {},
   "outputs": [
    {
     "data": {
      "text/html": [
       "<div>\n",
       "<style scoped>\n",
       "    .dataframe tbody tr th:only-of-type {\n",
       "        vertical-align: middle;\n",
       "    }\n",
       "\n",
       "    .dataframe tbody tr th {\n",
       "        vertical-align: top;\n",
       "    }\n",
       "\n",
       "    .dataframe thead th {\n",
       "        text-align: right;\n",
       "    }\n",
       "</style>\n",
       "<table border=\"1\" class=\"dataframe\">\n",
       "  <thead>\n",
       "    <tr style=\"text-align: right;\">\n",
       "      <th></th>\n",
       "      <th>author</th>\n",
       "      <th>talk</th>\n",
       "      <th>description</th>\n",
       "      <th>likes</th>\n",
       "      <th>views</th>\n",
       "      <th>transcript</th>\n",
       "    </tr>\n",
       "  </thead>\n",
       "  <tbody>\n",
       "    <tr>\n",
       "      <th>2136</th>\n",
       "      <td>Eugenia Cheng</td>\n",
       "      <td>an unexpected tool for understanding inequality</td>\n",
       "      <td>how do we make sense of a world that doesnt by...</td>\n",
       "      <td>1800</td>\n",
       "      <td>613222</td>\n",
       "      <td>The world is awash with divisive arguments, co...</td>\n",
       "    </tr>\n",
       "    <tr>\n",
       "      <th>2543</th>\n",
       "      <td>Eugenia Cheng</td>\n",
       "      <td>an unexpected tool for understanding inequality</td>\n",
       "      <td>how do we make sense of a world that doesnt by...</td>\n",
       "      <td>1800</td>\n",
       "      <td>613234</td>\n",
       "      <td>The world is awash with divisive arguments, co...</td>\n",
       "    </tr>\n",
       "    <tr>\n",
       "      <th>4275</th>\n",
       "      <td>Jessica Oreck and Rachael Teel</td>\n",
       "      <td>mysteries of vernacular</td>\n",
       "      <td>in 1920 czech writer karel čapek wrote a play ...</td>\n",
       "      <td>3300</td>\n",
       "      <td>110587</td>\n",
       "      <td>Mysteries of vernacular: Robot, a machine capa...</td>\n",
       "    </tr>\n",
       "    <tr>\n",
       "      <th>4352</th>\n",
       "      <td>Jessica Oreck and Rachael Teel</td>\n",
       "      <td>mysteries of vernacular</td>\n",
       "      <td>dating back to the early roman empire the word...</td>\n",
       "      <td>1100</td>\n",
       "      <td>38628</td>\n",
       "      <td>Mysteries of vernacular: Sarcophagus, a stone ...</td>\n",
       "    </tr>\n",
       "    <tr>\n",
       "      <th>4382</th>\n",
       "      <td>Joy Lin</td>\n",
       "      <td>if superpowers were real</td>\n",
       "      <td>what if invisibility wasnt just the stuff of e...</td>\n",
       "      <td>4300</td>\n",
       "      <td>1452119</td>\n",
       "      <td>Wouldn&amp;apos;t it be great if we could be invis...</td>\n",
       "    </tr>\n",
       "    <tr>\n",
       "      <th>4383</th>\n",
       "      <td>Joy Lin</td>\n",
       "      <td>if superpowers were real</td>\n",
       "      <td>what if human flight wasnt just the stuff of e...</td>\n",
       "      <td>6800</td>\n",
       "      <td>2272417</td>\n",
       "      <td>If humans could fly, without tools and machine...</td>\n",
       "    </tr>\n",
       "    <tr>\n",
       "      <th>4384</th>\n",
       "      <td>Joy Lin</td>\n",
       "      <td>if superpowers were real</td>\n",
       "      <td>what if immortality wasnt just the stuff of ep...</td>\n",
       "      <td>16100</td>\n",
       "      <td>5371993</td>\n",
       "      <td>Immortality. In movies, kings are always searc...</td>\n",
       "    </tr>\n",
       "    <tr>\n",
       "      <th>4385</th>\n",
       "      <td>Joy Lin</td>\n",
       "      <td>if superpowers were real</td>\n",
       "      <td>what if super strength wasnt just the stuff of...</td>\n",
       "      <td>6500</td>\n",
       "      <td>2195746</td>\n",
       "      <td>If you wake up one morning with 1,000 times th...</td>\n",
       "    </tr>\n",
       "    <tr>\n",
       "      <th>4386</th>\n",
       "      <td>Joy Lin</td>\n",
       "      <td>if superpowers were real</td>\n",
       "      <td>what if super speed wasnt just the stuff of ep...</td>\n",
       "      <td>5800</td>\n",
       "      <td>1965996</td>\n",
       "      <td>Some superheros can move faster than the wind....</td>\n",
       "    </tr>\n",
       "    <tr>\n",
       "      <th>4387</th>\n",
       "      <td>Joy Lin</td>\n",
       "      <td>if superpowers were real</td>\n",
       "      <td>what if manipulating body mass wasnt just the ...</td>\n",
       "      <td>4500</td>\n",
       "      <td>1507477</td>\n",
       "      <td>Some superheroes can grow to the size of a bui...</td>\n",
       "    </tr>\n",
       "  </tbody>\n",
       "</table>\n",
       "</div>"
      ],
      "text/plain": [
       "                              author   \n",
       "2136                   Eugenia Cheng  \\\n",
       "2543                   Eugenia Cheng   \n",
       "4275  Jessica Oreck and Rachael Teel   \n",
       "4352  Jessica Oreck and Rachael Teel   \n",
       "4382                         Joy Lin   \n",
       "4383                         Joy Lin   \n",
       "4384                         Joy Lin   \n",
       "4385                         Joy Lin   \n",
       "4386                         Joy Lin   \n",
       "4387                         Joy Lin   \n",
       "\n",
       "                                                 talk   \n",
       "2136  an unexpected tool for understanding inequality  \\\n",
       "2543  an unexpected tool for understanding inequality   \n",
       "4275                          mysteries of vernacular   \n",
       "4352                          mysteries of vernacular   \n",
       "4382                         if superpowers were real   \n",
       "4383                         if superpowers were real   \n",
       "4384                         if superpowers were real   \n",
       "4385                         if superpowers were real   \n",
       "4386                         if superpowers were real   \n",
       "4387                         if superpowers were real   \n",
       "\n",
       "                                            description  likes    views   \n",
       "2136  how do we make sense of a world that doesnt by...   1800   613222  \\\n",
       "2543  how do we make sense of a world that doesnt by...   1800   613234   \n",
       "4275  in 1920 czech writer karel čapek wrote a play ...   3300   110587   \n",
       "4352  dating back to the early roman empire the word...   1100    38628   \n",
       "4382  what if invisibility wasnt just the stuff of e...   4300  1452119   \n",
       "4383  what if human flight wasnt just the stuff of e...   6800  2272417   \n",
       "4384  what if immortality wasnt just the stuff of ep...  16100  5371993   \n",
       "4385  what if super strength wasnt just the stuff of...   6500  2195746   \n",
       "4386  what if super speed wasnt just the stuff of ep...   5800  1965996   \n",
       "4387  what if manipulating body mass wasnt just the ...   4500  1507477   \n",
       "\n",
       "                                             transcript  \n",
       "2136  The world is awash with divisive arguments, co...  \n",
       "2543  The world is awash with divisive arguments, co...  \n",
       "4275  Mysteries of vernacular: Robot, a machine capa...  \n",
       "4352  Mysteries of vernacular: Sarcophagus, a stone ...  \n",
       "4382  Wouldn&apos;t it be great if we could be invis...  \n",
       "4383  If humans could fly, without tools and machine...  \n",
       "4384  Immortality. In movies, kings are always searc...  \n",
       "4385  If you wake up one morning with 1,000 times th...  \n",
       "4386  Some superheros can move faster than the wind....  \n",
       "4387  Some superheroes can grow to the size of a bui...  "
      ]
     },
     "execution_count": 13,
     "metadata": {},
     "output_type": "execute_result"
    }
   ],
   "source": [
    "tedtalks_author_talk = tedtalks[['author','talk']]\n",
    "tedtalks_author_talk.duplicated(keep=False).sum()\n",
    "tedtalks[tedtalks_author_talk.duplicated(keep=False)]"
   ]
  },
  {
   "cell_type": "code",
   "execution_count": 15,
   "id": "0887e0c1",
   "metadata": {},
   "outputs": [
    {
     "name": "stdout",
     "output_type": "stream",
     "text": [
      "<class 'pandas.core.frame.DataFrame'>\n",
      "Index: 5302 entries, 0 to 6000\n",
      "Data columns (total 6 columns):\n",
      " #   Column       Non-Null Count  Dtype \n",
      "---  ------       --------------  ----- \n",
      " 0   author       5302 non-null   object\n",
      " 1   talk         5302 non-null   object\n",
      " 2   description  5302 non-null   object\n",
      " 3   likes        5302 non-null   object\n",
      " 4   views        5302 non-null   object\n",
      " 5   transcript   5302 non-null   object\n",
      "dtypes: object(6)\n",
      "memory usage: 290.0+ KB\n"
     ]
    }
   ],
   "source": [
    "tedtalks = tedtalks.dropna()\n",
    "tedtalks.info()"
   ]
  },
  {
   "cell_type": "code",
   "execution_count": 16,
   "id": "a774ad07",
   "metadata": {},
   "outputs": [
    {
     "name": "stdout",
     "output_type": "stream",
     "text": [
      "author 4266\n",
      "talk 5274\n",
      "description 5301\n",
      "likes 441\n",
      "views 5302\n",
      "transcript 5301\n"
     ]
    }
   ],
   "source": [
    "for col in tedtalks.columns:\n",
    "    print(col, tedtalks[col].nunique())"
   ]
  },
  {
   "cell_type": "code",
   "execution_count": 17,
   "id": "ad0c8285",
   "metadata": {},
   "outputs": [
    {
     "data": {
      "text/html": [
       "<div>\n",
       "<style scoped>\n",
       "    .dataframe tbody tr th:only-of-type {\n",
       "        vertical-align: middle;\n",
       "    }\n",
       "\n",
       "    .dataframe tbody tr th {\n",
       "        vertical-align: top;\n",
       "    }\n",
       "\n",
       "    .dataframe thead th {\n",
       "        text-align: right;\n",
       "    }\n",
       "</style>\n",
       "<table border=\"1\" class=\"dataframe\">\n",
       "  <thead>\n",
       "    <tr style=\"text-align: right;\">\n",
       "      <th></th>\n",
       "      <th>author</th>\n",
       "      <th>talk</th>\n",
       "      <th>description</th>\n",
       "      <th>likes</th>\n",
       "      <th>views</th>\n",
       "      <th>transcript</th>\n",
       "    </tr>\n",
       "  </thead>\n",
       "  <tbody>\n",
       "    <tr>\n",
       "      <th>2136</th>\n",
       "      <td>Eugenia Cheng</td>\n",
       "      <td>an unexpected tool for understanding inequality</td>\n",
       "      <td>how do we make sense of a world that doesnt by...</td>\n",
       "      <td>1800</td>\n",
       "      <td>613222</td>\n",
       "      <td>The world is awash with divisive arguments, co...</td>\n",
       "    </tr>\n",
       "    <tr>\n",
       "      <th>2543</th>\n",
       "      <td>Eugenia Cheng</td>\n",
       "      <td>an unexpected tool for understanding inequality</td>\n",
       "      <td>how do we make sense of a world that doesnt by...</td>\n",
       "      <td>1800</td>\n",
       "      <td>613234</td>\n",
       "      <td>The world is awash with divisive arguments, co...</td>\n",
       "    </tr>\n",
       "  </tbody>\n",
       "</table>\n",
       "</div>"
      ],
      "text/plain": [
       "             author                                             talk   \n",
       "2136  Eugenia Cheng  an unexpected tool for understanding inequality  \\\n",
       "2543  Eugenia Cheng  an unexpected tool for understanding inequality   \n",
       "\n",
       "                                            description likes   views   \n",
       "2136  how do we make sense of a world that doesnt by...  1800  613222  \\\n",
       "2543  how do we make sense of a world that doesnt by...  1800  613234   \n",
       "\n",
       "                                             transcript  \n",
       "2136  The world is awash with divisive arguments, co...  \n",
       "2543  The world is awash with divisive arguments, co...  "
      ]
     },
     "metadata": {},
     "output_type": "display_data"
    }
   ],
   "source": [
    "# checking the duplicated transcript\n",
    "display(tedtalks[tedtalks['transcript'].duplicated(keep=False)])\n",
    "# delete that record\n",
    "tedtalks = tedtalks.drop(index=tedtalks[tedtalks['transcript'].duplicated(keep='last')].index)"
   ]
  },
  {
   "cell_type": "markdown",
   "id": "da3bc1a1",
   "metadata": {},
   "source": [
    "### Numeric Data Conversion"
   ]
  },
  {
   "cell_type": "code",
   "execution_count": 18,
   "id": "4988f293",
   "metadata": {},
   "outputs": [
    {
     "data": {
      "text/plain": [
       "4"
      ]
     },
     "metadata": {},
     "output_type": "display_data"
    },
    {
     "data": {
      "text/plain": [
       "7"
      ]
     },
     "metadata": {},
     "output_type": "display_data"
    }
   ],
   "source": [
    "display(pd.to_numeric(tedtalks['likes'], errors='coerce').isna().sum())\n",
    "display(pd.to_numeric(tedtalks['views'], errors='coerce').isna().sum())"
   ]
  },
  {
   "cell_type": "code",
   "execution_count": 19,
   "id": "26e853ce",
   "metadata": {},
   "outputs": [],
   "source": [
    "nan_likes_idx = pd.to_numeric(tedtalks['likes'], errors='coerce').isna()\n",
    "nan_views_idx = pd.to_numeric(tedtalks['views'], errors='coerce').isna()"
   ]
  },
  {
   "cell_type": "code",
   "execution_count": 20,
   "id": "dca7b4b2",
   "metadata": {},
   "outputs": [
    {
     "data": {
      "text/html": [
       "<div>\n",
       "<style scoped>\n",
       "    .dataframe tbody tr th:only-of-type {\n",
       "        vertical-align: middle;\n",
       "    }\n",
       "\n",
       "    .dataframe tbody tr th {\n",
       "        vertical-align: top;\n",
       "    }\n",
       "\n",
       "    .dataframe thead th {\n",
       "        text-align: right;\n",
       "    }\n",
       "</style>\n",
       "<table border=\"1\" class=\"dataframe\">\n",
       "  <thead>\n",
       "    <tr style=\"text-align: right;\">\n",
       "      <th></th>\n",
       "      <th>author</th>\n",
       "      <th>talk</th>\n",
       "      <th>description</th>\n",
       "      <th>likes</th>\n",
       "      <th>views</th>\n",
       "      <th>transcript</th>\n",
       "    </tr>\n",
       "  </thead>\n",
       "  <tbody>\n",
       "    <tr>\n",
       "      <th>737</th>\n",
       "      <td>Andrea Vilallonga</td>\n",
       "      <td>por qué nos cuesta mirarnos al espejo  andrea ...</td>\n",
       "      <td>la aceptación de nuestra apariencia es un paso...</td>\n",
       "      <td>Sorry, this talk has not yet been translated i...</td>\n",
       "      <td>1853083</td>\n",
       "      <td>Cuesta verse, ¿eh? ¡Ay, mira! ¿Quién es?  ¡Hol...</td>\n",
       "    </tr>\n",
       "    <tr>\n",
       "      <th>1303</th>\n",
       "      <td>Javier Olivares</td>\n",
       "      <td>las historias de la historia  javier olivares ...</td>\n",
       "      <td>cómo lograr que millones se apasionen por la h...</td>\n",
       "      <td>Sorry, this talk has not yet been translated i...</td>\n",
       "      <td>65111</td>\n",
       "      <td>Cuando era un crío mis padres no paraban de re...</td>\n",
       "    </tr>\n",
       "    <tr>\n",
       "      <th>1493</th>\n",
       "      <td>Elisabeth Pierre</td>\n",
       "      <td>et si la bière était féminine   elisabeth pier...</td>\n",
       "      <td>cette présentation a été faite lors dun événem...</td>\n",
       "      <td>Sorry, this talk has not yet been translated i...</td>\n",
       "      <td>Elisabeth</td>\n",
       "      <td>C&amp;apos;est la première sortie de mes années co...</td>\n",
       "    </tr>\n",
       "    <tr>\n",
       "      <th>2935</th>\n",
       "      <td>Alejandro Nespral</td>\n",
       "      <td>hablemos de la muerte con los niños  alejandro...</td>\n",
       "      <td>esta charla es de un evento tedx organizado de...</td>\n",
       "      <td>Sorry, this talk has not yet been translated i...</td>\n",
       "      <td>16149</td>\n",
       "      <td>¿Les pasó cuando eran chicos que alguien que c...</td>\n",
       "    </tr>\n",
       "  </tbody>\n",
       "</table>\n",
       "</div>"
      ],
      "text/plain": [
       "                 author                                               talk   \n",
       "737   Andrea Vilallonga  por qué nos cuesta mirarnos al espejo  andrea ...  \\\n",
       "1303    Javier Olivares  las historias de la historia  javier olivares ...   \n",
       "1493   Elisabeth Pierre  et si la bière était féminine   elisabeth pier...   \n",
       "2935  Alejandro Nespral  hablemos de la muerte con los niños  alejandro...   \n",
       "\n",
       "                                            description   \n",
       "737   la aceptación de nuestra apariencia es un paso...  \\\n",
       "1303  cómo lograr que millones se apasionen por la h...   \n",
       "1493  cette présentation a été faite lors dun événem...   \n",
       "2935  esta charla es de un evento tedx organizado de...   \n",
       "\n",
       "                                                  likes      views   \n",
       "737   Sorry, this talk has not yet been translated i...    1853083  \\\n",
       "1303  Sorry, this talk has not yet been translated i...      65111   \n",
       "1493  Sorry, this talk has not yet been translated i...  Elisabeth   \n",
       "2935  Sorry, this talk has not yet been translated i...      16149   \n",
       "\n",
       "                                             transcript  \n",
       "737   Cuesta verse, ¿eh? ¡Ay, mira! ¿Quién es?  ¡Hol...  \n",
       "1303  Cuando era un crío mis padres no paraban de re...  \n",
       "1493  C&apos;est la première sortie de mes années co...  \n",
       "2935  ¿Les pasó cuando eran chicos que alguien que c...  "
      ]
     },
     "execution_count": 20,
     "metadata": {},
     "output_type": "execute_result"
    }
   ],
   "source": [
    "tedtalks[nan_likes_idx]"
   ]
  },
  {
   "cell_type": "code",
   "execution_count": 21,
   "id": "af485302",
   "metadata": {},
   "outputs": [
    {
     "data": {
      "text/html": [
       "<div>\n",
       "<style scoped>\n",
       "    .dataframe tbody tr th:only-of-type {\n",
       "        vertical-align: middle;\n",
       "    }\n",
       "\n",
       "    .dataframe tbody tr th {\n",
       "        vertical-align: top;\n",
       "    }\n",
       "\n",
       "    .dataframe thead th {\n",
       "        text-align: right;\n",
       "    }\n",
       "</style>\n",
       "<table border=\"1\" class=\"dataframe\">\n",
       "  <thead>\n",
       "    <tr style=\"text-align: right;\">\n",
       "      <th></th>\n",
       "      <th>author</th>\n",
       "      <th>talk</th>\n",
       "      <th>description</th>\n",
       "      <th>likes</th>\n",
       "      <th>views</th>\n",
       "      <th>transcript</th>\n",
       "    </tr>\n",
       "  </thead>\n",
       "  <tbody>\n",
       "    <tr>\n",
       "      <th>1</th>\n",
       "      <td>Fabio Pacucci</td>\n",
       "      <td>the battle that formed the universe</td>\n",
       "      <td>its time for the biggest battle in the univers...</td>\n",
       "      <td>51</td>\n",
       "      <td>Fabio</td>\n",
       "      <td>Welcome one and all! It’s time to grab your se...</td>\n",
       "    </tr>\n",
       "    <tr>\n",
       "      <th>638</th>\n",
       "      <td>Francisca Mutapi</td>\n",
       "      <td>africans should lead on health care solutions ...</td>\n",
       "      <td>ted fellow and global health researcher franci...</td>\n",
       "      <td>258</td>\n",
       "      <td>Francisca</td>\n",
       "      <td>So who in the world knows what’s best in terms...</td>\n",
       "    </tr>\n",
       "    <tr>\n",
       "      <th>1130</th>\n",
       "      <td>Miao Wang, Alok Sharma and Nigel Topping</td>\n",
       "      <td>the race to netzero emissions by 2050 is on ca...</td>\n",
       "      <td>in this rousing call to action three participa...</td>\n",
       "      <td>275</td>\n",
       "      <td>Miao</td>\n",
       "      <td>Priyanka Chopra Jonas: Young people are asking...</td>\n",
       "    </tr>\n",
       "    <tr>\n",
       "      <th>1263</th>\n",
       "      <td>Denise Zmekhol</td>\n",
       "      <td>a story of brazil through a single iconic buil...</td>\n",
       "      <td>twenty years after the death of her father fam...</td>\n",
       "      <td>263</td>\n",
       "      <td>Denise</td>\n",
       "      <td>My father was only 32 years old when he design...</td>\n",
       "    </tr>\n",
       "    <tr>\n",
       "      <th>1316</th>\n",
       "      <td>Ahmad M. Hasnah</td>\n",
       "      <td>rethinking education and celebrating the arabi...</td>\n",
       "      <td>the pandemic has deepened the need to rethink ...</td>\n",
       "      <td>146</td>\n",
       "      <td>Ahmad</td>\n",
       "      <td>Hello, I am going to be joined shortly  by Dr....</td>\n",
       "    </tr>\n",
       "    <tr>\n",
       "      <th>1493</th>\n",
       "      <td>Elisabeth Pierre</td>\n",
       "      <td>et si la bière était féminine   elisabeth pier...</td>\n",
       "      <td>cette présentation a été faite lors dun événem...</td>\n",
       "      <td>Sorry, this talk has not yet been translated i...</td>\n",
       "      <td>Elisabeth</td>\n",
       "      <td>C&amp;apos;est la première sortie de mes années co...</td>\n",
       "    </tr>\n",
       "    <tr>\n",
       "      <th>2299</th>\n",
       "      <td>Renata di Tullio</td>\n",
       "      <td>por qué deberíamos comer más bichos</td>\n",
       "      <td>have you ever considered crickets houseflies o...</td>\n",
       "      <td>242</td>\n",
       "      <td>Renata</td>\n",
       "      <td>I&amp;apos;m passionate about insects for two reas...</td>\n",
       "    </tr>\n",
       "  </tbody>\n",
       "</table>\n",
       "</div>"
      ],
      "text/plain": [
       "                                        author   \n",
       "1                                Fabio Pacucci  \\\n",
       "638                           Francisca Mutapi   \n",
       "1130  Miao Wang, Alok Sharma and Nigel Topping   \n",
       "1263                            Denise Zmekhol   \n",
       "1316                           Ahmad M. Hasnah   \n",
       "1493                          Elisabeth Pierre   \n",
       "2299                          Renata di Tullio   \n",
       "\n",
       "                                                   talk   \n",
       "1                   the battle that formed the universe  \\\n",
       "638   africans should lead on health care solutions ...   \n",
       "1130  the race to netzero emissions by 2050 is on ca...   \n",
       "1263  a story of brazil through a single iconic buil...   \n",
       "1316  rethinking education and celebrating the arabi...   \n",
       "1493  et si la bière était féminine   elisabeth pier...   \n",
       "2299                por qué deberíamos comer más bichos   \n",
       "\n",
       "                                            description   \n",
       "1     its time for the biggest battle in the univers...  \\\n",
       "638   ted fellow and global health researcher franci...   \n",
       "1130  in this rousing call to action three participa...   \n",
       "1263  twenty years after the death of her father fam...   \n",
       "1316  the pandemic has deepened the need to rethink ...   \n",
       "1493  cette présentation a été faite lors dun événem...   \n",
       "2299  have you ever considered crickets houseflies o...   \n",
       "\n",
       "                                                  likes      views   \n",
       "1                                                    51      Fabio  \\\n",
       "638                                                 258  Francisca   \n",
       "1130                                                275       Miao   \n",
       "1263                                                263     Denise   \n",
       "1316                                                146      Ahmad   \n",
       "1493  Sorry, this talk has not yet been translated i...  Elisabeth   \n",
       "2299                                                242     Renata   \n",
       "\n",
       "                                             transcript  \n",
       "1     Welcome one and all! It’s time to grab your se...  \n",
       "638   So who in the world knows what’s best in terms...  \n",
       "1130  Priyanka Chopra Jonas: Young people are asking...  \n",
       "1263  My father was only 32 years old when he design...  \n",
       "1316  Hello, I am going to be joined shortly  by Dr....  \n",
       "1493  C&apos;est la première sortie de mes années co...  \n",
       "2299  I&apos;m passionate about insects for two reas...  "
      ]
     },
     "execution_count": 21,
     "metadata": {},
     "output_type": "execute_result"
    }
   ],
   "source": [
    "tedtalks[nan_views_idx]"
   ]
  },
  {
   "cell_type": "code",
   "execution_count": 22,
   "id": "547e4559",
   "metadata": {},
   "outputs": [
    {
     "name": "stdout",
     "output_type": "stream",
     "text": [
      "<class 'pandas.core.frame.DataFrame'>\n",
      "Index: 5291 entries, 0 to 6000\n",
      "Data columns (total 6 columns):\n",
      " #   Column       Non-Null Count  Dtype \n",
      "---  ------       --------------  ----- \n",
      " 0   author       5291 non-null   object\n",
      " 1   talk         5291 non-null   object\n",
      " 2   description  5291 non-null   object\n",
      " 3   likes        5291 non-null   object\n",
      " 4   views        5291 non-null   object\n",
      " 5   transcript   5291 non-null   object\n",
      "dtypes: object(6)\n",
      "memory usage: 289.4+ KB\n"
     ]
    }
   ],
   "source": [
    "tedtalks = tedtalks[pd.to_numeric(tedtalks['likes'], errors='coerce').notna()]\n",
    "tedtalks = tedtalks[pd.to_numeric(tedtalks['views'], errors='coerce').notna()]\n",
    "tedtalks.info()"
   ]
  },
  {
   "cell_type": "markdown",
   "id": "7a30eee9",
   "metadata": {},
   "source": [
    "### Handling Special Characters in Transcripts:"
   ]
  },
  {
   "cell_type": "code",
   "execution_count": null,
   "id": "f8b9c034",
   "metadata": {},
   "outputs": [],
   "source": [
    "pd.set_option('display.max_colwidth', None)\n",
    "tedtalks[tedtalks['transcript'].str.contains('&')].head()"
   ]
  },
  {
   "cell_type": "code",
   "execution_count": 24,
   "id": "088e5e26",
   "metadata": {},
   "outputs": [],
   "source": [
    "    tedtalks['transcript'] = tedtalks['transcript'].replace(['&quot;','&apos;', '&amp;', '&lt;', '&gt;'], \n",
    "                                                [\"'\",\"'\",\" and \", \" less than \", \" greater than \"], regex=True)"
   ]
  },
  {
   "cell_type": "code",
   "execution_count": 25,
   "id": "7b678ce4",
   "metadata": {},
   "outputs": [
    {
     "data": {
      "text/plain": [
       "9                                                                                                                                                                                                                                                                                                                                                                                                                                                                                                                                                                                                                                                                                                                                                                                                                                                                                                                                                                                                                                                                                                                                                                                                                                                                                                                                                                                                                                                                                                                                                                                                                                                                                                                                                                                                                                                                                                                                                                                                                                                                                                                                                                                                                                                                                                                                                                                                                                                                                                                                                                                                                                                                                                                                                                                                                                                                                                                                                                                                                                                                                                                                                                                                                                                                                                                                                                                                                                                                                                                                                                                                                                                                                                                                                                                                                                                                                                                                                                                                                                                                                                                                                                                                                                                                                                                                                                                                                                                                                                                                                                                                                                                                                                                                                                                                                                                                                                                                                                                                                                                                                                                                                                                                                                                                                                                                                                                                                                                                                                                                                                                                                                                                                                                                                                                                                                                                                                                                                                                                                                                                                                                                                                                                                                                                                                                                                                                                                                                                                                                                                                                                                                                                                                                                                                                                                                                                                                                                                                                                                                                                                                                                                                                                                                                                                                                                                                                                                                                                                                                                                                                                                                                                                                                                                                                                                                                                                                                                                                                                                                                                                                                                                                                                                                                                                                                                                                                                                                                                                                                                                                                                                                                                                                                                                                                                                                                                                                                                                                                                                                                                                                            Hello and welcome to this special report where we take a look at the big events that have shaped our world in the last 12 months. I'm Angus Hervey, and this is the news. We begin our broadcast with a story that has dominated headlines this past year, Russia's invasion of Ukraine. The war has inflicted a terrible human toll, plunging millions into an unrelenting conflict, dramatically upending international politics and sparking turmoil in energy markets around the world. Perhaps the only thing scarier than a war like this is the prospect of our planet being ruined by climate change. However, on that front, the news has been somewhat better. Specifically as a result of this crisis, the global fight against climate change has accelerated. In response to Putin's attempt to use gas and oil as weapons, Europe has doubled down on green energy. Last year, for the first time ever, wind and solar overtook gas, nuclear or coal as the continent's largest source of electricity. And analysts say that as a result of the war, Europe's timeline for ditching fossil fuels has accelerated by up to a decade. Staying with the climate, in the United States, a new law has committed hundreds of billions of dollars of investment into renewables and electric vehicles, putting the country on track to getting 80 percent of its electricity from carbon-free sources by the end of this decade. And in the race to build more clean energy, China is way ahead of both Europe and the United States. The country is now installing enough solar panels every day to cover an area the size of New York's Central Park. At the current rate, China will reach its climate targets years ahead of schedule. The energy revolution has arrived. Global fossil fuel emissions are now predicted to peak within less than two years, and the International Energy Agency says that wind, water and sunshine will become the planet's largest sources of electricity by 2025. To global health. Where many countries are still struggling in the aftermath of the COVID-19 pandemic, less widely reported is the news that last year, eight countries eliminated at least one neglected tropical disease. Top of that list, Togo, which became the first country to eliminate four of those diseases, including trachoma, the world's most common infectious cause of blindness. Go, Togo. (Laughter) Today, almost 600 million fewer people require treatment for these diseases than in 2010. It's thanks to the work of tens of thousands of uncelebrated heroes of public health. It means that in just over a decade, a significant portion of humanity has been liberated from a devastating burden of suffering and from death. There's also hope on the horizon in the fight against malaria. Last year, a new vaccine designed by the University of Oxford was shown to be safe and incredibly effective. Four days ago, Ghana became the first country to license that vaccine for distribution. Nigeria followed that up eight hours ago. Both countries are now going to vaccinate children under the age of three. This is a world-changing treatment. It offers us genuine hope that we may finally be able to eradicate one of humanity's biggest killers, a scourge that has plagued our species for thousands of years. (Applause) Imagine if this was the news. (Laughter) That along with all of the usual death and disaster and division, we also got to hear these, the stories of hope and healing. But not just another dog on a surfboard. The thing is, this is the news. These stories, they're happening. It's just that we don't hear as much about them. But when you find them, the world can suddenly feel like a very different place. Let's turn now to some environmental news where pollution and degradation continue to push Earth's ecosystems past their breaking point. However, in the last year, humanity has begun to respond. Four months ago, the countries of the United Nations came together to agree on a global pact to protect 30 percent of the planet by 2030. And just weeks ago, after nearly two decades of negotiations, they agreed on the first-ever legal framework for regulation on and protection of life on the high seas. (Applause) The tides are beginning to turn. Here’s conference president Rena Lee announcing what Greenpeace has called the greatest conservation victory of all time. (Video) Ladies and gentlemen ... The ship has reached the shore. (Cheers and applause) AH: More good news for the environment. Since the beginning of last year, we've seen the expansion of protected waters around the Galapagos, the creation of an enormous marine sanctuary west of Australia, and a provisional agreement between Canada's government and First Nations to create the Tang.ɢwan–ḥačxwiqak–Tsig̱is Marine Protected Area that will be Canada’s largest MPA. That is just off the coast of West Vancouver. That's less than 150 kilometers from where we all are right now. Last year, Argentina created a national park around one of its biggest saltwater lakes and wetlands. Earlier this year, Ecuador created one of the largest reserves in the Amazon, in one of the most biodiverse places on the planet. And last month, the largest river restoration project in United States history kicked off on the Klamath River, led by the Yurok people of California. (Applause) None of it is enough yet. But these are big victories. They show us that destruction is not inevitable and that nature will recover if we can just give it the opportunity. This report just in now from our political and social affairs editor. Last year saw some significant setbacks for human rights, most notably in the United States, where for many, it feels like intolerance and polarization are on the rise. Globally, however, it's a very different story. Since the beginning of 2022, countries have abolished the death penalty, six countries have ended child marriage, four countries have banned conversion therapy, four countries have legalized homosexuality, and 11 countries have actually strengthened reproductive rights. (Applause) That includes India, which passed a law guaranteeing access to safe abortion for every single woman. (Cheers and applause) And Spain, which also protected transgender rights and became the first country in Europe to provide paid menstrual leave. (Applause) Oh, and sorry, I forgot to mention, Slovenia, Cuba and Mexico all passed legislation on same-sex marriage and adoption. Three times -- three times as many countries now grant those rights to all of their citizens compared to a decade ago. (Applause) The fight for equality continues. But progress is happening even if we don't hear much about it. In the last year, humanity has moved closer to a world where everyone is free to choose and free to love. On that note, let's cross now to some more economic news. Many will have missed last year's report from the United Nations that India lifted 415 million people out of poverty between 2006 and 2021. Despite some of that progress being set back by the pandemic, that still means that on average, every day for the last 16 years, a soccer stadium full of people escaped poverty, the worst kinds of deprivation. That is one of the greatest news stories of all time. (Applause) Let's cross now to our correspondent in the field, Angus Hervey, to get some more of these and some other stories from around the world. Angus, over to you. (Laughter) Thank you very much, Angus. Well, I'm here in Brazil where the new Ministry of Indigenous people is bringing much needed food, hope, relief and aid to the country's indigenous communities. They've already deployed the military to remove tens of thousands of illegal miners and restore justice. Zimbabwe. I'm here with the Akashinga, an all-female army of wildlife rangers there. These women, many of them, are survivors of domestic violence, but they have become formidable warriors after years in the field -- Their military trainers say they're more hardcore than a lot of the world's special forces. And they're really changing the face of conservation here and the other four countries where they're operating. They have hundreds of their members out there now. They're uplifting their communities, bringing down poaching rates dramatically and contributing to a huge rebound in wild animal populations. (Applause) And finally in Bangladesh, where thousands of newly-trained midwives are bringing hope and healing to those who need it the most. Since 2012, they've helped bring down the child mortality rate here by almost 50 percent. It is a powerful testament to the work of midwives everywhere and a reminder of just what can be achieved through education and a commitment to improving the lives of others. Angus, back to you now in the studio. (Applause) Thanks very much, Angus. That was Angus Hervey there reporting on everything from everywhere all at once. (Laughter) Let's turn now to science and technology and what many say is not just the biggest news story of the year, but perhaps the most important technological breakthrough of our lifetimes. ChatGPT has taken the world by storm -- (Laughter) becoming the quickest technology uptake in human history. The power of artificial intelligence is incredible, but there are also very real reasons to be concerned about its effect on systems of power and its impact on jobs and society. As we wrestle with these dilemmas, though, let us not forget that in the last 12 months, humanity has repeatedly shown our resilience, inventiveness, our capacity for expanding our knowledge and ability ... to rise to meet our greatest challenges. Nine months ago, we received the first images from the golden honeycombed 18 beryllium mirrors of the James Webb Telescope, unlocking new secrets from the furthest reaches of the cosmos. Seven months ago, we smashed a spacecraft into an asteroid and altered its orbit, confirming a newfound ability to create planetary defense systems against earthbound objects. Four months ago, we used freaking laser beams (Laughter) to recreate the conditions inside of a star, achieving more energy out of a nuclear fusion reaction than we put in. It's a milestone in our quest to provide clean, limitless and affordable energy. And then, just days later, scientists in London announced that they had used a new form of CRISPR called base-editing to hot-wire immune cells and clear the body of a 13-year-old girl named Alyssa from an incurable form of leukemia. (Applause) It's an incredible medical breakthrough. The first use of a revolutionary new type of treatment that may go on to save millions of lives in the future. So why is it then that outside medical and scientific circles, almost nobody has heard that story? Why are we so familiar with all of the stories that make us feel scared or sad or angry, but so many of these stories come to us as a surprise? Why are we so good at reporting bad news but so bad at reporting good news? That question is something that I spend a lot of time thinking about. I'm the editor of the Future Crunch newsletter. We share stories of progress and what I've learned after eight years of doing this work is that progress is never a straight line. Far too many still suffer in poverty, from disease and are trapped by conflict. The struggle for equality and the fight for justice continues in so many places in the world. We still have so much work to do, to get done. We know that geopolitical tensions are rising. Climate change is genuinely scary and we are still destroying too many parts of our planet. But when we only tell the stories of doom, we fail to see the stories of possibility. The hundreds of examples of progress in human rights, rising living standards, public health victories, clean energy breakthroughs, technological magic, ecological restoration and the countless extraordinary acts of kindness that take place on this planet every day. I believe that if we want to change the story of the human race in the 21st century, we have to start changing the stories that we tell ourselves. And we have to remember that hope isn't a noun. It's a verb. It's not something that we have or something that we're given. It's something that we do. Millions of people around the world chose to hope in the last 12 months and then rolled up their sleeves to get it done. Perhaps it's time for the rest of us to do the same. I’m Angus Hervey, and let's make this the news. (Applause)\n",
       "30                                                                                                                                                                                                                                                                                                                                                                                                                                                                                                                                                                                                                                                                                                                                                                                                                                                                                                                                                                                                                                                                                                                                                                                                                                                                                                                                                                                                                                                                                                                                                                                                                                                                                                                                                                                                                                                                                                                                                                                                                                                                                                                                                                                                                                                                                                                                                                                                                                                                                                                                                                                                                                                                                                                                                                                                                                                                                                                                                                                                                                                                                                                                                                                                                                                                                                                                                                                                                                                                                                                                                                                                                                                                                                                                                                                                                                                                                                                                                                                                                                                                                                                                                                                                                                                                                                                                                                                                                                                                                                                                                                                                                                                                                                                                                                                                                                                                                                                                                                                                                                                                                                                                                                                                                                                                                                                                                                                                                                                                                                                                                                                                                                                                                                                                                                                                                                                                                                                                                                                                                                                                                                                                                                                                                                                                                                                                                                                                                                                                                                                                                                                                                                                                                                                                                                                                                                                                                                                                                                                                                                                                                                                                                                                                                                                                                                                                                                                                                                                                                                                                                                                                                                                                                                                                                                                                                                                                                                                                                                                                                                                                                                                                                                                                                                                                                                                                                                                                                                                                                                                                                                                                                                                                                                                                                                                                                                                                                                                                                                                                                                                                                                                                                                                                                                                                                                                                                                                                                                                                                                                                                                                                                                                                                                                                                                                                                                                                                                                                                                                                       My passion for the poetics of everyday language began at 5 pm on Saturdays, at my abuela's dining room, at a table full of loud, unstoppable women. My five aunts plus my mom’s five aunts, all smoking, some in their bras, some in their “rulos,” all complaining about the ineptitude of their husbands or the rising prices at the grocery store. Some used grand gestures, pointing with their mouths. Others made up words. Some yelled, some cried. They were all narrating a similar experience, but each one of them put her own twist to her story. Each one used a different word choice, a different rhythm. My mom complained in silence, shaking her head and sighing. My Tía T used energized curse words, 'That hijo de su madre,' she would say. 'That good-for-nothing son of a bitch.' (Laughter) My great aunt shut her eyes, drank coffee and pointed at God. 'Diosito! What is wrong with this man?' Each one putting a different tune, a different music to her story. As a kid, I sat among them in awe, marveled at how elastic, how expansive, how infinite language felt at the dining table, how fun. If my aunts didn't know a word, they would just make it up, laugh about it, and stick it to their husbands' nicknames. (Laughter) The word would then be tossed around and eventually become part of our intimate, familiar vocabulary. My family is originally from the coast of Colombia, which is a region known for its magnificent storytellers, its grand words, a region where made-up words are the norm, where music and rhythm are essential to speaking. I inherited the creative tongue from my aunts. In Colombia, I was a loud, energized sucker. I wouldn’t shut up, I made up words, too. But the moment I moved to the States and landed in Miami, all that energy and love for language disappeared. It was here that I had my first encounter with language hierarchy. I was 15 years old and we were reading 'Romeo and Juliet' in English class. I begged and prayed that I wouldn't be called to read Juliet's part because it was long and I didn't know what most of the words meant. But of course I was called to read Juliet's part. My heart sank. When I said I didn't want to, the teacher responded I will lose participation point if I didn't. OK, I had to read it. I tried to push my tongue in impossible ways, tried to echo the sound that I have been listening around me. But I butchered all the words. Everyone around me laughed and the teacher just stood there silently. I remember clenching that desk, wanting to disappear, wishing to be made small, invisible. I went home that day and told my mom I wasn't going back to school. The laughter and ridicule in school created deep fear and anxiety inside me. I spoke differently and this clearly was wrong. It saddened me that I couldn’t access that part of myself that was so excited about language because my way of speaking, with an accent or inventing words or pronouncing words as I heard them, was deemed wrong. I said 'sans giving' instead of Thanksgiving. I mix both languages: 'I have to 'plancha' it.' 'Give me the 'trapo.'' 'Mom wants her 'chanclas.'' ''Oye ye estas' ready?' (Laughter) I remember staying up late to practice pronouncing words so the kids at school wouldn't make fun of me. I hated myself for not fitting in, not realizing that there was a hierarchy much bigger than me at play here. I felt I was the one who was wrong. And it wasn't only me who was being corrected and laughed at. I saw teachers correct some of my peers, usually anyone who wasn't white, shaming immigrant kids for saying 'quota' instead of 'quarter,' “la pena bota” instead of “peanut butter,” “con flae” instead of “cornflakes.” (Laughter) It seemed all of us were crossing an invisible language boundary. A boundary policed by the teacher and maintained by the students' laughter. Now let's take a step back and see what's really happening here. We tend to think of language, in this case English, as a closed circle, where all of us English speakers exist. A closed circle where correct English is elevated at the center. When someone says something in another language, we know it is outside of that circle. When someone speaks English with an accent or without proper grammar, we know it is inside the circle, but not correct, not at the center. So we push both the language and the people who speak it to the margins. We really don't consider how looking at language as a closed circle with a solid center excludes so many people, so many ways of speaking and making sense of the world. How this in turn creates a hierarchy of language. I learned about how this hierarchy isolates people the hard way, by watching the condescension of cashiers at the grocery store every time my mom wouldn't pronounce things right. By watching my mother shrink at every joke at her mispronunciation until she stopped trying to speak English altogether and would just sit quietly in shame. My mother, who back in Colombia will call the manager, the owner if needed, when her coupons wouldn't scan because “This rice is two for one, señorita, it says it right here. Llámame el manager.” (Laughter) I can still see her, hand on hips, negating with her head, articulating like homegirl got a degree in bargaining studies. (Laughter) My mom, the discounts queen, would not leave until she felt justice was served between coupons and rice. Proudly bragged to her sisters about it later over coffee. I walked alongside her with a warm grounding feeling. My mom could take anyone. When we moved to the States, her sense of being a valued human being deserving of respect was destroyed by ridicule and condescension. As I slowly became aware of this hierarchy, I realized that my mom, my sister, my friends and me, we were all close to the bottom. We were on the margins of this circle and therefore of society. We couldn't reach the center because of our ethnic and cultural background. We sat in shame because our way of speaking wasn't as 'refined.' I realize also that this hierarchy permeates all spaces and it's a gatekeeper when it comes to accessing resources and opportunities. I wasn't hired on several jobs because I couldn’t speak “correct English,” the managers letting me know, 'We're just a little worried the customers won't understand you.' My writing also hasn't been published in many places because it mixes both languages and this is seen as less than, not pure. My writing has been ridiculed in many academic workshops where several times white writers have made fun of my use of Spanglish out loud, rereading the text for all to hear, questioning its legitimacy as real literature. My abilities as a student, a worker, my value as a human being, has been questioned over and over again. And yet. There's beauty and connection in these marginal spaces. For people in the margins, language creates cohesion between us. That 'different' way of speaking is a secret door only some of us have access to. A door to an underworld of language freedom. This world begins for me not in Miami, but in the former 'Esta Noche' gay Latino bar here, in San Francisco. (Cheers and applause) Ten years ago, I moved to San Francisco in search of my freak tribe and found the “queenas” tucked in a dingy bar on 16th Street, ironing their wigs and filling up their bras. Queena -- it’s a blend between “queen” and “reina,” Spanish for queen. Queena. (Laughter) It was at 'Esta Noche' that I learned about the long history of LGBT people creating new words to reflect our own histories, our own realities. It was here that my passion for language bloomed again. The story begins with the words. 'Fierce,' 'perra,' 'sissy marica,' 'come here, butch papi.' Here, Spanglish blends with queer slang as drag queens take the center stage to the roar of the crowd. Here, there's unapologetic invention and creativity. It is not only a mix of two languages, but a constructing, a shaping of new words to reflect our own bodies, our own gender, the ways that we come together. Here, you don't have to be a man or a woman. You don't have to be gay or straight. Here, the categories for gender are infinite, as are the words to describe body parts, sexual orientation, feelings. Here, language lets her hair down, 'se suelta las trenzas.' Gloria Trevi plays in the background as the next drag queen gets introduced as a non-binary femme daddy mermaid of the revolution. (Laughter) We all snap our fingers, 'Get it! Mami!' I stand next to someone with hot pink hair and a T-shirt that reads 'Gender queer cyborg.' (Laughter) Boys in crop tops yell, 'Yes, perras.' They sashay up and down, twirling on the dance floor. 'Serve,' someone says, “Bring it,” someone responds, “¡Esa!” we all roar. We wear glitter on our bodies and glitter on our language. We feel seen. Our realities take up space and therefore we experience a sense of belonging. We feel less alone, connected. We add a sense of magic and possibility to the world. We make it less boring and more inviting. Now think of the ways that you speak, the words that you use. Think of how you have borrowed words from your parents, your friends. This is how you know you belong to those circles, right? By echoing back that language. The place where you grow up shows up in your accent, how you punctuate, how you use your vowels. This is your very own language wardrobe. Each one of us has a different wardrobe depending on our background, our ethnicity, our access to education, our immigration status, the places that we come from. Now consider how some of the most glittery, the most creative language wardrobes are erased, stigmatized or only seen as spectacles. But what if, alongside the language wardrobes we see and hear every day, we also allowed for the freaky, the weird, the ones that we don't understand. Wouldn't our world be that much more interesting? Wouldn't our notion of what it means to be human expand? What would happen if these different ways of using language, of mixing English with other languages, of making up words, were not considered less than, but instead, manifestations of creative brilliance? People are, after all, inventing, creating, mixing. What would happen if, for instance, we didn’t see English and Spanish as mutually exclusive, as two separate languages, but as open circles touching each other? Imagine legislation written in Spanglish or traffic signs written in queer slang. 'Men at Werk.' (Laughter) Imagine textbooks where children also learn words such as “gender queer” and “queena,” where they learn how to write, “Ahí te guacho mami.” That playfulness will seep into our own lives, lighten our worlds. Maybe we would treat each other better. Our daily interactions will be kinder, less uncomfortable and fearful around those who speak differently. Less isolating and damaging for those of us on the margins. I want to invite us to suspend the idea of a 'correct' way of speaking, a 'correct' way of using language. And let's allow for those rhythms, those incorrect words at the margins to rise up. Let's listen. Recognize the glitter in each other's way of speaking. Activate that kid at the dining table who is in awe and curious about language and its world. That child listening to her tías drop their 'Ay, my goodness,' as they drop their “Ajá, baby, come pa acá.” Their endless possibility to bring surprise and magic through language. Let's dance 'pegadito' with language. Let's tune into the ways that each one of us speaks. The many different ways that each one of us make sense of the world. Thank you. (Applause and cheers)\n",
       "31                                                                                                                                                                                                                                                                                                                                                                                                                                                                                                                                                                                                                                                                                                                                                                                                                                                                                                                                                                                                                                                                                                                                                                                                                                                                                                                                                                                                                                                                                                                                                                                                                                                                                                                                                                                                                                                                                                                                                                                                                                                                                                                                                                                                                                                                                                                                                                                                                                                                                                                                                                                                                                                                                                                                                                                                                                                                                                                                                                                                                                                                                                                                                                                                                                                                                                                                                                                                                                                                                                                                                                                                                                                                                                                                                                                                                                                                                                                                                                                                                                                                                                                                                                                                                                                                                                                                                                                                                                                                                                                                                                                                                                                                                                                                                                                                                                                                                                                                                                                                                                                                                                                                                                                                                                                                                                                                                                                                                                                                                                                                                                                                                                                                                                                                                                                                                                                                                                                                                                                                                                                                                                                                                                                                                                                                                                                                                                                                                                                                                                                                                                                                                                                                                                                                                                                                                                                                                                                                                                                                                                                                                                                                                                                                                                                                                                                                                                                                                                                                                                                                                                                                                                                                                                                                                                                                                                                                                                                                                                                                                                                                                                                                                                                                                                                                                                                                                                                                                                                                                                                                                                                                                                                                                                                                                                                                                                                                                                                                                                                                                                                                                                                                                                                                                                                                                                                                                                                                                                                                                                                                                                                                                                                                                                                                                                                                                                                                                                                                                                                                                                                                                                                                                                                                                                                                                                                                                                                                                                                                                                                                                                                                                                                                                                                                                                                                                                                                                                                                                                                                                                                                                                                                                                                                                                                                                                                                                           You’ve heard the phrase “move fast and break things.” Facebook made it famous. But really, Mark just made the mistake of saying it out loud and putting it on company posters. By the way, Mark and I are not on a first-name basis. (Laughter) But sometimes using the first names of our leaders reminds us that leadership is a practice of imperfect humans leading imperfect humans. That's why it's so hard. How's it going, Elon? (Laughter) 'Move fast and break things' is still a widely held belief that we can either make progress or take care of each other, one or the other. That a certain amount of wreckage is the price we have to pay for inventing the future. My wife and I have spent the last decade helping companies clean up this wreckage. And one of the main lessons from our work is that the trade-off at the heart of this worldview is false. The most effective leaders we know solve problems at an accelerated pace while also taking responsibility for the success and the well-being of their customers and employees and shareholders. They move fast and fix things. (Applause) Now, what's come out of our work is something of a playbook for fixing problems quickly, whether it's a broken company culture or a struggling friendship. And so what I want to do with you today is invite you to try on this playbook over the course of an imaginary week. So how this is going to work is I'm going to give you an agenda for each day of the week, Monday, Tuesday, Wednesday. You see where this is going. And then I want you to go home and try it and see how much progress you can make. Does that sound reasonable? OK. I'm seeing some signs of consent, thank you. Start by thinking of a problem that you're having right now that involves at least one other person, your kids, your co-founders, your customers, etc. Now in our imaginary week, it's now Monday morning. Now Monday morning, it's a bad rap, but we like to think of it as the gift of renewal that comes around every seven days. (Laughter) On Monday, your task is to figure out what your real problem is, which may not be the problem that you thought you had just a minute ago. Because here's the thing. As human beings, we tend to be overconfident in the quality of our thoughts. Particularly when it comes to diagnosing our own problems. 'My investors don't get it.' 'My Gen Z employees are entitled.' 'My dog is mad at me.' Let's find out if you're right. The thing that's going to help you out most today is your own curiosity. So turn that original diagnosis, 'My Gen Z employees are entitled,' into a question rather than a statement. 'What's going on with my Gen Z employees?' Now your next move sounds obvious, but you might be surprised to learn how infrequently people actually do it. Talk directly to the other people who have a stake in your problem. Ask some things you might not normally ask in polite company, things that require a little courage on your part. Now, as I look around the room, and I'm being a little presumptuous, I suspect this is going to be hard for some of you. I get it, I come from a very WASPy family. There were three approved topics of conversation: the pets, the weather, and Tom Brokaw for some reason. (Laughter) But sometimes just a single brave conversation can reveal an entirely new structure to your problem. Some of you will discover, for example, that you have a role to play in creating the problem that you're now solving this week. Instead of your Gen Z employees being entitled, for example, you might discover it's you who feels entitled. To burn them out and pay them less than what they're worth, simply because that was the broken work contract that you put up with at their age. (Applause) I'm just spitballing up here. (Laughter) But what I do know is that whatever it is you learn today, you're going to be closer to understanding what's really getting in the way of the relationship or the organization or the life you want. Alright, excellent first day, everyone. Get some rest. Now it's Tuesday. On Tuesday, your job is to run a smart experiment in how to solve your problem. Start by creating a good-enough plan to strengthen the relationship at the center of it. Now, a good-enough plan is distinct from a perfect plan, which is an elusive, fantastical creature that has never actually been spotted in the wild. We tend to think about problems through the lens of trust. So one prompt that often helps on Tuesday is what could you do tomorrow to build more trust than you did today? For one team we were working with, they decided to stop texting each other about each other in the middle of meetings. (Laughter) Someone else we were coaching decided that it was time to come clean to his cofounders, that he was ready to move on from the business. Another leader decided that it was time for him to take full responsibility for the unintended harms of a product that he'd designed. Is your good-enough plan going to work? Probably not. Statistically, not on the first try. That's why I'm giving you all a week to figure it out. But also to make the inevitable, unavoidable mistakes. The purpose of Tuesday is not to get it right. The purpose of Tuesday is to learn. It's to get into the sandbox of your life and give yourself permission to play. Alright, go and have the adult beverage of your choice, which you have definitely earned. Now it’s Wednesday. On Wednesday, your job is to do something that adults generally don't like to do. It's to make new friends. But the research is really clear. That whatever problem you're trying to solve this week, you're going to be better at solving it with people who don't already think like you do. I know you've heard this before many times. But today is your chance to practice. So describe your good-enough plan, the one you came up with yesterday, to someone whose life experience has been materially different from yours. If you've been at the company for a decade, talk to someone who started last week. If you're a white partner, talk to a Black partner. If you're queer like me, talk to the straightest person you can find. (Laughter) Contrary to what you may have heard recently, they're everywhere. (Laughter) (Applause) And when you're done with that conversation, have another conversation with someone else who's different from you on some other gorgeous dimension of the human experience. This is going to take you all day, and some of you are going to be surprised to discover that it’s your favorite day of the week. At the end of the day, you’re going to be smiling, and your good-enough plan is going to be an even-better plan. OK, now it's Thursday, good morning. It's Thursday, you're unstoppable. Thursday is storytelling day. As humans, we need stories to make sense of change, to find our place in the script of it. Stories also help us to activate all the other people around us whose help we're going to need with that change. Stories have three parts: past, present, future. We often skip over that past part in moments of big change. We did some work with Uber when it was going through its very public crisis in leadership. And when the new guy came in, the new CEO, and hosted his first all-hands meeting, he committed to retain the edge that had made Uber a force of nature. Now, this line was met with thunderous applause. The applause of relief. He also joined in a standing ovation for his predecessor, who also happened to be in the room that day. I was so struck by the grace of this choice. And that's the word I want you to bring to your own storytelling. Listen, Uber had serious problems to solve, as anyone reading the news could figure out. But the people in that room had built something extraordinary, and they had something real to lose in an uncertain future. Instead of setting himself up as some kind of company savior, the new guy honored that complicated truth. Honor the complicated truth of the people around you, the ones who aren't so sure about all your big plans. Then tell us why you want to change things. Finally, tell us about the future in vivid and specific language. Tell us what it's going to feel like when your story becomes our reality. Alright, it's Friday. It's Friday, and you're almost done, I promise. The payoff of Friday, the payoff of this whole week of hard work is that you now get to move fast because you're far less likely to break things. So do everything you decided to do over the last week, but now do it with a sense of urgency. Urgency releases the energy in the system. It makes it clear to everyone that you take the problem seriously. So whatever administrative hurdles, whatever unproductive process is in the way of taking action today, just strip it out, just refuse to tolerate it. People ask us all the time about the optimal timing for big change. And our answer is almost always the same. How about now? Now seems good. Take action now, and then learn from whatever happens next. And at the end of this day, at the end of this week, your even-better plan has a chance of being a great plan. Alright, that’s it. That's your week. Congratulations, you did it, as you rest and recover, which is essential. I want to leave you with one final thought. I spend my time helping leaders to change and evolve. And no one has ever said to me, 'I wish I had taken longer and done less.' (Laughter) What I do hear again and again is the opposite. And so my invitation to you today is to practice. To practice taking less time to do more of the things that will make your relationships and your teams and your organizations stronger. And to be honest, you have my blessing to take longer than a week to get it done. What I don't want you to do is to take months or even years, which tends to be our default timeline for solving hard problems. Most of our problems deserve a more urgent response. Most of our problems deserve a metabolic rate that honors the frustration and the mediocrity and the real pain of the status quo for some of you. Thank you. (Laughter and applause) So whether your name is Mark or Elon or Chris -- thank you for having me -- or Anne, find out what happens when you move fast and fix things and decide that the moment that matters most is right now. (Applause and cheers)\n",
       "40                                                                                                                                                                                                                                                                                                                                                                                                                                                                                                                                                                                                                                                                                                                                                                                                                                                                                                                                                                                                                                                                                                                                                                                                                                                                                                                                                                                                                                                                                                                                                                                                                                                                                                                                                                                                                                                                                                                                                                                                                                                                                                                                                                                                                                                                                                                                                                                                                                                                                                                                                                                                                                                                                                                                                                                                                                                                                                                                                                                                                                                                                                                                                                                                                                                                                                                                                                                                                                                                                                                                                                                                                                                                                                                                                                                                                                                                                                                                                                                                                                                                                                                                                                                                                                                                                                                                                                                                                                                                                                                                                                                                                                                                                                                                                                                                                                                                                                                                                                                                                                                                                                                                                                                                                                                                                                                                                                                                                                                                                                                                                                                                                                                                                                                                                                                                                                                                                                                                                                                                                                                                                                                                                                                                                                                                                                                                                                                                                                                                                                                                                                                                                                                                                                                                                                                                                                                                                                                                                                                                                                                                                                                                                                                                                                                                                                                                                                                                                                                                                                                                                                                                                                                                                                                                                                                                                                                                                                                                                                                                                                                                                                                                                                                                                                                                                                                                                                                                                                                                                                                                                                                                                                                                                                                                                                                                                                                                                                                                                                                                                                                                                                                                                                                                                                                                                                                                                                                                                                                                                                                                                                                                                                                                                                                                                                                                                                                                                                                                                                                                                                                                                                                                                                                                                                                                                                                                                                                                                                                                                                                                                                                                                                                                                                                                                                                                                                                                                                                                                                                                                                                                                                                                                                                                                                                                                                                                                                                                                                                                                                                                                                                                                                                                                                                                                                                                                                                                                                                                                                                                                                                                                                                                                                                                                                                                                                                                                                                                                                                                                                                                                                                                                                                                                                                                                                                                                                                                                                                                                                                                                                                                                                                                                                                                                                                                                                                                   People ask me all the time, 'What is the toughest part about growing up in the foster care system?' I was an 11-month-old baby when I was placed in foster care. By the time I was in the third grade and I was about nine, I was adopted. I was given a new forever family, but it was far from a loving home. I was consistently referred to as the N-word. The refrigerator couldn’t be touched. She cared more about that check than she did me. By the time I was 15, I was sick of it. I knew that I needed to take matters into my own hands. So after watching 'Law and Order,' the show -- (Laughter) Thank God for Olivia Benson. (Laughter) I realized something. I needed to get the evidence of what was happening to me. So I took a recorder and I took some tape and I taped that recorder to my chest and I got the evidence that I needed to get back into the foster care system. Even without abuse, foster care is a tough experience. You don't know what's actually going to happen to you. You're placed with a stranger and you're expected to become family. But if you don't fit in, if you act up a little bit too much, you will find yourself in a new home with new school, new rules, new everything. When I was placed back in foster care at 15, I thought that that was the end of my storm. But it was just the beginning of the next storm. I didn’t go back home, went to a few different homes, but unlike many, I was placed in a non-profit program where I got ready to live on my own. The foster care system is not doing a good job of raising children. Unsupported foster youth are two to three times more likely to have negative outcomes related to homelessness, incarceration, being sexually trafficked. The mental toll is severe. I want you to think about war veterans. Foster youth are two times more likely than war veterans to experience and suffer from PTSD. This is why I started Think of Us, because this is the current result of the foster care system. It's designed wrong. So we approach problems differently. We actually engage those who are impacted. We ask questions, we listen. We take the collective experience of thousands of people who are impacted and turn that into data and insights that then we know what are the most broken pieces of the system and where we can start to redesign it. We work with leaders across the entire sector, people with lived experience, to co-design new solutions. And then we do whatever it takes to implement those solutions. I want to give you an example. We overwhelmingly heard from teenage foster youth that they were being misplaced in group homes. The system was acting like they have nowhere to place these children. Turned around, we sent our researchers out. And what they were able to reveal was that the majority of those children actually had extended family members that they could have lived with. On top of that, that they were having these very traumatic experiences. We collected those voices and lifted them up. The vibration of the truth of what they shared with us was so strong that it helped inform litigation brought on by the United States Department of Justice, the Civil Rights Division. It helped inform an investigation into institutional abuse by these for-profit group homes by the United States Senate. It helped inform an amicus brief that went to the United States Supreme Court. That is the power of lived experience. The key to transformation is lived experience. For the past eight years, we've listened to thousands of young people. And it's become so clear that there's one key thing that we need to transform. And that is who children in foster care get to live with. Kin. We believe that kin can transform the foster care experience. Kinship care is when a child goes ahead and is able to live with an extended family member or an adult that they have already known, an adult who loves them. That adult can be a church member, a close family friend. And what we now know is that research is showing that when children are placed with kin, they fare way better, from mental health, to stability, to graduating high school on time. And yet only 35 percent of young people in the foster care system are actually placed with kin. But it doesn't have to be this way. In one state, in partnership, right, we went in and we implemented some simple solutions, like, let's ask young people which adults in their family they should live with. (Laughter) I wish I told you something better. That is one solution. (Laughter) We ask, we went ahead and like, require social workers to get extra approvals if they're going to place you outside of kin. The result? The initial placement with young people in the foster care system in a situation where they were living with kin, rose from three percent to over 40 percent in just two years. (Applause) In another state, we looked at a county, we looked at that state, and in one county they were able to figure out how to place over 80 percent of those children with kin. So the idea that young people don't have adults in their life who can step up, is not true. Here's what this shows. That when the system believes that children should be raised in family, guess what? That the children are actually raised in family. For me, I was almost 30 years old when my sister called me while I was visiting New York City. She told me that in just three hours that my father's side of the family was going to be having a family reunion. They didn't know I existed. And I didn't know that they existed. And so I raced over to Harlem, walked through that park, looking at every single family, wondering which one was mine. When I finally arrived, words can't describe that moment. They were kind. They were accepting. They were curious about who I was. And then about 90 minutes in, everything changed. I discovered that I had four aunts and uncles who had been fostering longer than I had been alive. In that moment, all I can do was go into my pocket, pull out my phone, open Google Maps and GPS to my last foster home. Fifty-eight miles away. My whole life, I was always 58 miles and a couple questions away from being raised by people who could have loved me, by people who could have been my family. The worst part about this is that my story is actually not unique. That every single year hundreds of thousands of children are entering the foster care system and they're not being placed with family. And again, it actually doesn't have to be this way. The system spends over 30 billion dollars on less than one million families a year. That is more than enough to make sure we find family, we support them, and that every child is living in a loving family situation. Right now, there's a big systems change opportunity, a federal decision that would make it super easy to have people who are related to a child step up and say, 'I'm willing to do this' and get that support. If approved, we would see three billion dollars shift from traditional foster care to kinship care. So when we work on these crazy ideas like “let’s make kinship care the norm,” it is actually possible. And I want to leave you with three things to think about. Number one, I came on this stage with, like, a very simple idea. Children should be raised in family. How can we replace the majority of foster care with kinship care? Number two. How do we center those who have been impacted, those who have lived experience, in making kinship care the new norm as we design it and implement it? And the last part, I want to tell you, we need some help. We need some allies. We need you to become advocates with us. And you don't have to be a foster care expert to know the power of family and to know that every child should be being raised by family or someone that they know when it's possible. I will say this. I truly believe we're at this pivot point. And then if we push just a little bit harder in this very moment, that we can actually live in a new reality where when children have to come into the foster care system, that the first thing that is looked at is extended family, it's people that they know. And if we are able to achieve that, we will literally be able to ensure that millions of children will come off of that school bus, go into their homes, look at family members, people that they know, and say, 'I am loved.' Thank you. (Applause and cheers)\n",
       "41                                                                                                                                                                                                                                                                                                                                                                                                                                                                                                                                                                                                                                                                                                                                                                                                                                                                                                                                                                                                                                                                                                                                                                                                                                                                                                                                                                                                                                                                                                                                                                                                                                                                                                                                                                                                                                                                                                                                                                                                                                                                                                                                                                                                                                                                                                                                                                                                                                                                                                                                                                                                                                                                                                                                                                                                                                                                                                                                                                                                                                                                                                                                                                                                                                                                                                                                                                                                                                                                                                                                                                                                                                                                                                                                                                                                                                                                                                                                                                                                                                                                                                                                                                                                                                                                                                                                                                                                                                                                                                                                                                                                                                                                                                                                                                                                                                                                                                                                                                                                                                                                                                                                                                                                                                                                                                                                                                                                                                                                                                                                                                                                                                                                                                                                                                                                                                                                                                                                                                                                                                                                                                                                                                                                                                                                                                                                                                                                                                                                                                                                                                                                                                                                                                                                                                                                                                                                                                                                                                                                                                                                                                                                                                                                                                                                                                                                                                                                                                                                                                                                                                                                                                                                                                                                                                                                                                                                                                                                                                                                                                                                                                                                                                                                                                                                                                                                                                                                                                                                                                                                                                                                                                                                                                                                                                                                                                                                                                                                                                                                                                                                                                                                                                                                                                                                                                                                                                                                                                                                                                                                                                                                                                                                                                                                                                                                                                                                                                                                                                                                                                                                                                                                                                                                                                                                                                                                                                                                                                                                                                                                                                                                                                                                                                                                                                                                                                                                                                                                                                                                                                                                                                                                                                                                                                                                                                                                                                                                                                                                                                                                                                                                                                                                                                                                                                                                                                                                                                                                                                                                                                                                                                                                                                                                                                                                                                                                                                                                                                                                                                                                                                                                                                                                                                                                                                                                                                                                                                                                                                                                                                                                                                                                                                                                                                                                                                                                                                                                                                                                                                                                                                                                                                                                                                                                                                                                                                                                                                                                                                                                                                                                                                                                                                                                                                                                                                                                                                                                                                                                                                                                                                                                                                                                                                                                                                                                                                                                                                                                                                                                                                                                                                                                                                                                                                                                                                                                                                                                                                                                                                                                                                                                                                                                                                                                                                                                                                                                                                                                                                                                                                                                                                                                                                                                                                                                                                                                                                                                                                                                                                                                                                                                                                                                                                                                                                                                                                                         Ebola is one of the deadliest viruses we know of. If left untreated, it kills about half of those it infects. It can spread through pretty much every fluid your body makes, including blood and sweat. Even the dead can transmit the disease, often doing so at their own funerals. On December 26th, 2013, a two-year-old boy in southern Guinea got sick. Just two days later, he died. It took local doctors working  with the international community four months to discover  that Ebola was to blame, largely because it had never before been detected outside of Central Africa. In those four months, Ebola gained  a head start that would prove devastating. The outbreak lasted two years and mushroomed into the largest Ebola epidemic in recorded history. More than 28,000 people contracted the disease and over 11,000 died. In 2013, Guinea had no formal emergency response system, few trained contact tracers, and no rapid tests, border screenings, or licensed vaccine for Ebola. After that epidemic, Guinea, with the support of the US  and other international partners, completely overhauled  their epidemic response system. And in January 2021, that system faced its first real test. It started when a nurse in southern Guinea developed a headache, vomiting, and fever. A few days later, she died. As dictated by traditional burial practices, her family prepared her body  for the funeral. Within a week, the nurse’s husband and other family members started experiencing symptoms. Health officials suspected Ebola much quicker than in 2013 and ordered tests. They came back positive, and Guinea activated its epidemic  alert system the next day. Then, lots of things happened very quickly. Guinea’s National Agency  for Health Security activated 38 district-level  emergency operations centers, as well as a national one. Teams of epidemiologists and contact tracers began the painstaking job of figuring out exactly who was exposed and when, generating a list of 23 initial contacts that quickly grew to over 1,100. Advanced rapid testing capacity spun  up in the city where the outbreak started. At Guinea’s borders with Liberia and Cote d’Ivoire, public health workers screened more than 2 million travelers. A large-scale vaccination campaign was started. And, finally, more than 900 community mobilizers alerted people of the outbreak and suggested alternative burial practices that were acceptable to the community and reduced the risk of spreading Ebola. Thanks to all these measures, the 2021 outbreak ended just four months after it began. Only 23 people contracted Ebola; only 12 died. That's less than 1% of the deaths in the prior outbreak. The 2021 outbreak cost  $100 million to control— which sounds like a lot but pales in comparison to the global economic cost of the previous outbreak: $53 billion. So should every country just copy Guinea’s approach? Not exactly. It is always important to respond to an outbreak quickly, so an early warning system is essential. But beyond that, a successful response can look very different for different diseases  in different countries. For example, Brazil quenched an outbreak of yellow fever, which is spread by mosquitoes, primarily by mounting a massive vaccination campaign. That strategy worked well for Brazil because it’s one of the major global producers of the yellow fever vaccine, and its population was accustomed to regular, routine vaccinations. But for many diseases, you don't even need a mass vaccination program. In August of 2021, a truck driver tested positive for cholera in Burkina Faso. Health care workers alerted  the government that same day and contact tracing began immediately. Cholera is caused by a bacterium, so Burkina Faso gave antibiotics to those exposed or potentially exposed. This extremely fast response  stopped the outbreak just a few weeks after it started. Cholera often rears its head in West Africa— in 2021, there were over 100,000 cases and more than 3,700 deaths. Because Burkina Faso was so well prepared, they had zero deaths that year. Zero. In Chiang Mai, Thailand,  health officials piloted a community-owned, community-driven outbreak alert system to monitor animal health— that’s important because some animal outbreaks have the potential to spill over and become human outbreaks. Villagers used an app to alert health authorities about outbreaks in animals. Over the course of 16 months, 36 animal outbreaks were identified. For any outbreak response system to be effective, it needs to be trusted, valued, and ultimately used by communities. That means reaching people where they are, in the language they speak, and aware of the culture, beliefs, and practices with which they live. Perhaps most importantly, we can't expect to do nothing for years and then just swing into action when an outbreak occurs. One of the best ways to save lives is to invest in lasting health infrastructure, 365 days a year, for everyone, especially the most vulnerable among us.\n",
       "                                                                                                                                                                                                                                                                                                                                                                                                                                                                                                                                                                                                                                                                                                                                                                                                                                                                                                                                                                                                                                                                                                                                                                                                                                                                                                                                                                                                                                                                                                                                                                                                                                                                                                                                                                                                                                                                                                                                                                                                                                                                                                                                                                                                                                                                                                                                                                                                                                                                                                                                                                                                                                                                                                                                                                                                                                                                                                                                                                                                                                                                                                                                                                                                                                                                                                                                                                                                                                                                                                                                                                                                                                                                                                                                                                                                                                                                                                                                                                                                                                                                                                                                                                                                                                                                                                                                                                                                                                                                                                                                                                                                                                                                                                                                                                                                                                                                                                                                                                                                                                                                                                                                                                                                                                                                                                                                                                                                                                                                                                                                                                                                                                                                                                                                                                                                                                                                                                                                                                                                                                                                                                                                                                                                                                                                                                                                                                                                                                                                                                                                                                                                                                                                                                                                                                                                                                                                                                                                                                                                                                                                                                                                                                                                                                                                                                                                                                                                                                                                                                                                                                                                                                                                                                                                                                                                                                                                                                                                                                                                                                                                                                                                                                                                                                                                                                                                                                                                                                                                                                                                                                                                                                                                                                                                                                                                                                                                                                                                                                                                                                                                                                                                                                                                                                                                                                                                                                                                                                                                                                                                                                                                                                                                                                                                                                                                                                                                                                                                                                                                                                                                                                                                                                                                                                                                                                                                                                                                                                                                                                                                                                                                                                                                                                                                                                                                                                                                                                                                                                                                                    ...                                                                                                                                                                                                                                                                                                                                                                                                                                                                                                                                                                                                                                                                                                                                                                                                                                                                                                                                                                                                                                                                                                                                                                                                                                                                                                                                                                                                                                                                                                                                                                                                                                                                                                                                                                                                                                                                                                                                                                                                                                                                                                                                                                                                                                                                                                                                                                                                                                                                                                                                                                                                                                                                                                                                                                                                                                                                                                                                                                                                                                                                                                                                                                                                                                                                                                                                                                                                                                                                                                                                                                                                                                                                                                                                                                                                                                                                                                                                                                                                                                                                                                                                                                                                                                                                                                                                                                                                                                                                                                                                                                                                                                                                                                                                                                                                                                                                                                                                                                                                                                                                                                                                                                                                                                                                                                                                                                                                                                                                                                                                                                                                                                                                                                                                                                                                                                                                                                                                                                                                                                                                                                                                                                                                                                                                                                                                                                                                                                                                                                                                                                                                                                                                                                                                                                                                                                                                                                                                                                                                                                                                                                                                                                                                                                                                                                                                                                                                                                                                                                                                                                                                                                                                                                                                                                                                                                                                                                                                                                                                                                                                                                                                                                                                                                                                                                                                                                                                                                                                                                                                                                                                                                                                                                                                                                                                                                                                                                                                                                                                                                                                                                                                                                                                                                                                                                                                                                                                                                                                                                                                                                                                                                                                                                                                                                                                                                                                                                                                                                                                                                                                                                                                                                                                                                                                                                                                                                                                                                                                                                                                                                                                                                                                                                                                                                                                                                                                                                                                                                                                              \n",
       "5968                                                                                                                                                                                                                                                                                                                                                                                                                                                                                                                                                                                                                                                                                                                                                                                                                                                                                                                                                                                                                                                                                                                                                                                                                                                                                                                                                                                                                                                                                                                                                                                                                                                                                                                                                                                                                                                                                                                                                                                                                                                                                                                                                                                                                                                                                                                                                                                                                                                                                                                                                                                                                                                                                                                                                                                                                                                                                                                                                                                                                                                                                                                                                                                                                                                                                                                                                                                                                                                                                                                                                                                                                                                                                                                                                                                                                                                                                                                                                                                                                                                                                                                                                                                                                                                                                                                                                                                                                                                                                                                                                                                                                                                                                                                                                                                                                                                                                                                                                                                                                                                                                                                                                                                                                                                                                                                                                                                                                                                                                                                                                                                                                                                                                                                                                                                                                                                                                                                                                                                                                                                                                                                                                                                                                                                                                                                                                                                                                                                                                                                                                                                                                                                                                                                                                                                                                                                                                                                                                                                                                                                                                                                                                                                                                                                                                                                                                                                                                                                                                                                                                                                                                                                                                                                                                                                                                                                                                                                                                                                                                                                                                                                                                                                                                                                                                                                                                                                                                                                                                                                                                                                                                                                                                                                                                                                                                                                                                                                                                                                                                                                                                                                     I want to start with a story, a la Seth Godin, from when I was 12 years old. My uncle Ed gave me a beautiful blue sweater -- at least I thought it was beautiful. And it had fuzzy zebras walking across the stomach, and Mount Kilimanjaro and Mount Meru were kind of right across the chest, that were also fuzzy. And I wore it whenever I could, thinking it was the most fabulous thing I owned. Until one day in ninth grade, when I was standing with a number of the football players. And my body had clearly changed, and Matt, who was undeniably my nemesis in high school, said in a booming voice that we no longer had to go far away to go on ski trips, but we could all ski on Mount Novogratz. (Laughter) And I was so humiliated and mortified that I immediately ran home to my mother and chastised her for ever letting me wear the hideous sweater. We drove to the Goodwill and we threw the sweater away somewhat ceremoniously, my idea being that I would never have to think about the sweater nor see it ever again. Fast forward -- 11 years later, I'm a 25-year-old kid. I'm working in Kigali, Rwanda, jogging through the steep slopes, when I see, 10 feet in front of me, a little boy -- 11 years old -- running toward me, wearing my sweater. And I'm thinking, no, this is not possible. But so, curious, I run up to the child -- of course scaring the living bejesus out of him -- grab him by the collar, turn it over, and there is my name written on the collar of this sweater. I tell that story, because it has served and continues to serve as a metaphor to me about the level of connectedness that we all have on this Earth. We so often don't realize what our action and our inaction does to people we think we will never see and never know. I also tell it because it tells a larger contextual story of what aid is and can be. That this traveled into the Goodwill in Virginia, and moved its way into the larger industry, which at that point was giving millions of tons of secondhand clothing to Africa and Asia. Which was a very good thing, providing low cost clothing. And at the same time, certainly in Rwanda, it destroyed the local retailing industry. Not to say that it shouldn't have, but that we have to get better at answering the questions that need to be considered when we think about consequences and responses. So, I'm going to stick in Rwanda, circa 1985, 1986, where I was doing two things. I had started a bakery with 20 unwed mothers. We were called the 'Bad News Bears,' and our notion was we were going to corner the snack food business in Kigali, which was not hard because there were no snacks before us. And because we had a good business model, we actually did it, and I watched these women transform on a micro-level. But at the same time, I started a micro-finance bank, and tomorrow Iqbal Quadir is going to talk about Grameen, which is the grandfather of all micro-finance banks, which now is a worldwide movement -- you talk about a meme -- but then it was quite new, especially in an economy that was moving from barter into trade. We got a lot of things right. We focused on a business model; we insisted on skin in the game. The women made their own decisions at the end of the day as to how they would use this access to credit to build their little businesses, earn more income so they could take care of their families better. What we didn't understand, what was happening all around us, with the confluence of fear, ethnic strife and certainly an aid game, if you will, that was playing into this invisible but certainly palpable movement inside Rwanda, that at that time, 30 percent of the budget was all foreign aid. The genocide happened in 1994, seven years after these women all worked together to build this dream. And the good news was that the institution, the banking institution, lasted. In fact, it became the largest rehabilitation lender in the country. The bakery was completely wiped out, but the lessons for me were that accountability counts -- got to build things with people on the ground, using business models where, as Steven Levitt would say, the incentives matter. Understand, however complex we may be, incentives matter. So when Chris raised to me how wonderful everything that was happening in the world, that we were seeing a shift in zeitgeist, on the one hand I absolutely agree with him, and I was so thrilled to see what happened with the G8 -- that the world, because of people like Tony Blair and Bono and Bob Geldof -- the world is talking about global poverty; the world is talking about Africa in ways I have never seen in my life. It's thrilling. And at the same time, what keeps me up at night is a fear that we'll look at the victories of the G8 -- 50 billion dollars in increased aid to Africa, 40 billion in reduced debt -- as the victory, as more than chapter one, as our moral absolution. And in fact, what we need to do is see that as chapter one, celebrate it, close it, and recognize that we need a chapter two that is all about execution, all about the how-to. And if you remember one thing from what I want to talk about today, it's that the only way to end poverty, to make it history, is to build viable systems on the ground that deliver critical and affordable goods and services to the poor, in ways that are financially sustainable and scaleable. If we do that, we really can make poverty history. And it was that -- that whole philosophy -- that encouraged me to start my current endeavor called 'Acumen Fund,' which is trying to build some mini-blueprints for how we might do that in water, health and housing in Pakistan, India, Kenya, Tanzania and Egypt. And I want to talk a little bit about that, and some of the examples, so you can see what it is that we're doing. But before I do this -- and this is another one of my pet peeves -- I want to talk a little bit about who the poor are. Because we too often talk about them as these strong, huge masses of people yearning to be free, when in fact, it's quite an amazing story. On a macro level, four billion people on Earth make less than four dollars a day. That's who we talk about when we think about 'the poor.' If you aggregate it, it's the third largest economy on Earth, and yet most of these people go invisible. Where we typically work, there's people making between one and three dollars a day. Who are these people? They are farmers and factory workers. They work in government offices. They're drivers. They are domestics. They typically pay for critical goods and services like water, like healthcare, like housing, and they pay 30 to 40 times what their middleclass counterparts pay -- certainly where we work in Karachi and Nairobi. The poor also are willing to make, and do make, smart decisions, if you give them that opportunity. So, two examples. One is in India, where there are 240 million farmers, most of whom make less than two dollars a day. Where we work in Aurangabad, the land is extraordinarily parched. You see people on average making 60 cents to a dollar. This guy in pink is a social entrepreneur named Ami Tabar. What he did was see what was happening in Israel, larger approaches, and figure out how to do a drip irrigation, which is a way of bringing water directly to the plant stock. But previously it's only been created for large-scale farms, so Ami Tabar took this and modularized it down to an eighth of an acre. A couple of principles: build small. Make it infinitely expandable and affordable to the poor. This family, Sarita and her husband, bought a 15-dollar unit when they were living in a -- literally a three-walled lean-to with a corrugated iron roof. After one harvest, they had increased their income enough to buy a second system to do their full quarter-acre. A couple of years later, I meet them. They now make four dollars a day, which is pretty much middle class for India, and they showed me the concrete foundation they had just laid to build their house. And I swear, you could see the future in that woman's eyes. Something I truly believe. You can't talk about poverty today without talking about malaria bed nets, and I again give Jeffrey Sachs of Harvard huge kudos for bringing to the world this notion of his rage -- for five dollars you can save a life. Malaria is a disease that kills one to three million people a year. 300 to 500 million cases are reported. It's estimated that Africa loses about 13 billion dollars a year to the disease. Five dollars can save a life. We can send people to the moon; we can see if there's life on Mars -- why can't we get five-dollar nets to 500 million people? The question, though, is not 'Why can't we?' The question is how can we help Africans do this for themselves? A lot of hurdles. One: production is too low. Two: price is too high. Three: this is a good road in -- right near where our factory is located. Distribution is a nightmare, but not impossible. We started by making a 350,000-dollar loan to the largest traditional bed net manufacturer in Africa so that they could transfer technology from Japan and build these long-lasting, five-year nets. Here are just some pictures of the factory. Today, three years later, the company has employed another thousand women. It contributes about 600,000 dollars in wages to the economy of Tanzania. It's the largest company in Tanzania. The throughput rate right now is 1.5 million nets, three million by the end of the year. We hope to have seven million at the end of next year. So the production side is working. On the distribution side, though, as a world, we have a lot of work to do. Right now, 95 percent of these nets are being bought by the U.N., and then given primarily to people around Africa. We're looking at building on some of the most precious resources of Africa: people. Their women. And so I want you to meet Jacqueline, my namesake, 21 years old. If she were born anywhere else but Tanzania, I'm telling you, she could run Wall Street. She runs two of the lines, and has already saved enough money to put a down payment on her house. She makes about two dollars a day, is creating an education fund, and told me she is not marrying nor having children until these things are completed. And so, when I told her about our idea -- that maybe we could take a Tupperware model from the United States, and find a way for the women themselves to go out and sell these nets to others -- she quickly started calculating what she herself could make and signed up. We took a lesson from IDEO, one of our favorite companies, and quickly did a prototyping on this, and took Jacqueline into the area where she lives. She brought 10 of the women with whom she interacts together to see if she could sell these nets, five dollars apiece, despite the fact that people say nobody will buy one, and we learned a lot about how you sell things. Not coming in with our own notions, because she didn't even talk about malaria until the very end. First, she talked about comfort, status, beauty. These nets, she said, you put them on the floor, bugs leave your house. Children can sleep through the night; the house looks beautiful; you hang them in the window. And we've started making curtains, and not only is it beautiful, but people can see status -- that you care about your children. Only then did she talk about saving your children's lives. A lot of lessons to be learned in terms of how we sell goods and services to the poor. I want to end just by saying that there's enormous opportunity to make poverty history. To do it right, we have to build business models that matter, that are scaleable and that work with Africans, Indians, people all over the developing world who fit in this category, to do it themselves. Because at the end of the day, it's about engagement. It's about understanding that people really don't want handouts, that they want to make their own decisions; they want to solve their own problems; and that by engaging with them, not only do we create much more dignity for them, but for us as well. And so I urge all of you to think next time as to how to engage with this notion and this opportunity that we all have -- to make poverty history -- by really becoming part of the process and moving away from an us-and-them world, and realizing that it's about all of us, and the kind of world that we, together, want to live in and share. Thank you. (Applause)\n",
       "5975                                                                                                                                                                                                                                                                                                                                                                                                                                                                                                                                                                                                                                                                                                                                                                                                                                                                                                                                                                                                                                                                                                                                                                                                                                                                                                                                                                                                                                                                                                                                                                                                                                                                                                                                                                                                                                                                                                                                                                                                                                                                                                                                                                                                                                                                                                                                                                                                                                                                                                                                                                                                                                                                                                                                                                                                                                                                                                                                                                                                                                                                                                                                                                                                                                                                                                                                                                                                                                                                                                                                                                                                                                                                                                                                                                                                                                                                                                                                                                                                                                                                                                                                                                                                                                                                                                                                                                                                                                                                                                                                                                                                                                                                                                                                                                                                                                                                                                                                                                                                                                                                                                                                                                                                                                                                                                                                                                                                                                                                                                                                                                                                                                                                                                                                                                                                                                                                                                                                                                                                                                                                            We've been told to go out on a limb and say something surprising. So I'll try and do that, but I want to start with two things that everyone already knows. And the first one, in fact, is something that has been known for most of recorded history, and that is, that the planet Earth, or the solar system, or our environment or whatever, is uniquely suited to sustain our evolution -- or creation, as it used to be thought -- and our present existence, and most important, our future survival. Nowadays, this idea has a dramatic name: Spaceship Earth. And the idea there is that outside the spaceship, the universe is implacably hostile, and inside is all we have, all we depend on, and we only get the one chance: if we mess up our spaceship, we've got nowhere else to go. Now, the second thing that everyone already knows is that, contrary to what was believed for most of human history, human beings are not, in fact, the hub of existence. As Stephen Hawking famously said, we're just a chemical scum on the surface of a typical planet that's in orbit around a typical star, which is on the outskirts of a typical galaxy, and so on. Now, the first of those two things that everyone knows is kind of saying that we're at a very untypical place, uniquely suited and so on. And the second one is saying that we're at a typical place. And, especially if you regard these two as deep truths to live by and to inform your life decisions, then they seem a little bit to conflict with each other. But that doesn't prevent them from both being completely false. (Laughter) And they are. So let me start with the second one: typical. Well, is this a typical place? Well, let's look around, you know, look in a random direction, and we see a wall and chemical scum -- (Laughter) and that's not typical of the universe at all. All you've got to do is go a few hundred miles in that same direction and look back, and you won't see any walls or chemical scum at all -- all you see is a blue planet. And if you go further than that, you'll see the Sun, the solar system and the stars and so on, but that's still not typical of the universe, because stars come in galaxies. And most places in the universe, a typical place in the universe, is nowhere near any galaxies. So let's go out further, till we're outside the galaxy, and look back, and yeah, there's the huge galaxy with spiral arms laid out in front of us. And at this point, we've come 100,000 light-years from here. But we're still nowhere near a typical place in the universe. To get to a typical place, you've got to go 1,000 times as far as that, into intergalactic space. And so, what does that look like -- 'typical?' What does a 'typical' place in the universe look like? Well, at enormous expense, TED has arranged a high-resolution immersion virtual reality rendering of the view from intergalactic space. Can we have the lights off, please, so we can see it? Well, not quite, not quite perfect. You see, intergalactic space is completely dark, pitch dark. It's so dark, that if you were to be looking at the nearest star to you, and that star were to explode as a supernova, and you were to be staring directly at it at the moment when its light reached you, you still wouldn't be able to see even a glimmer. That's how big and how dark the universe is. And that's despite the fact that a supernova is so bright, so brilliant an event, that it would kill you stone dead at a range of several light-years. (Laughter) And yet, from intergalactic space, it's so far away you wouldn't even see it. It's also very cold out there -- less than three degrees above absolute zero. And it's very empty. The vacuum there is one million times less dense than the highest vacuum that our best technology on Earth can currently create. So that's how different a typical place is from this place. And that is how untypical this place is. So can we have the lights back on please? Thank you. Now, how do we know about an environment that's so far away and so different and so alien from anything we're used to? Well, the Earth -- our environment, in the form of us -- is creating knowledge. Well, what does that mean? Well, look out even further than we've just been -- I mean from here, with a telescope -- and you'll see things that look like stars, they're called quasars. 'Quasars' originally meant 'quasi-stellar object,' which means 'things that look a bit like stars.' (Laughter) But they're not stars. And we know what they are. Billions of years ago and billions of light-years away, the material at the center of a galaxy collapsed towards a supermassive black hole. And then intense magnetic fields directed some of the energy of that gravitational collapse and some of the matter back out in the form of tremendous jets, which illuminated lobes with the brilliance of -- I think it's a trillion -- suns. Now, the physics of the human brain could hardly be more unlike the physics of such a jet. We couldn't survive for an instant in it. Language breaks down when trying to describe what it would be like in one of those jets. It would be a bit like experiencing a supernova explosion, but at point-blank range and for millions of years at a time. (Laughter) And yet, that jet happened in precisely such a way that billions of years later, on the other side of the universe, some bit of chemical scum could accurately describe and model and predict and explain, above all -- there's your reference -- what was happening there, in reality. The one physical system, the brain, contains an accurate working model of the other, the quasar. Not just a superficial image of it, though it contains that as well, but an explanatory model, embodying the same mathematical relationships and the same causal structure. Now, that is knowledge. And if that weren't amazing enough, the faithfulness with which the one structure resembles the other is increasing with time. That is the growth of knowledge. So, the laws of physics have this special property, that physical objects as unlike each other as they could possibly be can, nevertheless, embody the same mathematical and causal structure and to do it more and more so over time. So we are a chemical scum that is different. This chemical scum has universality. Its structure contains, with ever-increasing precision, the structure of everything. This place, and not other places in the universe, is a hub which contains within itself the structural and causal essence of the whole of the rest of physical reality. And so, far from being insignificant, the fact that the laws of physics allow this or even mandate that this can happen is one of the most important things about the physical world. Now, how does the solar system -- our environment, in the form of us -- acquire this special relationship with the rest of the universe? Well, one thing that's true about Stephen Hawking's remark -- I mean, it is true, but it's the wrong emphasis -- one thing that's true about it is that it doesn't do it with any special physics, there's no special dispensation, no miracles involved. It does it simply with three things that we have here in abundance. One of them is matter, because the growth of knowledge is a form of information processing. Information processing is computation, computation requires a computer, and there's no known way of making a computer without matter. We also need energy to make the computer, and most important, to make the media, in effect, onto which we record the knowledge that we discover. And then thirdly, less tangible but just as essential for the open-ended creation of knowledge, of explanations, is evidence. Now, our environment is inundated with evidence. We happened to get round to testing, let's say, Newton's law of gravity, about 300 years ago. But the evidence that we used to do that was falling down on every square meter of the Earth for billions of years before that, and we'll continue to fall for billions of years afterwards. And the same is true for all the other sciences. As far as we know, evidence to discover the most fundamental truths of all the sciences is here just for the taking, on our planet. Our location is saturated with evidence and also with matter and energy. Out in intergalactic space, those three prerequisites for the open-ended creation of knowledge are at their lowest possible supply -- as I said, it's empty, it's cold and it's dark out there. Or is it? Now actually, that's just another parochial misconception. (Laughter) Because imagine a cube out there in intergalactic space, the same size as our home, the solar system. Now, that cube is very empty by human standards, but that still means that it contains over a million tons of matter. And a million tons is enough to make, say, a self-contained space station, on which there's a colony of scientists that are devoted to creating an open-ended stream of knowledge, and so on. Now, it's way beyond present technology to even gather the hydrogen from intergalactic space and form it into other elements and so on. But the thing is, in a comprehensible universe, if something isn't forbidden by the laws of physics, then what could possibly prevent us from doing it, other than knowing how? In other words, it's a matter of knowledge, not resources. If we could do that, we'd automatically have an energy supply, because this transmutation would be a fusion reactor. And evidence? Well, again, it's dark out there to human senses, but all you've got to do is take a telescope, even one of present-day design, look out, and you'll see the same galaxies as we do from here. And with a more powerful telescope, you'll be able to see stars and planets in those galaxies, you'll be able to do astrophysics and learn the laws of physics. And locally there, you could build particle accelerators and learn elementary particle physics and chemistry, and so on. Probably the hardest science to do would be biology field trips -- (Laughter) because it would take several hundred million years to get to the nearest life-bearing planet and back. But I have to tell you -- and sorry, Richard -- but I never did like biology field trips much -- (Laughter) and I think we can just about make do with one every few hundred million years. (Laughter) So, in fact, intergalactic space does contain all the prerequisites for the open-ended creation of knowledge. Any such cube anywhere in the universe could become the same kind of hub that we are, if the knowledge of how to do so were present there. So, we're not in a uniquely hospitable place. If intergalactic space is capable of creating an open-ended stream of explanations, then so is almost every other environment, so is the Earth. So is a polluted Earth. And the limiting factor, there and here, is not resources -- because they're plentiful -- but knowledge, which is scarce. Now, this cosmic knowledge-based view may -- and, I think, ought to -- make us feel very special. But it should also make us feel vulnerable, because it means that without the specific knowledge that's needed to survive the ongoing challenges of the universe, we won't survive them. All it takes is for a supernova to go off a few light-years away, and we'll all be dead! Martin Rees has recently written a book about our vulnerability to all sorts of things, from astrophysics, to scientific experiments gone wrong, and most importantly, to terrorism with weapons of mass destruction. And he thinks that civilization has only a 50 percent chance of surviving this century. I think he's going to talk about that later in the conference. Now, I don't think that probability is the right category to discuss this issue in, but I do agree with him about this: we can survive and we can fail to survive. But it depends, not on chance, but on whether we create the relevant knowledge in time. The danger is not at all unprecedented. Species go extinct all the time. Civilizations end. The overwhelming majority of all species and all civilizations that have ever existed are now history. And if we want to be the exception to that, then logically, our only hope is to make use of the one feature that distinguishes our species and civilization from all the others, namely, our special relationship with the laws of physics, our ability to create new explanations, new knowledge -- to be a hub of existence. So let me now apply this to a current controversy, not because I want to advocate any particular solution, but just to illustrate the kind of thing I mean. And the controversy is global warming. Now, I'm a physicist, but I'm not the right kind of physicist. In regard to global warming, I'm just a layman. And the rational thing for a layman to do is to take seriously the prevailing scientific theory. And according to that theory, it's already too late to avoid a disaster, because, if it's true that our best option at the moment is to prevent CO2 emissions with something like the Kyoto Protocol, with its constraints on economic activity and its enormous cost of hundreds of billions of dollars, or whatever it is, then that is already a disaster by any reasonable measure. And the actions that are advocated are not even purported to solve the problem, merely to postpone it by a little. So it's already too late to avoid it, and it probably has been too late to avoid it ever since before anyone realized the danger. It was probably already too late in the 1970s, when the best available scientific theory was telling us that industrial emissions were about to precipitate a new ice age, in which billions would die. Now, the lesson of that seems clear to me, and I don't know why it isn't informing public debate. It is that we can't always know. When we know of an impending disaster and how to solve it at a cost less than the cost of the disaster itself, then there's not going to be much argument, really. But no precautions and no precautionary principle can avoid problems that we do not yet foresee. Hence, we need a stance of problem-fixing, not just problem-avoidance. And it's true that an ounce of prevention equals a pound of cure, but that's only if we know what to prevent. If you've been punched on the nose, then the science of medicine does not consist of teaching you how to avoid punches. (Laughter) If medical science stopped seeking cures and concentrated on prevention only, then it would achieve very little of either. The world is buzzing at the moment with plans to force reductions in gas emissions at all costs. It ought to be buzzing with plans to reduce the temperature and with plans to live at the higher temperature -- and not at all costs, but efficiently and cheaply. And some such plans exist, things like swarms of mirrors in space to deflect the sunlight away and encouraging aquatic organisms to eat more carbon dioxide. At the moment, these things are fringe research; they're not central to the human effort to face this problem or problems in general. And with problems that we are not aware of yet, the ability to put right -- not the sheer good luck of avoiding indefinitely -- is our only hope, not just of solving problems, but of survival. So, take two stone tablets and carve on them. On one of them, carve: 'Problems are soluble.' And on the other one, carve: 'Problems are inevitable.' Thank you. (Applause)\n",
       "5982    Charles Van Doren, who was later a senior editor of Britannica, said the ideal encyclopedia should be radical -- it should stop being safe. But if you know anything about the history of Britannica since 1962, it was anything but radical: still a very completely safe, stodgy type of encyclopedia. Wikipedia, on the other hand, begins with a very radical idea, and that's for all of us to imagine a world in which every single person on the planet is given free access to the sum of all human knowledge. And that's what we're doing. So Wikipedia -- you just saw the little demonstration of it -- it's a freely licensed encyclopedia. It's written by thousands of volunteers all over the world in many, many languages. It's written using wiki software -- which is the type of software he just demonstrated -- so anyone can quickly edit and save, and it goes live on the Internet immediately. And everything about Wikipedia is managed by virtually an all-volunteer staff. So when Yochai is talking about new methods of organization, he's exactly describing Wikipedia. And what I'm going to do today is tell you a little bit more about how it really works on the inside. So Wikipedia's owned by the Wikimedia Foundation, which I founded, a nonprofit organization. And our goal, the core aim of the Wikimedia Foundation, is to get a free encyclopedia to every single person on the planet. And so, if you think about what that means, it means a lot more than just building a cool website. We're really interested in all the issues of the digital divide, poverty worldwide, empowering people everywhere to have the information that they need to make good decisions. And so we're going to have to do a lot of work that goes beyond just the Internet. And so that's a big part of why we've chosen the free licensing model, because that empowers local entrepreneurs or anyone who wants to -- they can take our content and do anything they like with it -- you can copy it, redistribute it -- and you can do it commercially or non-commercially. So there's a lot of opportunities that are going to arise around Wikipedia all over the world. We're funded by donations from the public, and one of the more interesting things about that is how little money it actually takes to run Wikipedia. So Yochai showed you the graph of what the cost of a printing press was. And I'm going to tell you what the cost of Wikipedia is. But first, I'll show you how big it is. So we've got over 600,000 articles in English. We've got two million total articles across many, many different languages. The biggest languages are German, Japanese, French -- all the Western-European languages are quite big. But only around one-third of all of our traffic to our web clusters to the English Wikipedia, which is surprising to a lot of people. A lot of people think in a very English-centric way on the Internet, but for us, we're truly global. We're in many, many languages. How popular we've gotten to be -- we're a top-50 website and we're more popular than the New York Times. So this is where we get to Yochai's discussion. This shows the growth of Wikipedia -- we're the blue line there -- and this is the New York Times over there. And what's interesting about this is the New York Times website is a huge, enormous corporate operation with I have no idea how many hundreds of employees. We have exactly one employee, and that employee is our lead software developer. And he's only been our employee since January 2005, all the other growth before that ... So the servers are managed by a ragtag band of volunteers. All the editing is done by volunteers. And the way that we're organized is not like any traditional organization you can imagine. People are always asking, 'Well, who's in charge of this?' or 'Who does that?' And the answer is: anybody who wants to pitch in. It's a very unusual and chaotic thing. We've got over 90 servers now in three locations. These are managed by volunteer system administrators who are online. I can go online any time of the day or night and see eight to 10 people waiting for me to ask a question or something, anything about the servers. You could never afford to do this in a company. You could never afford to have a standby crew of people 24 hours a day and do what we're doing at Wikipedia. So we're doing around 1.4 billion page views monthly, so it's really gotten to be a huge thing. And everything is managed by the volunteers. And the total monthly cost for our bandwidth is about 5,000 dollars. And that's essentially our main cost. We could actually do without the employee. We hired Brian because he was working part-time for two years and full-time at Wikipedia, so we actually hired him, so he could get a life and go to the movies sometimes. So the big question when you've got this really chaotic organization is, why isn't it all rubbish? Why is the website as good as it is? First of all, how good is it? Well, it's pretty good. It isn't perfect, but it's much better than you would expect, given our completely chaotic model. So when you saw him make a ridiculous edit to the page about me, you think, 'Oh, this is obviously just going to degenerate into rubbish.' But when we've seen quality tests -- and there haven't been enough of these yet and I'm really encouraging people to do more, comparing Wikipedia to traditional things -- we win hands down. So a German magazine compared German Wikipedia, which is much, much smaller than English, to Microsoft Encarta and to Brockhaus multimedial, and we won across the board. They hired experts to come and look at articles and compare the quality, and we were very pleased with that result. So a lot of people have heard about the Wikipedia Bush-Kerry controversy. The media has covered this somewhat extensively. It started out with an article in Red Herring. The reporters called me up and they -- I mean, I have to say they spelled my name right, but they really wanted to say the Bush-Kerry election is so contentious, it's tearing apart the Wikipedia community. And so they quote me as saying, 'They're the most contentious in the history of Wikipedia.' What I actually said is they're not contentious at all. So it's a slight misquote. (Laughter) The articles were edited quite heavily. And it is true that we did have to lock the articles on a couple of occasions. Time magazine recently reported that 'Extreme action sometimes has to be taken, and Wales locked the entries on Kerry and Bush for most of 2004.' This came after I told the reporter that we had to lock it for -- occasionally a little bit here and there. So the truth in general is that the kinds of controversies that you would probably think we have within the Wikipedia community are not really controversies at all. Articles on controversial topics are edited a lot, but they don't cause much controversy within the community. And the reason for this is that most people understand the need for neutrality. The real struggle is not between the right and the left -- that's where most people assume -- but it's between the party of the thoughtful and the party of the jerks. And no side of the political spectrum has a monopoly on either of those qualities. The actual truth about the specific Bush-Kerry incident is that the Bush-Kerry articles were locked less than one percent of the time in 2004, and it wasn't because they were contentious; it was just because there was routine vandalism -- which happens sometimes even on stage ... (Laughter) Sometimes even reporters have reported to me that they vandalized Wikipedia and were amazed that it was fixed so quickly. And I said -- you know, I always say, please don't do that. That's not a good thing. So how do we do this? How do we manage the quality control? How does it work? So there's a few elements, mostly social policies and some elements of the software. So the biggest and the most important thing is our neutral point of view policy. This is something that I set down, from the very beginning, as a core principle of the community that's completely not debatable. It's a social concept of cooperation, so we don't talk a lot about truth and objectivity. The reason for this is if we say we're only going to write the 'truth' about some topic, that doesn't do us a damn bit of good of figuring out what to write, because I don't agree with you about what's the truth. But we have this jargon term of neutrality, which has its own long history within the community, which basically says, any time there's a controversial issue, Wikipedia itself should not take a stand on the issue. We should merely report on what reputable parties have said about it. So this neutrality policy is really important for us because it empowers a community that is very diverse to come together and actually get some work done. So we have very diverse contributors in terms of political, religious, cultural backgrounds. By having this firm neutrality policy, which is non-negotiable from the beginning, we ensure that people can work together and that the entries don't become simply a war back and forth between the left and the right. If you engage in that type of behavior, you'll be asked to leave the community. So, real-time peer review. Every single change on the site goes to the 'Recent changes' page. So as soon as he made his change, it went to the 'Recent changes' page. That recent changes page was also fed into an IRC channel, which is an Internet chat channel that people are monitoring with various software tools. And people can get RSS feeds -- they can get email notifications of changes. And then users can set up their own personal watch list. So my page is on quite a few volunteers' watch lists, because it is sometimes vandalized. And therefore, what happens is someone will notice the change very quickly, and then they'll just simply revert the change. There's a 'new pages feed,' for example, so you can go to a certain page of Wikipedia and see every new page as it's created. This is really important because a lot of new pages are just garbage that has to be deleted, you know, 'ASDFASDF.' But also, that's some of the most interesting and fun things, some of the new articles. People will start an article on some interesting topic, other people will find that intriguing and jump in and help and make it much better. So we do have edits by anonymous users, which is one of the most controversial and intriguing things about Wikipedia. So, Chris was able to do his change -- he didn't have to log in or anything; he just went on the website and made a change. But it turns out that only about 18 percent of all the edits to the website are done by anonymous users. And that's a really important thing to understand: the vast majority of the edits that go on on the website are from a very close-knit community of maybe 600 to 1,000 people who are in constant communication. And we have over 40 IRC channels, 40 mailing lists. All these people know each other. They communicate. We have off-line meetings. These are the people who are doing the bulk of the site, and they are, in a sense, semi-professionals at what they're doing. The standards we set for ourselves are equal to or higher than professional standards of quality. We don't always meet those standards, but that's what we're striving for. And so that tight community is who really cares for the site, and these are some of the smartest people I've ever met. It's my job to say that, but it's actually true. The type of people who were drawn to writing an encyclopedia for fun tend to be pretty smart people. The tools and the software: there's lots of tools that allow us -- allow us, meaning the community -- to self-monitor and to monitor all the work. This is an example of a page history on 'flat Earth,' and you can see some changes that were made. What's nice about this page is you can immediately take a look at this and see, 'OK, I understand now.' When somebody goes and looks at -- they see that someone, an anonymous IP number, made an edit to my page. That sounds suspicious. Who is this person? Somebody looks at it -- they can immediately see highlighted in red all of the changes that took place -- to see, OK, well, these words have changed, things like this. So that's one tool that we can use to very quickly monitor the history of a page. Another thing that we do within the community is we leave everything very open-ended. Most of the social rules and the methods of work are left completely open-ended in the software. All of that stuff is just on Wiki pages. And so there's nothing in the software that enforces the rules. The example I've got up here is the Votes for Deletion page. So, I mentioned earlier, people type 'ASDFASDF' -- it needs to be deleted. Cases like that, the administrators just delete it. There's no reason to have a big argument about it. But you can imagine there's a lot of other areas where the question is, is this notable enough to go in an encyclopedia? Is the information verifiable? Is it a hoax? Is it true? Is it what? So we needed a social method for figuring out the answer to this. And so the method that arose organically within the community is the Votes For Deletion page. And in the particular example we have here, it's a film, 'Twisted Issues,' and the first person says, 'Now this is supposedly a film. It fails the Google test miserably.' The Google test is you look in Google and see if it's there, because if something's not even in Google, it probably doesn't exist at all. It's not a perfect rule, but it's a nice starting point for quick research. So somebody says, 'Delete it, please. Delete it -- it's not notable.' And then somebody says, 'Wait, I found it. I found it in a book, 'Film Threat Video Guide: the 20 Underground Films You Must See.'' So the next persons says, 'Clean it up.' Somebody says, 'I've found it on IMDB. Keep, keep, keep.' And what's interesting about this is that the software is -- these votes are just text typed into a page. This is not really a vote so much as it is a dialogue. Now it is true that at the end of the day, an administrator can go through here and take a look at this and say, 'OK, 18 deletes, two keeps: we'll delete it.' But in other cases, this could be 18 deletes and two keeps, and we would keep it, because if those last two keeps say, 'Wait a minute. Nobody else saw this but I found it in a book, and I found a link to a page that describes it, and I'm going to clean it up tomorrow, so please don't delete it,' then it would survive. And it also matters who the people are who are voting. Like I say, it's a tight-knit community. Down here at the bottom, 'Keep, real movie,' RickK. RickK is a very famous Wikipedian who does an enormous amount of work with vandalism, hoaxes and votes for deletion. His voice carries a lot of weight within the community because he knows what he's doing. So how is all this governed? People really want to know about administrators, things like that. So the Wikipedia governance model, the governance of the community, is a very confusing, but workable mix of consensus -- meaning we try not to vote on the content of articles, because the majority view is not necessarily neutral -- some amount of democracy -- all of the administrators -- these are the people who have the ability to delete pages. That doesn't mean that they have the right to delete pages. They still have to follow all the rules -- but they're elected by the community. Sometimes people -- random trolls on the Internet -- like to accuse me of handpicking the administrators to bias the content of the encyclopedia. I always laugh at this, because I have no idea how they're elected, actually. There's a certain amount of aristocracy. You got a hint of that when I mentioned, like, RickK's voice would carry a lot more weight than someone we don't know. I give this talk sometimes with Angela, who was just re-elected to the board from the community -- to the Board of the Foundation, with more than twice the votes of the person who didn't make it. And I always embarrass her because I say, 'Well, Angela, for example, could get away with doing absolutely anything within Wikipedia, because she's so admired and so powerful.' But the irony is, of course, that Angela can do this because she's the one person who you know would never, ever break any rules of Wikipedia. And I also like to say she's the only person who actually knows all the rules of Wikipedia, so ... And then there's monarchy, and that's my role on the community, so ... (Laughter) I was describing this in Berlin once, and the next day in the newspaper the headline said, 'I am the Queen of England.' (Laughter) And that's not exactly what I said, but -- (Laughter) the point is my role in the community -- Within the free software world, there's been a long-standing tradition of the 'benevolent dictator' model. So if you look at most of the major free software projects, they have one single person in charge who everyone agrees is the benevolent dictator. Well, I don't like the term 'benevolent dictator,' and I don't think that it's my job or my role in the world of ideas to be the dictator of the future of all human knowledge compiled by the world. It just isn't appropriate. But there is a need still for a certain amount of monarchy, a certain amount of -- sometimes we have to make a decision and we don't want to get bogged down too heavily in formal decision-making processes. So as an example of how this can be important: we recently had a situation where a neo-Nazi website discovered Wikipedia, and they said, 'Oh, well, this is horrible, this Jewish conspiracy of a website, and we're going to get certain articles deleted that we don't like. And we see they have a voting process, so we're going to send -- we have 40,000 members and we're going to send them over and they're all going to vote and get these pages deleted.' Well, they managed to get 18 people to show up. That's neo-Nazi math for you. They always think they've got 40,000 members when they've got 18. But they managed to get 18 people to come and vote in a fairly absurd way to delete a perfectly valid article. Of course, the vote ended up being about 85 to 18, so there was no real danger to our democratic processes. On the other hand, people said, 'But what are we going to do? I mean, this could happen. What if some group gets really seriously organized and comes in and wants to vote?' Then I said, 'Well, fuck it, we'll just change the rules.' That's my job in the community: to say we won't allow our openness and freedom to undermine the quality of the content. And so, as long as people trust me in my role, then that's a valid place for me. Of course, because of the free licensing, if I do a bad job, the volunteers are more than happy to take and leave -- I can't tell anyone what to do. So the final point here is that to understand how Wikipedia works, it's important to understand that our wiki model is the way we work, but we are not fanatical web anarchists. In fact, we're very flexible about the social methodology, because ultimately, the passion of the community is for the quality of the work, not necessarily for the process that we use to generate it. Thank you. (Applause) Ben Saunders: Yeah, hi, Ben Saunders. Jimmy, you mentioned impartiality being a key to Wikipedia's success. It strikes me that much of the textbooks that are used to educate our children are inherently biased. Have you found Wikipedia being used by teachers and how do you see Wikipedia changing education? Jimmy Wales: Yeah, so, a lot of teachers are beginning to use Wikipedia. There's a media storyline about Wikipedia, which I think is false. It builds on the storyline of bloggers versus newspapers. And the storyline is, there's this crazy thing, Wikipedia, but academics hate it and teachers hate it. And that turns out to not be true. The last time I got an email from a journalist saying, 'Why do academics hate Wikipedia?' I sent it from my Harvard email address because I was recently appointed a fellow there. And I said, 'Well, they don't all hate it.' (Laughter) But I think there's going to be huge impacts. And we actually have a project that I'm personally really excited about, which is the Wikibooks project, which is an effort to create textbooks in all the languages. And that's a much bigger project. It's going to take 20 years or so to come to fruition. But part of that is to fulfill our mission of giving an encyclopedia to every single person on the planet. We don't mean we're going to Spam them with AOL-style CDs. We mean we're going to give them a tool that they can use. And for a lot of people in the world, if I give you an encyclopedia that's written at a university level, it doesn't do you any good without a whole host of literacy materials to build you up to the point where you can actually use it. The Wikibooks project is an effort to do that. And I think that we're going to see -- it may not even come from us; there's all kinds of innovation going on. But freely licensed textbooks are the next big thing in education.\n",
       "5984                                                                                                                                                                                                                                                                                                                                                                                                                                                                                                                                                                                                                                                                                                                                                                                                                                                                                                                                                                                                                                                                                                                                                                                                                                                                                                                                                                                                                                                                                                                                                                                                                                                                                                                                                                                                                                                                                                                                                                                                                                                                                                                                                                                                                                                                                                                                                                                                                                                                                                                                                                                                                                                                                                                                                                                                                                                                                                                                                                                                                                                                                                                                                                                                                                                                                                                                                                                                                                                                                                                                                                                                                                                                                                                                                                                                                                                                                                                                                                                                                                                                                                                                                                                                                                                                                                                                                                                                                                                                                                                                                                                                                                                                                                                                                                                                                                                                                                                                                                                                                                                                                                                                                                                                                                                                                                                                                                                                                                                                                                                                                                                                                                                                                                                                                                                                                                                                                                                                                                                                                                                                                                                                                                                                                                                                                                                                                                                                                                                                                                                                                                                                                                                                                                                                                                                                                                                                                                                                                                                                                                                                                                                                                                                                                                                                                                                                                                                                                              In terms of invention, I'd like to tell you the tale of one of my favorite projects. I think it's one of the most exciting that I'm working on, but I think it's also the simplest. It's a project that has the potential to make a huge impact around the world. It addresses one of the biggest health issues on the planet, the number one cause of death in children under five. Which is ...? Water-borne diseases? Diarrhea? Malnutrition? No. It's breathing the smoke from indoor cooking fires -- acute respiratory infections caused by this. Can you believe that? I find this shocking and somewhat appalling. Can't we make cleaner burning cooking fuels? Can't we make better stoves? How is it that this can lead to over two million deaths every year? I know Bill Joy was talking to you about the wonders of carbon nanotubes, so I'm going to talk to you about the wonders of carbon macro-tubes, which is charcoal. (Laughter) So this is a picture of rural Haiti. Haiti is now 98 percent deforested. You'll see scenes like this all over the island. It leads to all sorts of environmental problems and problems that affect people throughout the nation. A couple years ago there was severe flooding that led to thousands of deaths -- that's directly attributable to the fact that there are no trees on the hills to stabilize the soil. So the rains come -- they go down the rivers and the flooding happens. Now one of the reasons why there are so few trees is this: people need to cook, and they harvest wood and they make charcoal in order to do it. It's not that people are ignorant to the environmental damage. They know perfectly well, but they have no other choice. Fossil fuels are not available, and solar energy doesn't cook the way that they like their food prepared. And so this is what they do. You'll find families like this who go out into the forest to find a tree, cut it down and make charcoal out of it. So not surprisingly, there's a lot of effort that's been done to look at alternative cooking fuels. About four years ago, I took a team of students down to Haiti and we worked with Peace Corps volunteers there. This is one such volunteer and this is a device that he had built in the village where he worked. And the idea was that you could take waste paper; you could compress it and make briquettes that could be used for fuel. But this device was very slow. So our engineering students went to work on it and with some very simple changes, they were able to triple the throughput of this device. So you could imagine they were very excited about it. And they took the briquettes back to MIT so that they could test them. And one of the things that they found was they didn't burn. So it was a little discouraging to the students. (Laughter) And in fact, if you look closely, right here you can see it says, 'US Peace Corps.' As it turns out, there actually wasn't any waste paper in this village. And while it was a good use of government paperwork for this volunteer to bring it back with him to his village, it was 800 kilometers away. And so we thought perhaps there might be a better way to come up with an alternative cooking fuel. What we wanted to do is we wanted to make a fuel that used something that was readily available on the local level. You see these all over Haiti as well. They're small-scale sugar mills. And the waste product from them after you extract the juice from the sugarcane is called 'bagasse.' It has no other use. It has no nutritional value, so they don't feed it to the animals. It just sits in a pile near the sugar mill until eventually they burn it. What we wanted to do was we wanted to find a way to harness this waste resource and turn it into a fuel that would be something that people could easily cook with, something like charcoal. So over the next couple of years, students and I worked to develop a process. So you start with the bagasse, and then you take a very simple kiln that you can make out of a waste fifty five-gallon oil drum. After some time, after setting it on fire, you seal it to restrict the oxygen that goes into the kiln, and then you end up with this carbonized material here. However, you can't burn this. It's too fine and it burns too quickly to be useful for cooking. So we had to try to find a way to form it into useful briquettes. And conveniently, one of my students was from Ghana, and he remembered a dish his mom used to make for him called 'kokonte,' which is a very sticky porridge made out of the cassava root. And so what we did was we looked, and we found that cassava is indeed grown in Haiti, under the name of 'manioc.' In fact, it's grown all over the world -- yucca, tapioca, manioc, cassava, it's all the same thing -- a very starchy root vegetable. And you can make a very thick, sticky porridge out of it, which you can use to bind together the charcoal briquettes. So we did this. We went down to Haiti. These are the graduates of the first Ecole de Charbon, or Charcoal Institute. And these -- (Laughter) That's right. So I'm actually an instructor at MIT as well as CIT. And these are the briquettes that we made. Now I'm going to take you to a different continent. This is India and this is the most commonly used cooking fuel in India. It's cow dung. And more than in Haiti, this produces really smoky fires, and this is where you see the health impacts of cooking with cow dung and biomass as a fuel. Kids and women are especially affected by it, because they're the ones who are around the cooking fires. So we wanted to see if we could introduce this charcoal-making technology there. Well, unfortunately, they didn't have sugarcane and they didn't have cassava, but that didn't stop us. What we did was we found what were the locally available sources of biomass. And there was wheat straw and there was rice straw in this area. And what we could use as a binder was actually small amounts of cow manure, which they used ordinarily for their fuel. And we did side-by-side tests, and here you can see the charcoal briquettes and here the cow dung. And you can see that it's a lot cleaner burning of a cooking fuel. And in fact, it heats the water a lot more quickly. And so we were very happy, thus far. But one of the things that we found was when we did side-by-side comparisons with wood charcoal, it didn't burn as long. And the briquettes crumbled a little bit and we lost energy as they fell apart as they were cooking. So we wanted to try to find a way to make a stronger briquette so that we could compete with wood charcoal in the markets in Haiti. So we went back to MIT, we took out the Instron machine and we figured out what sort of forces you needed in order to compress a briquette to the level that you actually are getting improved performance out of it? And at the same time that we had students in the lab looking at this, we also had community partners in Haiti working to develop the process, to improve it and make it more accessible to people in the villages there. And after some time, we developed a low-cost press that allows you to produce charcoal, which actually now burns not only -- actually, it burns longer, cleaner than wood charcoal. So now we're in a situation where we have a product, which is actually better than what you can buy in Haiti in the marketplace, which is a very wonderful place to be. In Haiti alone, about 30 million trees are cut down every year. There's a possibility of this being implemented and saving a good portion of those. In addition, the revenue generated from that charcoal is 260 million dollars. That's an awful lot for a country like Haiti -- with a population of eight million and an average income of less than 400 dollars. So this is where we're also moving ahead with our charcoal project. And one of the things that I think is also interesting, is I have a friend up at UC Berkeley who's been doing risk analysis. And he's looked at the problem of the health impacts of burning wood versus charcoal. And he's found that worldwide, you could prevent a million deaths switching from wood to charcoal as a cooking fuel. That's remarkable, but up until now, there weren't ways to do it without cutting down trees. But now we have a way that's using an agricultural waste material to create a cooking fuel. One of the really exciting things, though, is something that came out of the trip that I took to Ghana just last month. And I think it's the coolest thing, and it's even lower tech than what you just saw, if you can imagine such a thing. Here it is. So what is this? This is corncobs turned into charcoal. And the beauty of this is that you don't need to form briquettes -- it comes ready made. This is my $100 laptop, right here. And actually, like Nick, I brought samples. (Laughter) So we can pass these around. They're fully functional, field-tested, ready to roll out. (Laughter) And I think one of the things which is also remarkable about this technology, is that the technology transfer is so easy. Compared to the sugarcane charcoal, where we have to teach people how to form it into briquettes and you have the extra step of cooking the binder, this comes pre-briquetted. And this is about the most exciting thing in my life right now, which is perhaps a sad commentary on my life. (Laughter) But once you see it, like you guys in the front row -- All right, yeah, OK. So anyway -- (Laughter) Here it is. And this is, I think, a perfect example of what Robert Wright was talking about in those non-zero-sum things. So not only do you have health benefits, you have environmental benefits. But this is one of the incredibly rare situations where you also have economic benefits. People can make their own cooking fuel from waste products. They can generate income from this. They can save the money that they were going to spend on charcoal and they can produce excess and sell it in the market to people who aren't making their own. It's really rare that you don't have trade-offs between health and economics, or environment and economics. So this is a project that I just find extremely exciting and I'm really looking forward to see where it takes us. So when we talk about, now, the future we will create, one of the things that I think is necessary is to have a very clear vision of the world that we live in. And now, I don't actually mean the world that we live in. I mean the world where women spend two to three hours everyday grinding grain for their families to eat. I mean the world where advanced building materials means cement roofing tiles that are made by hand, and where, when you work 10 hours a day, you're still only earning 60 dollars in a month. I mean the world where women and children spend 40 billion hours a year fetching water. That's as if the entire workforce of the state of California worked full time for a year doing nothing but fetching water. It's a place where, for example, if this were India, in this room, only three of us would have a car. If this were Afghanistan, only one person in this room would know how the use the Internet. If this were Zambia -- 300 of you would be farmers, 100 of you would have AIDS or HIV. And more than half of you would be living on less than a dollar a day. These are the issues that we need to come up with solutions for. These are the issues that we need to be training our engineers, our designers, our business people, our entrepreneurs to be facing. These are the solutions that we need to find. I have a few areas that I believe are especially important that we address. One of them is creating technologies to promote micro-finance and micro-enterprise, so that people who are living below the poverty line can find a way to move out -- and that they're not doing it using the same traditional basket making, poultry rearing, etc. But there are new technologies and new products that they can make on a small scale. The next thing I believe is that we need to create technologies for poor farmers to add value to their own crops. And we need to rethink our development strategies, so that we're not promoting educational campaigns to get them to stop being farmers, but rather to stop being poor farmers. And we need to think about how we can do that effectively. We need to work with the people in these communities and give them the resources and the tools that they need to solve their own problems. That's the best way to do it. We shouldn't be doing it from outside. So we need to create this future, and we need to start doing it now. Thank you. (Applause) Chris Anderson: Thank you, incredible. Stay here. Tell us -- just while we see if someone has a question -- just tell us about one of the other things that you've worked on. Amy Smith: Some of the other things we're working on are ways to do low-cost water quality testing, so that communities can maintain their own water systems, know when they're working, know when they treat them, etc. We're also looking at low-cost water-treatment systems. One of the really exciting things is looking at solar water disinfection and improving the ability to be able to do that. CA: What's the bottleneck preventing this stuff getting from scale? Do you need to find entrepreneurs, or venture capitalists, or what do you need to take what you've got and get it to scale? AS: I think it's large numbers of people moving it forward. It's a difficult thing -- it's a marketplace which is very fragmented and a consumer population with no income. So you can't use the same models that you use in the United States for making things move forward. And we're a pretty small staff, which is me. (Laughter) So, you know, I do what I can with the students. We have 30 students a year go out into the field and try to implement this and move it forward. The other thing is you have to do things with a long time frame, as, you know, you can't expect to get something done in a year or two years; you have to be looking five or 10 years ahead. But I think with the vision to do that, we can move forward.\n",
       "5998                                                                                                                                                                                                                                                                                                                                                                                                                                                                                                                                                                                                                                                                                                                                                                                                                                                                                                                                                                                                                                                                                                                                                                                                                                                                                                                                                                                                                                                                                                                                                                                                                                                                                                                                                                                                                                                                                                                                                                                                                                                                                                                                                                                                                                                                                                                                                                                                                                                                                                                                                                                                                                                                                                                                                                                                                                                                                                                                               If you're here today -- and I'm very happy that you are -- you've all heard about how sustainable development will save us from ourselves. However, when we're not at TED, we are often told that a real sustainability policy agenda is just not feasible, especially in large urban areas like New York City. And that's because most people with decision-making powers, in both the public and the private sector, really don't feel as though they're in danger. The reason why I'm here today, in part, is because of a dog -- an abandoned puppy I found back in the rain, back in 1998. She turned out to be a much bigger dog than I'd anticipated. When she came into my life, we were fighting against a huge waste facility planned for the East River waterfront despite the fact that our small part of New York City already handled more than 40 percent of the entire city's commercial waste: a sewage treatment pelletizing plant, a sewage sludge plant, four power plants, the world's largest food-distribution center, as well as other industries that bring more than 60,000 diesel truck trips to the area each week. The area also has one of the lowest ratios of parks to people in the city. So when I was contacted by the Parks Department about a $10,000 seed-grant initiative to help develop waterfront projects, I thought they were really well-meaning, but a bit naive. I'd lived in this area all my life, and you could not get to the river, because of all the lovely facilities that I mentioned earlier. Then, while jogging with my dog one morning, she pulled me into what I thought was just another illegal dump. There were weeds and piles of garbage and other stuff that I won't mention here, but she kept dragging me, and lo and behold, at the end of that lot was the river. I knew that this forgotten little street-end, abandoned like the dog that brought me there, was worth saving. And I knew it would grow to become the proud beginnings of the community-led revitalization of the new South Bronx. And just like my new dog, it was an idea that got bigger than I'd imagined. We garnered much support along the way, and the Hunts Point Riverside Park became the first waterfront park that the South Bronx had had in more than 60 years. We leveraged that $10,000 seed grant more than 300 times, into a $3 million park. And in the fall, I'm going to exchange marriage vows with my beloved. (Audience whistles) Thank you very much. (Applause) That's him pressing my buttons back there, which he does all the time. (Laughter) (Applause) But those of us living in environmental justice communities are the canary in the coal mine. We feel the problems right now, and have for some time. Environmental justice, for those of you who may not be familiar with the term, goes something like this: no community should be saddled with more environmental burdens and less environmental benefits than any other. Unfortunately, race and class are extremely reliable indicators as to where one might find the good stuff, like parks and trees, and where one might find the bad stuff, like power plants and waste facilities. As a black person in America, I am twice as likely as a white person to live in an area where air pollution poses the greatest risk to my health. I am five times more likely to live within walking distance of a power plant or chemical facility, which I do. These land-use decisions created the hostile conditions that lead to problems like obesity, diabetes and asthma. Why would someone leave their home to go for a brisk walk in a toxic neighborhood? Our 27 percent obesity rate is high even for this country, and diabetes comes with it. One out of four South Bronx children has asthma. Our asthma hospitalization rate is seven times higher than the national average. These impacts are coming everyone's way. And we all pay dearly for solid waste costs, health problems associated with pollution and more odiously, the cost of imprisoning our young black and Latino men, who possess untold amounts of untapped potential. Fifty percent of our residents live at or below the poverty line; 25 percent of us are unemployed. Low-income citizens often use emergency-room visits as primary care. This comes at a high cost to taxpayers and produces no proportional benefits. Poor people are not only still poor, they are still unhealthy. Fortunately, there are many people like me who are striving for solutions that won't compromise the lives of low-income communities of color in the short term, and won't destroy us all in the long term. None of us want that, and we all have that in common. So what else do we have in common? Well, first of all, we're all incredibly good-looking. (Laughter) Graduated high school, college, post-graduate degrees, traveled to interesting places, didn't have kids in your early teens, financially stable, never been imprisoned. OK. Good. (Laughter) But, besides being a black woman, I am different from most of you in some other ways. I watched nearly half of the buildings in my neighborhood burn down. My big brother Lenny fought in Vietnam, only to be gunned down a few blocks from our home. Jesus. I grew up with a crack house across the street. Yeah, I'm a poor black child from the ghetto. These things make me different from you. But the things we have in common set me apart from most of the people in my community, and I am in between these two worlds with enough of my heart to fight for justice in the other. So how did things get so different for us? In the late '40s, my dad -- a Pullman porter, son of a slave -- bought a house in the Hunts Point section of the South Bronx, and a few years later, he married my mom. At the time, the community was a mostly white, working-class neighborhood. My dad was not alone. And as others like him pursued their own version of the American dream, white flight became common in the South Bronx and in many cities around the country. Red-lining was used by banks, wherein certain sections of the city, including ours, were deemed off-limits to any sort of investment. Many landlords believed it was more profitable to torch their buildings and collect insurance money rather than to sell under those conditions -- dead or injured former tenants notwithstanding. Hunts Point was formerly a walk-to-work community, but now residents had neither work nor home to walk to. A national highway construction boom was added to our problems. In New York State, Robert Moses spearheaded an aggressive highway-expansion campaign. One of its primary goals was to make it easier for residents of wealthy communities in Westchester County to go to Manhattan. The South Bronx, which lies in between, did not stand a chance. Residents were often given less than a month's notice before their buildings were razed. 600,000 people were displaced. The common perception was that only pimps and pushers and prostitutes were from the South Bronx. And if you are told from your earliest days that nothing good is going to come from your community, that it's bad and ugly, how could it not reflect on you? So now, my family's property was worthless, save for that it was our home, and all we had. And luckily for me, that home and the love inside of it, along with help from teachers, mentors and friends along the way, was enough. Now, why is this story important? Because from a planning perspective, economic degradation begets environmental degradation, which begets social degradation. The disinvestment that began in the 1960s set the stage for all the environmental injustices that were to come. Antiquated zoning and land-use regulations are still used to this day to continue putting polluting facilities in my neighborhood. Are these factors taken into consideration when land-use policy is decided? What costs are associated with these decisions? And who pays? Who profits? Does anything justify what the local community goes through? This was 'planning' -- in quotes -- that did not have our best interests in mind. Once we realized that, we decided it was time to do our own planning. That small park I told you about earlier was the first stage of building a Greenway movement in the South Bronx. I wrote a one-and-a-quarter-million dollar federal transportation grant to design the plan for a waterfront esplanade with dedicated on-street bike paths. Physical improvements help inform public policy regarding traffic safety, the placement of the waste and other facilities, which, if done properly, don't compromise a community's quality of life. They provide opportunities to be more physically active, as well as local economic development. Think bike shops, juice stands. We secured 20 million dollars to build first-phase projects. This is Lafayette Avenue -- and that's redesigned by Mathews Nielsen Landscape Architects. And once this path is constructed, it'll connect the South Bronx with more than 400 acres of Randall's Island Park. Right now we're separated by about 25 feet of water, but this link will change that. As we nurture the natural environment, its abundance will give us back even more. We run a project called the Bronx [Environmental] Stewardship Training, which provides job training in the fields of ecological restoration, so that folks from our community have the skills to compete for these well-paying jobs. Little by little, we're seeding the area with green-collar jobs -- and with people that have both a financial and personal stake in their environment. The Sheridan Expressway is an underutilized relic of the Robert Moses era, built with no regard for the neighborhoods that were divided by it. Even during rush hour, it goes virtually unused. The community created an alternative transportation plan that allows for the removal of the highway. We have the opportunity now to bring together all the stakeholders to re-envision how this 28 acres can be better utilized for parkland, affordable housing and local economic development. We also built New York City's first green and cool roof demonstration project on top of our offices. Cool roofs are highly-reflective surfaces that don't absorb solar heat, and pass it on to the building or atmosphere. Green roofs are soil and living plants. Both can be used instead of petroleum-based roofing materials that absorb heat, contribute to urban 'heat island' effect and degrade under the sun, which we in turn breathe. Green roofs also retain up to 75 percent of rainfall, so they reduce a city's need to fund costly end-of-pipe solutions -- which, incidentally, are often located in environmental justice communities like mine. And they provide habitats for our little friends! [Butterfly] (Laughter) So cool! Anyway, the demonstration project is a springboard for our own green roof installation business, bringing jobs and sustainable economic activity to the South Bronx. [Green is the new black ...] (Laughter) (Applause) I like that, too. Anyway, I know Chris told us not to do pitches up here, but since I have all of your attention: We need investors. End of pitch. It's better to ask for forgiveness than permission. Anyway -- (Laughter) (Applause) OK. Katrina. Prior to Katrina, the South Bronx and New Orleans' Ninth Ward had a lot in common. Both were largely populated by poor people of color, both hotbeds of cultural innovation: think hip-hop and jazz. Both are waterfront communities that host both industries and residents in close proximity of one another. In the post-Katrina era, we have still more in common. We're at best ignored, and maligned and abused, at worst, by negligent regulatory agencies, pernicious zoning and lax governmental accountability. Neither the destruction of the Ninth Ward nor the South Bronx was inevitable. But we have emerged with valuable lessons about how to dig ourselves out. We are more than simply national symbols of urban blight or problems to be solved by empty campaign promises of presidents come and gone. Now will we let the Gulf Coast languish for a decade or two, like the South Bronx did? Or will we take proactive steps and learn from the homegrown resource of grassroots activists that have been born of desperation in communities like mine? Now listen, I do not expect individuals, corporations or government to make the world a better place because it is right or moral. This presentation today only represents some of what I've been through. Like a tiny little bit. You've no clue. But I'll tell you later, if you want to know. (Laughter) But -- I know it's the bottom line, or one's perception of it, that motivates people in the end. I'm interested in what I like to call the 'triple bottom line' that sustainable development can produce. Developments that have the potential to create positive returns for all concerned: the developers, government and the community where these projects go up. At present, that's not happening in New York City. And we are operating with a comprehensive urban-planning deficit. A parade of government subsidies is going to propose big-box and stadium developments in the South Bronx, but there is scant coordination between city agencies on how to deal with the cumulative effects of increased traffic, pollution, solid waste and the impacts on open space. And their approaches to local economic and job development are so lame it's not even funny. Because on top of that, the world's richest sports team is replacing the House That Ruth Built by destroying two well-loved community parks. Now, we'll have even less than that stat I told you about earlier. And although less than 25 percent of South Bronx residents own cars, these projects include thousands of new parking spaces, yet zip in terms of mass public transit. Now, what's missing from the larger debate is a comprehensive cost-benefit analysis between not fixing an unhealthy, environmentally-challenged community, versus incorporating structural, sustainable changes. My agency is working closely with Columbia University and others to shine a light on these issues. Now let's get this straight: I am not anti-development. Ours is a city, not a wilderness preserve. And I've embraced my inner capitalist. And, but I don't have -- (Laughter) You probably all have, and if you haven't, you need to. (Laughter) So I don't have a problem with developers making money. There's enough precedent out there to show that a sustainable, community-friendly development can still make a fortune. Fellow TEDsters Bill McDonough and Amory Lovins -- both heroes of mine by the way -- have shown that you can actually do that. I do have a problem with developments that hyper-exploit politically vulnerable communities for profit. That it continues is a shame upon us all, because we are all responsible for the future that we create. But one of the things I do to remind myself of greater possibilities, is to learn from visionaries in other cities. This is my version of globalization. Let's take Bogota. Poor, Latino, surrounded by runaway gun violence and drug trafficking; a reputation not unlike that of the South Bronx. However, this city was blessed in the late 1990s with a highly-influential mayor named Enrique Peñalosa. He looked at the demographics. Few Bogotanos own cars, yet a huge portion of the city's resources was dedicated to serving them. If you're a mayor, you can do something about that. His administration narrowed key municipal thoroughfares from five lanes to three, outlawed parking on those streets, expanded pedestrian walkways and bike lanes, created public plazas, created one of the most efficient bus mass-transit systems in the entire world. For his brilliant efforts, he was nearly impeached. But as people began to see that they were being put first on issues reflecting their day-to-day lives, incredible things happened. People stopped littering. Crime rates dropped, because the streets were alive with people. His administration attacked several typical urban problems at one time, and on a third-world budget, at that. We have no excuse in this country, I'm sorry. But the bottom line is: their people-first agenda was not meant to penalize those who could actually afford cars, but rather, to provide opportunities for all Bogotanos to participate in the city's resurgence. That development should not come at the expense of the majority of the population is still considered a radical idea here in the U.S. But Bogota's example has the power to change that. You, however, are blessed with the gift of influence. That's why you're here and why you value the information we exchange. Use your influence in support of comprehensive, sustainable change everywhere. Don't just talk about it at TED. This is a nationwide policy agenda I'm trying to build, and as you all know, politics are personal. Help me make green the new black. Help me make sustainability sexy. Make it a part of your dinner and cocktail conversations. Help me fight for environmental and economic justice. Support investments with a triple-bottom-line return. Help me democratize sustainability by bringing everyone to the table, and insisting that comprehensive planning can be addressed everywhere. Oh good, glad I have a little more time! Listen -- when I spoke to Mr. Gore the other day after breakfast, I asked him how environmental justice activists were going to be included in his new marketing strategy. His response was a grant program. I don't think he understood that I wasn't asking for funding. I was making him an offer. (Applause) What troubled me was that this top-down approach is still around. Now, don't get me wrong, we need money. (Laughter) But grassroots groups are needed at the table during the decision-making process. Of the 90 percent of the energy that Mr. Gore reminded us that we waste every day, don't add wasting our energy, intelligence and hard-earned experience to that count. (Applause) I have come from so far to meet you like this. Please don't waste me. By working together, we can become one of those small, rapidly-growing groups of individuals who actually have the audacity and courage to believe that we actually can change the world. We might have come to this conference from very, very different stations in life, but believe me, we all share one incredibly powerful thing. We have nothing to lose and everything to gain. Ciao, bellos! (Applause)\n",
       "Name: transcript, Length: 634, dtype: object"
      ]
     },
     "execution_count": 25,
     "metadata": {},
     "output_type": "execute_result"
    }
   ],
   "source": [
    "tedtalks['transcript'][tedtalks['transcript'].str.contains('less than')]"
   ]
  },
  {
   "cell_type": "code",
   "execution_count": 26,
   "id": "74ff82c8",
   "metadata": {},
   "outputs": [
    {
     "name": "stdout",
     "output_type": "stream",
     "text": [
      "<class 'pandas.core.frame.DataFrame'>\n",
      "Index: 5291 entries, 0 to 6000\n",
      "Data columns (total 6 columns):\n",
      " #   Column       Non-Null Count  Dtype \n",
      "---  ------       --------------  ----- \n",
      " 0   author       5291 non-null   object\n",
      " 1   talk         5291 non-null   object\n",
      " 2   description  5291 non-null   object\n",
      " 3   likes        5291 non-null   int64 \n",
      " 4   views        5291 non-null   int64 \n",
      " 5   transcript   5291 non-null   object\n",
      "dtypes: int64(2), object(4)\n",
      "memory usage: 289.4+ KB\n"
     ]
    }
   ],
   "source": [
    "tedtalks['likes'] = tedtalks['likes'].astype('int')\n",
    "tedtalks['views'] = tedtalks['views'].astype('int')\n",
    "tedtalks.info()"
   ]
  },
  {
   "cell_type": "markdown",
   "id": "ed88979a",
   "metadata": {},
   "source": [
    "### Save updated CSV "
   ]
  },
  {
   "cell_type": "code",
   "execution_count": 25,
   "id": "6f0a2de2",
   "metadata": {},
   "outputs": [],
   "source": [
    "tedtalks.to_csv('../Data_output/ted_talk_clean.csv')"
   ]
  },
  {
   "attachments": {},
   "cell_type": "markdown",
   "id": "6993d3f9",
   "metadata": {},
   "source": [
    "#### **2.3 Calculate word frequency, word distribution, sentence length in the transcripts.** \n",
    "---\n",
    "- PATRICK\n",
    "- Identify the most common words or phrases and conduct latent topic analysis used in TED Talks. (Use counter function - word level analysis, consider bigram/trigram) - PATRICK"
   ]
  },
  {
   "cell_type": "code",
   "execution_count": 2,
   "id": "f333833b",
   "metadata": {},
   "outputs": [
    {
     "data": {
      "text/html": [
       "<div>\n",
       "<style scoped>\n",
       "    .dataframe tbody tr th:only-of-type {\n",
       "        vertical-align: middle;\n",
       "    }\n",
       "\n",
       "    .dataframe tbody tr th {\n",
       "        vertical-align: top;\n",
       "    }\n",
       "\n",
       "    .dataframe thead th {\n",
       "        text-align: right;\n",
       "    }\n",
       "</style>\n",
       "<table border=\"1\" class=\"dataframe\">\n",
       "  <thead>\n",
       "    <tr style=\"text-align: right;\">\n",
       "      <th></th>\n",
       "      <th>author</th>\n",
       "      <th>talk</th>\n",
       "      <th>description</th>\n",
       "      <th>likes</th>\n",
       "      <th>views</th>\n",
       "      <th>transcript</th>\n",
       "    </tr>\n",
       "  </thead>\n",
       "  <tbody>\n",
       "    <tr>\n",
       "      <th>0</th>\n",
       "      <td>Machine Dazzle</td>\n",
       "      <td>how to unleash your inner maximalist through c...</td>\n",
       "      <td>tapping into the transformational power of cos...</td>\n",
       "      <td>8100</td>\n",
       "      <td>270192</td>\n",
       "      <td>Hello, I am Machine Dazzle, and I am an emotio...</td>\n",
       "    </tr>\n",
       "    <tr>\n",
       "      <th>2</th>\n",
       "      <td>Jioji Ravulo</td>\n",
       "      <td>a liberating vision of identity that transcend...</td>\n",
       "      <td>how can we move past societys inclination to b...</td>\n",
       "      <td>9200</td>\n",
       "      <td>309952</td>\n",
       "      <td>Can you paint with all the colors of the wind?...</td>\n",
       "    </tr>\n",
       "    <tr>\n",
       "      <th>3</th>\n",
       "      <td>Rebecca Darwent</td>\n",
       "      <td>how to fund real change in your community</td>\n",
       "      <td>is there a way to give back that benefits ever...</td>\n",
       "      <td>1000</td>\n",
       "      <td>341218</td>\n",
       "      <td>I spent my whole career in the nonprofit secto...</td>\n",
       "    </tr>\n",
       "    <tr>\n",
       "      <th>4</th>\n",
       "      <td>Susanne Buckley-Zistel</td>\n",
       "      <td>what caused the rwandan genocide</td>\n",
       "      <td>for one hundred days in 1994 the african count...</td>\n",
       "      <td>3700</td>\n",
       "      <td>126376</td>\n",
       "      <td>For 100 days in 1994, the African country of R...</td>\n",
       "    </tr>\n",
       "    <tr>\n",
       "      <th>5</th>\n",
       "      <td>Conor Russomanno</td>\n",
       "      <td>a powerful new neurotech tool for augmenting y...</td>\n",
       "      <td>in an astonishing talk and tech demo neurotech...</td>\n",
       "      <td>1100</td>\n",
       "      <td>374259</td>\n",
       "      <td>I became obsessed with the relationship betwee...</td>\n",
       "    </tr>\n",
       "  </tbody>\n",
       "</table>\n",
       "</div>"
      ],
      "text/plain": [
       "                   author                                               talk  \\\n",
       "0          Machine Dazzle  how to unleash your inner maximalist through c...   \n",
       "2            Jioji Ravulo  a liberating vision of identity that transcend...   \n",
       "3         Rebecca Darwent          how to fund real change in your community   \n",
       "4  Susanne Buckley-Zistel                   what caused the rwandan genocide   \n",
       "5        Conor Russomanno  a powerful new neurotech tool for augmenting y...   \n",
       "\n",
       "                                         description  likes   views  \\\n",
       "0  tapping into the transformational power of cos...   8100  270192   \n",
       "2  how can we move past societys inclination to b...   9200  309952   \n",
       "3  is there a way to give back that benefits ever...   1000  341218   \n",
       "4  for one hundred days in 1994 the african count...   3700  126376   \n",
       "5  in an astonishing talk and tech demo neurotech...   1100  374259   \n",
       "\n",
       "                                          transcript  \n",
       "0  Hello, I am Machine Dazzle, and I am an emotio...  \n",
       "2  Can you paint with all the colors of the wind?...  \n",
       "3  I spent my whole career in the nonprofit secto...  \n",
       "4  For 100 days in 1994, the African country of R...  \n",
       "5  I became obsessed with the relationship betwee...  "
      ]
     },
     "execution_count": 2,
     "metadata": {},
     "output_type": "execute_result"
    }
   ],
   "source": [
    "data = '../Data_output/ted_talk_clean.csv'\n",
    "df = pd.read_csv(data, index_col=0)\n",
    "df.head()"
   ]
  },
  {
   "cell_type": "code",
   "execution_count": 3,
   "id": "15af8cb4",
   "metadata": {},
   "outputs": [
    {
     "data": {
      "text/html": [
       "\n",
       "            <div id=\"YluOF3\"></div>\n",
       "            <script type=\"text/javascript\" data-lets-plot-script=\"library\">\n",
       "                if(!window.letsPlotCallQueue) {\n",
       "                    window.letsPlotCallQueue = [];\n",
       "                }; \n",
       "                window.letsPlotCall = function(f) {\n",
       "                    window.letsPlotCallQueue.push(f);\n",
       "                };\n",
       "                (function() {\n",
       "                    var script = document.createElement(\"script\");\n",
       "                    script.type = \"text/javascript\";\n",
       "                    script.src = \"https://cdn.jsdelivr.net/gh/JetBrains/lets-plot@v3.2.0/js-package/distr/lets-plot.min.js\";\n",
       "                    script.onload = function() {\n",
       "                        window.letsPlotCall = function(f) {f();};\n",
       "                        window.letsPlotCallQueue.forEach(function(f) {f();});\n",
       "                        window.letsPlotCallQueue = [];\n",
       "                        \n",
       "                    };\n",
       "                    script.onerror = function(event) {\n",
       "                        window.letsPlotCall = function(f) {};    // noop\n",
       "                        window.letsPlotCallQueue = [];\n",
       "                        var div = document.createElement(\"div\");\n",
       "                        div.style.color = 'darkred';\n",
       "                        div.textContent = 'Error loading Lets-Plot JS';\n",
       "                        document.getElementById(\"YluOF3\").appendChild(div);\n",
       "                    };\n",
       "                    var e = document.getElementById(\"YluOF3\");\n",
       "                    e.appendChild(script);\n",
       "                })()\n",
       "            </script>\n",
       "            "
      ]
     },
     "metadata": {},
     "output_type": "display_data"
    }
   ],
   "source": [
    "from lets_plot import *\n",
    "LetsPlot.setup_html()"
   ]
  },
  {
   "cell_type": "code",
   "execution_count": 4,
   "id": "c434709e",
   "metadata": {},
   "outputs": [],
   "source": [
    "# get sentence length for each transcript \n",
    "df['sentence_length'] = df['transcript'].apply(lambda x: len(x.split('.')))\n",
    "\n",
    "# get number of words for each transcript \n",
    "df['word_count'] = df['transcript'].apply(lambda x: len(x.split()))\n",
    "\n",
    "# get average word length for each transcript \n",
    "df['avg_word_length'] = df['transcript'].apply(lambda x: np.mean([len(w) for w in x.split()]))\n"
   ]
  },
  {
   "cell_type": "code",
   "execution_count": 5,
   "id": "f016d8f5",
   "metadata": {},
   "outputs": [
    {
     "data": {
      "text/html": [
       "<div>\n",
       "<style scoped>\n",
       "    .dataframe tbody tr th:only-of-type {\n",
       "        vertical-align: middle;\n",
       "    }\n",
       "\n",
       "    .dataframe tbody tr th {\n",
       "        vertical-align: top;\n",
       "    }\n",
       "\n",
       "    .dataframe thead th {\n",
       "        text-align: right;\n",
       "    }\n",
       "</style>\n",
       "<table border=\"1\" class=\"dataframe\">\n",
       "  <thead>\n",
       "    <tr style=\"text-align: right;\">\n",
       "      <th></th>\n",
       "      <th>author</th>\n",
       "      <th>talk</th>\n",
       "      <th>description</th>\n",
       "      <th>likes</th>\n",
       "      <th>views</th>\n",
       "      <th>transcript</th>\n",
       "      <th>sentence_length</th>\n",
       "      <th>word_count</th>\n",
       "      <th>avg_word_length</th>\n",
       "    </tr>\n",
       "  </thead>\n",
       "  <tbody>\n",
       "    <tr>\n",
       "      <th>0</th>\n",
       "      <td>Machine Dazzle</td>\n",
       "      <td>how to unleash your inner maximalist through c...</td>\n",
       "      <td>tapping into the transformational power of cos...</td>\n",
       "      <td>8100</td>\n",
       "      <td>270192</td>\n",
       "      <td>Hello, I am Machine Dazzle, and I am an emotio...</td>\n",
       "      <td>149</td>\n",
       "      <td>1901</td>\n",
       "      <td>4.551289</td>\n",
       "    </tr>\n",
       "    <tr>\n",
       "      <th>2</th>\n",
       "      <td>Jioji Ravulo</td>\n",
       "      <td>a liberating vision of identity that transcend...</td>\n",
       "      <td>how can we move past societys inclination to b...</td>\n",
       "      <td>9200</td>\n",
       "      <td>309952</td>\n",
       "      <td>Can you paint with all the colors of the wind?...</td>\n",
       "      <td>120</td>\n",
       "      <td>1779</td>\n",
       "      <td>4.858909</td>\n",
       "    </tr>\n",
       "    <tr>\n",
       "      <th>3</th>\n",
       "      <td>Rebecca Darwent</td>\n",
       "      <td>how to fund real change in your community</td>\n",
       "      <td>is there a way to give back that benefits ever...</td>\n",
       "      <td>1000</td>\n",
       "      <td>341218</td>\n",
       "      <td>I spent my whole career in the nonprofit secto...</td>\n",
       "      <td>132</td>\n",
       "      <td>1661</td>\n",
       "      <td>4.853101</td>\n",
       "    </tr>\n",
       "    <tr>\n",
       "      <th>4</th>\n",
       "      <td>Susanne Buckley-Zistel</td>\n",
       "      <td>what caused the rwandan genocide</td>\n",
       "      <td>for one hundred days in 1994 the african count...</td>\n",
       "      <td>3700</td>\n",
       "      <td>126376</td>\n",
       "      <td>For 100 days in 1994, the African country of R...</td>\n",
       "      <td>48</td>\n",
       "      <td>838</td>\n",
       "      <td>5.491647</td>\n",
       "    </tr>\n",
       "    <tr>\n",
       "      <th>5</th>\n",
       "      <td>Conor Russomanno</td>\n",
       "      <td>a powerful new neurotech tool for augmenting y...</td>\n",
       "      <td>in an astonishing talk and tech demo neurotech...</td>\n",
       "      <td>1100</td>\n",
       "      <td>374259</td>\n",
       "      <td>I became obsessed with the relationship betwee...</td>\n",
       "      <td>120</td>\n",
       "      <td>1784</td>\n",
       "      <td>4.907511</td>\n",
       "    </tr>\n",
       "  </tbody>\n",
       "</table>\n",
       "</div>"
      ],
      "text/plain": [
       "                   author                                               talk  \\\n",
       "0          Machine Dazzle  how to unleash your inner maximalist through c...   \n",
       "2            Jioji Ravulo  a liberating vision of identity that transcend...   \n",
       "3         Rebecca Darwent          how to fund real change in your community   \n",
       "4  Susanne Buckley-Zistel                   what caused the rwandan genocide   \n",
       "5        Conor Russomanno  a powerful new neurotech tool for augmenting y...   \n",
       "\n",
       "                                         description  likes   views  \\\n",
       "0  tapping into the transformational power of cos...   8100  270192   \n",
       "2  how can we move past societys inclination to b...   9200  309952   \n",
       "3  is there a way to give back that benefits ever...   1000  341218   \n",
       "4  for one hundred days in 1994 the african count...   3700  126376   \n",
       "5  in an astonishing talk and tech demo neurotech...   1100  374259   \n",
       "\n",
       "                                          transcript  sentence_length  \\\n",
       "0  Hello, I am Machine Dazzle, and I am an emotio...              149   \n",
       "2  Can you paint with all the colors of the wind?...              120   \n",
       "3  I spent my whole career in the nonprofit secto...              132   \n",
       "4  For 100 days in 1994, the African country of R...               48   \n",
       "5  I became obsessed with the relationship betwee...              120   \n",
       "\n",
       "   word_count  avg_word_length  \n",
       "0        1901         4.551289  \n",
       "2        1779         4.858909  \n",
       "3        1661         4.853101  \n",
       "4         838         5.491647  \n",
       "5        1784         4.907511  "
      ]
     },
     "execution_count": 5,
     "metadata": {},
     "output_type": "execute_result"
    }
   ],
   "source": [
    "df.head()"
   ]
  },
  {
   "cell_type": "code",
   "execution_count": 214,
   "id": "07c0f14a",
   "metadata": {},
   "outputs": [],
   "source": [
    "def strip_bg(fill):\n",
    "    empty_bg = theme(strip_background = element_rect(fill))\n",
    "    return empty_bg\n"
   ]
  },
  {
   "cell_type": "code",
   "execution_count": 255,
   "id": "8a6926cb",
   "metadata": {},
   "outputs": [
    {
     "data": {
      "text/plain": [
       "'/Users/patrickokwir/Desktop/Git_Projects/Ted-Talks-Recommender-System/Images/sentence_length.png'"
      ]
     },
     "execution_count": 255,
     "metadata": {},
     "output_type": "execute_result"
    }
   ],
   "source": [
    "# plot histogram of sentence length using ggplot\n",
    "\n",
    "p = ggplot(df, aes(x='sentence_length')) + \\\n",
    "    geom_histogram(bins=50, color= 'white', fill = 'black') + \\\n",
    "    labs(x='Sentence Length', y=' ') + \\\n",
    "    theme_classic() + flavor_high_contrast_dark() +\\\n",
    "    theme(axis_text_x = element_text(angle = 0, hjust = 1, color='orange'), axis_line_y= element_line(color= 'black'))+ \\\n",
    "    ggtitle('') + font_family_info('Avenir', mono=False)\n",
    "p \n",
    "#save file as png path = './Images/sentence_length.png'\n",
    "ggsave(plot=p, filename='sentence_length.png', path = '../Images')"
   ]
  },
  {
   "cell_type": "code",
   "execution_count": 256,
   "id": "76dd9a04",
   "metadata": {},
   "outputs": [
    {
     "data": {
      "text/plain": [
       "'/Users/patrickokwir/Desktop/Git_Projects/Ted-Talks-Recommender-System/images/word_count_histogram.png'"
      ]
     },
     "execution_count": 256,
     "metadata": {},
     "output_type": "execute_result"
    }
   ],
   "source": [
    "# Histogram of word count\n",
    "p = ggplot(df, aes(x='word_count')) + \\\n",
    "    geom_histogram(bins=30, color= 'white', fill = 'black') + \\\n",
    "    labs(x='Word Count', y=' ') + \\\n",
    "    theme_classic() + \\\n",
    "    theme(axis_text_x = element_text(angle = 0, hjust = 1, color='orange'), axis_line_y= element_line(color= 'black'))+ \\\n",
    "    flavor_high_contrast_dark() + \\\n",
    "    ggtitle('') + font_family_info('Avenir', mono=False)\n",
    "p\n",
    "ggsave(plot = p , filename = 'word_count_histogram.png', path = '../images/')"
   ]
  },
  {
   "cell_type": "code",
   "execution_count": 257,
   "id": "13ea6523",
   "metadata": {},
   "outputs": [
    {
     "data": {
      "text/plain": [
       "'/Users/patrickokwir/Desktop/Git_Projects/Ted-Talks-Recommender-System/Images/word_length_histogram.png'"
      ]
     },
     "execution_count": 257,
     "metadata": {},
     "output_type": "execute_result"
    }
   ],
   "source": [
    "#Histogram of average word length\n",
    "p = ggplot(df, aes(x='avg_word_length')) + \\\n",
    "    geom_histogram(bins=50, color= 'white', fill = 'black') + \\\n",
    "    labs(x='Average Word Length', y=' ') + \\\n",
    "    theme_classic() + \\\n",
    "    theme(axis_text_x = element_text(angle = 0, hjust = 1, color='orange'), axis_line_y= element_line(color= 'black'))+ \\\n",
    "    flavor_high_contrast_dark() + \\\n",
    "    ggtitle(' ') + font_family_info('Avenir', mono=False)\n",
    "ggsave(plot = p, filename = 'word_length_histogram.png', path='../Images/')"
   ]
  },
  {
   "cell_type": "code",
   "execution_count": 8,
   "id": "82fc423b",
   "metadata": {},
   "outputs": [],
   "source": [
    "data = df['transcript']"
   ]
  },
  {
   "cell_type": "code",
   "execution_count": 37,
   "id": "a3961a18",
   "metadata": {},
   "outputs": [],
   "source": [
    "data.reset_index(drop=True, inplace=True)"
   ]
  },
  {
   "cell_type": "code",
   "execution_count": 48,
   "id": "f8c4318a",
   "metadata": {},
   "outputs": [
    {
     "data": {
      "text/plain": [
       "0    Hello, I am Machine Dazzle, and I am an emotio...\n",
       "1    Can you paint with all the colors of the wind?...\n",
       "2    I spent my whole career in the nonprofit secto...\n",
       "3    For 100 days in 1994, the African country of R...\n",
       "4    I became obsessed with the relationship betwee...\n",
       "Name: transcript, dtype: object"
      ]
     },
     "execution_count": 48,
     "metadata": {},
     "output_type": "execute_result"
    }
   ],
   "source": [
    "data.head()"
   ]
  },
  {
   "cell_type": "code",
   "execution_count": 50,
   "id": "c01e46fc",
   "metadata": {},
   "outputs": [],
   "source": [
    "corpus = []\n",
    "import nltk\n",
    "from nltk.corpus import stopwords\n",
    "stop = set(stopwords.words('english'))\n",
    "\n",
    "corpus=[]\n",
    "new= data.str.split()\n",
    "new=new.values.tolist()\n",
    "corpus=[word for i in new for word in i]\n",
    "\n",
    "from collections import defaultdict\n",
    "dic=defaultdict(int)\n",
    "for word in corpus:\n",
    "    if word in stop:\n",
    "        dic[word]+=1\n",
    "\n",
    " "
   ]
  },
  {
   "cell_type": "code",
   "execution_count": 58,
   "metadata": {},
   "outputs": [],
   "source": [
    "stop_df = pd.DataFrame.from_dict(dic, orient='index')\n",
    "stop_df = stop_df.reset_index()\n",
    "stop_df = stop_df.rename(columns={'index':'word', 0:'count'})\n",
    "\n",
    "\n",
    "stop_df = stop_df.sort_values(by='count', ascending=False)\n",
    "# select top 10% of stopwords\n",
    "stop_df = stop_df.iloc[:round(len(stop_df)*0.1), :]"
   ]
  },
  {
   "cell_type": "code",
   "execution_count": 258,
   "metadata": {},
   "outputs": [
    {
     "data": {
      "text/plain": [
       "'/Users/patrickokwir/Desktop/Git_Projects/Ted-Talks-Recommender-System/Images/count of stopwords.png'"
      ]
     },
     "execution_count": 258,
     "metadata": {},
     "output_type": "execute_result"
    }
   ],
   "source": [
    "# plot stopwords\n",
    "\n",
    "p = ggplot(stop_df, aes(x='word', y='count')) + \\\n",
    "    geom_bar(stat='identity', color= 'white', fill = 'black') + \\\n",
    "    theme_classic() + \\\n",
    "    theme(axis_text_x = element_text(angle = 0, hjust = 1, color='orange'), axis_line_y= element_line(color= 'black'), axis_line_x= element_blank())+ \\\n",
    "    flavor_high_contrast_dark() + scale_y_continuous(name='', breaks=[50000, 250000, 400000])+ ggsize(800, 500) +\\\n",
    "    ggtitle('')\n",
    "ggsave(plot = p, filename='count of stopwords.png', path='../Images/')"
   ]
  },
  {
   "cell_type": "code",
   "execution_count": 88,
   "id": "7e98771c",
   "metadata": {},
   "outputs": [],
   "source": [
    "import collections \n",
    "Counter = collections.Counter"
   ]
  },
  {
   "cell_type": "code",
   "execution_count": 111,
   "id": "885cb61f",
   "metadata": {},
   "outputs": [],
   "source": [
    "counter=Counter(corpus)\n",
    "most=counter.most_common()\n",
    "\n",
    "x, y= [], []\n",
    "for word,count in most[:70]:\n",
    "    if (word not in stop):\n",
    "        x.append(word)\n",
    "        y.append(count)"
   ]
  },
  {
   "cell_type": "code",
   "execution_count": 112,
   "id": "7cbddea5",
   "metadata": {},
   "outputs": [],
   "source": [
    "# x, y to a dataframe\n",
    "df_w_c = pd.DataFrame({'word':x, 'count':y})"
   ]
  },
  {
   "cell_type": "code",
   "execution_count": 113,
   "id": "f5885181",
   "metadata": {},
   "outputs": [
    {
     "data": {
      "text/plain": [
       "15"
      ]
     },
     "execution_count": 113,
     "metadata": {},
     "output_type": "execute_result"
    }
   ],
   "source": [
    "len(df_w_c)"
   ]
  },
  {
   "cell_type": "code",
   "execution_count": 259,
   "id": "9dc72c51",
   "metadata": {},
   "outputs": [
    {
     "data": {
      "text/plain": [
       "'/Users/patrickokwir/Desktop/Git_Projects/Ted-Talks-Recommender-System/Images/most common words.png'"
      ]
     },
     "execution_count": 259,
     "metadata": {},
     "output_type": "execute_result"
    }
   ],
   "source": [
    "# plot of x  and y using ggplot\n",
    "p = ggplot(df_w_c, aes(x='word', y='count')) + \\\n",
    "    geom_bar(stat='identity', color= 'white', fill = 'black') + \\\n",
    "    theme_classic() + \\\n",
    "    theme(axis_text_x = element_text(angle = 0, hjust = 1, color='orange'), axis_line_y= element_line(color= 'black'), axis_line_x= element_blank())+ \\\n",
    "    flavor_high_contrast_dark() + scale_y_continuous(name='', breaks=[0, 75000, 129000])+ ggsize(800, 500) +\\\n",
    "    ggtitle(' ')\n",
    "ggsave(plot = p, filename = 'most common words.png', path='../Images/')"
   ]
  },
  {
   "attachments": {},
   "cell_type": "markdown",
   "id": "570a6f41",
   "metadata": {},
   "source": [
    "### **Ngram exploration**"
   ]
  },
  {
   "attachments": {},
   "cell_type": "markdown",
   "id": "8d4c1fd3",
   "metadata": {},
   "source": []
  },
  {
   "cell_type": "code",
   "execution_count": 121,
   "id": "224fbfce",
   "metadata": {},
   "outputs": [],
   "source": [
    "from nltk.util import ngrams\n",
    "\n",
    "# import count vectorizer\n"
   ]
  },
  {
   "cell_type": "code",
   "execution_count": 131,
   "metadata": {},
   "outputs": [],
   "source": [
    "from sklearn.feature_extraction.text import CountVectorizer\n",
    "def get_top_ngram(corpus, n=None):\n",
    "    vec = CountVectorizer(ngram_range=(n, n)).fit(corpus)\n",
    "    bag_of_words = vec.transform(corpus)\n",
    "    sum_words = bag_of_words.sum(axis=0)\n",
    "    words_freq = [(word, sum_words[0, idx])\n",
    "                  for word, idx in vec.vocabulary_.items()]\n",
    "    words_freq =sorted(words_freq, key = lambda x: x[1], reverse=True)\n",
    "    return words_freq[:15]"
   ]
  },
  {
   "cell_type": "code",
   "execution_count": 133,
   "id": "40eba1e1",
   "metadata": {},
   "outputs": [],
   "source": [
    "top_bigrams = get_top_ngram(corpus, 2)[:15]\n",
    "top_trigrams = get_top_ngram(corpus, 3)[:15]"
   ]
  },
  {
   "cell_type": "code",
   "execution_count": 134,
   "id": "285653ff",
   "metadata": {},
   "outputs": [],
   "source": [
    "top_bigrams = pd.DataFrame(top_bigrams, columns=['bigram', 'count'])\n",
    "top_bigrams = top_bigrams.sort_values(by='count', ascending=False)  # sort by count\n",
    "\n",
    "\n",
    "top_trigrams = pd.DataFrame(top_trigrams, columns=['trigram', 'count'])\n",
    "top_trigrams = top_trigrams.sort_values(by='count', ascending=False)  # sort by count"
   ]
  },
  {
   "cell_type": "code",
   "execution_count": 260,
   "id": "ce17bbf3",
   "metadata": {},
   "outputs": [
    {
     "data": {
      "text/plain": [
       "'/Users/patrickokwir/Desktop/Git_Projects/Ted-Talks-Recommender-System/Images/top bigrams.png'"
      ]
     },
     "execution_count": 260,
     "metadata": {},
     "output_type": "execute_result"
    }
   ],
   "source": [
    "# Bigram plot\n",
    "# select top 10 bigrams\n",
    "top_bigrams = top_bigrams.head(10)\n",
    "p = ggplot(top_bigrams, aes(x='bigram', y='count')) +\\\n",
    "    geom_lollipop(stat='identity',fatten=5, linewidth=0.5, stroke = 4, color = 'red') +\\\n",
    "    theme_classic() +\\\n",
    "    theme(axis_text_x = element_text(angle = 0, hjust = 1, color='orange'), axis_line_y= element_line(color= 'black'), axis_line_x= element_blank())+ \\\n",
    "    flavor_high_contrast_dark() + scale_y_continuous(name='', breaks=[0, 6000, 13000])+ ggsize(800, 500)+\\\n",
    "    ggtitle('')\n",
    "ggsave(plot = p, filename='top bigrams.png', path='../Images/')"
   ]
  },
  {
   "cell_type": "code",
   "execution_count": 261,
   "metadata": {},
   "outputs": [
    {
     "data": {
      "text/plain": [
       "'/Users/patrickokwir/Desktop/Git_Projects/Ted-Talks-Recommender-System/Images/trigram_word_count_distribution.png'"
      ]
     },
     "execution_count": 261,
     "metadata": {},
     "output_type": "execute_result"
    }
   ],
   "source": [
    "# trigram word distribution\n",
    "top_trigrams = top_trigrams.head(10)\n",
    "\n",
    "p = ggplot(top_trigrams, aes(x='trigram', y='count')) +\\\n",
    "    geom_lollipop(stat='identity',fatten=5, linewidth=0.5, stroke = 4, color = 'red') +\\\n",
    "    theme_classic() +\\\n",
    "    theme(axis_text_x = element_text(angle = 45, hjust = 1, color='orange'), axis_line_y= element_line(color= 'black'), axis_line_x= element_blank())+ \\\n",
    "    flavor_high_contrast_dark() + scale_y_continuous(name='', breaks=[0, 60, 112])+ ggsize(800, 500)+\\\n",
    "    ggtitle('Trigram word count distribution')\n",
    "ggsave(plot = p, filename = 'trigram_word_count_distribution.png', path='../Images/')\n"
   ]
  },
  {
   "cell_type": "code",
   "execution_count": 205,
   "id": "e3344358",
   "metadata": {},
   "outputs": [
    {
     "name": "stderr",
     "output_type": "stream",
     "text": [
      "[nltk_data] Downloading package punkt to\n",
      "[nltk_data]     /Users/patrickokwir/nltk_data...\n",
      "[nltk_data]   Package punkt is already up-to-date!\n",
      "[nltk_data] Downloading package wordnet to\n",
      "[nltk_data]     /Users/patrickokwir/nltk_data...\n",
      "[nltk_data]   Package wordnet is already up-to-date!\n",
      "[nltk_data] Downloading package averaged_perceptron_tagger to\n",
      "[nltk_data]     /Users/patrickokwir/nltk_data...\n",
      "[nltk_data]   Package averaged_perceptron_tagger is already up-to-\n",
      "[nltk_data]       date!\n",
      "[nltk_data] Downloading package stopwords to\n",
      "[nltk_data]     /Users/patrickokwir/nltk_data...\n",
      "[nltk_data]   Package stopwords is already up-to-date!\n"
     ]
    }
   ],
   "source": [
    "# latent topic analysis\n",
    "\n",
    "import nltk\n",
    "from nltk.corpus import stopwords\n",
    "# import PorterStemmer\n",
    "from nltk.stem import PorterStemmer\n",
    "from nltk.stem.wordnet import WordNetLemmatizer\n",
    "from nltk.tokenize import word_tokenize\n",
    "\n",
    "nltk.download('punkt')\n",
    "nltk.download('wordnet')\n",
    "nltk.download('averaged_perceptron_tagger')\n",
    "nltk.download('stopwords')\n",
    "\n",
    "def preprocess_data(df):\n",
    "    corpus=[]\n",
    "    stem=PorterStemmer()\n",
    "    lem=WordNetLemmatizer()\n",
    "    for transcript in df['transcript']:\n",
    "        words=[w for w in word_tokenize(transcript) if (w not in stop)]\n",
    "\n",
    "        words=[lem.lemmatize(w) for w in words if len(w)>2]\n",
    "\n",
    "        corpus.append(words)\n",
    "    return corpus"
   ]
  },
  {
   "cell_type": "code",
   "execution_count": 206,
   "id": "aff4dc1a",
   "metadata": {},
   "outputs": [],
   "source": [
    "corpus = preprocess_data(df)"
   ]
  },
  {
   "cell_type": "code",
   "execution_count": 208,
   "id": "373ed31b",
   "metadata": {},
   "outputs": [],
   "source": [
    "# bag of words\n",
    "from gensim import corpora, models\n",
    "import gensim\n",
    "\n",
    "dic=gensim.corpora.Dictionary(corpus)\n",
    "bow_corpus = [dic.doc2bow(doc) for doc in corpus]"
   ]
  },
  {
   "cell_type": "code",
   "execution_count": 210,
   "id": "cca5f85e",
   "metadata": {},
   "outputs": [
    {
     "data": {
      "text/plain": [
       "[(0,\n",
       "  '0.014*\"And\" + 0.009*\"n\\'t\" + 0.007*\"one\" + 0.007*\"like\" + 0.007*\"But\" + 0.006*\"\\'re\" + 0.006*\"The\" + 0.005*\"people\" + 0.005*\"would\" + 0.005*\"time\"'),\n",
       " (1,\n",
       "  '0.014*\"And\" + 0.006*\"The\" + 0.005*\"one\" + 0.005*\"n\\'t\" + 0.005*\"right\" + 0.004*\"But\" + 0.004*\"like\" + 0.004*\"\\'re\" + 0.004*\"year\" + 0.004*\"would\"'),\n",
       " (2,\n",
       "  '0.019*\"And\" + 0.010*\"n\\'t\" + 0.009*\"\\'re\" + 0.008*\"one\" + 0.007*\"like\" + 0.007*\"going\" + 0.006*\"people\" + 0.006*\"get\" + 0.006*\"think\" + 0.006*\"thing\"'),\n",
       " (3,\n",
       "  '0.008*\"And\" + 0.008*\"The\" + 0.007*\"people\" + 0.006*\"But\" + 0.006*\"country\" + 0.006*\"world\" + 0.006*\"one\" + 0.005*\"year\" + 0.004*\"n\\'t\" + 0.004*\"like\"'),\n",
       " (4,\n",
       "  '0.021*\"And\" + 0.014*\"n\\'t\" + 0.011*\"people\" + 0.008*\"like\" + 0.008*\"one\" + 0.007*\"know\" + 0.007*\"\\'re\" + 0.006*\"But\" + 0.006*\"thing\" + 0.005*\"would\"'),\n",
       " (5,\n",
       "  '0.019*\"And\" + 0.014*\"n\\'t\" + 0.010*\"people\" + 0.010*\"\\'re\" + 0.008*\"like\" + 0.007*\"thing\" + 0.007*\"know\" + 0.007*\"think\" + 0.007*\"But\" + 0.006*\"one\"'),\n",
       " (6,\n",
       "  '0.011*\"And\" + 0.008*\"people\" + 0.006*\"n\\'t\" + 0.006*\"like\" + 0.006*\"brain\" + 0.006*\"one\" + 0.006*\"The\" + 0.005*\"\\'re\" + 0.005*\"But\" + 0.004*\"time\"'),\n",
       " (7,\n",
       "  '0.019*\"And\" + 0.008*\"\\'re\" + 0.008*\"n\\'t\" + 0.008*\"like\" + 0.007*\"one\" + 0.006*\"thing\" + 0.006*\"But\" + 0.005*\"The\" + 0.005*\"going\" + 0.005*\"year\"')]"
      ]
     },
     "execution_count": 210,
     "metadata": {},
     "output_type": "execute_result"
    }
   ],
   "source": [
    "lda_model = gensim.models.LdaMulticore(bow_corpus,\n",
    "                                   num_topics = 8,\n",
    "                                   id2word = dic,\n",
    "                                   passes = 10,\n",
    "                                   workers = 7)\n",
    "lda_model.show_topics()"
   ]
  },
  {
   "cell_type": "markdown",
   "id": "e92b8d73",
   "metadata": {},
   "source": [
    "### **Explore the relationship between topics, authors, and viewer engagement** \n",
    "---\n",
    "- Brittany\n",
    "- i.e. do certain topics have more views on average, most liked videos, distribution of likes, views, number of talks per author/topic"
   ]
  },
  {
   "cell_type": "markdown",
   "id": "b4612b10",
   "metadata": {},
   "source": [
    "### Import data from SQL and CSV"
   ]
  },
  {
   "cell_type": "code",
   "execution_count": 5,
   "id": "dfc7c76f",
   "metadata": {},
   "outputs": [],
   "source": [
    "import pandas as pd\n",
    "\n",
    "#Initial CSV file w/o topics, likes, \n",
    "tedtalks = pd.read_csv('/Users/sale/Ted-Talks-Recommender-System/Data_output/ted_talk_clean.csv').drop(columns='Unnamed: 0')"
   ]
  },
  {
   "cell_type": "code",
   "execution_count": 6,
   "id": "23692ac7",
   "metadata": {},
   "outputs": [
    {
     "name": "stdout",
     "output_type": "stream",
     "text": [
      "Tables in the database:\n",
      "talks\n",
      "sqlite_sequence\n",
      "topics\n",
      "topics2\n"
     ]
    }
   ],
   "source": [
    "import sqlite3\n",
    "\n",
    "# Path to the talks.db file\n",
    "db_path = '/Users/sale/Ted-Talks-Recommender-System/Data_output/talks.db' \n",
    "\n",
    "# Connect to the SQLite database\n",
    "conn = sqlite3.connect(db_path)\n",
    "\n",
    "# Create a cursor object to execute SQL queries\n",
    "cursor = conn.cursor()\n",
    "\n",
    "# Execute a query to get the table names\n",
    "cursor.execute(\"SELECT name FROM sqlite_master WHERE type='table';\")\n",
    "\n",
    "# Fetch all table names from the cursor\n",
    "table_names = cursor.fetchall()\n",
    "\n",
    "if table_names:\n",
    "    # Print all table names\n",
    "    print(\"Tables in the database:\")\n",
    "    for table in table_names:\n",
    "        print(table[0])\n",
    "else:\n",
    "    print(\"No tables found in the database.\")\n",
    "\n",
    "# Close the cursor and the connection\n",
    "cursor.close()\n",
    "conn.close()\n"
   ]
  },
  {
   "cell_type": "code",
   "execution_count": 7,
   "id": "2a86b2bb",
   "metadata": {},
   "outputs": [],
   "source": [
    "# Path to the talks.db file\n",
    "db_path = '/Users/sale/Ted-Talks-Recommender-System/Data_output/talks.db'\n",
    "\n",
    "# Connect to the SQLite database\n",
    "conn = sqlite3.connect(db_path)\n",
    "\n",
    "# Create a cursor object to execute SQL queries\n",
    "cursor = conn.cursor()\n",
    "\n",
    "# Execute a query to fetch data from the \"topics2\" table\n",
    "query = \"SELECT * FROM topics2\"\n",
    "cursor.execute(query)\n",
    "\n",
    "# Fetch all the data from the cursor\n",
    "data = cursor.fetchall()\n",
    "\n",
    "# Get the column names from the cursor description\n",
    "column_names = [desc[0] for desc in cursor.description]\n",
    "\n",
    "# Create a Pandas DataFrame from the fetched data\n",
    "tedtalks_topics = pd.DataFrame(data, columns=column_names)\n",
    "\n",
    "# Close the cursor and the connection\n",
    "cursor.close()\n",
    "conn.close()"
   ]
  },
  {
   "cell_type": "code",
   "execution_count": 8,
   "id": "61d6f5c0",
   "metadata": {},
   "outputs": [],
   "source": [
    "# Path to the talks.db file\n",
    "db_path = '/Users/sale/Ted-Talks-Recommender-System/Data_output/talks.db'\n",
    "\n",
    "# Connect to the SQLite database\n",
    "conn = sqlite3.connect(db_path)\n",
    "\n",
    "# Create a cursor object to execute SQL queries\n",
    "cursor = conn.cursor()\n",
    "\n",
    "# Execute a query to fetch data from the \"topics2\" table\n",
    "query = \"SELECT * FROM talks\"\n",
    "cursor.execute(query)\n",
    "\n",
    "# Fetch all the data from the cursor\n",
    "data = cursor.fetchall()\n",
    "\n",
    "# Get the column names from the cursor description\n",
    "column_names = [desc[0] for desc in cursor.description]\n",
    "\n",
    "# Create a Pandas DataFrame from the fetched data\n",
    "tedtalks_topics2 = pd.DataFrame(data, columns=column_names)\n",
    "\n",
    "# Close the cursor and the connection\n",
    "cursor.close()\n",
    "conn.close()"
   ]
  },
  {
   "cell_type": "markdown",
   "id": "2b43c1c8",
   "metadata": {},
   "source": [
    "### From talks table that is part of talks.db on SQLite - named tedtalks_topics2"
   ]
  },
  {
   "cell_type": "code",
   "execution_count": 9,
   "id": "418b4aad",
   "metadata": {},
   "outputs": [
    {
     "data": {
      "text/html": [
       "<div>\n",
       "<style scoped>\n",
       "    .dataframe tbody tr th:only-of-type {\n",
       "        vertical-align: middle;\n",
       "    }\n",
       "\n",
       "    .dataframe tbody tr th {\n",
       "        vertical-align: top;\n",
       "    }\n",
       "\n",
       "    .dataframe thead th {\n",
       "        text-align: right;\n",
       "    }\n",
       "</style>\n",
       "<table border=\"1\" class=\"dataframe\">\n",
       "  <thead>\n",
       "    <tr style=\"text-align: right;\">\n",
       "      <th></th>\n",
       "      <th>id</th>\n",
       "      <th>author</th>\n",
       "      <th>talk</th>\n",
       "      <th>description</th>\n",
       "      <th>transcript</th>\n",
       "      <th>likes</th>\n",
       "      <th>views</th>\n",
       "      <th>url</th>\n",
       "    </tr>\n",
       "  </thead>\n",
       "  <tbody>\n",
       "    <tr>\n",
       "      <th>0</th>\n",
       "      <td>1</td>\n",
       "      <td>Machine Dazzle</td>\n",
       "      <td>How to unleash your inner maximalist through c...</td>\n",
       "      <td>Tapping into the transformational power of cos...</td>\n",
       "      <td>Hello, I am Machine Dazzle, and I am an emotio...</td>\n",
       "      <td>8.1K</td>\n",
       "      <td>270,192</td>\n",
       "      <td>https://www.ted.com/talks/machine_dazzle_how_t...</td>\n",
       "    </tr>\n",
       "    <tr>\n",
       "      <th>1</th>\n",
       "      <td>2</td>\n",
       "      <td>Fabio Pacucci</td>\n",
       "      <td>The battle that formed the universe</td>\n",
       "      <td>It's time for the biggest battle in the Univer...</td>\n",
       "      <td>Welcome one and all! It’s time to grab your se...</td>\n",
       "      <td>51</td>\n",
       "      <td>Fabio</td>\n",
       "      <td>https://www.ted.com/talks/fabio_pacucci_the_ba...</td>\n",
       "    </tr>\n",
       "    <tr>\n",
       "      <th>2</th>\n",
       "      <td>3</td>\n",
       "      <td>Jioji Ravulo</td>\n",
       "      <td>A liberating vision of identity that transcend...</td>\n",
       "      <td>How can we move past society's inclination to ...</td>\n",
       "      <td>Can you paint with all the colors of the wind?...</td>\n",
       "      <td>9.2K</td>\n",
       "      <td>309,952</td>\n",
       "      <td>https://www.ted.com/talks/jioji_ravulo_a_liber...</td>\n",
       "    </tr>\n",
       "    <tr>\n",
       "      <th>3</th>\n",
       "      <td>4</td>\n",
       "      <td>Rebecca Darwent</td>\n",
       "      <td>How to fund real change in your community</td>\n",
       "      <td>Is there a way to give back that benefits ever...</td>\n",
       "      <td>I spent my whole career in the nonprofit secto...</td>\n",
       "      <td>10K</td>\n",
       "      <td>341,218</td>\n",
       "      <td>https://www.ted.com/talks/rebecca_darwent_how_...</td>\n",
       "    </tr>\n",
       "    <tr>\n",
       "      <th>4</th>\n",
       "      <td>5</td>\n",
       "      <td>Susanne Buckley-Zistel</td>\n",
       "      <td>What caused the Rwandan Genocide?</td>\n",
       "      <td>For one hundred days in 1994, the African coun...</td>\n",
       "      <td>For 100 days in 1994, the African country of R...</td>\n",
       "      <td>3.7K</td>\n",
       "      <td>126,376</td>\n",
       "      <td>https://www.ted.com/talks/susanne_buckley_zist...</td>\n",
       "    </tr>\n",
       "  </tbody>\n",
       "</table>\n",
       "</div>"
      ],
      "text/plain": [
       "   id                  author  \\\n",
       "0   1          Machine Dazzle   \n",
       "1   2           Fabio Pacucci   \n",
       "2   3            Jioji Ravulo   \n",
       "3   4         Rebecca Darwent   \n",
       "4   5  Susanne Buckley-Zistel   \n",
       "\n",
       "                                                talk  \\\n",
       "0  How to unleash your inner maximalist through c...   \n",
       "1               The battle that formed the universe    \n",
       "2  A liberating vision of identity that transcend...   \n",
       "3         How to fund real change in your community    \n",
       "4                 What caused the Rwandan Genocide?    \n",
       "\n",
       "                                         description  \\\n",
       "0  Tapping into the transformational power of cos...   \n",
       "1  It's time for the biggest battle in the Univer...   \n",
       "2  How can we move past society's inclination to ...   \n",
       "3  Is there a way to give back that benefits ever...   \n",
       "4  For one hundred days in 1994, the African coun...   \n",
       "\n",
       "                                          transcript likes    views  \\\n",
       "0  Hello, I am Machine Dazzle, and I am an emotio...  8.1K  270,192   \n",
       "1  Welcome one and all! It’s time to grab your se...    51    Fabio   \n",
       "2  Can you paint with all the colors of the wind?...  9.2K  309,952   \n",
       "3  I spent my whole career in the nonprofit secto...   10K  341,218   \n",
       "4  For 100 days in 1994, the African country of R...  3.7K  126,376   \n",
       "\n",
       "                                                 url  \n",
       "0  https://www.ted.com/talks/machine_dazzle_how_t...  \n",
       "1  https://www.ted.com/talks/fabio_pacucci_the_ba...  \n",
       "2  https://www.ted.com/talks/jioji_ravulo_a_liber...  \n",
       "3  https://www.ted.com/talks/rebecca_darwent_how_...  \n",
       "4  https://www.ted.com/talks/susanne_buckley_zist...  "
      ]
     },
     "execution_count": 9,
     "metadata": {},
     "output_type": "execute_result"
    }
   ],
   "source": [
    "tedtalks_topics2.head(5)"
   ]
  },
  {
   "cell_type": "code",
   "execution_count": 12,
   "id": "7f940bc2",
   "metadata": {},
   "outputs": [
    {
     "data": {
      "text/plain": [
       "(6001, 8)"
      ]
     },
     "execution_count": 12,
     "metadata": {},
     "output_type": "execute_result"
    }
   ],
   "source": [
    "tedtalks_topics2.shape"
   ]
  },
  {
   "cell_type": "code",
   "execution_count": 13,
   "id": "f29471d8",
   "metadata": {},
   "outputs": [
    {
     "name": "stdout",
     "output_type": "stream",
     "text": [
      "Number of unique rows in the talk column: 5966\n"
     ]
    }
   ],
   "source": [
    "# Count the number of unique rows in the talk column\n",
    "unique_rows_count = tedtalks_topics2['talk'].nunique()\n",
    "\n",
    "# Print the count of unique rows\n",
    "print(\"Number of unique rows in the talk column:\", unique_rows_count)"
   ]
  },
  {
   "cell_type": "markdown",
   "id": "f2edaca7",
   "metadata": {},
   "source": [
    "### From original tedtalks table in CSV"
   ]
  },
  {
   "cell_type": "code",
   "execution_count": 14,
   "id": "99732097",
   "metadata": {},
   "outputs": [
    {
     "data": {
      "text/html": [
       "<div>\n",
       "<style scoped>\n",
       "    .dataframe tbody tr th:only-of-type {\n",
       "        vertical-align: middle;\n",
       "    }\n",
       "\n",
       "    .dataframe tbody tr th {\n",
       "        vertical-align: top;\n",
       "    }\n",
       "\n",
       "    .dataframe thead th {\n",
       "        text-align: right;\n",
       "    }\n",
       "</style>\n",
       "<table border=\"1\" class=\"dataframe\">\n",
       "  <thead>\n",
       "    <tr style=\"text-align: right;\">\n",
       "      <th></th>\n",
       "      <th>author</th>\n",
       "      <th>talk</th>\n",
       "      <th>description</th>\n",
       "      <th>likes</th>\n",
       "      <th>views</th>\n",
       "      <th>transcript</th>\n",
       "    </tr>\n",
       "  </thead>\n",
       "  <tbody>\n",
       "    <tr>\n",
       "      <th>0</th>\n",
       "      <td>Machine Dazzle</td>\n",
       "      <td>how to unleash your inner maximalist through c...</td>\n",
       "      <td>tapping into the transformational power of cos...</td>\n",
       "      <td>8100</td>\n",
       "      <td>270192</td>\n",
       "      <td>Hello, I am Machine Dazzle, and I am an emotio...</td>\n",
       "    </tr>\n",
       "    <tr>\n",
       "      <th>1</th>\n",
       "      <td>Jioji Ravulo</td>\n",
       "      <td>a liberating vision of identity that transcend...</td>\n",
       "      <td>how can we move past societys inclination to b...</td>\n",
       "      <td>9200</td>\n",
       "      <td>309952</td>\n",
       "      <td>Can you paint with all the colors of the wind?...</td>\n",
       "    </tr>\n",
       "    <tr>\n",
       "      <th>2</th>\n",
       "      <td>Rebecca Darwent</td>\n",
       "      <td>how to fund real change in your community</td>\n",
       "      <td>is there a way to give back that benefits ever...</td>\n",
       "      <td>1000</td>\n",
       "      <td>341218</td>\n",
       "      <td>I spent my whole career in the nonprofit secto...</td>\n",
       "    </tr>\n",
       "    <tr>\n",
       "      <th>3</th>\n",
       "      <td>Susanne Buckley-Zistel</td>\n",
       "      <td>what caused the rwandan genocide</td>\n",
       "      <td>for one hundred days in 1994 the african count...</td>\n",
       "      <td>3700</td>\n",
       "      <td>126376</td>\n",
       "      <td>For 100 days in 1994, the African country of R...</td>\n",
       "    </tr>\n",
       "    <tr>\n",
       "      <th>4</th>\n",
       "      <td>Conor Russomanno</td>\n",
       "      <td>a powerful new neurotech tool for augmenting y...</td>\n",
       "      <td>in an astonishing talk and tech demo neurotech...</td>\n",
       "      <td>1100</td>\n",
       "      <td>374259</td>\n",
       "      <td>I became obsessed with the relationship betwee...</td>\n",
       "    </tr>\n",
       "  </tbody>\n",
       "</table>\n",
       "</div>"
      ],
      "text/plain": [
       "                   author                                               talk  \\\n",
       "0          Machine Dazzle  how to unleash your inner maximalist through c...   \n",
       "1            Jioji Ravulo  a liberating vision of identity that transcend...   \n",
       "2         Rebecca Darwent          how to fund real change in your community   \n",
       "3  Susanne Buckley-Zistel                   what caused the rwandan genocide   \n",
       "4        Conor Russomanno  a powerful new neurotech tool for augmenting y...   \n",
       "\n",
       "                                         description  likes   views  \\\n",
       "0  tapping into the transformational power of cos...   8100  270192   \n",
       "1  how can we move past societys inclination to b...   9200  309952   \n",
       "2  is there a way to give back that benefits ever...   1000  341218   \n",
       "3  for one hundred days in 1994 the african count...   3700  126376   \n",
       "4  in an astonishing talk and tech demo neurotech...   1100  374259   \n",
       "\n",
       "                                          transcript  \n",
       "0  Hello, I am Machine Dazzle, and I am an emotio...  \n",
       "1  Can you paint with all the colors of the wind?...  \n",
       "2  I spent my whole career in the nonprofit secto...  \n",
       "3  For 100 days in 1994, the African country of R...  \n",
       "4  I became obsessed with the relationship betwee...  "
      ]
     },
     "execution_count": 14,
     "metadata": {},
     "output_type": "execute_result"
    }
   ],
   "source": [
    "tedtalks.head(5)"
   ]
  },
  {
   "cell_type": "code",
   "execution_count": 11,
   "id": "aee690e5",
   "metadata": {},
   "outputs": [
    {
     "data": {
      "text/plain": [
       "(5291, 6)"
      ]
     },
     "execution_count": 11,
     "metadata": {},
     "output_type": "execute_result"
    }
   ],
   "source": [
    "tedtalks.shape"
   ]
  },
  {
   "cell_type": "code",
   "execution_count": 15,
   "id": "278c74a5",
   "metadata": {},
   "outputs": [
    {
     "name": "stdout",
     "output_type": "stream",
     "text": [
      "Number of unique rows in the talk column: 5264\n"
     ]
    }
   ],
   "source": [
    "# Count the number of unique rows in the talk column\n",
    "unique_rows_count = tedtalks['talk'].nunique()\n",
    "\n",
    "# Print the count of unique rows\n",
    "print(\"Number of unique rows in the talk column:\", unique_rows_count)"
   ]
  },
  {
   "cell_type": "markdown",
   "id": "e68450b7",
   "metadata": {},
   "source": [
    "### From Topics2 on the talks.db on SQLite - named tedtalks_topics"
   ]
  },
  {
   "cell_type": "code",
   "execution_count": 16,
   "id": "91f6cd75",
   "metadata": {},
   "outputs": [
    {
     "data": {
      "text/html": [
       "<div>\n",
       "<style scoped>\n",
       "    .dataframe tbody tr th:only-of-type {\n",
       "        vertical-align: middle;\n",
       "    }\n",
       "\n",
       "    .dataframe tbody tr th {\n",
       "        vertical-align: top;\n",
       "    }\n",
       "\n",
       "    .dataframe thead th {\n",
       "        text-align: right;\n",
       "    }\n",
       "</style>\n",
       "<table border=\"1\" class=\"dataframe\">\n",
       "  <thead>\n",
       "    <tr style=\"text-align: right;\">\n",
       "      <th></th>\n",
       "      <th>id</th>\n",
       "      <th>title</th>\n",
       "      <th>author</th>\n",
       "      <th>date</th>\n",
       "      <th>topic</th>\n",
       "      <th>url</th>\n",
       "    </tr>\n",
       "  </thead>\n",
       "  <tbody>\n",
       "    <tr>\n",
       "      <th>0</th>\n",
       "      <td>803</td>\n",
       "      <td>\\n\\nA modern argument for the rights of animal...</td>\n",
       "      <td>Peter Singer</td>\n",
       "      <td>\\nJun 2023\\n</td>\n",
       "      <td>activism</td>\n",
       "      <td>ted.com/talks/peter_singer_a_modern_argument_f...</td>\n",
       "    </tr>\n",
       "    <tr>\n",
       "      <th>1</th>\n",
       "      <td>804</td>\n",
       "      <td>\\n\\nWhy Iranians are cutting their hair for \"W...</td>\n",
       "      <td>Sahar Zand</td>\n",
       "      <td>\\nJun 2023\\n</td>\n",
       "      <td>activism</td>\n",
       "      <td>ted.com/talks/sahar_zand_why_iranians_are_cutt...</td>\n",
       "    </tr>\n",
       "    <tr>\n",
       "      <th>2</th>\n",
       "      <td>805</td>\n",
       "      <td>\\n\\n\"Woman, Life, Freedom\" in Iran — and what ...</td>\n",
       "      <td>Golshifteh Farahani</td>\n",
       "      <td>\\nMay 2023\\n</td>\n",
       "      <td>activism</td>\n",
       "      <td>ted.com/talks/golshifteh_farahani_woman_life_f...</td>\n",
       "    </tr>\n",
       "    <tr>\n",
       "      <th>3</th>\n",
       "      <td>806</td>\n",
       "      <td>\\n\\nPussy Riot's powerful message to Vladimir ...</td>\n",
       "      <td>Nadya Tolokonnikova</td>\n",
       "      <td>\\nApr 2023\\n</td>\n",
       "      <td>activism</td>\n",
       "      <td>ted.com/talks/nadya_tolokonnikova_pussy_riot_s...</td>\n",
       "    </tr>\n",
       "    <tr>\n",
       "      <th>4</th>\n",
       "      <td>807</td>\n",
       "      <td>\\n\\nHow one small idea led to $1 million of pa...</td>\n",
       "      <td>Tiffani Ashley Bell</td>\n",
       "      <td>\\nMar 2023\\n</td>\n",
       "      <td>activism</td>\n",
       "      <td>ted.com/talks/tiffani_ashley_bell_how_one_smal...</td>\n",
       "    </tr>\n",
       "  </tbody>\n",
       "</table>\n",
       "</div>"
      ],
      "text/plain": [
       "    id                                              title  \\\n",
       "0  803  \\n\\nA modern argument for the rights of animal...   \n",
       "1  804  \\n\\nWhy Iranians are cutting their hair for \"W...   \n",
       "2  805  \\n\\n\"Woman, Life, Freedom\" in Iran — and what ...   \n",
       "3  806  \\n\\nPussy Riot's powerful message to Vladimir ...   \n",
       "4  807  \\n\\nHow one small idea led to $1 million of pa...   \n",
       "\n",
       "                author          date     topic  \\\n",
       "0         Peter Singer  \\nJun 2023\\n  activism   \n",
       "1           Sahar Zand  \\nJun 2023\\n  activism   \n",
       "2  Golshifteh Farahani  \\nMay 2023\\n  activism   \n",
       "3  Nadya Tolokonnikova  \\nApr 2023\\n  activism   \n",
       "4  Tiffani Ashley Bell  \\nMar 2023\\n  activism   \n",
       "\n",
       "                                                 url  \n",
       "0  ted.com/talks/peter_singer_a_modern_argument_f...  \n",
       "1  ted.com/talks/sahar_zand_why_iranians_are_cutt...  \n",
       "2  ted.com/talks/golshifteh_farahani_woman_life_f...  \n",
       "3  ted.com/talks/nadya_tolokonnikova_pussy_riot_s...  \n",
       "4  ted.com/talks/tiffani_ashley_bell_how_one_smal...  "
      ]
     },
     "execution_count": 16,
     "metadata": {},
     "output_type": "execute_result"
    }
   ],
   "source": [
    "tedtalks_topics.head(5)"
   ]
  },
  {
   "cell_type": "code",
   "execution_count": 20,
   "id": "5b15234c",
   "metadata": {},
   "outputs": [
    {
     "data": {
      "text/plain": [
       "(41781, 6)"
      ]
     },
     "execution_count": 20,
     "metadata": {},
     "output_type": "execute_result"
    }
   ],
   "source": [
    "tedtalks_topics.shape"
   ]
  },
  {
   "cell_type": "code",
   "execution_count": 19,
   "id": "8c1b9f43",
   "metadata": {},
   "outputs": [
    {
     "name": "stdout",
     "output_type": "stream",
     "text": [
      "Number of unique rows in the talk column: 5993\n"
     ]
    }
   ],
   "source": [
    "# Count the number of unique rows in the talk column\n",
    "unique_rows_count = tedtalks_topics['title'].nunique()\n",
    "\n",
    "# Print the count of unique rows\n",
    "print(\"Number of unique rows in the talk column:\", unique_rows_count)"
   ]
  },
  {
   "cell_type": "markdown",
   "id": "729d02fc",
   "metadata": {},
   "source": []
  }
 ],
 "metadata": {
  "kernelspec": {
   "display_name": "Python 3 (ipykernel)",
   "language": "python",
   "name": "python3"
  },
  "language_info": {
   "codemirror_mode": {
    "name": "ipython",
    "version": 3
   },
   "file_extension": ".py",
   "mimetype": "text/x-python",
   "name": "python",
   "nbconvert_exporter": "python",
   "pygments_lexer": "ipython3",
   "version": "3.8.2"
  }
 },
 "nbformat": 4,
 "nbformat_minor": 5
}
